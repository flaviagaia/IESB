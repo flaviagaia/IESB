{
 "cells": [
  {
   "cell_type": "markdown",
   "metadata": {
    "papermill": {
     "duration": 0.016943,
     "end_time": "2020-11-12T13:58:46.261703",
     "exception": false,
     "start_time": "2020-11-12T13:58:46.244760",
     "status": "completed"
    },
    "tags": []
   },
   "source": [
    "# IESB - Graduacao - CIA035 - Malaria CNN\n",
    "## Versão 2"
   ]
  },
  {
   "cell_type": "code",
   "execution_count": 1,
   "metadata": {
    "_cell_guid": "79c7e3d0-c299-4dcb-8224-4455121ee9b0",
    "_uuid": "d629ff2d2480ee46fbb7e2d37f6b5fab8052498a",
    "execution": {
     "iopub.execute_input": "2020-11-12T13:58:46.297908Z",
     "iopub.status.busy": "2020-11-12T13:58:46.297256Z",
     "iopub.status.idle": "2020-11-12T13:58:47.688438Z",
     "shell.execute_reply": "2020-11-12T13:58:47.687846Z"
    },
    "papermill": {
     "duration": 1.411987,
     "end_time": "2020-11-12T13:58:47.688563",
     "exception": false,
     "start_time": "2020-11-12T13:58:46.276576",
     "status": "completed"
    },
    "tags": []
   },
   "outputs": [],
   "source": [
    "# Importando as bibliotecas\n",
    "import os\n",
    "import time\n",
    "\n",
    "import numpy as np\n",
    "import torch\n",
    "import matplotlib.pyplot as plt\n",
    "from torchvision import datasets, transforms, models\n",
    "from torch.utils.data import random_split, DataLoader\n",
    "from torch import nn, optim"
   ]
  },
  {
   "cell_type": "code",
   "execution_count": 2,
   "metadata": {
    "execution": {
     "iopub.execute_input": "2020-11-12T13:58:47.722891Z",
     "iopub.status.busy": "2020-11-12T13:58:47.722055Z",
     "iopub.status.idle": "2020-11-12T13:58:47.732053Z",
     "shell.execute_reply": "2020-11-12T13:58:47.732526Z"
    },
    "papermill": {
     "duration": 0.029372,
     "end_time": "2020-11-12T13:58:47.732643",
     "exception": false,
     "start_time": "2020-11-12T13:58:47.703271",
     "status": "completed"
    },
    "tags": []
   },
   "outputs": [
    {
     "name": "stdout",
     "output_type": "stream",
     "text": [
      "['Uninfected', 'Parasitized']\n"
     ]
    }
   ],
   "source": [
    "# Verificando o diretório com as imagens\n",
    "img_dir = \"/kaggle/input/cell-images-for-detecting-malaria/cell_images/cell_images\"\n",
    "print(os.listdir(img_dir))"
   ]
  },
  {
   "cell_type": "code",
   "execution_count": 3,
   "metadata": {
    "execution": {
     "iopub.execute_input": "2020-11-12T13:58:48.134935Z",
     "iopub.status.busy": "2020-11-12T13:58:48.134173Z",
     "iopub.status.idle": "2020-11-12T13:58:48.140434Z",
     "shell.execute_reply": "2020-11-12T13:58:48.139940Z"
    },
    "papermill": {
     "duration": 0.392782,
     "end_time": "2020-11-12T13:58:48.140541",
     "exception": false,
     "start_time": "2020-11-12T13:58:47.747759",
     "status": "completed"
    },
    "tags": []
   },
   "outputs": [
    {
     "name": "stdout",
     "output_type": "stream",
     "text": [
      "cuda\n"
     ]
    }
   ],
   "source": [
    "# Temos GPU?\n",
    "device = torch.device(\"cuda\" if torch.cuda.is_available() else \"cpu\")\n",
    "\n",
    "print(device)"
   ]
  },
  {
   "cell_type": "markdown",
   "metadata": {
    "papermill": {
     "duration": 0.015177,
     "end_time": "2020-11-12T13:58:48.171682",
     "exception": false,
     "start_time": "2020-11-12T13:58:48.156505",
     "status": "completed"
    },
    "tags": []
   },
   "source": [
    "## Data Augumentation"
   ]
  },
  {
   "cell_type": "code",
   "execution_count": 4,
   "metadata": {
    "execution": {
     "iopub.execute_input": "2020-11-12T13:58:48.209598Z",
     "iopub.status.busy": "2020-11-12T13:58:48.208878Z",
     "iopub.status.idle": "2020-11-12T13:58:48.211931Z",
     "shell.execute_reply": "2020-11-12T13:58:48.211397Z"
    },
    "papermill": {
     "duration": 0.024673,
     "end_time": "2020-11-12T13:58:48.212030",
     "exception": false,
     "start_time": "2020-11-12T13:58:48.187357",
     "status": "completed"
    },
    "tags": []
   },
   "outputs": [],
   "source": [
    "# Transformações que serão aplicadas às imagens\n",
    "train_transform = transforms.Compose([transforms.Resize((32, 32)),\n",
    "                                      transforms.RandomHorizontalFlip(),\n",
    "                                      transforms.RandomVerticalFlip(),\n",
    "                                      transforms.RandomRotation(35),\n",
    "                                      transforms.RandomGrayscale(p=0.02),                                      \n",
    "                                      transforms.ToTensor(),\n",
    "                                      transforms.Normalize([0.5, 0.5, 0.5], \n",
    "                                                           [0.5, 0.5, 0.5])])\n"
   ]
  },
  {
   "cell_type": "code",
   "execution_count": 5,
   "metadata": {
    "execution": {
     "iopub.execute_input": "2020-11-12T13:58:48.246719Z",
     "iopub.status.busy": "2020-11-12T13:58:48.246058Z",
     "iopub.status.idle": "2020-11-12T13:58:52.779424Z",
     "shell.execute_reply": "2020-11-12T13:58:52.778368Z"
    },
    "papermill": {
     "duration": 4.552239,
     "end_time": "2020-11-12T13:58:52.779563",
     "exception": false,
     "start_time": "2020-11-12T13:58:48.227324",
     "status": "completed"
    },
    "tags": []
   },
   "outputs": [],
   "source": [
    "# Criando nossos conjuntos de dados com base nas imagens\n",
    "train = datasets.ImageFolder(img_dir, transform=train_transform)"
   ]
  },
  {
   "cell_type": "code",
   "execution_count": 6,
   "metadata": {
    "execution": {
     "iopub.execute_input": "2020-11-12T13:58:52.817869Z",
     "iopub.status.busy": "2020-11-12T13:58:52.817066Z",
     "iopub.status.idle": "2020-11-12T13:58:52.832585Z",
     "shell.execute_reply": "2020-11-12T13:58:52.833095Z"
    },
    "papermill": {
     "duration": 0.037543,
     "end_time": "2020-11-12T13:58:52.833233",
     "exception": false,
     "start_time": "2020-11-12T13:58:52.795690",
     "status": "completed"
    },
    "tags": []
   },
   "outputs": [],
   "source": [
    "# Dividindo os dados em treino e teste\n",
    "train_data, test_data = random_split(train, (20000, 7558))"
   ]
  },
  {
   "cell_type": "code",
   "execution_count": 7,
   "metadata": {
    "execution": {
     "iopub.execute_input": "2020-11-12T13:58:52.874269Z",
     "iopub.status.busy": "2020-11-12T13:58:52.873372Z",
     "iopub.status.idle": "2020-11-12T13:58:52.876128Z",
     "shell.execute_reply": "2020-11-12T13:58:52.876655Z"
    },
    "papermill": {
     "duration": 0.025852,
     "end_time": "2020-11-12T13:58:52.876784",
     "exception": false,
     "start_time": "2020-11-12T13:58:52.850932",
     "status": "completed"
    },
    "tags": []
   },
   "outputs": [],
   "source": [
    "# Definindo os loaders\n",
    "train_loader = DataLoader(train_data, batch_size=64, shuffle=True)\n",
    "test_loader = DataLoader(test_data, batch_size=64, shuffle=True)"
   ]
  },
  {
   "cell_type": "code",
   "execution_count": 8,
   "metadata": {
    "execution": {
     "iopub.execute_input": "2020-11-12T13:58:52.928384Z",
     "iopub.status.busy": "2020-11-12T13:58:52.927719Z",
     "iopub.status.idle": "2020-11-12T13:58:56.398089Z",
     "shell.execute_reply": "2020-11-12T13:58:56.398604Z"
    },
    "papermill": {
     "duration": 3.504662,
     "end_time": "2020-11-12T13:58:56.398748",
     "exception": false,
     "start_time": "2020-11-12T13:58:52.894086",
     "status": "completed"
    },
    "tags": []
   },
   "outputs": [
    {
     "data": {
      "text/plain": [
       "Sequential(\n",
       "  (0): Conv2d(3, 18, kernel_size=(5, 5), stride=(1, 1))\n",
       "  (1): Tanh()\n",
       "  (2): AvgPool2d(kernel_size=2, stride=2, padding=0)\n",
       "  (3): Conv2d(18, 48, kernel_size=(5, 5), stride=(1, 1))\n",
       "  (4): Tanh()\n",
       "  (5): AvgPool2d(kernel_size=2, stride=2, padding=0)\n",
       "  (6): Flatten()\n",
       "  (7): Linear(in_features=1200, out_features=120, bias=True)\n",
       "  (8): Tanh()\n",
       "  (9): Linear(in_features=120, out_features=84, bias=True)\n",
       "  (10): Tanh()\n",
       "  (11): Linear(in_features=84, out_features=2, bias=True)\n",
       ")"
      ]
     },
     "execution_count": 8,
     "metadata": {},
     "output_type": "execute_result"
    }
   ],
   "source": [
    "# Definir LeNet5\n",
    "\n",
    "# Cálculo do tamanho da saída de cada convolução\n",
    "# outputOfEachConvLayer = [(size + 2*padding - kernel_size) / stride] + 1\n",
    "\n",
    "model = nn.Sequential(\n",
    "    # Primeira convolução\n",
    "    nn.Conv2d(in_channels=3, out_channels=18, kernel_size=5, padding=0, stride=1),\n",
    "    # Função de ativação\n",
    "    nn.Tanh(),\n",
    "    # Average Pooling\n",
    "    nn.AvgPool2d(kernel_size=2, stride=2),\n",
    "    \n",
    "    # Segunda convolução\n",
    "    nn.Conv2d(in_channels=18, out_channels=48, kernel_size=5, padding=0, stride=1),\n",
    "    # Função de ativação\n",
    "    nn.Tanh(),\n",
    "    # Average Pooling\n",
    "    nn.AvgPool2d(kernel_size=2, stride=2),\n",
    "    \n",
    "    # Convertendo a imagem em estrutura plana\n",
    "    nn.Flatten(),\n",
    "    \n",
    "    # Iniciando a rede fully connected\n",
    "    # in_features = 1200\n",
    "    nn.Linear(in_features=48*5*5, out_features=120),\n",
    "    nn.Tanh(),\n",
    "    nn.Linear(in_features=120, out_features=84),\n",
    "    nn.Tanh(),\n",
    "    nn.Linear(in_features=84, out_features=2)\n",
    ")\n",
    "\n",
    "model.to(device)"
   ]
  },
  {
   "cell_type": "code",
   "execution_count": 9,
   "metadata": {
    "execution": {
     "iopub.execute_input": "2020-11-12T13:58:56.437331Z",
     "iopub.status.busy": "2020-11-12T13:58:56.436431Z",
     "iopub.status.idle": "2020-11-12T13:58:56.439868Z",
     "shell.execute_reply": "2020-11-12T13:58:56.440435Z"
    },
    "papermill": {
     "duration": 0.025403,
     "end_time": "2020-11-12T13:58:56.440542",
     "exception": false,
     "start_time": "2020-11-12T13:58:56.415139",
     "status": "completed"
    },
    "tags": []
   },
   "outputs": [
    {
     "data": {
      "text/plain": [
       "CrossEntropyLoss()"
      ]
     },
     "execution_count": 9,
     "metadata": {},
     "output_type": "execute_result"
    }
   ],
   "source": [
    "# Temos que definir a função de erro e o otimizador (que vai alterar os pesos dos perceptrons)\n",
    "error_function = nn.CrossEntropyLoss() # criterion\n",
    "optimizer = torch.optim.Adam(model.parameters(), lr=0.001)\n",
    "\n",
    "error_function.to(device)"
   ]
  },
  {
   "cell_type": "code",
   "execution_count": 10,
   "metadata": {
    "execution": {
     "iopub.execute_input": "2020-11-12T13:58:56.486089Z",
     "iopub.status.busy": "2020-11-12T13:58:56.485200Z",
     "iopub.status.idle": "2020-11-12T14:05:05.609251Z",
     "shell.execute_reply": "2020-11-12T14:05:05.610446Z"
    },
    "papermill": {
     "duration": 369.153643,
     "end_time": "2020-11-12T14:05:05.610685",
     "exception": false,
     "start_time": "2020-11-12T13:58:56.457042",
     "status": "completed"
    },
    "tags": []
   },
   "outputs": [
    {
     "name": "stdout",
     "output_type": "stream",
     "text": [
      "Epoch: 1 \tTraining Loss: 0.610153\n",
      "Epoch: 2 \tTraining Loss: 0.569974\n",
      "Epoch: 3 \tTraining Loss: 0.508284\n",
      "Epoch: 4 \tTraining Loss: 0.402826\n",
      "Epoch: 5 \tTraining Loss: 0.339283\n",
      "Epoch: 6 \tTraining Loss: 0.309892\n",
      "Epoch: 7 \tTraining Loss: 0.286090\n",
      "Epoch: 8 \tTraining Loss: 0.274958\n",
      "Epoch: 9 \tTraining Loss: 0.267036\n",
      "Epoch: 10 \tTraining Loss: 0.258260\n"
     ]
    }
   ],
   "source": [
    "# Treinamento do modelo\n",
    "\n",
    "# Definindo o número de épocas\n",
    "epochs = 10\n",
    "\n",
    "# Colocando o modelo em modo de treinamento\n",
    "model.train()\n",
    "\n",
    "\n",
    "# For para rodar o número de épocas\n",
    "for i in range(epochs):\n",
    "    # Treinamento\n",
    "    \n",
    "    # Monitorando o training loss\n",
    "    train_loss = 0.0\n",
    "    \n",
    "    # Obtendo dados e respostas\n",
    "    for data, target in train_loader:\n",
    "        \n",
    "        # Enviando os dados para GPU, se existir\n",
    "        data, target = data.to(device), target.to(device)\n",
    "    \n",
    "        # Foward Propagation (passando os dados de treino pela rede)\n",
    "        outputs = model(data)\n",
    "        # Calculando o erro\n",
    "        loss = error_function(outputs, target)\n",
    "       \n",
    "        # Back Propagation\n",
    "        # Limpar os parametros do otimizador (zerar o Gradiente Descendent)\n",
    "        optimizer.zero_grad()\n",
    "        # Calcular os novos pesos\n",
    "        loss.backward()\n",
    "        # Executar o optimizador (efetivamente fazer o back propagation mudando os pesos)\n",
    "        optimizer.step()\n",
    "        \n",
    "        # Atualizando o training loss\n",
    "        train_loss += loss.item() * data.size(0)\n",
    "        \n",
    "    # Calculando a média de erro por epoch\n",
    "    train_loss = train_loss/len(train_loader.dataset)\n",
    "\n",
    "    print('Epoch: {} \\tTraining Loss: {:.6f}'.format(i+1, train_loss))"
   ]
  },
  {
   "cell_type": "code",
   "execution_count": 11,
   "metadata": {
    "execution": {
     "iopub.execute_input": "2020-11-12T14:05:05.657787Z",
     "iopub.status.busy": "2020-11-12T14:05:05.657105Z",
     "iopub.status.idle": "2020-11-12T14:05:29.691247Z",
     "shell.execute_reply": "2020-11-12T14:05:29.689755Z"
    },
    "papermill": {
     "duration": 24.060501,
     "end_time": "2020-11-12T14:05:29.691430",
     "exception": false,
     "start_time": "2020-11-12T14:05:05.630929",
     "status": "completed"
    },
    "tags": []
   },
   "outputs": [],
   "source": [
    "# Variaveis para controlar os acertos das previsões da rede\n",
    "# e  calcular a acurácia\n",
    "correct = 0\n",
    "total = 0\n",
    "\n",
    "# Vamos colocar o modelo em modo de avaliação/teste\n",
    "model.eval()\n",
    "\n",
    "# Obtendo dados e respostas\n",
    "for data, target in test_loader:\n",
    "    \n",
    "    # Enviando os dados para GPU, se existir\n",
    "    data, target = data.to(device), target.to(device)    \n",
    "    \n",
    "    output = model(data)\n",
    "    \n",
    "    for index, i in enumerate(output):\n",
    "        if torch.argmax(i) == target[index]:\n",
    "            correct += 1\n",
    "        total += 1"
   ]
  },
  {
   "cell_type": "code",
   "execution_count": 12,
   "metadata": {
    "execution": {
     "iopub.execute_input": "2020-11-12T14:05:29.739885Z",
     "iopub.status.busy": "2020-11-12T14:05:29.738741Z",
     "iopub.status.idle": "2020-11-12T14:05:29.743421Z",
     "shell.execute_reply": "2020-11-12T14:05:29.742162Z"
    },
    "papermill": {
     "duration": 0.030475,
     "end_time": "2020-11-12T14:05:29.743668",
     "exception": false,
     "start_time": "2020-11-12T14:05:29.713193",
     "status": "completed"
    },
    "tags": []
   },
   "outputs": [
    {
     "name": "stdout",
     "output_type": "stream",
     "text": [
      "Accuracy:  0.895\n"
     ]
    }
   ],
   "source": [
    "print('Accuracy: ', round(correct/total, 3))"
   ]
  },
  {
   "cell_type": "markdown",
   "metadata": {
    "papermill": {
     "duration": 0.026955,
     "end_time": "2020-11-12T14:05:29.798236",
     "exception": false,
     "start_time": "2020-11-12T14:05:29.771281",
     "status": "completed"
    },
    "tags": []
   },
   "source": [
    "## Tentando com uma nova rede CNN"
   ]
  },
  {
   "cell_type": "code",
   "execution_count": 13,
   "metadata": {
    "execution": {
     "iopub.execute_input": "2020-11-12T14:05:29.849174Z",
     "iopub.status.busy": "2020-11-12T14:05:29.848390Z",
     "iopub.status.idle": "2020-11-12T14:05:29.991002Z",
     "shell.execute_reply": "2020-11-12T14:05:29.991626Z"
    },
    "papermill": {
     "duration": 0.171726,
     "end_time": "2020-11-12T14:05:29.991785",
     "exception": false,
     "start_time": "2020-11-12T14:05:29.820059",
     "status": "completed"
    },
    "tags": []
   },
   "outputs": [],
   "source": [
    "# Transformações que serão aplicadas às imagens\n",
    "new_transform = transforms.Compose([transforms.Resize((120, 120)),\n",
    "                                    transforms.RandomHorizontalFlip(),\n",
    "                                    transforms.RandomVerticalFlip(),\n",
    "                                    transforms.RandomRotation(35),\n",
    "                                    transforms.RandomGrayscale(p=0.02),                                      \n",
    "                                    transforms.ToTensor(),\n",
    "                                    transforms.Normalize([0.5, 0.5, 0.5], \n",
    "                                                         [0.5, 0.5, 0.5])])\n",
    "\n",
    "# Criando nossos conjuntos de dados com base nas imagens\n",
    "train = datasets.ImageFolder(img_dir, transform=new_transform)\n",
    "\n",
    "# Dividindo os dados em treino e teste\n",
    "train_data, test_data = random_split(train, (20000, 7558))\n",
    "\n",
    "# Definindo os loaders\n",
    "train_loader = DataLoader(train_data, batch_size=128, shuffle=True)\n",
    "test_loader = DataLoader(test_data, batch_size=128, shuffle=True)"
   ]
  },
  {
   "cell_type": "code",
   "execution_count": 14,
   "metadata": {
    "execution": {
     "iopub.execute_input": "2020-11-12T14:05:30.047904Z",
     "iopub.status.busy": "2020-11-12T14:05:30.047061Z",
     "iopub.status.idle": "2020-11-12T14:05:31.484380Z",
     "shell.execute_reply": "2020-11-12T14:05:31.484860Z"
    },
    "papermill": {
     "duration": 1.472211,
     "end_time": "2020-11-12T14:05:31.484989",
     "exception": false,
     "start_time": "2020-11-12T14:05:30.012778",
     "status": "completed"
    },
    "tags": []
   },
   "outputs": [
    {
     "data": {
      "text/plain": [
       "Sequential(\n",
       "  (0): Conv2d(3, 18, kernel_size=(5, 5), stride=(1, 1), padding=(2, 2))\n",
       "  (1): ReLU()\n",
       "  (2): MaxPool2d(kernel_size=2, stride=2, padding=0, dilation=1, ceil_mode=False)\n",
       "  (3): Conv2d(18, 48, kernel_size=(5, 5), stride=(1, 1), padding=(2, 2))\n",
       "  (4): ReLU()\n",
       "  (5): MaxPool2d(kernel_size=2, stride=2, padding=0, dilation=1, ceil_mode=False)\n",
       "  (6): Conv2d(48, 144, kernel_size=(5, 5), stride=(1, 1), padding=(2, 2))\n",
       "  (7): ReLU()\n",
       "  (8): MaxPool2d(kernel_size=2, stride=2, padding=0, dilation=1, ceil_mode=False)\n",
       "  (9): Flatten()\n",
       "  (10): Linear(in_features=32400, out_features=5200, bias=True)\n",
       "  (11): ReLU()\n",
       "  (12): Linear(in_features=5200, out_features=256, bias=True)\n",
       "  (13): ReLU()\n",
       "  (14): Linear(in_features=256, out_features=64, bias=True)\n",
       "  (15): ReLU()\n",
       "  (16): Linear(in_features=64, out_features=2, bias=True)\n",
       ")"
      ]
     },
     "execution_count": 14,
     "metadata": {},
     "output_type": "execute_result"
    }
   ],
   "source": [
    "# Definir nova rede CNN\n",
    "\n",
    "# Cálculo do tamanho da saída de cada convolução\n",
    "# outputOfEachConvLayer = [(size + 2*padding - kernel_size) / stride] + 1\n",
    "\n",
    "model = nn.Sequential(\n",
    "    # 120 x 120, 3 canais\n",
    "    \n",
    "    # Primeira convolução\n",
    "    nn.Conv2d(in_channels=3, out_channels=18, kernel_size=5, padding=2, stride=1),\n",
    "    # Função de ativação\n",
    "    nn.ReLU(),\n",
    "    # Max Pooling\n",
    "    nn.MaxPool2d(kernel_size=2, stride=2),\n",
    "    \n",
    "    # 60 x 60, 18 canais\n",
    "    \n",
    "    # Segunda convolução\n",
    "    nn.Conv2d(in_channels=18, out_channels=48, kernel_size=5, padding=2, stride=1),\n",
    "    # Função de ativação\n",
    "    nn.ReLU(),\n",
    "    # Max Pooling\n",
    "    nn.MaxPool2d(kernel_size=2, stride=2),\n",
    "    \n",
    "    # 30 x 30, 48 canais\n",
    "    \n",
    "    # Terceira convolução\n",
    "    nn.Conv2d(in_channels=48, out_channels=144, kernel_size=5, padding=2, stride=1),\n",
    "    # Função de ativação\n",
    "    nn.ReLU(),\n",
    "    # Max Pooling\n",
    "    nn.MaxPool2d(kernel_size=2, stride=2),  \n",
    "    \n",
    "    # 15 x 15, 144 canais\n",
    "    \n",
    "    # Convertendo a imagem em estrutura plana\n",
    "    nn.Flatten(),\n",
    "    \n",
    "    # Iniciando a rede fully connected\n",
    "    # in_features = 32400\n",
    "    nn.Linear(in_features=144*15*15, out_features=5200),\n",
    "    nn.ReLU(),\n",
    "    nn.Linear(in_features=5200, out_features=256),\n",
    "    nn.ReLU(),\n",
    "    nn.Linear(in_features=256, out_features=64),\n",
    "    nn.ReLU(),\n",
    "    nn.Linear(in_features=64, out_features=2)\n",
    ")\n",
    "\n",
    "model.to(device)"
   ]
  },
  {
   "cell_type": "code",
   "execution_count": 15,
   "metadata": {
    "execution": {
     "iopub.execute_input": "2020-11-12T14:05:31.535274Z",
     "iopub.status.busy": "2020-11-12T14:05:31.533951Z",
     "iopub.status.idle": "2020-11-12T14:05:31.537418Z",
     "shell.execute_reply": "2020-11-12T14:05:31.537873Z"
    },
    "papermill": {
     "duration": 0.031623,
     "end_time": "2020-11-12T14:05:31.537979",
     "exception": false,
     "start_time": "2020-11-12T14:05:31.506356",
     "status": "completed"
    },
    "tags": []
   },
   "outputs": [
    {
     "data": {
      "text/plain": [
       "CrossEntropyLoss()"
      ]
     },
     "execution_count": 15,
     "metadata": {},
     "output_type": "execute_result"
    }
   ],
   "source": [
    "# Temos que definir a função de erro e o otimizador (que vai alterar os pesos dos perceptrons)\n",
    "error_function = nn.CrossEntropyLoss() # criterion\n",
    "optimizer = torch.optim.Adam(model.parameters(), lr=0.0001)\n",
    "\n",
    "error_function.to(device)"
   ]
  },
  {
   "cell_type": "code",
   "execution_count": 16,
   "metadata": {
    "execution": {
     "iopub.execute_input": "2020-11-12T14:05:31.590370Z",
     "iopub.status.busy": "2020-11-12T14:05:31.589579Z",
     "iopub.status.idle": "2020-11-12T14:15:19.141440Z",
     "shell.execute_reply": "2020-11-12T14:15:19.141955Z"
    },
    "papermill": {
     "duration": 587.582498,
     "end_time": "2020-11-12T14:15:19.142098",
     "exception": false,
     "start_time": "2020-11-12T14:05:31.559600",
     "status": "completed"
    },
    "tags": []
   },
   "outputs": [
    {
     "name": "stdout",
     "output_type": "stream",
     "text": [
      "Epoch: 1 \tTraining Loss: 0.515424\n",
      "Epoch: 2 \tTraining Loss: 0.213677\n",
      "Epoch: 3 \tTraining Loss: 0.157310\n",
      "Epoch: 4 \tTraining Loss: 0.145359\n",
      "Epoch: 5 \tTraining Loss: 0.141279\n",
      "Epoch: 6 \tTraining Loss: 0.133186\n",
      "Epoch: 7 \tTraining Loss: 0.128593\n",
      "Epoch: 8 \tTraining Loss: 0.124116\n",
      "Epoch: 9 \tTraining Loss: 0.123095\n",
      "Epoch: 10 \tTraining Loss: 0.123640\n"
     ]
    }
   ],
   "source": [
    "# Treinamento do modelo\n",
    "\n",
    "# Definindo o número de épocas\n",
    "epochs = 10\n",
    "\n",
    "# Colocando o modelo em modo de treinamento\n",
    "model.train()\n",
    "\n",
    "\n",
    "# For para rodar o número de épocas\n",
    "for i in range(epochs):\n",
    "    # Treinamento\n",
    "    \n",
    "    # Monitorando o training loss\n",
    "    train_loss = 0.0\n",
    "    \n",
    "    # Obtendo dados e respostas\n",
    "    for data, target in train_loader:\n",
    "        \n",
    "        # Enviando os dados para GPU, se existir\n",
    "        data, target = data.to(device), target.to(device)\n",
    "    \n",
    "        # Foward Propagation (passando os dados de treino pela rede)\n",
    "        outputs = model(data)\n",
    "        # Calculando o erro\n",
    "        loss = error_function(outputs, target)\n",
    "       \n",
    "        # Back Propagation\n",
    "        # Limpar os parametros do otimizador (zerar o Gradiente Descendent)\n",
    "        optimizer.zero_grad()\n",
    "        # Calcular os novos pesos\n",
    "        loss.backward()\n",
    "        # Executar o optimizador (efetivamente fazer o back propagation mudando os pesos)\n",
    "        optimizer.step()\n",
    "        \n",
    "        # Atualizando o training loss\n",
    "        train_loss += loss.item() * data.size(0)\n",
    "        \n",
    "    # Calculando a média de erro por epoch\n",
    "    train_loss = train_loss/len(train_loader.dataset)\n",
    "\n",
    "    print('Epoch: {} \\tTraining Loss: {:.6f}'.format(i+1, train_loss))"
   ]
  },
  {
   "cell_type": "code",
   "execution_count": 17,
   "metadata": {
    "execution": {
     "iopub.execute_input": "2020-11-12T14:15:19.200689Z",
     "iopub.status.busy": "2020-11-12T14:15:19.199837Z",
     "iopub.status.idle": "2020-11-12T14:15:37.447999Z",
     "shell.execute_reply": "2020-11-12T14:15:37.447515Z"
    },
    "papermill": {
     "duration": 18.280889,
     "end_time": "2020-11-12T14:15:37.448105",
     "exception": false,
     "start_time": "2020-11-12T14:15:19.167216",
     "status": "completed"
    },
    "tags": []
   },
   "outputs": [
    {
     "name": "stdout",
     "output_type": "stream",
     "text": [
      "Accuracy:  0.954\n"
     ]
    }
   ],
   "source": [
    "# Variaveis para controlar os acertos das previsões da rede\n",
    "# e  calcular a acurácia\n",
    "correct = 0\n",
    "total = 0\n",
    "\n",
    "# Vamos colocar o modelo em modo de avaliação/teste\n",
    "model.eval()\n",
    "\n",
    "# Obtendo dados e respostas\n",
    "for data, target in test_loader:\n",
    "    \n",
    "    # Enviando os dados para GPU, se existir\n",
    "    data, target = data.to(device), target.to(device)    \n",
    "    \n",
    "    output = model(data)\n",
    "    \n",
    "    for index, i in enumerate(output):\n",
    "        if torch.argmax(i) == target[index]:\n",
    "            correct += 1\n",
    "        total += 1\n",
    "        \n",
    "print('Accuracy: ', round(correct/total, 3))"
   ]
  },
  {
   "cell_type": "code",
   "execution_count": null,
   "metadata": {
    "papermill": {
     "duration": 0.024977,
     "end_time": "2020-11-12T14:15:37.498729",
     "exception": false,
     "start_time": "2020-11-12T14:15:37.473752",
     "status": "completed"
    },
    "tags": []
   },
   "outputs": [],
   "source": []
  }
 ],
 "metadata": {
  "kernelspec": {
   "display_name": "Python 3",
   "language": "python",
   "name": "python3"
  },
  "language_info": {
   "codemirror_mode": {
    "name": "ipython",
    "version": 3
   },
   "file_extension": ".py",
   "mimetype": "text/x-python",
   "name": "python",
   "nbconvert_exporter": "python",
   "pygments_lexer": "ipython3",
   "version": "3.7.6"
  },
  "papermill": {
   "duration": 1015.992247,
   "end_time": "2020-11-12T14:15:38.132528",
   "environment_variables": {},
   "exception": null,
   "input_path": "__notebook__.ipynb",
   "output_path": "__notebook__.ipynb",
   "parameters": {},
   "start_time": "2020-11-12T13:58:42.140281",
   "version": "2.1.0"
  }
 },
 "nbformat": 4,
 "nbformat_minor": 4
}
