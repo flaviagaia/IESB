{
 "cells": [
  {
   "cell_type": "markdown",
   "metadata": {
    "papermill": {
     "duration": 0.02017,
     "end_time": "2021-11-17T23:09:22.963426",
     "exception": false,
     "start_time": "2021-11-17T23:09:22.943256",
     "status": "completed"
    },
    "tags": []
   },
   "source": [
    "# IESB - CIA035 - Aula 12 - Redes Neurais\n",
    "### Primeira rede com PyTorch"
   ]
  },
  {
   "cell_type": "code",
   "execution_count": 1,
   "metadata": {
    "_cell_guid": "b1076dfc-b9ad-4769-8c92-a6c4dae69d19",
    "_uuid": "8f2839f25d086af736a60e9eeb907d3b93b6e0e5",
    "execution": {
     "iopub.execute_input": "2021-11-17T23:09:23.003739Z",
     "iopub.status.busy": "2021-11-17T23:09:23.002942Z",
     "iopub.status.idle": "2021-11-17T23:09:23.020501Z",
     "shell.execute_reply": "2021-11-17T23:09:23.021517Z",
     "shell.execute_reply.started": "2021-11-17T22:36:29.376484Z"
    },
    "papermill": {
     "duration": 0.039727,
     "end_time": "2021-11-17T23:09:23.021760",
     "exception": false,
     "start_time": "2021-11-17T23:09:22.982033",
     "status": "completed"
    },
    "tags": []
   },
   "outputs": [
    {
     "name": "stdout",
     "output_type": "stream",
     "text": [
      "/kaggle/input/iris/Iris.csv\n",
      "/kaggle/input/iris/database.sqlite\n"
     ]
    }
   ],
   "source": [
    "# This Python 3 environment comes with many helpful analytics libraries installed\n",
    "# It is defined by the kaggle/python Docker image: https://github.com/kaggle/docker-python\n",
    "# For example, here's several helpful packages to load\n",
    "\n",
    "import numpy as np # linear algebra\n",
    "import pandas as pd # data processing, CSV file I/O (e.g. pd.read_csv)\n",
    "\n",
    "# Input data files are available in the read-only \"../input/\" directory\n",
    "# For example, running this (by clicking run or pressing Shift+Enter) will list all files under the input directory\n",
    "\n",
    "import os\n",
    "for dirname, _, filenames in os.walk('/kaggle/input'):\n",
    "    for filename in filenames:\n",
    "        print(os.path.join(dirname, filename))\n",
    "\n",
    "# You can write up to 5GB to the current directory (/kaggle/working/) that gets preserved as output when you create a version using \"Save & Run All\" \n",
    "# You can also write temporary files to /kaggle/temp/, but they won't be saved outside of the current session"
   ]
  },
  {
   "cell_type": "code",
   "execution_count": 2,
   "metadata": {
    "_cell_guid": "79c7e3d0-c299-4dcb-8224-4455121ee9b0",
    "_uuid": "d629ff2d2480ee46fbb7e2d37f6b5fab8052498a",
    "execution": {
     "iopub.execute_input": "2021-11-17T23:09:23.063970Z",
     "iopub.status.busy": "2021-11-17T23:09:23.062863Z",
     "iopub.status.idle": "2021-11-17T23:09:23.086721Z",
     "shell.execute_reply": "2021-11-17T23:09:23.087404Z",
     "shell.execute_reply.started": "2021-11-17T22:36:42.562467Z"
    },
    "papermill": {
     "duration": 0.046732,
     "end_time": "2021-11-17T23:09:23.087567",
     "exception": false,
     "start_time": "2021-11-17T23:09:23.040835",
     "status": "completed"
    },
    "tags": []
   },
   "outputs": [
    {
     "data": {
      "text/plain": [
       "(150, 6)"
      ]
     },
     "execution_count": 2,
     "metadata": {},
     "output_type": "execute_result"
    }
   ],
   "source": [
    "# Carregando o dataset\n",
    "df = pd.read_csv('/kaggle/input/iris/Iris.csv')\n",
    "\n",
    "df.shape"
   ]
  },
  {
   "cell_type": "code",
   "execution_count": 3,
   "metadata": {
    "execution": {
     "iopub.execute_input": "2021-11-17T23:09:23.131783Z",
     "iopub.status.busy": "2021-11-17T23:09:23.130671Z",
     "iopub.status.idle": "2021-11-17T23:09:23.153150Z",
     "shell.execute_reply": "2021-11-17T23:09:23.153933Z",
     "shell.execute_reply.started": "2021-11-17T22:36:45.490212Z"
    },
    "papermill": {
     "duration": 0.04763,
     "end_time": "2021-11-17T23:09:23.154163",
     "exception": false,
     "start_time": "2021-11-17T23:09:23.106533",
     "status": "completed"
    },
    "tags": []
   },
   "outputs": [
    {
     "name": "stdout",
     "output_type": "stream",
     "text": [
      "<class 'pandas.core.frame.DataFrame'>\n",
      "RangeIndex: 150 entries, 0 to 149\n",
      "Data columns (total 6 columns):\n",
      " #   Column         Non-Null Count  Dtype  \n",
      "---  ------         --------------  -----  \n",
      " 0   Id             150 non-null    int64  \n",
      " 1   SepalLengthCm  150 non-null    float64\n",
      " 2   SepalWidthCm   150 non-null    float64\n",
      " 3   PetalLengthCm  150 non-null    float64\n",
      " 4   PetalWidthCm   150 non-null    float64\n",
      " 5   Species        150 non-null    object \n",
      "dtypes: float64(4), int64(1), object(1)\n",
      "memory usage: 7.2+ KB\n"
     ]
    }
   ],
   "source": [
    "# Verificando os dados\n",
    "df.info()"
   ]
  },
  {
   "cell_type": "code",
   "execution_count": 4,
   "metadata": {
    "execution": {
     "iopub.execute_input": "2021-11-17T23:09:23.197428Z",
     "iopub.status.busy": "2021-11-17T23:09:23.196711Z",
     "iopub.status.idle": "2021-11-17T23:09:23.213742Z",
     "shell.execute_reply": "2021-11-17T23:09:23.214447Z",
     "shell.execute_reply.started": "2021-11-17T22:36:48.764307Z"
    },
    "papermill": {
     "duration": 0.040534,
     "end_time": "2021-11-17T23:09:23.214624",
     "exception": false,
     "start_time": "2021-11-17T23:09:23.174090",
     "status": "completed"
    },
    "tags": []
   },
   "outputs": [
    {
     "data": {
      "text/html": [
       "<div>\n",
       "<style scoped>\n",
       "    .dataframe tbody tr th:only-of-type {\n",
       "        vertical-align: middle;\n",
       "    }\n",
       "\n",
       "    .dataframe tbody tr th {\n",
       "        vertical-align: top;\n",
       "    }\n",
       "\n",
       "    .dataframe thead th {\n",
       "        text-align: right;\n",
       "    }\n",
       "</style>\n",
       "<table border=\"1\" class=\"dataframe\">\n",
       "  <thead>\n",
       "    <tr style=\"text-align: right;\">\n",
       "      <th></th>\n",
       "      <th>Id</th>\n",
       "      <th>SepalLengthCm</th>\n",
       "      <th>SepalWidthCm</th>\n",
       "      <th>PetalLengthCm</th>\n",
       "      <th>PetalWidthCm</th>\n",
       "      <th>Species</th>\n",
       "    </tr>\n",
       "  </thead>\n",
       "  <tbody>\n",
       "    <tr>\n",
       "      <th>0</th>\n",
       "      <td>1</td>\n",
       "      <td>5.1</td>\n",
       "      <td>3.5</td>\n",
       "      <td>1.4</td>\n",
       "      <td>0.2</td>\n",
       "      <td>Iris-setosa</td>\n",
       "    </tr>\n",
       "    <tr>\n",
       "      <th>1</th>\n",
       "      <td>2</td>\n",
       "      <td>4.9</td>\n",
       "      <td>3.0</td>\n",
       "      <td>1.4</td>\n",
       "      <td>0.2</td>\n",
       "      <td>Iris-setosa</td>\n",
       "    </tr>\n",
       "    <tr>\n",
       "      <th>2</th>\n",
       "      <td>3</td>\n",
       "      <td>4.7</td>\n",
       "      <td>3.2</td>\n",
       "      <td>1.3</td>\n",
       "      <td>0.2</td>\n",
       "      <td>Iris-setosa</td>\n",
       "    </tr>\n",
       "    <tr>\n",
       "      <th>3</th>\n",
       "      <td>4</td>\n",
       "      <td>4.6</td>\n",
       "      <td>3.1</td>\n",
       "      <td>1.5</td>\n",
       "      <td>0.2</td>\n",
       "      <td>Iris-setosa</td>\n",
       "    </tr>\n",
       "    <tr>\n",
       "      <th>4</th>\n",
       "      <td>5</td>\n",
       "      <td>5.0</td>\n",
       "      <td>3.6</td>\n",
       "      <td>1.4</td>\n",
       "      <td>0.2</td>\n",
       "      <td>Iris-setosa</td>\n",
       "    </tr>\n",
       "  </tbody>\n",
       "</table>\n",
       "</div>"
      ],
      "text/plain": [
       "   Id  SepalLengthCm  SepalWidthCm  PetalLengthCm  PetalWidthCm      Species\n",
       "0   1            5.1           3.5            1.4           0.2  Iris-setosa\n",
       "1   2            4.9           3.0            1.4           0.2  Iris-setosa\n",
       "2   3            4.7           3.2            1.3           0.2  Iris-setosa\n",
       "3   4            4.6           3.1            1.5           0.2  Iris-setosa\n",
       "4   5            5.0           3.6            1.4           0.2  Iris-setosa"
      ]
     },
     "execution_count": 4,
     "metadata": {},
     "output_type": "execute_result"
    }
   ],
   "source": [
    "# Olhando os dados\n",
    "df.head()"
   ]
  },
  {
   "cell_type": "code",
   "execution_count": 5,
   "metadata": {
    "execution": {
     "iopub.execute_input": "2021-11-17T23:09:23.258652Z",
     "iopub.status.busy": "2021-11-17T23:09:23.257479Z",
     "iopub.status.idle": "2021-11-17T23:09:23.266482Z",
     "shell.execute_reply": "2021-11-17T23:09:23.267134Z",
     "shell.execute_reply.started": "2021-11-17T22:36:54.512474Z"
    },
    "papermill": {
     "duration": 0.033008,
     "end_time": "2021-11-17T23:09:23.267300",
     "exception": false,
     "start_time": "2021-11-17T23:09:23.234292",
     "status": "completed"
    },
    "tags": []
   },
   "outputs": [
    {
     "data": {
      "text/plain": [
       "Iris-virginica     50\n",
       "Iris-versicolor    50\n",
       "Iris-setosa        50\n",
       "Name: Species, dtype: int64"
      ]
     },
     "execution_count": 5,
     "metadata": {},
     "output_type": "execute_result"
    }
   ],
   "source": [
    "# Olhando a coluna Species\n",
    "df['Species'].value_counts()"
   ]
  },
  {
   "cell_type": "code",
   "execution_count": 6,
   "metadata": {
    "execution": {
     "iopub.execute_input": "2021-11-17T23:09:23.312391Z",
     "iopub.status.busy": "2021-11-17T23:09:23.311254Z",
     "iopub.status.idle": "2021-11-17T23:09:23.327863Z",
     "shell.execute_reply": "2021-11-17T23:09:23.328732Z",
     "shell.execute_reply.started": "2021-11-17T22:37:05.259496Z"
    },
    "papermill": {
     "duration": 0.041484,
     "end_time": "2021-11-17T23:09:23.328997",
     "exception": false,
     "start_time": "2021-11-17T23:09:23.287513",
     "status": "completed"
    },
    "tags": []
   },
   "outputs": [
    {
     "name": "stdout",
     "output_type": "stream",
     "text": [
      "<class 'pandas.core.frame.DataFrame'>\n",
      "RangeIndex: 150 entries, 0 to 149\n",
      "Data columns (total 6 columns):\n",
      " #   Column         Non-Null Count  Dtype  \n",
      "---  ------         --------------  -----  \n",
      " 0   Id             150 non-null    int64  \n",
      " 1   SepalLengthCm  150 non-null    float64\n",
      " 2   SepalWidthCm   150 non-null    float64\n",
      " 3   PetalLengthCm  150 non-null    float64\n",
      " 4   PetalWidthCm   150 non-null    float64\n",
      " 5   Species        150 non-null    int64  \n",
      "dtypes: float64(4), int64(2)\n",
      "memory usage: 7.2 KB\n"
     ]
    }
   ],
   "source": [
    "# Convertendo a coluna Species\n",
    "df['Species'] = df['Species'].map({'Iris-versicolor': 0, 'Iris-setosa': 1, 'Iris-virginica': 2})\n",
    "\n",
    "df.info()"
   ]
  },
  {
   "cell_type": "code",
   "execution_count": 7,
   "metadata": {
    "execution": {
     "iopub.execute_input": "2021-11-17T23:09:23.374694Z",
     "iopub.status.busy": "2021-11-17T23:09:23.373972Z",
     "iopub.status.idle": "2021-11-17T23:09:24.360028Z",
     "shell.execute_reply": "2021-11-17T23:09:24.360582Z",
     "shell.execute_reply.started": "2021-11-17T22:43:52.721228Z"
    },
    "papermill": {
     "duration": 1.00974,
     "end_time": "2021-11-17T23:09:24.360759",
     "exception": false,
     "start_time": "2021-11-17T23:09:23.351019",
     "status": "completed"
    },
    "tags": []
   },
   "outputs": [],
   "source": [
    "# Importando o PyTorch\n",
    "import torch\n",
    "import torch.nn as nn"
   ]
  },
  {
   "cell_type": "code",
   "execution_count": 8,
   "metadata": {
    "execution": {
     "iopub.execute_input": "2021-11-17T23:09:24.411602Z",
     "iopub.status.busy": "2021-11-17T23:09:24.410851Z",
     "iopub.status.idle": "2021-11-17T23:09:25.301530Z",
     "shell.execute_reply": "2021-11-17T23:09:25.302130Z",
     "shell.execute_reply.started": "2021-11-17T22:45:49.271562Z"
    },
    "papermill": {
     "duration": 0.919973,
     "end_time": "2021-11-17T23:09:25.302316",
     "exception": false,
     "start_time": "2021-11-17T23:09:24.382343",
     "status": "completed"
    },
    "tags": []
   },
   "outputs": [],
   "source": [
    "# Importando o train_test_split\n",
    "from sklearn.model_selection import train_test_split\n",
    "\n",
    "# Preparar e separar os dataframes\n",
    "X = df.drop(['Id', 'Species'], axis = 1).values\n",
    "y = df['Species'].values\n",
    "\n",
    "# Separando os dados\n",
    "X_train, X_test, y_train, y_test = train_test_split(X, y, test_size=0.2, random_state=42)\n",
    "\n",
    "# Transformando os dados em tensores\n",
    "X_train = torch.FloatTensor(X_train)\n",
    "X_test = torch.FloatTensor(X_test)\n",
    "y_train = torch.LongTensor(y_train)\n",
    "y_test = torch.LongTensor(y_test)"
   ]
  },
  {
   "cell_type": "code",
   "execution_count": 9,
   "metadata": {
    "execution": {
     "iopub.execute_input": "2021-11-17T23:09:25.347252Z",
     "iopub.status.busy": "2021-11-17T23:09:25.346504Z",
     "iopub.status.idle": "2021-11-17T23:09:25.401910Z",
     "shell.execute_reply": "2021-11-17T23:09:25.402632Z",
     "shell.execute_reply.started": "2021-11-17T22:45:51.277688Z"
    },
    "papermill": {
     "duration": 0.080136,
     "end_time": "2021-11-17T23:09:25.402807",
     "exception": false,
     "start_time": "2021-11-17T23:09:25.322671",
     "status": "completed"
    },
    "tags": []
   },
   "outputs": [
    {
     "data": {
      "text/plain": [
       "tensor([[4.6000, 3.6000, 1.0000, 0.2000],\n",
       "        [5.7000, 4.4000, 1.5000, 0.4000],\n",
       "        [6.7000, 3.1000, 4.4000, 1.4000],\n",
       "        [4.8000, 3.4000, 1.6000, 0.2000],\n",
       "        [4.4000, 3.2000, 1.3000, 0.2000]])"
      ]
     },
     "execution_count": 9,
     "metadata": {},
     "output_type": "execute_result"
    }
   ],
   "source": [
    "# Visualizando os dados de treino\n",
    "X_train[0:5]"
   ]
  },
  {
   "cell_type": "code",
   "execution_count": 10,
   "metadata": {
    "execution": {
     "iopub.execute_input": "2021-11-17T23:09:25.449245Z",
     "iopub.status.busy": "2021-11-17T23:09:25.448040Z",
     "iopub.status.idle": "2021-11-17T23:09:25.455136Z",
     "shell.execute_reply": "2021-11-17T23:09:25.455763Z",
     "shell.execute_reply.started": "2021-11-17T22:46:06.458328Z"
    },
    "papermill": {
     "duration": 0.031975,
     "end_time": "2021-11-17T23:09:25.455929",
     "exception": false,
     "start_time": "2021-11-17T23:09:25.423954",
     "status": "completed"
    },
    "tags": []
   },
   "outputs": [
    {
     "data": {
      "text/plain": [
       "tensor([1, 1, 0, 1, 1])"
      ]
     },
     "execution_count": 10,
     "metadata": {},
     "output_type": "execute_result"
    }
   ],
   "source": [
    "# Visualindos as resposta de treino\n",
    "y_train[0:5]"
   ]
  },
  {
   "cell_type": "code",
   "execution_count": 11,
   "metadata": {
    "execution": {
     "iopub.execute_input": "2021-11-17T23:09:25.502861Z",
     "iopub.status.busy": "2021-11-17T23:09:25.501705Z",
     "iopub.status.idle": "2021-11-17T23:09:25.516244Z",
     "shell.execute_reply": "2021-11-17T23:09:25.515342Z",
     "shell.execute_reply.started": "2021-11-17T23:01:05.073317Z"
    },
    "papermill": {
     "duration": 0.039085,
     "end_time": "2021-11-17T23:09:25.516382",
     "exception": false,
     "start_time": "2021-11-17T23:09:25.477297",
     "status": "completed"
    },
    "tags": []
   },
   "outputs": [
    {
     "data": {
      "text/plain": [
       "Sequential(\n",
       "  (0): Linear(in_features=4, out_features=16, bias=True)\n",
       "  (1): ReLU()\n",
       "  (2): Linear(in_features=16, out_features=12, bias=True)\n",
       "  (3): ReLU()\n",
       "  (4): Linear(in_features=12, out_features=3, bias=True)\n",
       ")"
      ]
     },
     "execution_count": 11,
     "metadata": {},
     "output_type": "execute_result"
    }
   ],
   "source": [
    "# Definindo uma rede neural (fully connected)\n",
    "# Input layer: 4 entradas (variáveis de entrada) -> 16 saídas (arbitrário/definido por nós)\n",
    "# Hideen layer: 16 entradas (combinando com as saídas da camada anterior) -> 12 saídas (arbitrário/definido por nós)\n",
    "# Output layer: 12 entradas (combinando com as saídas da camada anterior) -> 3 saídas (são 3 espécies a serem previstas)\n",
    "# Vamos usar ReLu como função de ativação\n",
    "\n",
    "# Criando a rede neural usando nn.Sequential\n",
    "model = nn.Sequential(nn.Linear(4, 16),\n",
    "                      nn.ReLU(),\n",
    "                      nn.Linear(16, 12),\n",
    "                      nn.ReLU(),\n",
    "                      nn.Linear(12, 3))\n",
    "\n",
    "model"
   ]
  },
  {
   "cell_type": "code",
   "execution_count": 12,
   "metadata": {
    "execution": {
     "iopub.execute_input": "2021-11-17T23:09:25.567405Z",
     "iopub.status.busy": "2021-11-17T23:09:25.566670Z",
     "iopub.status.idle": "2021-11-17T23:09:25.569015Z",
     "shell.execute_reply": "2021-11-17T23:09:25.569592Z",
     "shell.execute_reply.started": "2021-11-17T23:01:06.363387Z"
    },
    "papermill": {
     "duration": 0.031215,
     "end_time": "2021-11-17T23:09:25.569780",
     "exception": false,
     "start_time": "2021-11-17T23:09:25.538565",
     "status": "completed"
    },
    "tags": []
   },
   "outputs": [],
   "source": [
    "# Temos que definir a função de erro e o otimizador (que vai alterar os pesos dos perceptrons)\n",
    "error_function = nn.CrossEntropyLoss() # criterion\n",
    "optimizer = torch.optim.Adam(model.parameters(), lr=0.1)"
   ]
  },
  {
   "cell_type": "code",
   "execution_count": 13,
   "metadata": {
    "execution": {
     "iopub.execute_input": "2021-11-17T23:09:25.617194Z",
     "iopub.status.busy": "2021-11-17T23:09:25.616418Z",
     "iopub.status.idle": "2021-11-17T23:09:25.811442Z",
     "shell.execute_reply": "2021-11-17T23:09:25.810274Z",
     "shell.execute_reply.started": "2021-11-17T23:01:10.149184Z"
    },
    "papermill": {
     "duration": 0.219617,
     "end_time": "2021-11-17T23:09:25.811642",
     "exception": false,
     "start_time": "2021-11-17T23:09:25.592025",
     "status": "completed"
    },
    "tags": []
   },
   "outputs": [
    {
     "name": "stdout",
     "output_type": "stream",
     "text": [
      "Epoch: 0 / Loss: 1.1436221599578857\n",
      "Epoch: 10 / Loss: 0.2684209942817688\n",
      "Epoch: 20 / Loss: 0.14562295377254486\n",
      "Epoch: 30 / Loss: 0.11020524054765701\n",
      "Epoch: 40 / Loss: 0.06348980963230133\n",
      "Epoch: 50 / Loss: 0.06151952967047691\n",
      "Epoch: 60 / Loss: 0.05810494348406792\n",
      "Epoch: 70 / Loss: 0.057134490460157394\n",
      "Epoch: 80 / Loss: 0.055544860661029816\n",
      "Epoch: 90 / Loss: 0.05461667850613594\n"
     ]
    }
   ],
   "source": [
    "# Treinamento do modelo\n",
    "\n",
    "# Definindo o número de épocas\n",
    "epochs = 100\n",
    "\n",
    "# Erros\n",
    "running_loss = []\n",
    "\n",
    "# For para rodar o número de épocas\n",
    "for i in range(epochs):\n",
    "    # Treinamento\n",
    "    \n",
    "    # Foward Propagation (passando os dados de treino pela rede)\n",
    "    outputs = model.forward(X_train)\n",
    "    # Calculando o erro\n",
    "    loss = error_function(outputs, y_train)\n",
    "    # Guadando o erro\n",
    "    running_loss.append(loss)\n",
    "    \n",
    "    # Exibindo o erro de 10 em 10 épocas\n",
    "    if i % 10 == 0:\n",
    "        print(f'Epoch: {i} / Loss: {loss}')\n",
    "        \n",
    "    # Back Propagation\n",
    "    # Limpar os parametros do otimizador (zerar o Gradiente Descendent)\n",
    "    optimizer.zero_grad()\n",
    "    # Calcular os novos pesos\n",
    "    loss.backward()\n",
    "    # Executar o optimizador (efetivamente fazer o back propagation mudando os pesos)\n",
    "    optimizer.step()"
   ]
  },
  {
   "cell_type": "code",
   "execution_count": 14,
   "metadata": {
    "execution": {
     "iopub.execute_input": "2021-11-17T23:09:25.865117Z",
     "iopub.status.busy": "2021-11-17T23:09:25.864341Z",
     "iopub.status.idle": "2021-11-17T23:09:25.877672Z",
     "shell.execute_reply": "2021-11-17T23:09:25.878512Z",
     "shell.execute_reply.started": "2021-11-17T23:02:56.581757Z"
    },
    "papermill": {
     "duration": 0.043368,
     "end_time": "2021-11-17T23:09:25.878702",
     "exception": false,
     "start_time": "2021-11-17T23:09:25.835334",
     "status": "completed"
    },
    "tags": []
   },
   "outputs": [
    {
     "data": {
      "text/plain": [
       "[0,\n",
       " 1,\n",
       " 2,\n",
       " 0,\n",
       " 0,\n",
       " 1,\n",
       " 0,\n",
       " 2,\n",
       " 2,\n",
       " 0,\n",
       " 2,\n",
       " 1,\n",
       " 1,\n",
       " 1,\n",
       " 1,\n",
       " 0,\n",
       " 2,\n",
       " 0,\n",
       " 0,\n",
       " 2,\n",
       " 1,\n",
       " 2,\n",
       " 1,\n",
       " 2,\n",
       " 2,\n",
       " 2,\n",
       " 2,\n",
       " 2,\n",
       " 1,\n",
       " 1]"
      ]
     },
     "execution_count": 14,
     "metadata": {},
     "output_type": "execute_result"
    }
   ],
   "source": [
    "# Previsões para os dados de teste\n",
    "\n",
    "# Lista das previsões\n",
    "preds = []\n",
    "\n",
    "# Colocar a rede em modo de execução/previsão / tirar do modo de treinamento\n",
    "with torch.no_grad():\n",
    "    for val in X_test:\n",
    "        predict = model.forward(val)\n",
    "        preds.append(predict.argmax().item())\n",
    "        \n",
    "preds"
   ]
  },
  {
   "cell_type": "code",
   "execution_count": 15,
   "metadata": {
    "execution": {
     "iopub.execute_input": "2021-11-17T23:09:25.927354Z",
     "iopub.status.busy": "2021-11-17T23:09:25.926653Z",
     "iopub.status.idle": "2021-11-17T23:09:25.933079Z",
     "shell.execute_reply": "2021-11-17T23:09:25.933742Z",
     "shell.execute_reply.started": "2021-11-17T23:03:03.468352Z"
    },
    "papermill": {
     "duration": 0.03229,
     "end_time": "2021-11-17T23:09:25.933908",
     "exception": false,
     "start_time": "2021-11-17T23:09:25.901618",
     "status": "completed"
    },
    "tags": []
   },
   "outputs": [
    {
     "data": {
      "text/plain": [
       "tensor([0, 1, 2, 0, 0, 1, 0, 2, 0, 0, 2, 1, 1, 1, 1, 0, 2, 0, 0, 2, 1, 2, 1, 2,\n",
       "        2, 2, 2, 2, 1, 1])"
      ]
     },
     "execution_count": 15,
     "metadata": {},
     "output_type": "execute_result"
    }
   ],
   "source": [
    "# Verificando os valores reais\n",
    "y_test"
   ]
  },
  {
   "cell_type": "code",
   "execution_count": 16,
   "metadata": {
    "execution": {
     "iopub.execute_input": "2021-11-17T23:09:25.982458Z",
     "iopub.status.busy": "2021-11-17T23:09:25.981710Z",
     "iopub.status.idle": "2021-11-17T23:09:25.994935Z",
     "shell.execute_reply": "2021-11-17T23:09:25.994197Z",
     "shell.execute_reply.started": "2021-11-17T23:06:43.551199Z"
    },
    "papermill": {
     "duration": 0.038747,
     "end_time": "2021-11-17T23:09:25.995071",
     "exception": false,
     "start_time": "2021-11-17T23:09:25.956324",
     "status": "completed"
    },
    "tags": []
   },
   "outputs": [
    {
     "data": {
      "text/plain": [
       "RedeNeural(\n",
       "  (input): Linear(in_features=4, out_features=16, bias=True)\n",
       "  (hidden): Linear(in_features=16, out_features=12, bias=True)\n",
       "  (output): Linear(in_features=12, out_features=3, bias=True)\n",
       ")"
      ]
     },
     "execution_count": 16,
     "metadata": {},
     "output_type": "execute_result"
    }
   ],
   "source": [
    "# Vamos criar um Rede Neural no Pytorch usando uma subclasse de nn.Module\n",
    "\n",
    "# Importando a biblioteca funcional do PyTorch\n",
    "import torch.nn.functional as F\n",
    "\n",
    "# Definindo a classe\n",
    "class RedeNeural(nn.Module):\n",
    "    \n",
    "    # Função de inicialização da rede\n",
    "    def __init__(self):\n",
    "        # Chamada ao método __init__ da classe mãe\n",
    "        super().__init__()\n",
    "        # Vamos definir as camadas\n",
    "        self.input = nn.Linear(4, 16)\n",
    "        self.hidden = nn.Linear(16,12)\n",
    "        self.output = nn.Linear(12, 3)\n",
    "        \n",
    "    # Função para executar o Feed Forward (Forward Propagation)\n",
    "    def forward(self, x):\n",
    "        x = F.relu(self.input(x))\n",
    "        x = F.relu(self.hidden(x))\n",
    "        x = self.output(x)\n",
    "        \n",
    "        return x\n",
    "    \n",
    "model2 = RedeNeural()\n",
    "\n",
    "model2"
   ]
  },
  {
   "cell_type": "code",
   "execution_count": 17,
   "metadata": {
    "execution": {
     "iopub.execute_input": "2021-11-17T23:09:26.044181Z",
     "iopub.status.busy": "2021-11-17T23:09:26.043477Z",
     "iopub.status.idle": "2021-11-17T23:09:26.175551Z",
     "shell.execute_reply": "2021-11-17T23:09:26.174575Z",
     "shell.execute_reply.started": "2021-11-17T23:08:12.266133Z"
    },
    "papermill": {
     "duration": 0.157413,
     "end_time": "2021-11-17T23:09:26.175708",
     "exception": false,
     "start_time": "2021-11-17T23:09:26.018295",
     "status": "completed"
    },
    "tags": []
   },
   "outputs": [
    {
     "name": "stdout",
     "output_type": "stream",
     "text": [
      "Epoch: 0 / Loss: 1.1014240980148315\n",
      "Epoch: 10 / Loss: 0.6796582341194153\n",
      "Epoch: 20 / Loss: 0.4025101959705353\n",
      "Epoch: 30 / Loss: 0.2126961052417755\n",
      "Epoch: 40 / Loss: 0.10914194583892822\n",
      "Epoch: 50 / Loss: 0.07543078064918518\n",
      "Epoch: 60 / Loss: 0.06474893540143967\n",
      "Epoch: 70 / Loss: 0.0608326755464077\n",
      "Epoch: 80 / Loss: 0.058997463434934616\n",
      "Epoch: 90 / Loss: 0.057861316949129105\n"
     ]
    }
   ],
   "source": [
    "# Treinamento do modelo model2\n",
    "\n",
    "# Redefinindo o optimizer\n",
    "optimizer = torch.optim.Adam(model2.parameters(), lr=0.01)\n",
    "\n",
    "# Definindo o número de épocas\n",
    "epochs = 100\n",
    "\n",
    "# Erros\n",
    "running_loss = []\n",
    "\n",
    "# For para rodar o número de épocas\n",
    "for i in range(epochs):\n",
    "    # Treinamento\n",
    "    \n",
    "    # Foward Propagation (passando os dados de treino pela rede)\n",
    "    outputs = model2.forward(X_train)\n",
    "    # Calculando o erro\n",
    "    loss = error_function(outputs, y_train)\n",
    "    # Guadando o erro\n",
    "    running_loss.append(loss)\n",
    "    \n",
    "    # Exibindo o erro de 10 em 10 épocas\n",
    "    if i % 10 == 0:\n",
    "        print(f'Epoch: {i} / Loss: {loss}')\n",
    "        \n",
    "    # Back Propagation\n",
    "    # Limpar os parametros do otimizador (zerar o Gradiente Descendent)\n",
    "    optimizer.zero_grad()\n",
    "    # Calcular os novos pesos\n",
    "    loss.backward()\n",
    "    # Executar o optimizador (efetivamente fazer o back propagation mudando os pesos)\n",
    "    optimizer.step()"
   ]
  },
  {
   "cell_type": "code",
   "execution_count": 18,
   "metadata": {
    "execution": {
     "iopub.execute_input": "2021-11-17T23:09:26.253394Z",
     "iopub.status.busy": "2021-11-17T23:09:26.252590Z",
     "iopub.status.idle": "2021-11-17T23:09:26.266734Z",
     "shell.execute_reply": "2021-11-17T23:09:26.267513Z",
     "shell.execute_reply.started": "2021-11-17T23:08:34.255419Z"
    },
    "papermill": {
     "duration": 0.055851,
     "end_time": "2021-11-17T23:09:26.267810",
     "exception": false,
     "start_time": "2021-11-17T23:09:26.211959",
     "status": "completed"
    },
    "tags": []
   },
   "outputs": [
    {
     "data": {
      "text/plain": [
       "[0,\n",
       " 1,\n",
       " 2,\n",
       " 0,\n",
       " 0,\n",
       " 1,\n",
       " 0,\n",
       " 2,\n",
       " 0,\n",
       " 0,\n",
       " 2,\n",
       " 1,\n",
       " 1,\n",
       " 1,\n",
       " 1,\n",
       " 0,\n",
       " 2,\n",
       " 0,\n",
       " 0,\n",
       " 2,\n",
       " 1,\n",
       " 2,\n",
       " 1,\n",
       " 2,\n",
       " 2,\n",
       " 2,\n",
       " 2,\n",
       " 2,\n",
       " 1,\n",
       " 1]"
      ]
     },
     "execution_count": 18,
     "metadata": {},
     "output_type": "execute_result"
    }
   ],
   "source": [
    "# Previsões para os dados de teste usando o model2\n",
    "\n",
    "# Lista das previsões\n",
    "preds = []\n",
    "\n",
    "# Colocar a rede em modo de execução/previsão / tirar do modo de treinamento\n",
    "with torch.no_grad():\n",
    "    for val in X_test:\n",
    "        predict = model2.forward(val)\n",
    "        preds.append(predict.argmax().item())\n",
    "        \n",
    "preds"
   ]
  },
  {
   "cell_type": "code",
   "execution_count": 19,
   "metadata": {
    "execution": {
     "iopub.execute_input": "2021-11-17T23:09:26.319831Z",
     "iopub.status.busy": "2021-11-17T23:09:26.319117Z",
     "iopub.status.idle": "2021-11-17T23:09:26.324221Z",
     "shell.execute_reply": "2021-11-17T23:09:26.324870Z",
     "shell.execute_reply.started": "2021-11-17T23:08:51.870003Z"
    },
    "papermill": {
     "duration": 0.032698,
     "end_time": "2021-11-17T23:09:26.325032",
     "exception": false,
     "start_time": "2021-11-17T23:09:26.292334",
     "status": "completed"
    },
    "tags": []
   },
   "outputs": [
    {
     "data": {
      "text/plain": [
       "tensor([0, 1, 2, 0, 0, 1, 0, 2, 0, 0, 2, 1, 1, 1, 1, 0, 2, 0, 0, 2, 1, 2, 1, 2,\n",
       "        2, 2, 2, 2, 1, 1])"
      ]
     },
     "execution_count": 19,
     "metadata": {},
     "output_type": "execute_result"
    }
   ],
   "source": [
    "# Verificando os valores reais\n",
    "y_test"
   ]
  },
  {
   "cell_type": "code",
   "execution_count": null,
   "metadata": {
    "papermill": {
     "duration": 0.023641,
     "end_time": "2021-11-17T23:09:26.373075",
     "exception": false,
     "start_time": "2021-11-17T23:09:26.349434",
     "status": "completed"
    },
    "tags": []
   },
   "outputs": [],
   "source": []
  }
 ],
 "metadata": {
  "kernelspec": {
   "display_name": "Python 3",
   "language": "python",
   "name": "python3"
  },
  "language_info": {
   "codemirror_mode": {
    "name": "ipython",
    "version": 3
   },
   "file_extension": ".py",
   "mimetype": "text/x-python",
   "name": "python",
   "nbconvert_exporter": "python",
   "pygments_lexer": "ipython3",
   "version": "3.7.6"
  },
  "papermill": {
   "duration": 8.287614,
   "end_time": "2021-11-17T23:09:26.505305",
   "environment_variables": {},
   "exception": null,
   "input_path": "__notebook__.ipynb",
   "output_path": "__notebook__.ipynb",
   "parameters": {},
   "start_time": "2021-11-17T23:09:18.217691",
   "version": "2.1.0"
  }
 },
 "nbformat": 4,
 "nbformat_minor": 4
}
