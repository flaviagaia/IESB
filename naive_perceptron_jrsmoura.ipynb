{
  "nbformat": 4,
  "nbformat_minor": 0,
  "metadata": {
    "colab": {
      "name": "naive_perceptron_jrsmoura.ipynb",
      "provenance": [],
      "authorship_tag": "ABX9TyMNLsNDM29JGSe/unN0FDgS",
      "include_colab_link": true
    },
    "kernelspec": {
      "name": "python3",
      "display_name": "Python 3"
    },
    "language_info": {
      "name": "python"
    }
  },
  "cells": [
    {
      "cell_type": "markdown",
      "metadata": {
        "id": "view-in-github",
        "colab_type": "text"
      },
      "source": [
        "<a href=\"https://colab.research.google.com/github/flaviagaia/IESB/blob/main/naive_perceptron_jrsmoura.ipynb\" target=\"_parent\"><img src=\"https://colab.research.google.com/assets/colab-badge.svg\" alt=\"Open In Colab\"/></a>"
      ]
    },
    {
      "cell_type": "code",
      "execution_count": null,
      "metadata": {
        "id": "TbyoRgSAfRTv"
      },
      "outputs": [],
      "source": [
        "import numpy as np\n",
        "\n",
        "\n",
        "def func_step(z: float) -> float:\n",
        "    \"\"\"Calcula a step function de uma constante\n",
        "\n",
        "    Args:\n",
        "        z (float): constate\n",
        "\n",
        "    Returns:\n",
        "        float: valor de step(z)\n",
        "    \"\"\"\n",
        "    if z > 0:\n",
        "        return 1\n",
        "    else:\n",
        "        return 0\n",
        "\n",
        "\n",
        "def func_sigmoid(z: float) -> float:\n",
        "    \"\"\"Compute the sigmoid funcion of z\n",
        "\n",
        "    :args:\n",
        "        - z (float) real value\n",
        "    :returns:\n",
        "        - sigmoid function of z\n",
        "\n",
        "    \"\"\"\n",
        "    return AssertionError(\"To be implemented\")\n",
        "\n",
        "\n",
        "def perceptron(x: list, w: list) -> float:\n",
        "    \"\"\"Realiza uma passagem ao longo de um perceptron simples\n",
        "    Caso particular em que b = 0\n",
        "    Args:\n",
        "        x (list): valores de entrada\n",
        "        w (list): pesos\n",
        "\n",
        "    Retunrs:\n",
        "        float: step(x.w)\n",
        "    \"\"\"\n",
        "    z = np.dot(x.T, w)\n",
        "    return func_step(z)\n",
        "\n",
        "\n",
        "if __name__ == \"__main__\":\n",
        "    x = np.array([0.1, 1.1, 3.9, 0.3])\n",
        "    w = np.array([-0.2, 0.01, 0.3, 0.05])\n",
        "    print(f\"{round(np.dot(x.T, w), 2)}\")\n",
        "    output = perceptron(x, w)\n",
        "    print(f\"Object Class: {output}\")"
      ]
    }
  ]
}