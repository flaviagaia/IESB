{
 "cells": [
  {
   "cell_type": "markdown",
   "id": "774b2813",
   "metadata": {
    "papermill": {
     "duration": 0.030836,
     "end_time": "2021-09-02T01:01:37.052358",
     "exception": false,
     "start_time": "2021-09-02T01:01:37.021522",
     "status": "completed"
    },
    "tags": []
   },
   "source": [
    "# IESB - CIA035 - Aula 03 - Cross Validation e OOB"
   ]
  },
  {
   "cell_type": "code",
   "execution_count": 1,
   "id": "87fddc92",
   "metadata": {
    "_cell_guid": "b1076dfc-b9ad-4769-8c92-a6c4dae69d19",
    "_uuid": "8f2839f25d086af736a60e9eeb907d3b93b6e0e5",
    "execution": {
     "iopub.execute_input": "2021-09-02T01:01:37.114275Z",
     "iopub.status.busy": "2021-09-02T01:01:37.113040Z",
     "iopub.status.idle": "2021-09-02T01:01:37.134241Z",
     "shell.execute_reply": "2021-09-02T01:01:37.134862Z",
     "shell.execute_reply.started": "2021-09-01T23:00:53.078891Z"
    },
    "papermill": {
     "duration": 0.053664,
     "end_time": "2021-09-02T01:01:37.135171",
     "exception": false,
     "start_time": "2021-09-02T01:01:37.081507",
     "status": "completed"
    },
    "tags": []
   },
   "outputs": [
    {
     "name": "stdout",
     "output_type": "stream",
     "text": [
      "/kaggle/input/cardiovascular-disease-dataset/cardio_train.csv\n"
     ]
    }
   ],
   "source": [
    "# This Python 3 environment comes with many helpful analytics libraries installed\n",
    "# It is defined by the kaggle/python Docker image: https://github.com/kaggle/docker-python\n",
    "# For example, here's several helpful packages to load\n",
    "\n",
    "import numpy as np # linear algebra\n",
    "import pandas as pd # data processing, CSV file I/O (e.g. pd.read_csv)\n",
    "\n",
    "# Input data files are available in the read-only \"../input/\" directory\n",
    "# For example, running this (by clicking run or pressing Shift+Enter) will list all files under the input directory\n",
    "\n",
    "import os\n",
    "for dirname, _, filenames in os.walk('/kaggle/input'):\n",
    "    for filename in filenames:\n",
    "        print(os.path.join(dirname, filename))\n",
    "\n",
    "# You can write up to 5GB to the current directory (/kaggle/working/) that gets preserved as output when you create a version using \"Save & Run All\" \n",
    "# You can also write temporary files to /kaggle/temp/, but they won't be saved outside of the current session"
   ]
  },
  {
   "cell_type": "markdown",
   "id": "cec26ff2",
   "metadata": {
    "papermill": {
     "duration": 0.031253,
     "end_time": "2021-09-02T01:01:37.196111",
     "exception": false,
     "start_time": "2021-09-02T01:01:37.164858",
     "status": "completed"
    },
    "tags": []
   },
   "source": [
    "## Doenças cardiovasculares - Modelo de classificação binária"
   ]
  },
  {
   "cell_type": "code",
   "execution_count": 2,
   "id": "6b95e295",
   "metadata": {
    "execution": {
     "iopub.execute_input": "2021-09-02T01:01:37.262186Z",
     "iopub.status.busy": "2021-09-02T01:01:37.261395Z",
     "iopub.status.idle": "2021-09-02T01:01:37.485534Z",
     "shell.execute_reply": "2021-09-02T01:01:37.484993Z",
     "shell.execute_reply.started": "2021-09-01T23:02:38.631798Z"
    },
    "papermill": {
     "duration": 0.258485,
     "end_time": "2021-09-02T01:01:37.485688",
     "exception": false,
     "start_time": "2021-09-02T01:01:37.227203",
     "status": "completed"
    },
    "tags": []
   },
   "outputs": [
    {
     "data": {
      "text/plain": [
       "(70000, 13)"
      ]
     },
     "execution_count": 2,
     "metadata": {},
     "output_type": "execute_result"
    }
   ],
   "source": [
    "# Importando a base\n",
    "df_cardio = pd.read_csv('/kaggle/input/cardiovascular-disease-dataset/cardio_train.csv', sep=';')\n",
    "\n",
    "df_cardio.shape"
   ]
  },
  {
   "cell_type": "code",
   "execution_count": 3,
   "id": "40ac3cd2",
   "metadata": {
    "execution": {
     "iopub.execute_input": "2021-09-02T01:01:37.554381Z",
     "iopub.status.busy": "2021-09-02T01:01:37.553720Z",
     "iopub.status.idle": "2021-09-02T01:01:37.581463Z",
     "shell.execute_reply": "2021-09-02T01:01:37.580773Z",
     "shell.execute_reply.started": "2021-09-01T23:02:48.414069Z"
    },
    "papermill": {
     "duration": 0.066643,
     "end_time": "2021-09-02T01:01:37.581626",
     "exception": false,
     "start_time": "2021-09-02T01:01:37.514983",
     "status": "completed"
    },
    "tags": []
   },
   "outputs": [
    {
     "data": {
      "text/html": [
       "<div>\n",
       "<style scoped>\n",
       "    .dataframe tbody tr th:only-of-type {\n",
       "        vertical-align: middle;\n",
       "    }\n",
       "\n",
       "    .dataframe tbody tr th {\n",
       "        vertical-align: top;\n",
       "    }\n",
       "\n",
       "    .dataframe thead th {\n",
       "        text-align: right;\n",
       "    }\n",
       "</style>\n",
       "<table border=\"1\" class=\"dataframe\">\n",
       "  <thead>\n",
       "    <tr style=\"text-align: right;\">\n",
       "      <th></th>\n",
       "      <th>id</th>\n",
       "      <th>age</th>\n",
       "      <th>gender</th>\n",
       "      <th>height</th>\n",
       "      <th>weight</th>\n",
       "      <th>ap_hi</th>\n",
       "      <th>ap_lo</th>\n",
       "      <th>cholesterol</th>\n",
       "      <th>gluc</th>\n",
       "      <th>smoke</th>\n",
       "      <th>alco</th>\n",
       "      <th>active</th>\n",
       "      <th>cardio</th>\n",
       "    </tr>\n",
       "  </thead>\n",
       "  <tbody>\n",
       "    <tr>\n",
       "      <th>0</th>\n",
       "      <td>0</td>\n",
       "      <td>18393</td>\n",
       "      <td>2</td>\n",
       "      <td>168</td>\n",
       "      <td>62.0</td>\n",
       "      <td>110</td>\n",
       "      <td>80</td>\n",
       "      <td>1</td>\n",
       "      <td>1</td>\n",
       "      <td>0</td>\n",
       "      <td>0</td>\n",
       "      <td>1</td>\n",
       "      <td>0</td>\n",
       "    </tr>\n",
       "    <tr>\n",
       "      <th>1</th>\n",
       "      <td>1</td>\n",
       "      <td>20228</td>\n",
       "      <td>1</td>\n",
       "      <td>156</td>\n",
       "      <td>85.0</td>\n",
       "      <td>140</td>\n",
       "      <td>90</td>\n",
       "      <td>3</td>\n",
       "      <td>1</td>\n",
       "      <td>0</td>\n",
       "      <td>0</td>\n",
       "      <td>1</td>\n",
       "      <td>1</td>\n",
       "    </tr>\n",
       "    <tr>\n",
       "      <th>2</th>\n",
       "      <td>2</td>\n",
       "      <td>18857</td>\n",
       "      <td>1</td>\n",
       "      <td>165</td>\n",
       "      <td>64.0</td>\n",
       "      <td>130</td>\n",
       "      <td>70</td>\n",
       "      <td>3</td>\n",
       "      <td>1</td>\n",
       "      <td>0</td>\n",
       "      <td>0</td>\n",
       "      <td>0</td>\n",
       "      <td>1</td>\n",
       "    </tr>\n",
       "    <tr>\n",
       "      <th>3</th>\n",
       "      <td>3</td>\n",
       "      <td>17623</td>\n",
       "      <td>2</td>\n",
       "      <td>169</td>\n",
       "      <td>82.0</td>\n",
       "      <td>150</td>\n",
       "      <td>100</td>\n",
       "      <td>1</td>\n",
       "      <td>1</td>\n",
       "      <td>0</td>\n",
       "      <td>0</td>\n",
       "      <td>1</td>\n",
       "      <td>1</td>\n",
       "    </tr>\n",
       "    <tr>\n",
       "      <th>4</th>\n",
       "      <td>4</td>\n",
       "      <td>17474</td>\n",
       "      <td>1</td>\n",
       "      <td>156</td>\n",
       "      <td>56.0</td>\n",
       "      <td>100</td>\n",
       "      <td>60</td>\n",
       "      <td>1</td>\n",
       "      <td>1</td>\n",
       "      <td>0</td>\n",
       "      <td>0</td>\n",
       "      <td>0</td>\n",
       "      <td>0</td>\n",
       "    </tr>\n",
       "  </tbody>\n",
       "</table>\n",
       "</div>"
      ],
      "text/plain": [
       "   id    age  gender  height  weight  ap_hi  ap_lo  cholesterol  gluc  smoke  \\\n",
       "0   0  18393       2     168    62.0    110     80            1     1      0   \n",
       "1   1  20228       1     156    85.0    140     90            3     1      0   \n",
       "2   2  18857       1     165    64.0    130     70            3     1      0   \n",
       "3   3  17623       2     169    82.0    150    100            1     1      0   \n",
       "4   4  17474       1     156    56.0    100     60            1     1      0   \n",
       "\n",
       "   alco  active  cardio  \n",
       "0     0       1       0  \n",
       "1     0       1       1  \n",
       "2     0       0       1  \n",
       "3     0       1       1  \n",
       "4     0       0       0  "
      ]
     },
     "execution_count": 3,
     "metadata": {},
     "output_type": "execute_result"
    }
   ],
   "source": [
    "# Visualizando os dados\n",
    "df_cardio.head()"
   ]
  },
  {
   "cell_type": "code",
   "execution_count": 4,
   "id": "0d9d51be",
   "metadata": {
    "execution": {
     "iopub.execute_input": "2021-09-02T01:01:37.651753Z",
     "iopub.status.busy": "2021-09-02T01:01:37.651056Z",
     "iopub.status.idle": "2021-09-02T01:01:37.655236Z",
     "shell.execute_reply": "2021-09-02T01:01:37.654725Z",
     "shell.execute_reply.started": "2021-09-01T23:03:00.591237Z"
    },
    "papermill": {
     "duration": 0.043199,
     "end_time": "2021-09-02T01:01:37.655422",
     "exception": false,
     "start_time": "2021-09-02T01:01:37.612223",
     "status": "completed"
    },
    "tags": []
   },
   "outputs": [
    {
     "data": {
      "text/plain": [
       "55"
      ]
     },
     "execution_count": 4,
     "metadata": {},
     "output_type": "execute_result"
    }
   ],
   "source": [
    "# Altura minima\n",
    "df_cardio['height'].min()"
   ]
  },
  {
   "cell_type": "code",
   "execution_count": 5,
   "id": "e3d8e80a",
   "metadata": {
    "execution": {
     "iopub.execute_input": "2021-09-02T01:01:37.728822Z",
     "iopub.status.busy": "2021-09-02T01:01:37.727677Z",
     "iopub.status.idle": "2021-09-02T01:01:37.733292Z",
     "shell.execute_reply": "2021-09-02T01:01:37.732658Z",
     "shell.execute_reply.started": "2021-09-01T23:03:04.593164Z"
    },
    "papermill": {
     "duration": 0.047876,
     "end_time": "2021-09-02T01:01:37.733465",
     "exception": false,
     "start_time": "2021-09-02T01:01:37.685589",
     "status": "completed"
    },
    "tags": []
   },
   "outputs": [
    {
     "data": {
      "text/plain": [
       "250"
      ]
     },
     "execution_count": 5,
     "metadata": {},
     "output_type": "execute_result"
    }
   ],
   "source": [
    "# Altura maxima\n",
    "df_cardio['height'].max()"
   ]
  },
  {
   "cell_type": "code",
   "execution_count": 6,
   "id": "a6d714ee",
   "metadata": {
    "execution": {
     "iopub.execute_input": "2021-09-02T01:01:37.820893Z",
     "iopub.status.busy": "2021-09-02T01:01:37.820178Z",
     "iopub.status.idle": "2021-09-02T01:01:37.840817Z",
     "shell.execute_reply": "2021-09-02T01:01:37.841376Z",
     "shell.execute_reply.started": "2021-09-01T23:03:10.463518Z"
    },
    "papermill": {
     "duration": 0.068381,
     "end_time": "2021-09-02T01:01:37.841582",
     "exception": false,
     "start_time": "2021-09-02T01:01:37.773201",
     "status": "completed"
    },
    "tags": []
   },
   "outputs": [
    {
     "name": "stdout",
     "output_type": "stream",
     "text": [
      "<class 'pandas.core.frame.DataFrame'>\n",
      "RangeIndex: 70000 entries, 0 to 69999\n",
      "Data columns (total 13 columns):\n",
      " #   Column       Non-Null Count  Dtype  \n",
      "---  ------       --------------  -----  \n",
      " 0   id           70000 non-null  int64  \n",
      " 1   age          70000 non-null  int64  \n",
      " 2   gender       70000 non-null  int64  \n",
      " 3   height       70000 non-null  int64  \n",
      " 4   weight       70000 non-null  float64\n",
      " 5   ap_hi        70000 non-null  int64  \n",
      " 6   ap_lo        70000 non-null  int64  \n",
      " 7   cholesterol  70000 non-null  int64  \n",
      " 8   gluc         70000 non-null  int64  \n",
      " 9   smoke        70000 non-null  int64  \n",
      " 10  alco         70000 non-null  int64  \n",
      " 11  active       70000 non-null  int64  \n",
      " 12  cardio       70000 non-null  int64  \n",
      "dtypes: float64(1), int64(12)\n",
      "memory usage: 6.9 MB\n"
     ]
    }
   ],
   "source": [
    "# Tipos e tamanhos\n",
    "df_cardio.info()"
   ]
  },
  {
   "cell_type": "code",
   "execution_count": 7,
   "id": "add61681",
   "metadata": {
    "execution": {
     "iopub.execute_input": "2021-09-02T01:01:37.911612Z",
     "iopub.status.busy": "2021-09-02T01:01:37.910594Z",
     "iopub.status.idle": "2021-09-02T01:01:37.914905Z",
     "shell.execute_reply": "2021-09-02T01:01:37.914268Z",
     "shell.execute_reply.started": "2021-09-01T23:03:45.662658Z"
    },
    "papermill": {
     "duration": 0.042068,
     "end_time": "2021-09-02T01:01:37.915048",
     "exception": false,
     "start_time": "2021-09-02T01:01:37.872980",
     "status": "completed"
    },
    "tags": []
   },
   "outputs": [
    {
     "data": {
      "text/plain": [
       "['age',\n",
       " 'gender',\n",
       " 'height',\n",
       " 'weight',\n",
       " 'ap_hi',\n",
       " 'ap_lo',\n",
       " 'cholesterol',\n",
       " 'gluc',\n",
       " 'smoke',\n",
       " 'alco',\n",
       " 'active']"
      ]
     },
     "execution_count": 7,
     "metadata": {},
     "output_type": "execute_result"
    }
   ],
   "source": [
    "# Selecionando as colunas para treinamento\n",
    "feats = [c for c in df_cardio.columns if c not in ['id', 'cardio']]\n",
    "\n",
    "feats"
   ]
  },
  {
   "cell_type": "code",
   "execution_count": 8,
   "id": "9a17efc0",
   "metadata": {
    "execution": {
     "iopub.execute_input": "2021-09-02T01:01:37.982942Z",
     "iopub.status.busy": "2021-09-02T01:01:37.982243Z",
     "iopub.status.idle": "2021-09-02T01:01:39.006275Z",
     "shell.execute_reply": "2021-09-02T01:01:39.005696Z",
     "shell.execute_reply.started": "2021-09-01T23:05:07.053914Z"
    },
    "papermill": {
     "duration": 1.060438,
     "end_time": "2021-09-02T01:01:39.006423",
     "exception": false,
     "start_time": "2021-09-02T01:01:37.945985",
     "status": "completed"
    },
    "tags": []
   },
   "outputs": [
    {
     "data": {
      "text/plain": [
       "((56700, 13), (6300, 13), (7000, 13))"
      ]
     },
     "execution_count": 8,
     "metadata": {},
     "output_type": "execute_result"
    }
   ],
   "source": [
    "# Separando o dataframe\n",
    "from sklearn.model_selection import train_test_split\n",
    "\n",
    "train, test = train_test_split(df_cardio, random_state = 42, test_size=0.1)\n",
    "\n",
    "train, valid = train_test_split(train, random_state = 42, test_size=0.1)\n",
    "\n",
    "train.shape, valid.shape, test.shape"
   ]
  },
  {
   "cell_type": "code",
   "execution_count": 9,
   "id": "57b4c646",
   "metadata": {
    "execution": {
     "iopub.execute_input": "2021-09-02T01:01:39.075020Z",
     "iopub.status.busy": "2021-09-02T01:01:39.074327Z",
     "iopub.status.idle": "2021-09-02T01:01:45.835216Z",
     "shell.execute_reply": "2021-09-02T01:01:45.834558Z",
     "shell.execute_reply.started": "2021-09-01T23:07:01.782222Z"
    },
    "papermill": {
     "duration": 6.797377,
     "end_time": "2021-09-02T01:01:45.835361",
     "exception": false,
     "start_time": "2021-09-02T01:01:39.037984",
     "status": "completed"
    },
    "tags": []
   },
   "outputs": [
    {
     "data": {
      "text/plain": [
       "RandomForestClassifier(n_estimators=200, n_jobs=-1, random_state=42)"
      ]
     },
     "execution_count": 9,
     "metadata": {},
     "output_type": "execute_result"
    }
   ],
   "source": [
    "# Treinando um modelo de RF Classifier\n",
    "from sklearn.ensemble import RandomForestClassifier\n",
    "\n",
    "rf = RandomForestClassifier(n_estimators=200, n_jobs=-1, random_state=42)\n",
    "\n",
    "rf.fit(train[feats], train['cardio'])"
   ]
  },
  {
   "cell_type": "code",
   "execution_count": 10,
   "id": "ba4471df",
   "metadata": {
    "execution": {
     "iopub.execute_input": "2021-09-02T01:01:45.907637Z",
     "iopub.status.busy": "2021-09-02T01:01:45.906562Z",
     "iopub.status.idle": "2021-09-02T01:01:46.214707Z",
     "shell.execute_reply": "2021-09-02T01:01:46.215170Z",
     "shell.execute_reply.started": "2021-09-01T23:07:40.541808Z"
    },
    "papermill": {
     "duration": 0.348423,
     "end_time": "2021-09-02T01:01:46.215369",
     "exception": false,
     "start_time": "2021-09-02T01:01:45.866946",
     "status": "completed"
    },
    "tags": []
   },
   "outputs": [
    {
     "data": {
      "text/plain": [
       "array([1, 0, 0, ..., 1, 1, 0])"
      ]
     },
     "execution_count": 10,
     "metadata": {},
     "output_type": "execute_result"
    }
   ],
   "source": [
    "# Fazendo previsões com o modelo treinado na base de validação\n",
    "preds_val = rf.predict(valid[feats])\n",
    "\n",
    "preds_val"
   ]
  },
  {
   "cell_type": "code",
   "execution_count": 11,
   "id": "f73f7f68",
   "metadata": {
    "execution": {
     "iopub.execute_input": "2021-09-02T01:01:46.283607Z",
     "iopub.status.busy": "2021-09-02T01:01:46.282581Z",
     "iopub.status.idle": "2021-09-02T01:01:46.297991Z",
     "shell.execute_reply": "2021-09-02T01:01:46.298526Z",
     "shell.execute_reply.started": "2021-09-01T23:07:51.176447Z"
    },
    "papermill": {
     "duration": 0.05143,
     "end_time": "2021-09-02T01:01:46.298725",
     "exception": false,
     "start_time": "2021-09-02T01:01:46.247295",
     "status": "completed"
    },
    "tags": []
   },
   "outputs": [
    {
     "data": {
      "text/html": [
       "<div>\n",
       "<style scoped>\n",
       "    .dataframe tbody tr th:only-of-type {\n",
       "        vertical-align: middle;\n",
       "    }\n",
       "\n",
       "    .dataframe tbody tr th {\n",
       "        vertical-align: top;\n",
       "    }\n",
       "\n",
       "    .dataframe thead th {\n",
       "        text-align: right;\n",
       "    }\n",
       "</style>\n",
       "<table border=\"1\" class=\"dataframe\">\n",
       "  <thead>\n",
       "    <tr style=\"text-align: right;\">\n",
       "      <th></th>\n",
       "      <th>id</th>\n",
       "      <th>age</th>\n",
       "      <th>gender</th>\n",
       "      <th>height</th>\n",
       "      <th>weight</th>\n",
       "      <th>ap_hi</th>\n",
       "      <th>ap_lo</th>\n",
       "      <th>cholesterol</th>\n",
       "      <th>gluc</th>\n",
       "      <th>smoke</th>\n",
       "      <th>alco</th>\n",
       "      <th>active</th>\n",
       "      <th>cardio</th>\n",
       "    </tr>\n",
       "  </thead>\n",
       "  <tbody>\n",
       "    <tr>\n",
       "      <th>34622</th>\n",
       "      <td>49454</td>\n",
       "      <td>21960</td>\n",
       "      <td>2</td>\n",
       "      <td>175</td>\n",
       "      <td>86.0</td>\n",
       "      <td>140</td>\n",
       "      <td>90</td>\n",
       "      <td>3</td>\n",
       "      <td>1</td>\n",
       "      <td>1</td>\n",
       "      <td>1</td>\n",
       "      <td>0</td>\n",
       "      <td>0</td>\n",
       "    </tr>\n",
       "    <tr>\n",
       "      <th>59311</th>\n",
       "      <td>84688</td>\n",
       "      <td>18859</td>\n",
       "      <td>1</td>\n",
       "      <td>160</td>\n",
       "      <td>59.0</td>\n",
       "      <td>120</td>\n",
       "      <td>80</td>\n",
       "      <td>3</td>\n",
       "      <td>1</td>\n",
       "      <td>0</td>\n",
       "      <td>0</td>\n",
       "      <td>1</td>\n",
       "      <td>1</td>\n",
       "    </tr>\n",
       "    <tr>\n",
       "      <th>10918</th>\n",
       "      <td>15620</td>\n",
       "      <td>15463</td>\n",
       "      <td>2</td>\n",
       "      <td>174</td>\n",
       "      <td>69.0</td>\n",
       "      <td>120</td>\n",
       "      <td>80</td>\n",
       "      <td>1</td>\n",
       "      <td>1</td>\n",
       "      <td>0</td>\n",
       "      <td>0</td>\n",
       "      <td>1</td>\n",
       "      <td>0</td>\n",
       "    </tr>\n",
       "  </tbody>\n",
       "</table>\n",
       "</div>"
      ],
      "text/plain": [
       "          id    age  gender  height  weight  ap_hi  ap_lo  cholesterol  gluc  \\\n",
       "34622  49454  21960       2     175    86.0    140     90            3     1   \n",
       "59311  84688  18859       1     160    59.0    120     80            3     1   \n",
       "10918  15620  15463       2     174    69.0    120     80            1     1   \n",
       "\n",
       "       smoke  alco  active  cardio  \n",
       "34622      1     1       0       0  \n",
       "59311      0     0       1       1  \n",
       "10918      0     0       1       0  "
      ]
     },
     "execution_count": 11,
     "metadata": {},
     "output_type": "execute_result"
    }
   ],
   "source": [
    "# Visualizando os 3 primeiros registros da base de validação\n",
    "valid.head(3)"
   ]
  },
  {
   "cell_type": "code",
   "execution_count": 12,
   "id": "cc39cc39",
   "metadata": {
    "execution": {
     "iopub.execute_input": "2021-09-02T01:01:46.370463Z",
     "iopub.status.busy": "2021-09-02T01:01:46.369414Z",
     "iopub.status.idle": "2021-09-02T01:01:46.384679Z",
     "shell.execute_reply": "2021-09-02T01:01:46.385191Z",
     "shell.execute_reply.started": "2021-09-01T23:08:08.370177Z"
    },
    "papermill": {
     "duration": 0.051084,
     "end_time": "2021-09-02T01:01:46.385397",
     "exception": false,
     "start_time": "2021-09-02T01:01:46.334313",
     "status": "completed"
    },
    "tags": []
   },
   "outputs": [
    {
     "data": {
      "text/html": [
       "<div>\n",
       "<style scoped>\n",
       "    .dataframe tbody tr th:only-of-type {\n",
       "        vertical-align: middle;\n",
       "    }\n",
       "\n",
       "    .dataframe tbody tr th {\n",
       "        vertical-align: top;\n",
       "    }\n",
       "\n",
       "    .dataframe thead th {\n",
       "        text-align: right;\n",
       "    }\n",
       "</style>\n",
       "<table border=\"1\" class=\"dataframe\">\n",
       "  <thead>\n",
       "    <tr style=\"text-align: right;\">\n",
       "      <th></th>\n",
       "      <th>id</th>\n",
       "      <th>age</th>\n",
       "      <th>gender</th>\n",
       "      <th>height</th>\n",
       "      <th>weight</th>\n",
       "      <th>ap_hi</th>\n",
       "      <th>ap_lo</th>\n",
       "      <th>cholesterol</th>\n",
       "      <th>gluc</th>\n",
       "      <th>smoke</th>\n",
       "      <th>alco</th>\n",
       "      <th>active</th>\n",
       "      <th>cardio</th>\n",
       "    </tr>\n",
       "  </thead>\n",
       "  <tbody>\n",
       "    <tr>\n",
       "      <th>35717</th>\n",
       "      <td>51009</td>\n",
       "      <td>15991</td>\n",
       "      <td>1</td>\n",
       "      <td>163</td>\n",
       "      <td>80.0</td>\n",
       "      <td>140</td>\n",
       "      <td>90</td>\n",
       "      <td>1</td>\n",
       "      <td>1</td>\n",
       "      <td>1</td>\n",
       "      <td>0</td>\n",
       "      <td>1</td>\n",
       "      <td>1</td>\n",
       "    </tr>\n",
       "    <tr>\n",
       "      <th>64979</th>\n",
       "      <td>92744</td>\n",
       "      <td>19643</td>\n",
       "      <td>2</td>\n",
       "      <td>178</td>\n",
       "      <td>93.0</td>\n",
       "      <td>160</td>\n",
       "      <td>110</td>\n",
       "      <td>1</td>\n",
       "      <td>1</td>\n",
       "      <td>0</td>\n",
       "      <td>0</td>\n",
       "      <td>1</td>\n",
       "      <td>1</td>\n",
       "    </tr>\n",
       "    <tr>\n",
       "      <th>50094</th>\n",
       "      <td>71495</td>\n",
       "      <td>17703</td>\n",
       "      <td>2</td>\n",
       "      <td>164</td>\n",
       "      <td>61.0</td>\n",
       "      <td>110</td>\n",
       "      <td>70</td>\n",
       "      <td>1</td>\n",
       "      <td>1</td>\n",
       "      <td>0</td>\n",
       "      <td>0</td>\n",
       "      <td>1</td>\n",
       "      <td>0</td>\n",
       "    </tr>\n",
       "  </tbody>\n",
       "</table>\n",
       "</div>"
      ],
      "text/plain": [
       "          id    age  gender  height  weight  ap_hi  ap_lo  cholesterol  gluc  \\\n",
       "35717  51009  15991       1     163    80.0    140     90            1     1   \n",
       "64979  92744  19643       2     178    93.0    160    110            1     1   \n",
       "50094  71495  17703       2     164    61.0    110     70            1     1   \n",
       "\n",
       "       smoke  alco  active  cardio  \n",
       "35717      1     0       1       1  \n",
       "64979      0     0       1       1  \n",
       "50094      0     0       1       0  "
      ]
     },
     "execution_count": 12,
     "metadata": {},
     "output_type": "execute_result"
    }
   ],
   "source": [
    "# Visualizando os 3 últimos registros da base de validação\n",
    "valid.tail(3)"
   ]
  },
  {
   "cell_type": "code",
   "execution_count": 13,
   "id": "72e1caaf",
   "metadata": {
    "execution": {
     "iopub.execute_input": "2021-09-02T01:01:46.458582Z",
     "iopub.status.busy": "2021-09-02T01:01:46.457561Z",
     "iopub.status.idle": "2021-09-02T01:01:46.464927Z",
     "shell.execute_reply": "2021-09-02T01:01:46.465425Z",
     "shell.execute_reply.started": "2021-09-01T23:08:28.947263Z"
    },
    "papermill": {
     "duration": 0.043835,
     "end_time": "2021-09-02T01:01:46.465618",
     "exception": false,
     "start_time": "2021-09-02T01:01:46.421783",
     "status": "completed"
    },
    "tags": []
   },
   "outputs": [
    {
     "data": {
      "text/plain": [
       "0.7139682539682539"
      ]
     },
     "execution_count": 13,
     "metadata": {},
     "output_type": "execute_result"
    }
   ],
   "source": [
    "# Verificando o desempenho de acordo com a métrica - base de validação\n",
    "from sklearn.metrics import accuracy_score\n",
    "\n",
    "accuracy_score(valid['cardio'], preds_val)"
   ]
  },
  {
   "cell_type": "code",
   "execution_count": 14,
   "id": "9503e53f",
   "metadata": {
    "execution": {
     "iopub.execute_input": "2021-09-02T01:01:46.536227Z",
     "iopub.status.busy": "2021-09-02T01:01:46.535239Z",
     "iopub.status.idle": "2021-09-02T01:01:46.559949Z",
     "shell.execute_reply": "2021-09-02T01:01:46.559273Z",
     "shell.execute_reply.started": "2021-09-01T23:08:37.273242Z"
    },
    "papermill": {
     "duration": 0.060968,
     "end_time": "2021-09-02T01:01:46.560093",
     "exception": false,
     "start_time": "2021-09-02T01:01:46.499125",
     "status": "completed"
    },
    "tags": []
   },
   "outputs": [
    {
     "data": {
      "text/plain": [
       "1    0.505873\n",
       "0    0.494127\n",
       "Name: cardio, dtype: float64"
      ]
     },
     "execution_count": 14,
     "metadata": {},
     "output_type": "execute_result"
    }
   ],
   "source": [
    "# Vamos verificar qual o valor de base para a coluna target da base de validação\n",
    "valid['cardio'].value_counts(normalize=True)"
   ]
  },
  {
   "cell_type": "code",
   "execution_count": 15,
   "id": "674af27d",
   "metadata": {
    "execution": {
     "iopub.execute_input": "2021-09-02T01:01:46.636635Z",
     "iopub.status.busy": "2021-09-02T01:01:46.635860Z",
     "iopub.status.idle": "2021-09-02T01:01:46.945107Z",
     "shell.execute_reply": "2021-09-02T01:01:46.944533Z",
     "shell.execute_reply.started": "2021-09-01T23:09:08.507253Z"
    },
    "papermill": {
     "duration": 0.351238,
     "end_time": "2021-09-02T01:01:46.945252",
     "exception": false,
     "start_time": "2021-09-02T01:01:46.594014",
     "status": "completed"
    },
    "tags": []
   },
   "outputs": [
    {
     "data": {
      "text/plain": [
       "array([1, 1, 1, ..., 0, 0, 1])"
      ]
     },
     "execution_count": 15,
     "metadata": {},
     "output_type": "execute_result"
    }
   ],
   "source": [
    "# Fazendo previsões com o modelo treinado na base de teste\n",
    "preds_test = rf.predict(test[feats])\n",
    "\n",
    "preds_test"
   ]
  },
  {
   "cell_type": "code",
   "execution_count": 16,
   "id": "08f4bbfd",
   "metadata": {
    "execution": {
     "iopub.execute_input": "2021-09-02T01:01:47.017902Z",
     "iopub.status.busy": "2021-09-02T01:01:47.017187Z",
     "iopub.status.idle": "2021-09-02T01:01:47.023681Z",
     "shell.execute_reply": "2021-09-02T01:01:47.023120Z",
     "shell.execute_reply.started": "2021-09-01T23:09:14.880485Z"
    },
    "papermill": {
     "duration": 0.044791,
     "end_time": "2021-09-02T01:01:47.023827",
     "exception": false,
     "start_time": "2021-09-02T01:01:46.979036",
     "status": "completed"
    },
    "tags": []
   },
   "outputs": [
    {
     "data": {
      "text/plain": [
       "0.7207142857142858"
      ]
     },
     "execution_count": 16,
     "metadata": {},
     "output_type": "execute_result"
    }
   ],
   "source": [
    "# Verificando o desempenho de acordo com a métrica - base de teste\n",
    "accuracy_score(test['cardio'], preds_test)"
   ]
  },
  {
   "cell_type": "markdown",
   "id": "42f49382",
   "metadata": {
    "papermill": {
     "duration": 0.034386,
     "end_time": "2021-09-02T01:01:47.092292",
     "exception": false,
     "start_time": "2021-09-02T01:01:47.057906",
     "status": "completed"
    },
    "tags": []
   },
   "source": [
    "## Cross Validation\n",
    "Conjunto de técnicas que usam os próprios dados de treinamento para realizar a validação do modelo.\n",
    "\n",
    "Como o modelo deve ser validado com dados que não foram usados durante o treinamento, são aplicadas técnicas específicas para separar alguns dados de treino e com eles realizar a validação.\n",
    "\n",
    "A vantagem é não precisar dividir nossos dados de treino em conjuntos de treino e validação, já que a validação vai ser feita pelo Cross Validation. Isso é extremamente útil principalmente em conjunto de dados pequenos, onde a separação em treino e validação pode reduzir muito o tamanho do conjunto de dados de treinamento e com isso comprometer o desempenho do modelo.\n",
    "\n",
    "Um exemplo de técnica é o KFold, que divide os dados de treino em k iterações e para cada iteração uma amostra dos dados de treino é separada para fazer validação.\n",
    "\n",
    "\n",
    "![Cross](https://scikit-learn.org/stable/_images/grid_search_cross_validation.png)\n"
   ]
  },
  {
   "cell_type": "code",
   "execution_count": 17,
   "id": "fa9495a5",
   "metadata": {
    "execution": {
     "iopub.execute_input": "2021-09-02T01:01:47.168926Z",
     "iopub.status.busy": "2021-09-02T01:01:47.167077Z",
     "iopub.status.idle": "2021-09-02T01:01:47.184681Z",
     "shell.execute_reply": "2021-09-02T01:01:47.184103Z",
     "shell.execute_reply.started": "2021-09-01T23:19:22.575536Z"
    },
    "papermill": {
     "duration": 0.057362,
     "end_time": "2021-09-02T01:01:47.184839",
     "exception": false,
     "start_time": "2021-09-02T01:01:47.127477",
     "status": "completed"
    },
    "tags": []
   },
   "outputs": [
    {
     "data": {
      "text/plain": [
       "((63000, 13), (7000, 13))"
      ]
     },
     "execution_count": 17,
     "metadata": {},
     "output_type": "execute_result"
    }
   ],
   "source": [
    "# Dividindo novamente os dados apenas em treino e teste\n",
    "train, test = train_test_split(df_cardio, random_state = 42, test_size=0.1)\n",
    "\n",
    "train.shape, test.shape"
   ]
  },
  {
   "cell_type": "code",
   "execution_count": 18,
   "id": "296d4f20",
   "metadata": {
    "execution": {
     "iopub.execute_input": "2021-09-02T01:01:47.263154Z",
     "iopub.status.busy": "2021-09-02T01:01:47.262333Z",
     "iopub.status.idle": "2021-09-02T01:02:22.168135Z",
     "shell.execute_reply": "2021-09-02T01:02:22.168683Z",
     "shell.execute_reply.started": "2021-09-01T23:21:41.841390Z"
    },
    "papermill": {
     "duration": 34.949431,
     "end_time": "2021-09-02T01:02:22.168877",
     "exception": false,
     "start_time": "2021-09-02T01:01:47.219446",
     "status": "completed"
    },
    "tags": []
   },
   "outputs": [
    {
     "data": {
      "text/plain": [
       "array([0.71460317, 0.71611111, 0.71380952, 0.71587302, 0.71452381])"
      ]
     },
     "execution_count": 18,
     "metadata": {},
     "output_type": "execute_result"
    }
   ],
   "source": [
    "# Criando um modelo de RF Classifier e usando o Cross Validation\n",
    "rf = RandomForestClassifier(n_estimators=200, n_jobs=-1, random_state=42)\n",
    "\n",
    "from sklearn.model_selection import cross_val_score\n",
    "\n",
    "scores = cross_val_score(rf, train[feats], train['cardio'], cv=5, n_jobs=-1)\n",
    "\n",
    "scores"
   ]
  },
  {
   "cell_type": "code",
   "execution_count": 19,
   "id": "fcb4a0af",
   "metadata": {
    "execution": {
     "iopub.execute_input": "2021-09-02T01:02:22.244765Z",
     "iopub.status.busy": "2021-09-02T01:02:22.243743Z",
     "iopub.status.idle": "2021-09-02T01:02:22.248848Z",
     "shell.execute_reply": "2021-09-02T01:02:22.248274Z",
     "shell.execute_reply.started": "2021-09-01T23:24:18.077825Z"
    },
    "papermill": {
     "duration": 0.045464,
     "end_time": "2021-09-02T01:02:22.249024",
     "exception": false,
     "start_time": "2021-09-02T01:02:22.203560",
     "status": "completed"
    },
    "tags": []
   },
   "outputs": [
    {
     "data": {
      "text/plain": [
       "0.7149841269841269"
      ]
     },
     "execution_count": 19,
     "metadata": {},
     "output_type": "execute_result"
    }
   ],
   "source": [
    "# Média dos scores de validação\n",
    "scores.mean()"
   ]
  },
  {
   "cell_type": "code",
   "execution_count": 20,
   "id": "a3184bef",
   "metadata": {
    "execution": {
     "iopub.execute_input": "2021-09-02T01:02:22.329779Z",
     "iopub.status.busy": "2021-09-02T01:02:22.329080Z",
     "iopub.status.idle": "2021-09-02T01:02:36.554931Z",
     "shell.execute_reply": "2021-09-02T01:02:36.554299Z",
     "shell.execute_reply.started": "2021-09-01T23:32:25.464657Z"
    },
    "papermill": {
     "duration": 14.270624,
     "end_time": "2021-09-02T01:02:36.555090",
     "exception": false,
     "start_time": "2021-09-02T01:02:22.284466",
     "status": "completed"
    },
    "tags": []
   },
   "outputs": [
    {
     "data": {
      "text/plain": [
       "0.7332222222222222"
      ]
     },
     "execution_count": 20,
     "metadata": {},
     "output_type": "execute_result"
    }
   ],
   "source": [
    "# Criando um modelo de RF Classifier e usando o Cross Validation\n",
    "rf2 = RandomForestClassifier(n_estimators=200, n_jobs=-1, random_state=42, max_depth=8)\n",
    "\n",
    "scores2 = cross_val_score(rf2, train[feats], train['cardio'], cv=5, n_jobs=-1)\n",
    "\n",
    "# Médias dos scores de validação\n",
    "scores2.mean()"
   ]
  },
  {
   "cell_type": "code",
   "execution_count": 21,
   "id": "37aa1c42",
   "metadata": {
    "execution": {
     "iopub.execute_input": "2021-09-02T01:02:36.636015Z",
     "iopub.status.busy": "2021-09-02T01:02:36.634964Z",
     "iopub.status.idle": "2021-09-02T01:02:55.950460Z",
     "shell.execute_reply": "2021-09-02T01:02:55.950982Z",
     "shell.execute_reply.started": "2021-09-01T23:32:58.790489Z"
    },
    "papermill": {
     "duration": 19.360278,
     "end_time": "2021-09-02T01:02:55.951172",
     "exception": false,
     "start_time": "2021-09-02T01:02:36.590894",
     "status": "completed"
    },
    "tags": []
   },
   "outputs": [
    {
     "data": {
      "text/plain": [
       "0.735015873015873"
      ]
     },
     "execution_count": 21,
     "metadata": {},
     "output_type": "execute_result"
    }
   ],
   "source": [
    "# Criando um modelo de RF Classifier e usando o Cross Validation\n",
    "rf3 = RandomForestClassifier(n_estimators=200, n_jobs=-1, random_state=42, max_depth=12)\n",
    "\n",
    "scores3 = cross_val_score(rf3, train[feats], train['cardio'], cv=5, n_jobs=-1)\n",
    "\n",
    "# Médias dos scores de validação\n",
    "scores3.mean()"
   ]
  },
  {
   "cell_type": "code",
   "execution_count": 22,
   "id": "a935f941",
   "metadata": {
    "execution": {
     "iopub.execute_input": "2021-09-02T01:02:56.027036Z",
     "iopub.status.busy": "2021-09-02T01:02:56.026312Z",
     "iopub.status.idle": "2021-09-02T01:03:03.679818Z",
     "shell.execute_reply": "2021-09-02T01:03:03.680309Z",
     "shell.execute_reply.started": "2021-09-01T23:34:54.946730Z"
    },
    "papermill": {
     "duration": 7.693043,
     "end_time": "2021-09-02T01:03:03.680520",
     "exception": false,
     "start_time": "2021-09-02T01:02:55.987477",
     "status": "completed"
    },
    "tags": []
   },
   "outputs": [
    {
     "data": {
      "text/plain": [
       "0.72"
      ]
     },
     "execution_count": 22,
     "metadata": {},
     "output_type": "execute_result"
    }
   ],
   "source": [
    "# Treinamento e fazendo previsões\n",
    "rf.fit(train[feats], train['cardio'])\n",
    "\n",
    "preds_test = rf.predict(test[feats])\n",
    "\n",
    "accuracy_score(test['cardio'], preds_test)"
   ]
  },
  {
   "cell_type": "code",
   "execution_count": 23,
   "id": "b8a9d7c4",
   "metadata": {
    "execution": {
     "iopub.execute_input": "2021-09-02T01:03:03.757333Z",
     "iopub.status.busy": "2021-09-02T01:03:03.756615Z",
     "iopub.status.idle": "2021-09-02T01:03:07.302559Z",
     "shell.execute_reply": "2021-09-02T01:03:07.302009Z",
     "shell.execute_reply.started": "2021-09-01T23:35:27.146354Z"
    },
    "papermill": {
     "duration": 3.585687,
     "end_time": "2021-09-02T01:03:07.302713",
     "exception": false,
     "start_time": "2021-09-02T01:03:03.717026",
     "status": "completed"
    },
    "tags": []
   },
   "outputs": [
    {
     "data": {
      "text/plain": [
       "0.7431428571428571"
      ]
     },
     "execution_count": 23,
     "metadata": {},
     "output_type": "execute_result"
    }
   ],
   "source": [
    "# Treinamento e fazendo previsões RF2\n",
    "rf2.fit(train[feats], train['cardio'])\n",
    "\n",
    "preds_test = rf2.predict(test[feats])\n",
    "\n",
    "accuracy_score(test['cardio'], preds_test)"
   ]
  },
  {
   "cell_type": "code",
   "execution_count": 24,
   "id": "a77b67aa",
   "metadata": {
    "execution": {
     "iopub.execute_input": "2021-09-02T01:03:07.385379Z",
     "iopub.status.busy": "2021-09-02T01:03:07.384651Z",
     "iopub.status.idle": "2021-09-02T01:03:11.928261Z",
     "shell.execute_reply": "2021-09-02T01:03:11.927172Z",
     "shell.execute_reply.started": "2021-09-01T23:36:02.357027Z"
    },
    "papermill": {
     "duration": 4.58941,
     "end_time": "2021-09-02T01:03:11.928421",
     "exception": false,
     "start_time": "2021-09-02T01:03:07.339011",
     "status": "completed"
    },
    "tags": []
   },
   "outputs": [
    {
     "data": {
      "text/plain": [
       "0.7452857142857143"
      ]
     },
     "execution_count": 24,
     "metadata": {},
     "output_type": "execute_result"
    }
   ],
   "source": [
    "# Treinamento e fazendo previsões RF3\n",
    "rf3.fit(train[feats], train['cardio'])\n",
    "\n",
    "preds_test = rf3.predict(test[feats])\n",
    "\n",
    "accuracy_score(test['cardio'], preds_test)"
   ]
  },
  {
   "cell_type": "code",
   "execution_count": 25,
   "id": "db71fde8",
   "metadata": {
    "execution": {
     "iopub.execute_input": "2021-09-02T01:03:12.012618Z",
     "iopub.status.busy": "2021-09-02T01:03:12.011456Z",
     "iopub.status.idle": "2021-09-02T01:03:54.874047Z",
     "shell.execute_reply": "2021-09-02T01:03:54.874599Z",
     "shell.execute_reply.started": "2021-09-01T23:42:41.852806Z"
    },
    "papermill": {
     "duration": 42.909175,
     "end_time": "2021-09-02T01:03:54.874790",
     "exception": false,
     "start_time": "2021-09-02T01:03:11.965615",
     "status": "completed"
    },
    "tags": []
   },
   "outputs": [
    {
     "data": {
      "text/plain": [
       "0.7345238095238095"
      ]
     },
     "execution_count": 25,
     "metadata": {},
     "output_type": "execute_result"
    }
   ],
   "source": [
    "# Criando um modelo de RF Classifier e usando o Cross Validation com cv=10\n",
    "rf4 = RandomForestClassifier(n_estimators=200, n_jobs=-1, random_state=42, max_depth=12)\n",
    "\n",
    "scores4 = cross_val_score(rf4, train[feats], train['cardio'], cv=10, n_jobs=-1)\n",
    "\n",
    "# Médias dos scores de validação\n",
    "scores4.mean()"
   ]
  },
  {
   "cell_type": "code",
   "execution_count": 26,
   "id": "2ea3ee55",
   "metadata": {
    "execution": {
     "iopub.execute_input": "2021-09-02T01:03:54.960619Z",
     "iopub.status.busy": "2021-09-02T01:03:54.959886Z",
     "iopub.status.idle": "2021-09-02T01:03:59.503157Z",
     "shell.execute_reply": "2021-09-02T01:03:59.502120Z",
     "shell.execute_reply.started": "2021-09-01T23:44:02.252842Z"
    },
    "papermill": {
     "duration": 4.591251,
     "end_time": "2021-09-02T01:03:59.503315",
     "exception": false,
     "start_time": "2021-09-02T01:03:54.912064",
     "status": "completed"
    },
    "tags": []
   },
   "outputs": [
    {
     "data": {
      "text/plain": [
       "0.7452857142857143"
      ]
     },
     "execution_count": 26,
     "metadata": {},
     "output_type": "execute_result"
    }
   ],
   "source": [
    "# Treinamento e fazendo previsões RF4\n",
    "rf4.fit(train[feats], train['cardio'])\n",
    "\n",
    "preds_test = rf4.predict(test[feats])\n",
    "\n",
    "accuracy_score(test['cardio'], preds_test)"
   ]
  },
  {
   "cell_type": "markdown",
   "id": "dd8d463f",
   "metadata": {
    "papermill": {
     "duration": 0.037205,
     "end_time": "2021-09-02T01:03:59.579144",
     "exception": false,
     "start_time": "2021-09-02T01:03:59.541939",
     "status": "completed"
    },
    "tags": []
   },
   "source": [
    "## OOB - Out Of Bag\n",
    "Inicialmente precisamos lembrar como funciona o modelo de random forest: são criadas diversas árvores de decisão que recebem amostras dos dados originais. Essas amostras são criadas de forma aleatória, com repetição.\n",
    "\n",
    "![random](https://miro.medium.com/max/1050/1*ixvrbH45K8CcNZaj98JGuA.png)\n",
    "\n",
    "É fácil notar que, em cada árvore criada, alguns dados foram usados e outros não. Ou seja, para cada árvore, alguns dados entraram na cesta de dados de treinamento, enquanto outros ficaram fora da cesta de treinamento (out of bag).\n",
    "\n",
    "![oob](https://miro.medium.com/max/1043/1*_J-O7FJ99a3Zehb3eUlqcg.png)\n",
    "\n",
    "Para cada árvore existe uma parte do conjunto de dados que aquela árvore nunca viu, aqueles que ficaram fora da cesta de treinamento daquela árvore. Então, podemos usar esses dados nunca vistos pela árvore para fazer a validação da própria árvore, uma vez que precisamos de dados não usados no treinamento para realizarmos a validação.\n",
    "\n",
    "Para usar o conceito de OOB e determinar que o modelo deve ser validado com o dados que ele mesmo deixou de fora do treinamento de cada árvore, basta usar o parâmetro **oob_score = True** no momento de instanciar o modelo de Randon Forest.\n",
    "\n",
    "Mais uma vez, esse artifício é de grande valia para bases pequenas, pois não precisamos criar uma base de dados de validação, mas apenas usar para validação os dados que o próprio modelo descartou.\n"
   ]
  },
  {
   "cell_type": "code",
   "execution_count": 27,
   "id": "5973e5ec",
   "metadata": {
    "execution": {
     "iopub.execute_input": "2021-09-02T01:03:59.661892Z",
     "iopub.status.busy": "2021-09-02T01:03:59.659942Z",
     "iopub.status.idle": "2021-09-02T01:03:59.676379Z",
     "shell.execute_reply": "2021-09-02T01:03:59.675684Z",
     "shell.execute_reply.started": "2021-09-02T00:30:29.356310Z"
    },
    "papermill": {
     "duration": 0.059855,
     "end_time": "2021-09-02T01:03:59.676568",
     "exception": false,
     "start_time": "2021-09-02T01:03:59.616713",
     "status": "completed"
    },
    "tags": []
   },
   "outputs": [
    {
     "data": {
      "text/plain": [
       "((63000, 13), (7000, 13))"
      ]
     },
     "execution_count": 27,
     "metadata": {},
     "output_type": "execute_result"
    }
   ],
   "source": [
    "# Dividindo novamente os dados apenas em treino e teste\n",
    "train, test = train_test_split(df_cardio, random_state = 42, test_size=0.1)\n",
    "\n",
    "train.shape, test.shape"
   ]
  },
  {
   "cell_type": "code",
   "execution_count": 28,
   "id": "342384a6",
   "metadata": {
    "execution": {
     "iopub.execute_input": "2021-09-02T01:03:59.760599Z",
     "iopub.status.busy": "2021-09-02T01:03:59.759924Z",
     "iopub.status.idle": "2021-09-02T01:04:09.291343Z",
     "shell.execute_reply": "2021-09-02T01:04:09.290742Z",
     "shell.execute_reply.started": "2021-09-02T00:30:51.070468Z"
    },
    "papermill": {
     "duration": 9.574503,
     "end_time": "2021-09-02T01:04:09.291528",
     "exception": false,
     "start_time": "2021-09-02T01:03:59.717025",
     "status": "completed"
    },
    "tags": []
   },
   "outputs": [
    {
     "data": {
      "text/plain": [
       "RandomForestClassifier(n_estimators=200, n_jobs=-1, oob_score=True,\n",
       "                       random_state=42)"
      ]
     },
     "execution_count": 28,
     "metadata": {},
     "output_type": "execute_result"
    }
   ],
   "source": [
    "# Treinando um modelo de RF Classifier usando oob_score\n",
    "rf = RandomForestClassifier(n_estimators=200, n_jobs=-1, random_state=42, oob_score=True)\n",
    "\n",
    "rf.fit(train[feats], train['cardio'])"
   ]
  },
  {
   "cell_type": "code",
   "execution_count": 29,
   "id": "0e33ef46",
   "metadata": {
    "execution": {
     "iopub.execute_input": "2021-09-02T01:04:09.376302Z",
     "iopub.status.busy": "2021-09-02T01:04:09.375580Z",
     "iopub.status.idle": "2021-09-02T01:04:09.685985Z",
     "shell.execute_reply": "2021-09-02T01:04:09.685357Z",
     "shell.execute_reply.started": "2021-09-02T00:31:07.009741Z"
    },
    "papermill": {
     "duration": 0.356297,
     "end_time": "2021-09-02T01:04:09.686137",
     "exception": false,
     "start_time": "2021-09-02T01:04:09.329840",
     "status": "completed"
    },
    "tags": []
   },
   "outputs": [
    {
     "data": {
      "text/plain": [
       "0.72"
      ]
     },
     "execution_count": 29,
     "metadata": {},
     "output_type": "execute_result"
    }
   ],
   "source": [
    "# Fazendo previsões com o modelo treinado na base de teste\n",
    "preds_test = rf.predict(test[feats])\n",
    "\n",
    "accuracy_score(test['cardio'], preds_test)"
   ]
  },
  {
   "cell_type": "code",
   "execution_count": 30,
   "id": "98c3efb4",
   "metadata": {
    "execution": {
     "iopub.execute_input": "2021-09-02T01:04:09.775066Z",
     "iopub.status.busy": "2021-09-02T01:04:09.773799Z",
     "iopub.status.idle": "2021-09-02T01:04:15.570385Z",
     "shell.execute_reply": "2021-09-02T01:04:15.569801Z",
     "shell.execute_reply.started": "2021-09-02T00:33:37.656535Z"
    },
    "papermill": {
     "duration": 5.846194,
     "end_time": "2021-09-02T01:04:15.570600",
     "exception": false,
     "start_time": "2021-09-02T01:04:09.724406",
     "status": "completed"
    },
    "tags": []
   },
   "outputs": [
    {
     "data": {
      "text/plain": [
       "0.7452857142857143"
      ]
     },
     "execution_count": 30,
     "metadata": {},
     "output_type": "execute_result"
    }
   ],
   "source": [
    "# OOB Score e max_depth=12\n",
    "rf5 = RandomForestClassifier(n_estimators=200, n_jobs=-1, random_state=42, max_depth=12, oob_score=True)\n",
    "rf5.fit(train[feats], train['cardio'])\n",
    "\n",
    "# Fazendo previsões com o modelo treinado na base de teste\n",
    "preds_test = rf5.predict(test[feats])\n",
    "\n",
    "accuracy_score(test['cardio'], preds_test)"
   ]
  },
  {
   "cell_type": "markdown",
   "id": "7acc6739",
   "metadata": {
    "papermill": {
     "duration": 0.038584,
     "end_time": "2021-09-02T01:04:15.648260",
     "exception": false,
     "start_time": "2021-09-02T01:04:15.609676",
     "status": "completed"
    },
    "tags": []
   },
   "source": [
    "## Melhorando os parâmetros do modelo Random Forest"
   ]
  },
  {
   "cell_type": "code",
   "execution_count": 31,
   "id": "6ccf3d52",
   "metadata": {
    "execution": {
     "iopub.execute_input": "2021-09-02T01:04:15.742925Z",
     "iopub.status.busy": "2021-09-02T01:04:15.741647Z",
     "iopub.status.idle": "2021-09-02T01:04:21.254086Z",
     "shell.execute_reply": "2021-09-02T01:04:21.254618Z",
     "shell.execute_reply.started": "2021-09-02T00:53:58.113653Z"
    },
    "papermill": {
     "duration": 5.567906,
     "end_time": "2021-09-02T01:04:21.254856",
     "exception": false,
     "start_time": "2021-09-02T01:04:15.686950",
     "status": "completed"
    },
    "tags": []
   },
   "outputs": [
    {
     "data": {
      "text/plain": [
       "RandomForestClassifier(max_depth=12, min_samples_leaf=5, min_samples_split=20,\n",
       "                       n_estimators=200, n_jobs=-1, oob_score=True,\n",
       "                       random_state=42)"
      ]
     },
     "execution_count": 31,
     "metadata": {},
     "output_type": "execute_result"
    }
   ],
   "source": [
    "# Treinando um modelo de RF Classifier\n",
    "rf = RandomForestClassifier(n_estimators=200, n_jobs=-1, random_state=42, oob_score=True,\n",
    "                           min_samples_leaf=5, min_samples_split=20, max_depth=12)\n",
    "\n",
    "rf.fit(train[feats], train['cardio'])"
   ]
  },
  {
   "cell_type": "code",
   "execution_count": 32,
   "id": "df92f279",
   "metadata": {
    "execution": {
     "iopub.execute_input": "2021-09-02T01:04:21.338539Z",
     "iopub.status.busy": "2021-09-02T01:04:21.337776Z",
     "iopub.status.idle": "2021-09-02T01:04:21.552712Z",
     "shell.execute_reply": "2021-09-02T01:04:21.553176Z",
     "shell.execute_reply.started": "2021-09-02T00:54:05.004222Z"
    },
    "papermill": {
     "duration": 0.258411,
     "end_time": "2021-09-02T01:04:21.553368",
     "exception": false,
     "start_time": "2021-09-02T01:04:21.294957",
     "status": "completed"
    },
    "tags": []
   },
   "outputs": [
    {
     "data": {
      "text/plain": [
       "0.7457142857142857"
      ]
     },
     "execution_count": 32,
     "metadata": {},
     "output_type": "execute_result"
    }
   ],
   "source": [
    "# Fazendo previsões com o modelo treinado na base de teste\n",
    "preds_test = rf.predict(test[feats])\n",
    "\n",
    "accuracy_score(test['cardio'], preds_test)"
   ]
  }
 ],
 "metadata": {
  "kernelspec": {
   "display_name": "Python 3",
   "language": "python",
   "name": "python3"
  },
  "language_info": {
   "codemirror_mode": {
    "name": "ipython",
    "version": 3
   },
   "file_extension": ".py",
   "mimetype": "text/x-python",
   "name": "python",
   "nbconvert_exporter": "python",
   "pygments_lexer": "ipython3",
   "version": "3.7.10"
  },
  "papermill": {
   "default_parameters": {},
   "duration": 174.928733,
   "end_time": "2021-09-02T01:04:22.880984",
   "environment_variables": {},
   "exception": null,
   "input_path": "__notebook__.ipynb",
   "output_path": "__notebook__.ipynb",
   "parameters": {},
   "start_time": "2021-09-02T01:01:27.952251",
   "version": "2.3.3"
  }
 },
 "nbformat": 4,
 "nbformat_minor": 5
}
