{
 "cells": [
  {
   "cell_type": "code",
   "execution_count": 1,
   "metadata": {
    "_cell_guid": "b1076dfc-b9ad-4769-8c92-a6c4dae69d19",
    "_uuid": "8f2839f25d086af736a60e9eeb907d3b93b6e0e5",
    "execution": {
     "iopub.execute_input": "2020-09-10T12:25:11.082742Z",
     "iopub.status.busy": "2020-09-10T12:25:11.082011Z",
     "iopub.status.idle": "2020-09-10T12:25:11.087873Z",
     "shell.execute_reply": "2020-09-10T12:25:11.087276Z"
    },
    "papermill": {
     "duration": 0.02752,
     "end_time": "2020-09-10T12:25:11.087997",
     "exception": false,
     "start_time": "2020-09-10T12:25:11.060477",
     "status": "completed"
    },
    "tags": []
   },
   "outputs": [
    {
     "name": "stdout",
     "output_type": "stream",
     "text": [
      "/kaggle/input/brasilian-houses-to-rent/houses_to_rent.csv\n",
      "/kaggle/input/brasilian-houses-to-rent/houses_to_rent_v2.csv\n"
     ]
    }
   ],
   "source": [
    "# This Python 3 environment comes with many helpful analytics libraries installed\n",
    "# It is defined by the kaggle/python Docker image: https://github.com/kaggle/docker-python\n",
    "# For example, here's several helpful packages to load\n",
    "\n",
    "import numpy as np # linear algebra\n",
    "import pandas as pd # data processing, CSV file I/O (e.g. pd.read_csv)\n",
    "\n",
    "# Input data files are available in the read-only \"../input/\" directory\n",
    "# For example, running this (by clicking run or pressing Shift+Enter) will list all files under the input directory\n",
    "\n",
    "import os\n",
    "for dirname, _, filenames in os.walk('/kaggle/input'):\n",
    "    for filename in filenames:\n",
    "        print(os.path.join(dirname, filename))\n",
    "\n",
    "# You can write up to 5GB to the current directory (/kaggle/working/) that gets preserved as output when you create a version using \"Save & Run All\" \n",
    "# You can also write temporary files to /kaggle/temp/, but they won't be saved outside of the current session"
   ]
  },
  {
   "cell_type": "code",
   "execution_count": 2,
   "metadata": {
    "_cell_guid": "79c7e3d0-c299-4dcb-8224-4455121ee9b0",
    "_uuid": "d629ff2d2480ee46fbb7e2d37f6b5fab8052498a",
    "execution": {
     "iopub.execute_input": "2020-09-10T12:25:11.126311Z",
     "iopub.status.busy": "2020-09-10T12:25:11.125645Z",
     "iopub.status.idle": "2020-09-10T12:25:11.168930Z",
     "shell.execute_reply": "2020-09-10T12:25:11.168146Z"
    },
    "papermill": {
     "duration": 0.065428,
     "end_time": "2020-09-10T12:25:11.169049",
     "exception": false,
     "start_time": "2020-09-10T12:25:11.103621",
     "status": "completed"
    },
    "tags": []
   },
   "outputs": [
    {
     "data": {
      "text/plain": [
       "(10692, 13)"
      ]
     },
     "execution_count": 2,
     "metadata": {},
     "output_type": "execute_result"
    }
   ],
   "source": [
    "# Carregando os dados\n",
    "df = pd.read_csv('/kaggle/input/brasilian-houses-to-rent/houses_to_rent_v2.csv')\n",
    "\n",
    "df.shape"
   ]
  },
  {
   "cell_type": "code",
   "execution_count": 3,
   "metadata": {
    "execution": {
     "iopub.execute_input": "2020-09-10T12:25:11.203601Z",
     "iopub.status.busy": "2020-09-10T12:25:11.202543Z",
     "iopub.status.idle": "2020-09-10T12:25:11.234380Z",
     "shell.execute_reply": "2020-09-10T12:25:11.235421Z"
    },
    "papermill": {
     "duration": 0.0518,
     "end_time": "2020-09-10T12:25:11.235642",
     "exception": false,
     "start_time": "2020-09-10T12:25:11.183842",
     "status": "completed"
    },
    "tags": []
   },
   "outputs": [
    {
     "name": "stdout",
     "output_type": "stream",
     "text": [
      "<class 'pandas.core.frame.DataFrame'>\n",
      "RangeIndex: 10692 entries, 0 to 10691\n",
      "Data columns (total 13 columns):\n",
      " #   Column               Non-Null Count  Dtype \n",
      "---  ------               --------------  ----- \n",
      " 0   city                 10692 non-null  object\n",
      " 1   area                 10692 non-null  int64 \n",
      " 2   rooms                10692 non-null  int64 \n",
      " 3   bathroom             10692 non-null  int64 \n",
      " 4   parking spaces       10692 non-null  int64 \n",
      " 5   floor                10692 non-null  object\n",
      " 6   animal               10692 non-null  object\n",
      " 7   furniture            10692 non-null  object\n",
      " 8   hoa (R$)             10692 non-null  int64 \n",
      " 9   rent amount (R$)     10692 non-null  int64 \n",
      " 10  property tax (R$)    10692 non-null  int64 \n",
      " 11  fire insurance (R$)  10692 non-null  int64 \n",
      " 12  total (R$)           10692 non-null  int64 \n",
      "dtypes: int64(9), object(4)\n",
      "memory usage: 1.1+ MB\n"
     ]
    }
   ],
   "source": [
    "# Verificando os dados\n",
    "df.info()"
   ]
  },
  {
   "cell_type": "code",
   "execution_count": 4,
   "metadata": {
    "execution": {
     "iopub.execute_input": "2020-09-10T12:25:11.281891Z",
     "iopub.status.busy": "2020-09-10T12:25:11.281173Z",
     "iopub.status.idle": "2020-09-10T12:25:11.293045Z",
     "shell.execute_reply": "2020-09-10T12:25:11.293550Z"
    },
    "papermill": {
     "duration": 0.040403,
     "end_time": "2020-09-10T12:25:11.293705",
     "exception": false,
     "start_time": "2020-09-10T12:25:11.253302",
     "status": "completed"
    },
    "tags": []
   },
   "outputs": [
    {
     "data": {
      "text/html": [
       "<div>\n",
       "<style scoped>\n",
       "    .dataframe tbody tr th:only-of-type {\n",
       "        vertical-align: middle;\n",
       "    }\n",
       "\n",
       "    .dataframe tbody tr th {\n",
       "        vertical-align: top;\n",
       "    }\n",
       "\n",
       "    .dataframe thead th {\n",
       "        text-align: right;\n",
       "    }\n",
       "</style>\n",
       "<table border=\"1\" class=\"dataframe\">\n",
       "  <thead>\n",
       "    <tr style=\"text-align: right;\">\n",
       "      <th></th>\n",
       "      <th>city</th>\n",
       "      <th>area</th>\n",
       "      <th>rooms</th>\n",
       "      <th>bathroom</th>\n",
       "      <th>parking spaces</th>\n",
       "      <th>floor</th>\n",
       "      <th>animal</th>\n",
       "      <th>furniture</th>\n",
       "      <th>hoa (R$)</th>\n",
       "      <th>rent amount (R$)</th>\n",
       "      <th>property tax (R$)</th>\n",
       "      <th>fire insurance (R$)</th>\n",
       "      <th>total (R$)</th>\n",
       "    </tr>\n",
       "  </thead>\n",
       "  <tbody>\n",
       "    <tr>\n",
       "      <th>0</th>\n",
       "      <td>São Paulo</td>\n",
       "      <td>70</td>\n",
       "      <td>2</td>\n",
       "      <td>1</td>\n",
       "      <td>1</td>\n",
       "      <td>7</td>\n",
       "      <td>acept</td>\n",
       "      <td>furnished</td>\n",
       "      <td>2065</td>\n",
       "      <td>3300</td>\n",
       "      <td>211</td>\n",
       "      <td>42</td>\n",
       "      <td>5618</td>\n",
       "    </tr>\n",
       "    <tr>\n",
       "      <th>1</th>\n",
       "      <td>São Paulo</td>\n",
       "      <td>320</td>\n",
       "      <td>4</td>\n",
       "      <td>4</td>\n",
       "      <td>0</td>\n",
       "      <td>20</td>\n",
       "      <td>acept</td>\n",
       "      <td>not furnished</td>\n",
       "      <td>1200</td>\n",
       "      <td>4960</td>\n",
       "      <td>1750</td>\n",
       "      <td>63</td>\n",
       "      <td>7973</td>\n",
       "    </tr>\n",
       "    <tr>\n",
       "      <th>2</th>\n",
       "      <td>Porto Alegre</td>\n",
       "      <td>80</td>\n",
       "      <td>1</td>\n",
       "      <td>1</td>\n",
       "      <td>1</td>\n",
       "      <td>6</td>\n",
       "      <td>acept</td>\n",
       "      <td>not furnished</td>\n",
       "      <td>1000</td>\n",
       "      <td>2800</td>\n",
       "      <td>0</td>\n",
       "      <td>41</td>\n",
       "      <td>3841</td>\n",
       "    </tr>\n",
       "    <tr>\n",
       "      <th>3</th>\n",
       "      <td>Porto Alegre</td>\n",
       "      <td>51</td>\n",
       "      <td>2</td>\n",
       "      <td>1</td>\n",
       "      <td>0</td>\n",
       "      <td>2</td>\n",
       "      <td>acept</td>\n",
       "      <td>not furnished</td>\n",
       "      <td>270</td>\n",
       "      <td>1112</td>\n",
       "      <td>22</td>\n",
       "      <td>17</td>\n",
       "      <td>1421</td>\n",
       "    </tr>\n",
       "    <tr>\n",
       "      <th>4</th>\n",
       "      <td>São Paulo</td>\n",
       "      <td>25</td>\n",
       "      <td>1</td>\n",
       "      <td>1</td>\n",
       "      <td>0</td>\n",
       "      <td>1</td>\n",
       "      <td>not acept</td>\n",
       "      <td>not furnished</td>\n",
       "      <td>0</td>\n",
       "      <td>800</td>\n",
       "      <td>25</td>\n",
       "      <td>11</td>\n",
       "      <td>836</td>\n",
       "    </tr>\n",
       "  </tbody>\n",
       "</table>\n",
       "</div>"
      ],
      "text/plain": [
       "           city  area  rooms  bathroom  parking spaces floor     animal  \\\n",
       "0     São Paulo    70      2         1               1     7      acept   \n",
       "1     São Paulo   320      4         4               0    20      acept   \n",
       "2  Porto Alegre    80      1         1               1     6      acept   \n",
       "3  Porto Alegre    51      2         1               0     2      acept   \n",
       "4     São Paulo    25      1         1               0     1  not acept   \n",
       "\n",
       "       furniture  hoa (R$)  rent amount (R$)  property tax (R$)  \\\n",
       "0      furnished      2065              3300                211   \n",
       "1  not furnished      1200              4960               1750   \n",
       "2  not furnished      1000              2800                  0   \n",
       "3  not furnished       270              1112                 22   \n",
       "4  not furnished         0               800                 25   \n",
       "\n",
       "   fire insurance (R$)  total (R$)  \n",
       "0                   42        5618  \n",
       "1                   63        7973  \n",
       "2                   41        3841  \n",
       "3                   17        1421  \n",
       "4                   11         836  "
      ]
     },
     "execution_count": 4,
     "metadata": {},
     "output_type": "execute_result"
    }
   ],
   "source": [
    "# Olhando os dados\n",
    "df.head()"
   ]
  },
  {
   "cell_type": "code",
   "execution_count": 5,
   "metadata": {
    "execution": {
     "iopub.execute_input": "2020-09-10T12:25:11.337636Z",
     "iopub.status.busy": "2020-09-10T12:25:11.336905Z",
     "iopub.status.idle": "2020-09-10T12:25:11.342548Z",
     "shell.execute_reply": "2020-09-10T12:25:11.341830Z"
    },
    "papermill": {
     "duration": 0.031531,
     "end_time": "2020-09-10T12:25:11.342668",
     "exception": false,
     "start_time": "2020-09-10T12:25:11.311137",
     "status": "completed"
    },
    "tags": []
   },
   "outputs": [
    {
     "data": {
      "text/plain": [
       "São Paulo         5887\n",
       "Rio de Janeiro    1501\n",
       "Belo Horizonte    1258\n",
       "Porto Alegre      1193\n",
       "Campinas           853\n",
       "Name: city, dtype: int64"
      ]
     },
     "execution_count": 5,
     "metadata": {},
     "output_type": "execute_result"
    }
   ],
   "source": [
    "# Olhando a coluna city\n",
    "df['city'].value_counts()"
   ]
  },
  {
   "cell_type": "code",
   "execution_count": 6,
   "metadata": {
    "execution": {
     "iopub.execute_input": "2020-09-10T12:25:11.387893Z",
     "iopub.status.busy": "2020-09-10T12:25:11.384751Z",
     "iopub.status.idle": "2020-09-10T12:25:11.790711Z",
     "shell.execute_reply": "2020-09-10T12:25:11.791300Z"
    },
    "papermill": {
     "duration": 0.431696,
     "end_time": "2020-09-10T12:25:11.791457",
     "exception": false,
     "start_time": "2020-09-10T12:25:11.359761",
     "status": "completed"
    },
    "tags": []
   },
   "outputs": [
    {
     "data": {
      "text/plain": [
       "<matplotlib.axes._subplots.AxesSubplot at 0x7f22b082b750>"
      ]
     },
     "execution_count": 6,
     "metadata": {},
     "output_type": "execute_result"
    },
    {
     "data": {
      "image/png": "[encoded data removed]",
      "text/plain": [
       "<Figure size 432x288 with 1 Axes>"
      ]
     },
     "metadata": {
      "needs_background": "light"
     },
     "output_type": "display_data"
    }
   ],
   "source": [
    "# Verificando a distribuição do valor do aluguel por cidade\n",
    "df[df['city'] == 'São Paulo']['rent amount (R$)'].plot.hist(bins=50)"
   ]
  },
  {
   "cell_type": "code",
   "execution_count": 7,
   "metadata": {
    "execution": {
     "iopub.execute_input": "2020-09-10T12:25:11.830850Z",
     "iopub.status.busy": "2020-09-10T12:25:11.830184Z",
     "iopub.status.idle": "2020-09-10T12:25:11.859515Z",
     "shell.execute_reply": "2020-09-10T12:25:11.858892Z"
    },
    "papermill": {
     "duration": 0.050162,
     "end_time": "2020-09-10T12:25:11.859631",
     "exception": false,
     "start_time": "2020-09-10T12:25:11.809469",
     "status": "completed"
    },
    "tags": []
   },
   "outputs": [
    {
     "data": {
      "text/html": [
       "<div>\n",
       "<style scoped>\n",
       "    .dataframe tbody tr th:only-of-type {\n",
       "        vertical-align: middle;\n",
       "    }\n",
       "\n",
       "    .dataframe tbody tr th {\n",
       "        vertical-align: top;\n",
       "    }\n",
       "\n",
       "    .dataframe thead th {\n",
       "        text-align: right;\n",
       "    }\n",
       "</style>\n",
       "<table border=\"1\" class=\"dataframe\">\n",
       "  <thead>\n",
       "    <tr style=\"text-align: right;\">\n",
       "      <th></th>\n",
       "      <th>city</th>\n",
       "      <th>area</th>\n",
       "      <th>rooms</th>\n",
       "      <th>bathroom</th>\n",
       "      <th>parking spaces</th>\n",
       "      <th>floor</th>\n",
       "      <th>animal</th>\n",
       "      <th>furniture</th>\n",
       "      <th>hoa (R$)</th>\n",
       "      <th>rent amount (R$)</th>\n",
       "      <th>property tax (R$)</th>\n",
       "      <th>fire insurance (R$)</th>\n",
       "      <th>total (R$)</th>\n",
       "    </tr>\n",
       "  </thead>\n",
       "  <tbody>\n",
       "    <tr>\n",
       "      <th>2182</th>\n",
       "      <td>São Paulo</td>\n",
       "      <td>700</td>\n",
       "      <td>4</td>\n",
       "      <td>7</td>\n",
       "      <td>8</td>\n",
       "      <td>-</td>\n",
       "      <td>acept</td>\n",
       "      <td>not furnished</td>\n",
       "      <td>0</td>\n",
       "      <td>45000</td>\n",
       "      <td>8750</td>\n",
       "      <td>677</td>\n",
       "      <td>54430</td>\n",
       "    </tr>\n",
       "    <tr>\n",
       "      <th>7748</th>\n",
       "      <td>São Paulo</td>\n",
       "      <td>350</td>\n",
       "      <td>3</td>\n",
       "      <td>3</td>\n",
       "      <td>3</td>\n",
       "      <td>-</td>\n",
       "      <td>acept</td>\n",
       "      <td>not furnished</td>\n",
       "      <td>0</td>\n",
       "      <td>30000</td>\n",
       "      <td>560</td>\n",
       "      <td>451</td>\n",
       "      <td>31010</td>\n",
       "    </tr>\n",
       "    <tr>\n",
       "      <th>6947</th>\n",
       "      <td>São Paulo</td>\n",
       "      <td>486</td>\n",
       "      <td>8</td>\n",
       "      <td>4</td>\n",
       "      <td>6</td>\n",
       "      <td>-</td>\n",
       "      <td>acept</td>\n",
       "      <td>not furnished</td>\n",
       "      <td>0</td>\n",
       "      <td>25000</td>\n",
       "      <td>2200</td>\n",
       "      <td>376</td>\n",
       "      <td>27580</td>\n",
       "    </tr>\n",
       "    <tr>\n",
       "      <th>2619</th>\n",
       "      <td>São Paulo</td>\n",
       "      <td>80</td>\n",
       "      <td>2</td>\n",
       "      <td>1</td>\n",
       "      <td>1</td>\n",
       "      <td>1</td>\n",
       "      <td>acept</td>\n",
       "      <td>not furnished</td>\n",
       "      <td>875</td>\n",
       "      <td>24000</td>\n",
       "      <td>0</td>\n",
       "      <td>305</td>\n",
       "      <td>25180</td>\n",
       "    </tr>\n",
       "    <tr>\n",
       "      <th>157</th>\n",
       "      <td>São Paulo</td>\n",
       "      <td>660</td>\n",
       "      <td>4</td>\n",
       "      <td>5</td>\n",
       "      <td>5</td>\n",
       "      <td>12</td>\n",
       "      <td>acept</td>\n",
       "      <td>furnished</td>\n",
       "      <td>4800</td>\n",
       "      <td>20000</td>\n",
       "      <td>1750</td>\n",
       "      <td>254</td>\n",
       "      <td>26800</td>\n",
       "    </tr>\n",
       "    <tr>\n",
       "      <th>1253</th>\n",
       "      <td>São Paulo</td>\n",
       "      <td>315</td>\n",
       "      <td>3</td>\n",
       "      <td>5</td>\n",
       "      <td>2</td>\n",
       "      <td>14</td>\n",
       "      <td>not acept</td>\n",
       "      <td>not furnished</td>\n",
       "      <td>4300</td>\n",
       "      <td>20000</td>\n",
       "      <td>959</td>\n",
       "      <td>254</td>\n",
       "      <td>25510</td>\n",
       "    </tr>\n",
       "    <tr>\n",
       "      <th>1743</th>\n",
       "      <td>São Paulo</td>\n",
       "      <td>410</td>\n",
       "      <td>4</td>\n",
       "      <td>5</td>\n",
       "      <td>5</td>\n",
       "      <td>1</td>\n",
       "      <td>acept</td>\n",
       "      <td>not furnished</td>\n",
       "      <td>0</td>\n",
       "      <td>20000</td>\n",
       "      <td>0</td>\n",
       "      <td>254</td>\n",
       "      <td>20250</td>\n",
       "    </tr>\n",
       "    <tr>\n",
       "      <th>2859</th>\n",
       "      <td>São Paulo</td>\n",
       "      <td>285</td>\n",
       "      <td>4</td>\n",
       "      <td>5</td>\n",
       "      <td>4</td>\n",
       "      <td>6</td>\n",
       "      <td>acept</td>\n",
       "      <td>furnished</td>\n",
       "      <td>200000</td>\n",
       "      <td>20000</td>\n",
       "      <td>1834</td>\n",
       "      <td>254</td>\n",
       "      <td>222100</td>\n",
       "    </tr>\n",
       "    <tr>\n",
       "      <th>5525</th>\n",
       "      <td>São Paulo</td>\n",
       "      <td>900</td>\n",
       "      <td>3</td>\n",
       "      <td>4</td>\n",
       "      <td>8</td>\n",
       "      <td>-</td>\n",
       "      <td>acept</td>\n",
       "      <td>not furnished</td>\n",
       "      <td>0</td>\n",
       "      <td>20000</td>\n",
       "      <td>3813</td>\n",
       "      <td>301</td>\n",
       "      <td>24110</td>\n",
       "    </tr>\n",
       "    <tr>\n",
       "      <th>6185</th>\n",
       "      <td>São Paulo</td>\n",
       "      <td>455</td>\n",
       "      <td>4</td>\n",
       "      <td>5</td>\n",
       "      <td>4</td>\n",
       "      <td>5</td>\n",
       "      <td>acept</td>\n",
       "      <td>not furnished</td>\n",
       "      <td>8500</td>\n",
       "      <td>19500</td>\n",
       "      <td>3334</td>\n",
       "      <td>248</td>\n",
       "      <td>31580</td>\n",
       "    </tr>\n",
       "  </tbody>\n",
       "</table>\n",
       "</div>"
      ],
      "text/plain": [
       "           city  area  rooms  bathroom  parking spaces floor     animal  \\\n",
       "2182  São Paulo   700      4         7               8     -      acept   \n",
       "7748  São Paulo   350      3         3               3     -      acept   \n",
       "6947  São Paulo   486      8         4               6     -      acept   \n",
       "2619  São Paulo    80      2         1               1     1      acept   \n",
       "157   São Paulo   660      4         5               5    12      acept   \n",
       "1253  São Paulo   315      3         5               2    14  not acept   \n",
       "1743  São Paulo   410      4         5               5     1      acept   \n",
       "2859  São Paulo   285      4         5               4     6      acept   \n",
       "5525  São Paulo   900      3         4               8     -      acept   \n",
       "6185  São Paulo   455      4         5               4     5      acept   \n",
       "\n",
       "          furniture  hoa (R$)  rent amount (R$)  property tax (R$)  \\\n",
       "2182  not furnished         0             45000               8750   \n",
       "7748  not furnished         0             30000                560   \n",
       "6947  not furnished         0             25000               2200   \n",
       "2619  not furnished       875             24000                  0   \n",
       "157       furnished      4800             20000               1750   \n",
       "1253  not furnished      4300             20000                959   \n",
       "1743  not furnished         0             20000                  0   \n",
       "2859      furnished    200000             20000               1834   \n",
       "5525  not furnished         0             20000               3813   \n",
       "6185  not furnished      8500             19500               3334   \n",
       "\n",
       "      fire insurance (R$)  total (R$)  \n",
       "2182                  677       54430  \n",
       "7748                  451       31010  \n",
       "6947                  376       27580  \n",
       "2619                  305       25180  \n",
       "157                   254       26800  \n",
       "1253                  254       25510  \n",
       "1743                  254       20250  \n",
       "2859                  254      222100  \n",
       "5525                  301       24110  \n",
       "6185                  248       31580  "
      ]
     },
     "execution_count": 7,
     "metadata": {},
     "output_type": "execute_result"
    }
   ],
   "source": [
    "# Verificando os 10 maiores valores de aluguel em São Paulo\n",
    "df[df['city'] == 'São Paulo'].nlargest(10, 'rent amount (R$)')"
   ]
  },
  {
   "cell_type": "code",
   "execution_count": 8,
   "metadata": {
    "execution": {
     "iopub.execute_input": "2020-09-10T12:25:11.905240Z",
     "iopub.status.busy": "2020-09-10T12:25:11.904124Z",
     "iopub.status.idle": "2020-09-10T12:25:11.924431Z",
     "shell.execute_reply": "2020-09-10T12:25:11.923803Z"
    },
    "papermill": {
     "duration": 0.04627,
     "end_time": "2020-09-10T12:25:11.924551",
     "exception": false,
     "start_time": "2020-09-10T12:25:11.878281",
     "status": "completed"
    },
    "tags": []
   },
   "outputs": [
    {
     "data": {
      "text/html": [
       "<div>\n",
       "<style scoped>\n",
       "    .dataframe tbody tr th:only-of-type {\n",
       "        vertical-align: middle;\n",
       "    }\n",
       "\n",
       "    .dataframe tbody tr th {\n",
       "        vertical-align: top;\n",
       "    }\n",
       "\n",
       "    .dataframe thead th {\n",
       "        text-align: right;\n",
       "    }\n",
       "</style>\n",
       "<table border=\"1\" class=\"dataframe\">\n",
       "  <thead>\n",
       "    <tr style=\"text-align: right;\">\n",
       "      <th></th>\n",
       "      <th>city</th>\n",
       "      <th>area</th>\n",
       "      <th>rooms</th>\n",
       "      <th>bathroom</th>\n",
       "      <th>parking spaces</th>\n",
       "      <th>floor</th>\n",
       "      <th>animal</th>\n",
       "      <th>furniture</th>\n",
       "      <th>hoa (R$)</th>\n",
       "      <th>rent amount (R$)</th>\n",
       "      <th>property tax (R$)</th>\n",
       "      <th>fire insurance (R$)</th>\n",
       "      <th>total (R$)</th>\n",
       "    </tr>\n",
       "  </thead>\n",
       "  <tbody>\n",
       "    <tr>\n",
       "      <th>2521</th>\n",
       "      <td>Porto Alegre</td>\n",
       "      <td>318</td>\n",
       "      <td>4</td>\n",
       "      <td>3</td>\n",
       "      <td>0</td>\n",
       "      <td>-</td>\n",
       "      <td>acept</td>\n",
       "      <td>not furnished</td>\n",
       "      <td>0</td>\n",
       "      <td>19000</td>\n",
       "      <td>384</td>\n",
       "      <td>338</td>\n",
       "      <td>19720</td>\n",
       "    </tr>\n",
       "    <tr>\n",
       "      <th>816</th>\n",
       "      <td>Porto Alegre</td>\n",
       "      <td>367</td>\n",
       "      <td>3</td>\n",
       "      <td>4</td>\n",
       "      <td>4</td>\n",
       "      <td>8</td>\n",
       "      <td>not acept</td>\n",
       "      <td>not furnished</td>\n",
       "      <td>7000</td>\n",
       "      <td>15000</td>\n",
       "      <td>1032</td>\n",
       "      <td>220</td>\n",
       "      <td>23250</td>\n",
       "    </tr>\n",
       "    <tr>\n",
       "      <th>1893</th>\n",
       "      <td>Porto Alegre</td>\n",
       "      <td>540</td>\n",
       "      <td>6</td>\n",
       "      <td>8</td>\n",
       "      <td>3</td>\n",
       "      <td>-</td>\n",
       "      <td>acept</td>\n",
       "      <td>not furnished</td>\n",
       "      <td>0</td>\n",
       "      <td>15000</td>\n",
       "      <td>467</td>\n",
       "      <td>267</td>\n",
       "      <td>15730</td>\n",
       "    </tr>\n",
       "    <tr>\n",
       "      <th>2495</th>\n",
       "      <td>Porto Alegre</td>\n",
       "      <td>563</td>\n",
       "      <td>3</td>\n",
       "      <td>6</td>\n",
       "      <td>4</td>\n",
       "      <td>12</td>\n",
       "      <td>acept</td>\n",
       "      <td>not furnished</td>\n",
       "      <td>5200</td>\n",
       "      <td>15000</td>\n",
       "      <td>1250</td>\n",
       "      <td>220</td>\n",
       "      <td>21670</td>\n",
       "    </tr>\n",
       "    <tr>\n",
       "      <th>2901</th>\n",
       "      <td>Porto Alegre</td>\n",
       "      <td>425</td>\n",
       "      <td>4</td>\n",
       "      <td>4</td>\n",
       "      <td>0</td>\n",
       "      <td>-</td>\n",
       "      <td>acept</td>\n",
       "      <td>not furnished</td>\n",
       "      <td>0</td>\n",
       "      <td>15000</td>\n",
       "      <td>750</td>\n",
       "      <td>267</td>\n",
       "      <td>16020</td>\n",
       "    </tr>\n",
       "    <tr>\n",
       "      <th>6726</th>\n",
       "      <td>Porto Alegre</td>\n",
       "      <td>200</td>\n",
       "      <td>4</td>\n",
       "      <td>3</td>\n",
       "      <td>0</td>\n",
       "      <td>-</td>\n",
       "      <td>not acept</td>\n",
       "      <td>not furnished</td>\n",
       "      <td>0</td>\n",
       "      <td>15000</td>\n",
       "      <td>834</td>\n",
       "      <td>267</td>\n",
       "      <td>16100</td>\n",
       "    </tr>\n",
       "    <tr>\n",
       "      <th>10416</th>\n",
       "      <td>Porto Alegre</td>\n",
       "      <td>350</td>\n",
       "      <td>3</td>\n",
       "      <td>3</td>\n",
       "      <td>3</td>\n",
       "      <td>-</td>\n",
       "      <td>acept</td>\n",
       "      <td>not furnished</td>\n",
       "      <td>0</td>\n",
       "      <td>15000</td>\n",
       "      <td>667</td>\n",
       "      <td>267</td>\n",
       "      <td>15930</td>\n",
       "    </tr>\n",
       "    <tr>\n",
       "      <th>7605</th>\n",
       "      <td>Porto Alegre</td>\n",
       "      <td>233</td>\n",
       "      <td>4</td>\n",
       "      <td>6</td>\n",
       "      <td>4</td>\n",
       "      <td>-</td>\n",
       "      <td>acept</td>\n",
       "      <td>not furnished</td>\n",
       "      <td>0</td>\n",
       "      <td>14000</td>\n",
       "      <td>584</td>\n",
       "      <td>249</td>\n",
       "      <td>14830</td>\n",
       "    </tr>\n",
       "    <tr>\n",
       "      <th>8327</th>\n",
       "      <td>Porto Alegre</td>\n",
       "      <td>339</td>\n",
       "      <td>3</td>\n",
       "      <td>5</td>\n",
       "      <td>4</td>\n",
       "      <td>11</td>\n",
       "      <td>acept</td>\n",
       "      <td>furnished</td>\n",
       "      <td>3000</td>\n",
       "      <td>14000</td>\n",
       "      <td>834</td>\n",
       "      <td>205</td>\n",
       "      <td>18040</td>\n",
       "    </tr>\n",
       "    <tr>\n",
       "      <th>7169</th>\n",
       "      <td>Porto Alegre</td>\n",
       "      <td>650</td>\n",
       "      <td>4</td>\n",
       "      <td>6</td>\n",
       "      <td>5</td>\n",
       "      <td>-</td>\n",
       "      <td>acept</td>\n",
       "      <td>furnished</td>\n",
       "      <td>0</td>\n",
       "      <td>13800</td>\n",
       "      <td>650</td>\n",
       "      <td>246</td>\n",
       "      <td>14700</td>\n",
       "    </tr>\n",
       "  </tbody>\n",
       "</table>\n",
       "</div>"
      ],
      "text/plain": [
       "               city  area  rooms  bathroom  parking spaces floor     animal  \\\n",
       "2521   Porto Alegre   318      4         3               0     -      acept   \n",
       "816    Porto Alegre   367      3         4               4     8  not acept   \n",
       "1893   Porto Alegre   540      6         8               3     -      acept   \n",
       "2495   Porto Alegre   563      3         6               4    12      acept   \n",
       "2901   Porto Alegre   425      4         4               0     -      acept   \n",
       "6726   Porto Alegre   200      4         3               0     -  not acept   \n",
       "10416  Porto Alegre   350      3         3               3     -      acept   \n",
       "7605   Porto Alegre   233      4         6               4     -      acept   \n",
       "8327   Porto Alegre   339      3         5               4    11      acept   \n",
       "7169   Porto Alegre   650      4         6               5     -      acept   \n",
       "\n",
       "           furniture  hoa (R$)  rent amount (R$)  property tax (R$)  \\\n",
       "2521   not furnished         0             19000                384   \n",
       "816    not furnished      7000             15000               1032   \n",
       "1893   not furnished         0             15000                467   \n",
       "2495   not furnished      5200             15000               1250   \n",
       "2901   not furnished         0             15000                750   \n",
       "6726   not furnished         0             15000                834   \n",
       "10416  not furnished         0             15000                667   \n",
       "7605   not furnished         0             14000                584   \n",
       "8327       furnished      3000             14000                834   \n",
       "7169       furnished         0             13800                650   \n",
       "\n",
       "       fire insurance (R$)  total (R$)  \n",
       "2521                   338       19720  \n",
       "816                    220       23250  \n",
       "1893                   267       15730  \n",
       "2495                   220       21670  \n",
       "2901                   267       16020  \n",
       "6726                   267       16100  \n",
       "10416                  267       15930  \n",
       "7605                   249       14830  \n",
       "8327                   205       18040  \n",
       "7169                   246       14700  "
      ]
     },
     "execution_count": 8,
     "metadata": {},
     "output_type": "execute_result"
    }
   ],
   "source": [
    "# Verificando os 10 maiores valores de aluguel em Porto Alegre\n",
    "df[df['city'] == 'Porto Alegre'].nlargest(10, 'rent amount (R$)')"
   ]
  },
  {
   "cell_type": "code",
   "execution_count": 9,
   "metadata": {
    "execution": {
     "iopub.execute_input": "2020-09-10T12:25:11.974778Z",
     "iopub.status.busy": "2020-09-10T12:25:11.973712Z",
     "iopub.status.idle": "2020-09-10T12:25:11.993696Z",
     "shell.execute_reply": "2020-09-10T12:25:11.993068Z"
    },
    "papermill": {
     "duration": 0.047574,
     "end_time": "2020-09-10T12:25:11.993813",
     "exception": false,
     "start_time": "2020-09-10T12:25:11.946239",
     "status": "completed"
    },
    "tags": []
   },
   "outputs": [
    {
     "data": {
      "text/html": [
       "<div>\n",
       "<style scoped>\n",
       "    .dataframe tbody tr th:only-of-type {\n",
       "        vertical-align: middle;\n",
       "    }\n",
       "\n",
       "    .dataframe tbody tr th {\n",
       "        vertical-align: top;\n",
       "    }\n",
       "\n",
       "    .dataframe thead th {\n",
       "        text-align: right;\n",
       "    }\n",
       "</style>\n",
       "<table border=\"1\" class=\"dataframe\">\n",
       "  <thead>\n",
       "    <tr style=\"text-align: right;\">\n",
       "      <th></th>\n",
       "      <th>city</th>\n",
       "      <th>area</th>\n",
       "      <th>rooms</th>\n",
       "      <th>bathroom</th>\n",
       "      <th>parking spaces</th>\n",
       "      <th>floor</th>\n",
       "      <th>animal</th>\n",
       "      <th>furniture</th>\n",
       "      <th>hoa (R$)</th>\n",
       "      <th>rent amount (R$)</th>\n",
       "      <th>property tax (R$)</th>\n",
       "      <th>fire insurance (R$)</th>\n",
       "      <th>total (R$)</th>\n",
       "    </tr>\n",
       "  </thead>\n",
       "  <tbody>\n",
       "    <tr>\n",
       "      <th>369</th>\n",
       "      <td>Belo Horizonte</td>\n",
       "      <td>200</td>\n",
       "      <td>2</td>\n",
       "      <td>4</td>\n",
       "      <td>3</td>\n",
       "      <td>12</td>\n",
       "      <td>acept</td>\n",
       "      <td>not furnished</td>\n",
       "      <td>1897</td>\n",
       "      <td>15000</td>\n",
       "      <td>827</td>\n",
       "      <td>200</td>\n",
       "      <td>17920</td>\n",
       "    </tr>\n",
       "    <tr>\n",
       "      <th>408</th>\n",
       "      <td>Belo Horizonte</td>\n",
       "      <td>362</td>\n",
       "      <td>4</td>\n",
       "      <td>5</td>\n",
       "      <td>0</td>\n",
       "      <td>19</td>\n",
       "      <td>not acept</td>\n",
       "      <td>not furnished</td>\n",
       "      <td>4138</td>\n",
       "      <td>15000</td>\n",
       "      <td>1975</td>\n",
       "      <td>200</td>\n",
       "      <td>21310</td>\n",
       "    </tr>\n",
       "    <tr>\n",
       "      <th>534</th>\n",
       "      <td>Belo Horizonte</td>\n",
       "      <td>548</td>\n",
       "      <td>4</td>\n",
       "      <td>7</td>\n",
       "      <td>6</td>\n",
       "      <td>17</td>\n",
       "      <td>acept</td>\n",
       "      <td>not furnished</td>\n",
       "      <td>5905</td>\n",
       "      <td>15000</td>\n",
       "      <td>2484</td>\n",
       "      <td>200</td>\n",
       "      <td>23590</td>\n",
       "    </tr>\n",
       "    <tr>\n",
       "      <th>571</th>\n",
       "      <td>Belo Horizonte</td>\n",
       "      <td>220</td>\n",
       "      <td>4</td>\n",
       "      <td>3</td>\n",
       "      <td>0</td>\n",
       "      <td>9</td>\n",
       "      <td>acept</td>\n",
       "      <td>furnished</td>\n",
       "      <td>3000</td>\n",
       "      <td>15000</td>\n",
       "      <td>1138</td>\n",
       "      <td>200</td>\n",
       "      <td>19340</td>\n",
       "    </tr>\n",
       "    <tr>\n",
       "      <th>1099</th>\n",
       "      <td>Belo Horizonte</td>\n",
       "      <td>350</td>\n",
       "      <td>5</td>\n",
       "      <td>4</td>\n",
       "      <td>4</td>\n",
       "      <td>-</td>\n",
       "      <td>acept</td>\n",
       "      <td>not furnished</td>\n",
       "      <td>0</td>\n",
       "      <td>15000</td>\n",
       "      <td>1320</td>\n",
       "      <td>246</td>\n",
       "      <td>16570</td>\n",
       "    </tr>\n",
       "    <tr>\n",
       "      <th>1332</th>\n",
       "      <td>Belo Horizonte</td>\n",
       "      <td>200</td>\n",
       "      <td>4</td>\n",
       "      <td>3</td>\n",
       "      <td>0</td>\n",
       "      <td>-</td>\n",
       "      <td>acept</td>\n",
       "      <td>not furnished</td>\n",
       "      <td>0</td>\n",
       "      <td>15000</td>\n",
       "      <td>36</td>\n",
       "      <td>246</td>\n",
       "      <td>15280</td>\n",
       "    </tr>\n",
       "    <tr>\n",
       "      <th>1452</th>\n",
       "      <td>Belo Horizonte</td>\n",
       "      <td>500</td>\n",
       "      <td>7</td>\n",
       "      <td>6</td>\n",
       "      <td>3</td>\n",
       "      <td>-</td>\n",
       "      <td>acept</td>\n",
       "      <td>not furnished</td>\n",
       "      <td>0</td>\n",
       "      <td>15000</td>\n",
       "      <td>384</td>\n",
       "      <td>246</td>\n",
       "      <td>15630</td>\n",
       "    </tr>\n",
       "    <tr>\n",
       "      <th>1580</th>\n",
       "      <td>Belo Horizonte</td>\n",
       "      <td>312</td>\n",
       "      <td>4</td>\n",
       "      <td>5</td>\n",
       "      <td>4</td>\n",
       "      <td>15</td>\n",
       "      <td>acept</td>\n",
       "      <td>not furnished</td>\n",
       "      <td>3150</td>\n",
       "      <td>15000</td>\n",
       "      <td>1747</td>\n",
       "      <td>200</td>\n",
       "      <td>20100</td>\n",
       "    </tr>\n",
       "    <tr>\n",
       "      <th>1625</th>\n",
       "      <td>Belo Horizonte</td>\n",
       "      <td>260</td>\n",
       "      <td>4</td>\n",
       "      <td>5</td>\n",
       "      <td>4</td>\n",
       "      <td>5</td>\n",
       "      <td>acept</td>\n",
       "      <td>not furnished</td>\n",
       "      <td>2405</td>\n",
       "      <td>15000</td>\n",
       "      <td>153</td>\n",
       "      <td>200</td>\n",
       "      <td>17760</td>\n",
       "    </tr>\n",
       "    <tr>\n",
       "      <th>1719</th>\n",
       "      <td>Belo Horizonte</td>\n",
       "      <td>230</td>\n",
       "      <td>4</td>\n",
       "      <td>3</td>\n",
       "      <td>4</td>\n",
       "      <td>7</td>\n",
       "      <td>acept</td>\n",
       "      <td>furnished</td>\n",
       "      <td>3100</td>\n",
       "      <td>15000</td>\n",
       "      <td>1500</td>\n",
       "      <td>200</td>\n",
       "      <td>19800</td>\n",
       "    </tr>\n",
       "  </tbody>\n",
       "</table>\n",
       "</div>"
      ],
      "text/plain": [
       "                city  area  rooms  bathroom  parking spaces floor     animal  \\\n",
       "369   Belo Horizonte   200      2         4               3    12      acept   \n",
       "408   Belo Horizonte   362      4         5               0    19  not acept   \n",
       "534   Belo Horizonte   548      4         7               6    17      acept   \n",
       "571   Belo Horizonte   220      4         3               0     9      acept   \n",
       "1099  Belo Horizonte   350      5         4               4     -      acept   \n",
       "1332  Belo Horizonte   200      4         3               0     -      acept   \n",
       "1452  Belo Horizonte   500      7         6               3     -      acept   \n",
       "1580  Belo Horizonte   312      4         5               4    15      acept   \n",
       "1625  Belo Horizonte   260      4         5               4     5      acept   \n",
       "1719  Belo Horizonte   230      4         3               4     7      acept   \n",
       "\n",
       "          furniture  hoa (R$)  rent amount (R$)  property tax (R$)  \\\n",
       "369   not furnished      1897             15000                827   \n",
       "408   not furnished      4138             15000               1975   \n",
       "534   not furnished      5905             15000               2484   \n",
       "571       furnished      3000             15000               1138   \n",
       "1099  not furnished         0             15000               1320   \n",
       "1332  not furnished         0             15000                 36   \n",
       "1452  not furnished         0             15000                384   \n",
       "1580  not furnished      3150             15000               1747   \n",
       "1625  not furnished      2405             15000                153   \n",
       "1719      furnished      3100             15000               1500   \n",
       "\n",
       "      fire insurance (R$)  total (R$)  \n",
       "369                   200       17920  \n",
       "408                   200       21310  \n",
       "534                   200       23590  \n",
       "571                   200       19340  \n",
       "1099                  246       16570  \n",
       "1332                  246       15280  \n",
       "1452                  246       15630  \n",
       "1580                  200       20100  \n",
       "1625                  200       17760  \n",
       "1719                  200       19800  "
      ]
     },
     "execution_count": 9,
     "metadata": {},
     "output_type": "execute_result"
    }
   ],
   "source": [
    "# Verificando os 10 maiores valores de aluguel em Belo Horizonte\n",
    "df[df['city'] == 'Belo Horizonte'].nlargest(10, 'rent amount (R$)')"
   ]
  },
  {
   "cell_type": "code",
   "execution_count": 10,
   "metadata": {
    "execution": {
     "iopub.execute_input": "2020-09-10T12:25:12.043594Z",
     "iopub.status.busy": "2020-09-10T12:25:12.042803Z",
     "iopub.status.idle": "2020-09-10T12:25:12.047318Z",
     "shell.execute_reply": "2020-09-10T12:25:12.046661Z"
    },
    "papermill": {
     "duration": 0.032703,
     "end_time": "2020-09-10T12:25:12.047450",
     "exception": false,
     "start_time": "2020-09-10T12:25:12.014747",
     "status": "completed"
    },
    "tags": []
   },
   "outputs": [
    {
     "data": {
      "text/plain": [
       "3     3269\n",
       "2     2975\n",
       "1     2454\n",
       "4     1586\n",
       "5      288\n",
       "6       68\n",
       "7       36\n",
       "8       11\n",
       "10       3\n",
       "13       1\n",
       "9        1\n",
       "Name: rooms, dtype: int64"
      ]
     },
     "execution_count": 10,
     "metadata": {},
     "output_type": "execute_result"
    }
   ],
   "source": [
    "# Distribuição dos dados sobre quartos\n",
    "df['rooms'].value_counts()"
   ]
  },
  {
   "cell_type": "code",
   "execution_count": 11,
   "metadata": {
    "execution": {
     "iopub.execute_input": "2020-09-10T12:25:12.097435Z",
     "iopub.status.busy": "2020-09-10T12:25:12.096565Z",
     "iopub.status.idle": "2020-09-10T12:25:12.101117Z",
     "shell.execute_reply": "2020-09-10T12:25:12.100572Z"
    },
    "papermill": {
     "duration": 0.03262,
     "end_time": "2020-09-10T12:25:12.101242",
     "exception": false,
     "start_time": "2020-09-10T12:25:12.068622",
     "status": "completed"
    },
    "tags": []
   },
   "outputs": [
    {
     "data": {
      "text/plain": [
       "1     4301\n",
       "2     2910\n",
       "3     1474\n",
       "4     1111\n",
       "5      578\n",
       "6      215\n",
       "7       85\n",
       "8       11\n",
       "9        4\n",
       "10       3\n",
       "Name: bathroom, dtype: int64"
      ]
     },
     "execution_count": 11,
     "metadata": {},
     "output_type": "execute_result"
    }
   ],
   "source": [
    "# Distribuição dos dados sobre banheiros\n",
    "df['bathroom'].value_counts()"
   ]
  },
  {
   "cell_type": "code",
   "execution_count": 12,
   "metadata": {
    "execution": {
     "iopub.execute_input": "2020-09-10T12:25:12.151038Z",
     "iopub.status.busy": "2020-09-10T12:25:12.150346Z",
     "iopub.status.idle": "2020-09-10T12:25:12.153276Z",
     "shell.execute_reply": "2020-09-10T12:25:12.153810Z"
    },
    "papermill": {
     "duration": 0.03128,
     "end_time": "2020-09-10T12:25:12.153953",
     "exception": false,
     "start_time": "2020-09-10T12:25:12.122673",
     "status": "completed"
    },
    "tags": []
   },
   "outputs": [
    {
     "data": {
      "text/plain": [
       "1     3630\n",
       "0     2683\n",
       "2     2070\n",
       "3      968\n",
       "4      789\n",
       "5      230\n",
       "6      163\n",
       "8      123\n",
       "7       33\n",
       "10       2\n",
       "12       1\n",
       "Name: parking spaces, dtype: int64"
      ]
     },
     "execution_count": 12,
     "metadata": {},
     "output_type": "execute_result"
    }
   ],
   "source": [
    "# Distribuição dos dados sobre garagem\n",
    "df['parking spaces'].value_counts()"
   ]
  },
  {
   "cell_type": "code",
   "execution_count": 13,
   "metadata": {
    "execution": {
     "iopub.execute_input": "2020-09-10T12:25:12.201853Z",
     "iopub.status.busy": "2020-09-10T12:25:12.201066Z",
     "iopub.status.idle": "2020-09-10T12:25:12.238562Z",
     "shell.execute_reply": "2020-09-10T12:25:12.237961Z"
    },
    "papermill": {
     "duration": 0.061845,
     "end_time": "2020-09-10T12:25:12.238671",
     "exception": false,
     "start_time": "2020-09-10T12:25:12.176826",
     "status": "completed"
    },
    "tags": []
   },
   "outputs": [
    {
     "data": {
      "text/html": [
       "<div>\n",
       "<style scoped>\n",
       "    .dataframe tbody tr th:only-of-type {\n",
       "        vertical-align: middle;\n",
       "    }\n",
       "\n",
       "    .dataframe tbody tr th {\n",
       "        vertical-align: top;\n",
       "    }\n",
       "\n",
       "    .dataframe thead th {\n",
       "        text-align: right;\n",
       "    }\n",
       "</style>\n",
       "<table border=\"1\" class=\"dataframe\">\n",
       "  <thead>\n",
       "    <tr style=\"text-align: right;\">\n",
       "      <th></th>\n",
       "      <th>city</th>\n",
       "      <th>area</th>\n",
       "      <th>rooms</th>\n",
       "      <th>bathroom</th>\n",
       "      <th>parking spaces</th>\n",
       "      <th>floor</th>\n",
       "      <th>animal</th>\n",
       "      <th>furniture</th>\n",
       "      <th>hoa (R$)</th>\n",
       "      <th>rent amount (R$)</th>\n",
       "      <th>property tax (R$)</th>\n",
       "      <th>fire insurance (R$)</th>\n",
       "      <th>total (R$)</th>\n",
       "    </tr>\n",
       "  </thead>\n",
       "  <tbody>\n",
       "    <tr>\n",
       "      <th>7835</th>\n",
       "      <td>Rio de Janeiro</td>\n",
       "      <td>439</td>\n",
       "      <td>13</td>\n",
       "      <td>4</td>\n",
       "      <td>3</td>\n",
       "      <td>-</td>\n",
       "      <td>acept</td>\n",
       "      <td>not furnished</td>\n",
       "      <td>0</td>\n",
       "      <td>15000</td>\n",
       "      <td>667</td>\n",
       "      <td>229</td>\n",
       "      <td>15900</td>\n",
       "    </tr>\n",
       "  </tbody>\n",
       "</table>\n",
       "</div>"
      ],
      "text/plain": [
       "                city  area  rooms  bathroom  parking spaces floor animal  \\\n",
       "7835  Rio de Janeiro   439     13         4               3     -  acept   \n",
       "\n",
       "          furniture  hoa (R$)  rent amount (R$)  property tax (R$)  \\\n",
       "7835  not furnished         0             15000                667   \n",
       "\n",
       "      fire insurance (R$)  total (R$)  \n",
       "7835                  229       15900  "
      ]
     },
     "execution_count": 13,
     "metadata": {},
     "output_type": "execute_result"
    }
   ],
   "source": [
    "# Verificando o imovel com 13 quartos\n",
    "df[df['rooms'] == 13]"
   ]
  },
  {
   "cell_type": "code",
   "execution_count": 14,
   "metadata": {
    "execution": {
     "iopub.execute_input": "2020-09-10T12:25:12.288818Z",
     "iopub.status.busy": "2020-09-10T12:25:12.288178Z",
     "iopub.status.idle": "2020-09-10T12:25:13.959295Z",
     "shell.execute_reply": "2020-09-10T12:25:13.958668Z"
    },
    "papermill": {
     "duration": 1.698319,
     "end_time": "2020-09-10T12:25:13.959431",
     "exception": false,
     "start_time": "2020-09-10T12:25:12.261112",
     "status": "completed"
    },
    "tags": []
   },
   "outputs": [
    {
     "data": {
      "text/plain": [
       "<matplotlib.axes._subplots.AxesSubplot at 0x7f22a8214b90>"
      ]
     },
     "execution_count": 14,
     "metadata": {},
     "output_type": "execute_result"
    },
    {
     "data": {
      "image/png": "[encoded data removed]",
      "text/plain": [
       "<Figure size 432x288 with 2 Axes>"
      ]
     },
     "metadata": {
      "needs_background": "light"
     },
     "output_type": "display_data"
    }
   ],
   "source": [
    "# Olhando a correlação das variáveis\n",
    "import seaborn as sns\n",
    "\n",
    "sns.heatmap(df.corr(), annot=True)"
   ]
  },
  {
   "cell_type": "code",
   "execution_count": 15,
   "metadata": {
    "execution": {
     "iopub.execute_input": "2020-09-10T12:25:14.027052Z",
     "iopub.status.busy": "2020-09-10T12:25:14.025663Z",
     "iopub.status.idle": "2020-09-10T12:25:14.082813Z",
     "shell.execute_reply": "2020-09-10T12:25:14.082194Z"
    },
    "papermill": {
     "duration": 0.095641,
     "end_time": "2020-09-10T12:25:14.082929",
     "exception": false,
     "start_time": "2020-09-10T12:25:13.987288",
     "status": "completed"
    },
    "tags": []
   },
   "outputs": [],
   "source": [
    "# Tratamento de dados\n",
    "\n",
    "# Convertendo a coluna floor\n",
    "df[df['floor'] == '-'] = '0'\n",
    "df['floor'] = df['floor'].astype(int)\n",
    "\n",
    "# Convertendo as colunas categóricas\n",
    "for col in df.columns:\n",
    "    if df[col].dtype == 'object':\n",
    "        df[col] = df[col].astype('category').cat.codes"
   ]
  },
  {
   "cell_type": "code",
   "execution_count": 16,
   "metadata": {
    "execution": {
     "iopub.execute_input": "2020-09-10T12:25:14.139310Z",
     "iopub.status.busy": "2020-09-10T12:25:14.138593Z",
     "iopub.status.idle": "2020-09-10T12:25:14.154805Z",
     "shell.execute_reply": "2020-09-10T12:25:14.155748Z"
    },
    "papermill": {
     "duration": 0.04799,
     "end_time": "2020-09-10T12:25:14.156001",
     "exception": false,
     "start_time": "2020-09-10T12:25:14.108011",
     "status": "completed"
    },
    "tags": []
   },
   "outputs": [
    {
     "name": "stdout",
     "output_type": "stream",
     "text": [
      "<class 'pandas.core.frame.DataFrame'>\n",
      "RangeIndex: 10692 entries, 0 to 10691\n",
      "Data columns (total 13 columns):\n",
      " #   Column               Non-Null Count  Dtype\n",
      "---  ------               --------------  -----\n",
      " 0   city                 10692 non-null  int8 \n",
      " 1   area                 10692 non-null  int16\n",
      " 2   rooms                10692 non-null  int8 \n",
      " 3   bathroom             10692 non-null  int8 \n",
      " 4   parking spaces       10692 non-null  int8 \n",
      " 5   floor                10692 non-null  int64\n",
      " 6   animal               10692 non-null  int8 \n",
      " 7   furniture            10692 non-null  int8 \n",
      " 8   hoa (R$)             10692 non-null  int16\n",
      " 9   rent amount (R$)     10692 non-null  int16\n",
      " 10  property tax (R$)    10692 non-null  int16\n",
      " 11  fire insurance (R$)  10692 non-null  int16\n",
      " 12  total (R$)           10692 non-null  int16\n",
      "dtypes: int16(6), int64(1), int8(6)\n",
      "memory usage: 271.6 KB\n"
     ]
    }
   ],
   "source": [
    "df.info()"
   ]
  },
  {
   "cell_type": "code",
   "execution_count": 17,
   "metadata": {
    "execution": {
     "iopub.execute_input": "2020-09-10T12:25:14.215324Z",
     "iopub.status.busy": "2020-09-10T12:25:14.214315Z",
     "iopub.status.idle": "2020-09-10T12:25:14.654489Z",
     "shell.execute_reply": "2020-09-10T12:25:14.653022Z"
    },
    "papermill": {
     "duration": 0.469174,
     "end_time": "2020-09-10T12:25:14.654678",
     "exception": false,
     "start_time": "2020-09-10T12:25:14.185504",
     "status": "completed"
    },
    "tags": []
   },
   "outputs": [],
   "source": [
    "# Importando as bibliotecas\n",
    "from sklearn.ensemble import RandomForestRegressor\n",
    "from sklearn.model_selection import train_test_split\n",
    "from sklearn.metrics import mean_squared_error"
   ]
  },
  {
   "cell_type": "code",
   "execution_count": 18,
   "metadata": {
    "execution": {
     "iopub.execute_input": "2020-09-10T12:25:14.726680Z",
     "iopub.status.busy": "2020-09-10T12:25:14.725599Z",
     "iopub.status.idle": "2020-09-10T12:25:14.734671Z",
     "shell.execute_reply": "2020-09-10T12:25:14.733974Z"
    },
    "papermill": {
     "duration": 0.048937,
     "end_time": "2020-09-10T12:25:14.734784",
     "exception": false,
     "start_time": "2020-09-10T12:25:14.685847",
     "status": "completed"
    },
    "tags": []
   },
   "outputs": [
    {
     "data": {
      "text/plain": [
       "((8019, 13), (2673, 13))"
      ]
     },
     "execution_count": 18,
     "metadata": {},
     "output_type": "execute_result"
    }
   ],
   "source": [
    "# Divisão dos dados\n",
    "train, test = train_test_split(df)\n",
    "\n",
    "train.shape, test.shape"
   ]
  },
  {
   "cell_type": "code",
   "execution_count": 19,
   "metadata": {
    "execution": {
     "iopub.execute_input": "2020-09-10T12:25:14.798993Z",
     "iopub.status.busy": "2020-09-10T12:25:14.797936Z",
     "iopub.status.idle": "2020-09-10T12:25:21.292916Z",
     "shell.execute_reply": "2020-09-10T12:25:21.293500Z"
    },
    "papermill": {
     "duration": 6.532998,
     "end_time": "2020-09-10T12:25:21.293652",
     "exception": false,
     "start_time": "2020-09-10T12:25:14.760654",
     "status": "completed"
    },
    "tags": []
   },
   "outputs": [
    {
     "data": {
      "text/plain": [
       "2264.388046558175"
      ]
     },
     "execution_count": 19,
     "metadata": {},
     "output_type": "execute_result"
    }
   ],
   "source": [
    "# Usando Random Forest\n",
    "# Sem remover a coluna Rent Amount\n",
    "\n",
    "# Features\n",
    "feats = [col for col in df.columns if col not in ['total (R$)']]\n",
    "\n",
    "# Instanciar o modelo\n",
    "rf1 = RandomForestRegressor(random_state=42, n_estimators=200, oob_score=True)\n",
    "\n",
    "# Treinar o modelo\n",
    "rf1.fit(train[feats], train['total (R$)'])\n",
    "\n",
    "# Previsões usando o modelo\n",
    "preds1 = rf1.predict(test[feats])\n",
    "\n",
    "# Avaliar o desempenho\n",
    "mean_squared_error(test['total (R$)'], preds1)"
   ]
  },
  {
   "cell_type": "code",
   "execution_count": 20,
   "metadata": {
    "execution": {
     "iopub.execute_input": "2020-09-10T12:25:21.358840Z",
     "iopub.status.busy": "2020-09-10T12:25:21.357755Z",
     "iopub.status.idle": "2020-09-10T12:25:27.282028Z",
     "shell.execute_reply": "2020-09-10T12:25:27.281504Z"
    },
    "papermill": {
     "duration": 5.961658,
     "end_time": "2020-09-10T12:25:27.282177",
     "exception": false,
     "start_time": "2020-09-10T12:25:21.320519",
     "status": "completed"
    },
    "tags": []
   },
   "outputs": [
    {
     "data": {
      "text/plain": [
       "11986.761581902389"
      ]
     },
     "execution_count": 20,
     "metadata": {},
     "output_type": "execute_result"
    }
   ],
   "source": [
    "# Usando Random Forest\n",
    "# Removendo a coluna Rent Amount\n",
    "\n",
    "# Features\n",
    "feats = [col for col in df.columns if col not in ['rent amount (R$)', 'total (R$)']]\n",
    "\n",
    "# Instanciar o modelo\n",
    "rf2 = RandomForestRegressor(random_state=42, n_estimators=200, oob_score=True)\n",
    "\n",
    "# Treinar o modelo\n",
    "rf2.fit(train[feats], train['total (R$)'])\n",
    "\n",
    "# Previsões usando o modelo\n",
    "preds2 = rf2.predict(test[feats])\n",
    "\n",
    "# Avaliar o desempenho\n",
    "mean_squared_error(test['total (R$)'], preds2)"
   ]
  },
  {
   "cell_type": "code",
   "execution_count": 21,
   "metadata": {
    "execution": {
     "iopub.execute_input": "2020-09-10T12:25:27.340725Z",
     "iopub.status.busy": "2020-09-10T12:25:27.339865Z",
     "iopub.status.idle": "2020-09-10T12:25:27.342204Z",
     "shell.execute_reply": "2020-09-10T12:25:27.342699Z"
    },
    "papermill": {
     "duration": 0.03397,
     "end_time": "2020-09-10T12:25:27.342837",
     "exception": false,
     "start_time": "2020-09-10T12:25:27.308867",
     "status": "completed"
    },
    "tags": []
   },
   "outputs": [],
   "source": [
    "# Atividade para 17/09/2020\n",
    "\n",
    "# - Melhorar tratamento dos dados\n",
    "# - Possibilidade de feature engineering\n",
    "# - Utilização de outros algoritimos\n",
    "# - OBJETIVO: Melhorar o desempenho da previsão"
   ]
  }
 ],
 "metadata": {
  "kernelspec": {
   "display_name": "Python 3",
   "language": "python",
   "name": "python3"
  },
  "language_info": {
   "codemirror_mode": {
    "name": "ipython",
    "version": 3
   },
   "file_extension": ".py",
   "mimetype": "text/x-python",
   "name": "python",
   "nbconvert_exporter": "python",
   "pygments_lexer": "ipython3",
   "version": "3.7.6"
  },
  "papermill": {
   "duration": 21.365095,
   "end_time": "2020-09-10T12:25:27.477614",
   "environment_variables": {},
   "exception": null,
   "input_path": "__notebook__.ipynb",
   "output_path": "__notebook__.ipynb",
   "parameters": {},
   "start_time": "2020-09-10T12:25:06.112519",
   "version": "2.1.0"
  }
 },
 "nbformat": 4,
 "nbformat_minor": 4
}
