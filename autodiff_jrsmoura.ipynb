{
  "nbformat": 4,
  "nbformat_minor": 0,
  "metadata": {
    "colab": {
      "name": "autodiff_jrsmoura.ipynb",
      "provenance": [],
      "authorship_tag": "ABX9TyNur6mQeiOpORfzYx10kDcs",
      "include_colab_link": true
    },
    "kernelspec": {
      "name": "python3",
      "display_name": "Python 3"
    },
    "language_info": {
      "name": "python"
    }
  },
  "cells": [
    {
      "cell_type": "markdown",
      "metadata": {
        "id": "view-in-github",
        "colab_type": "text"
      },
      "source": [
        "<a href=\"https://colab.research.google.com/github/flaviagaia/IESB/blob/main/autodiff_jrsmoura.ipynb\" target=\"_parent\"><img src=\"https://colab.research.google.com/assets/colab-badge.svg\" alt=\"Open In Colab\"/></a>"
      ]
    },
    {
      "cell_type": "code",
      "execution_count": null,
      "metadata": {
        "id": "Ial0Aq-YfDqk"
      },
      "outputs": [],
      "source": [
        "import numpy as np\n",
        "\n",
        "\n",
        "class AutoDiff(object):\n",
        "    def __init__(self, epsilon: list) -> None:\n",
        "        self.error_message = \"To Be Implemented\"\n",
        "        self.epsilon = epsilon\n",
        "\n",
        "    def func(self):\n",
        "        return AssertionError(self.error_message)\n",
        "\n",
        "    def finite_diference(self):\n",
        "        return AssertionError(self.error_message)\n",
        "\n",
        "    def foward_mode_autodiff(self):\n",
        "        return AssertionError(self.error_message)\n",
        "\n",
        "    def reverse_autodiff(self):\n",
        "        return AssertionError(self.error_message)\n",
        "\n",
        "\n",
        "if __name__ == '__main__':\n",
        "    pass"
      ]
    }
  ]
}