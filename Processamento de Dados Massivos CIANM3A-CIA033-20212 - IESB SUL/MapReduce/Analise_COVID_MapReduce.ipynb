{
  "nbformat": 4,
  "nbformat_minor": 0,
  "metadata": {
    "colab": {
      "name": "Analise_COVID_MapReduce.ipynb",
      "provenance": []
    },
    "kernelspec": {
      "name": "python3",
      "display_name": "Python 3"
    },
    "language_info": {
      "name": "python"
    }
  },
  "cells": [
    {
      "cell_type": "markdown",
      "metadata": {
        "id": "95j6-pcDyIqm"
      },
      "source": [
        "# <font color='red'>**ATENÇÃO**\n",
        "\n",
        "Para a execução desse notebook será necessária a \"montagem\" do google drive para acesso de leitura e gravação de arquivos.\n",
        "A variável **`path`** deve ser preenchida com o valor do diretório que estiver localizado o notebook.\n",
        "</font>"
      ]
    },
    {
      "cell_type": "markdown",
      "metadata": {
        "id": "9bxzpBEvyLJE"
      },
      "source": [
        "# Análise Números da Vacinação contra o Coronavírus nos municípios\n",
        "\n",
        "Os dados são obtidos em https://qsprod.saude.gov.br/extensions/DEMAS_C19Vacina/DEMAS_C19Vacina.html, atualizados diariamente."
      ]
    },
    {
      "cell_type": "code",
      "metadata": {
        "id": "IEj8Sx0e_b_U"
      },
      "source": [
        "import pandas as pd\n",
        "from functools import reduce\n",
        "\n",
        "path = '/content/drive/MyDrive/Processamento de Dados Massivos/Laboratorios/MapReduce/'"
      ],
      "execution_count": null,
      "outputs": []
    },
    {
      "cell_type": "code",
      "metadata": {
        "id": "6n7v0fLI_sHR"
      },
      "source": [
        "df = pd.read_excel(path + 'vacinacao_municipios.xlsx')"
      ],
      "execution_count": null,
      "outputs": []
    },
    {
      "cell_type": "code",
      "metadata": {
        "colab": {
          "base_uri": "https://localhost:8080/",
          "height": 206
        },
        "id": "JMH5XMQUszVP",
        "outputId": "061e1c81-9187-49bd-93fa-ca8d96d97f5b"
      },
      "source": [
        "df.head()"
      ],
      "execution_count": null,
      "outputs": [
        {
          "output_type": "execute_result",
          "data": {
            "text/html": [
              "<div>\n",
              "<style scoped>\n",
              "    .dataframe tbody tr th:only-of-type {\n",
              "        vertical-align: middle;\n",
              "    }\n",
              "\n",
              "    .dataframe tbody tr th {\n",
              "        vertical-align: top;\n",
              "    }\n",
              "\n",
              "    .dataframe thead th {\n",
              "        text-align: right;\n",
              "    }\n",
              "</style>\n",
              "<table border=\"1\" class=\"dataframe\">\n",
              "  <thead>\n",
              "    <tr style=\"text-align: right;\">\n",
              "      <th></th>\n",
              "      <th>Município</th>\n",
              "      <th>Cód. IBGE</th>\n",
              "      <th>UF</th>\n",
              "      <th>Região</th>\n",
              "      <th>Fabricante</th>\n",
              "      <th>Doses Aplicadas</th>\n",
              "      <th>Dose 1</th>\n",
              "      <th>Dose 2</th>\n",
              "    </tr>\n",
              "  </thead>\n",
              "  <tbody>\n",
              "    <tr>\n",
              "      <th>0</th>\n",
              "      <td>Abadia De Goiás</td>\n",
              "      <td>520005</td>\n",
              "      <td>GO</td>\n",
              "      <td>Centro-Oeste</td>\n",
              "      <td>FIOCRUZ/ASTRAZENECA</td>\n",
              "      <td>3843</td>\n",
              "      <td>2634</td>\n",
              "      <td>1209</td>\n",
              "    </tr>\n",
              "    <tr>\n",
              "      <th>1</th>\n",
              "      <td>Abadia De Goiás</td>\n",
              "      <td>520005</td>\n",
              "      <td>GO</td>\n",
              "      <td>Centro-Oeste</td>\n",
              "      <td>BUTANTAN/SINOVAC</td>\n",
              "      <td>3373</td>\n",
              "      <td>1847</td>\n",
              "      <td>1526</td>\n",
              "    </tr>\n",
              "    <tr>\n",
              "      <th>2</th>\n",
              "      <td>Abadia De Goiás</td>\n",
              "      <td>520005</td>\n",
              "      <td>GO</td>\n",
              "      <td>Centro-Oeste</td>\n",
              "      <td>PFIZER/BIONTECH</td>\n",
              "      <td>1586</td>\n",
              "      <td>1586</td>\n",
              "      <td>0</td>\n",
              "    </tr>\n",
              "    <tr>\n",
              "      <th>3</th>\n",
              "      <td>Abadia De Goiás</td>\n",
              "      <td>520005</td>\n",
              "      <td>GO</td>\n",
              "      <td>Centro-Oeste</td>\n",
              "      <td>JANSSEN</td>\n",
              "      <td>65</td>\n",
              "      <td>0</td>\n",
              "      <td>0</td>\n",
              "    </tr>\n",
              "    <tr>\n",
              "      <th>4</th>\n",
              "      <td>Abadia Dos Dourados</td>\n",
              "      <td>310010</td>\n",
              "      <td>MG</td>\n",
              "      <td>Sudeste</td>\n",
              "      <td>FIOCRUZ/ASTRAZENECA</td>\n",
              "      <td>3624</td>\n",
              "      <td>2711</td>\n",
              "      <td>913</td>\n",
              "    </tr>\n",
              "  </tbody>\n",
              "</table>\n",
              "</div>"
            ],
            "text/plain": [
              "             Município  Cód. IBGE  UF  ... Doses Aplicadas Dose 1  Dose 2\n",
              "0      Abadia De Goiás     520005  GO  ...            3843   2634    1209\n",
              "1      Abadia De Goiás     520005  GO  ...            3373   1847    1526\n",
              "2      Abadia De Goiás     520005  GO  ...            1586   1586       0\n",
              "3      Abadia De Goiás     520005  GO  ...              65      0       0\n",
              "4  Abadia Dos Dourados     310010  MG  ...            3624   2711     913\n",
              "\n",
              "[5 rows x 8 columns]"
            ]
          },
          "metadata": {},
          "execution_count": 3
        }
      ]
    },
    {
      "cell_type": "markdown",
      "metadata": {
        "id": "stqcz-PSytvd"
      },
      "source": [
        "Seguindo o modelo de programação MapReduce, obtenha as seguintes respostas a partir dos dados.\n",
        "\n",
        "1. Qual a vacina mais aplicada no país?\n",
        "1. Qual a quantidade de doses total aplicadas no país?\n",
        "2. Quais os 10 municípios que não capitais que tomaram mais doses?\n",
        "2. Qual o município com maior proporção de 'Dose 1' por total de doses aplicadas?\n",
        "2. Qual a vacina mais aplicada em Brasília?\n"
      ]
    }
  ]
}