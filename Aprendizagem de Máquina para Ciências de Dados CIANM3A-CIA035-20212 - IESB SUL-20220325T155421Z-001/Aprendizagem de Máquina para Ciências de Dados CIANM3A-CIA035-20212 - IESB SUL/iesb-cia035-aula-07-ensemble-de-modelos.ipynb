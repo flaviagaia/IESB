{
 "cells": [
  {
   "cell_type": "markdown",
   "id": "9ef60e24",
   "metadata": {
    "papermill": {
     "duration": 0.026776,
     "end_time": "2021-10-07T00:25:11.326697",
     "exception": false,
     "start_time": "2021-10-07T00:25:11.299921",
     "status": "completed"
    },
    "tags": []
   },
   "source": [
    "# IESB - CIA035 - Aula 07 - Ensemble de Modelos\n",
    "\n",
    "## Dados\n",
    "https://datahack.analyticsvidhya.com/contest/practice-problem-big-mart-sales-iii/"
   ]
  },
  {
   "cell_type": "code",
   "execution_count": 1,
   "id": "b37b6419",
   "metadata": {
    "_cell_guid": "b1076dfc-b9ad-4769-8c92-a6c4dae69d19",
    "_uuid": "8f2839f25d086af736a60e9eeb907d3b93b6e0e5",
    "execution": {
     "iopub.execute_input": "2021-10-07T00:25:11.383814Z",
     "iopub.status.busy": "2021-10-07T00:25:11.382549Z",
     "iopub.status.idle": "2021-10-07T00:25:11.407620Z",
     "shell.execute_reply": "2021-10-07T00:25:11.406814Z",
     "shell.execute_reply.started": "2021-10-07T00:12:06.969680Z"
    },
    "papermill": {
     "duration": 0.0541,
     "end_time": "2021-10-07T00:25:11.407808",
     "exception": false,
     "start_time": "2021-10-07T00:25:11.353708",
     "status": "completed"
    },
    "tags": []
   },
   "outputs": [
    {
     "name": "stdout",
     "output_type": "stream",
     "text": [
      "/kaggle/input/big-mart-sales-prediction-datasets/sample_submission.csv\n",
      "/kaggle/input/big-mart-sales-prediction-datasets/train.csv\n",
      "/kaggle/input/big-mart-sales-prediction-datasets/test.csv\n"
     ]
    }
   ],
   "source": [
    "# This Python 3 environment comes with many helpful analytics libraries installed\n",
    "# It is defined by the kaggle/python Docker image: https://github.com/kaggle/docker-python\n",
    "# For example, here's several helpful packages to load\n",
    "\n",
    "import numpy as np # linear algebra\n",
    "import pandas as pd # data processing, CSV file I/O (e.g. pd.read_csv)\n",
    "\n",
    "# Input data files are available in the read-only \"../input/\" directory\n",
    "# For example, running this (by clicking run or pressing Shift+Enter) will list all files under the input directory\n",
    "\n",
    "import os\n",
    "for dirname, _, filenames in os.walk('/kaggle/input'):\n",
    "    for filename in filenames:\n",
    "        print(os.path.join(dirname, filename))\n",
    "\n",
    "# You can write up to 20GB to the current directory (/kaggle/working/) that gets preserved as output when you create a version using \"Save & Run All\" \n",
    "# You can also write temporary files to /kaggle/temp/, but they won't be saved outside of the current session"
   ]
  },
  {
   "cell_type": "code",
   "execution_count": 2,
   "id": "06807f05",
   "metadata": {
    "execution": {
     "iopub.execute_input": "2021-10-07T00:25:11.467763Z",
     "iopub.status.busy": "2021-10-07T00:25:11.466835Z",
     "iopub.status.idle": "2021-10-07T00:25:11.537371Z",
     "shell.execute_reply": "2021-10-07T00:25:11.536737Z",
     "shell.execute_reply.started": "2021-10-07T00:12:08.929116Z"
    },
    "papermill": {
     "duration": 0.10255,
     "end_time": "2021-10-07T00:25:11.537529",
     "exception": false,
     "start_time": "2021-10-07T00:25:11.434979",
     "status": "completed"
    },
    "tags": []
   },
   "outputs": [
    {
     "data": {
      "text/plain": [
       "((8523, 12), (5681, 11))"
      ]
     },
     "execution_count": 2,
     "metadata": {},
     "output_type": "execute_result"
    }
   ],
   "source": [
    "# Importando os dados\n",
    "train = pd.read_csv('/kaggle/input/big-mart-sales-prediction-datasets/train.csv')\n",
    "test = pd.read_csv('/kaggle/input/big-mart-sales-prediction-datasets/test.csv')\n",
    "\n",
    "train.shape, test.shape"
   ]
  },
  {
   "cell_type": "code",
   "execution_count": 3,
   "id": "67ef814d",
   "metadata": {
    "execution": {
     "iopub.execute_input": "2021-10-07T00:25:11.602034Z",
     "iopub.status.busy": "2021-10-07T00:25:11.600357Z",
     "iopub.status.idle": "2021-10-07T00:25:11.631362Z",
     "shell.execute_reply": "2021-10-07T00:25:11.630666Z",
     "shell.execute_reply.started": "2021-10-07T00:12:10.377518Z"
    },
    "papermill": {
     "duration": 0.066005,
     "end_time": "2021-10-07T00:25:11.631532",
     "exception": false,
     "start_time": "2021-10-07T00:25:11.565527",
     "status": "completed"
    },
    "tags": []
   },
   "outputs": [
    {
     "name": "stdout",
     "output_type": "stream",
     "text": [
      "<class 'pandas.core.frame.DataFrame'>\n",
      "RangeIndex: 8523 entries, 0 to 8522\n",
      "Data columns (total 12 columns):\n",
      " #   Column                     Non-Null Count  Dtype  \n",
      "---  ------                     --------------  -----  \n",
      " 0   Item_Identifier            8523 non-null   object \n",
      " 1   Item_Weight                7060 non-null   float64\n",
      " 2   Item_Fat_Content           8523 non-null   object \n",
      " 3   Item_Visibility            8523 non-null   float64\n",
      " 4   Item_Type                  8523 non-null   object \n",
      " 5   Item_MRP                   8523 non-null   float64\n",
      " 6   Outlet_Identifier          8523 non-null   object \n",
      " 7   Outlet_Establishment_Year  8523 non-null   int64  \n",
      " 8   Outlet_Size                6113 non-null   object \n",
      " 9   Outlet_Location_Type       8523 non-null   object \n",
      " 10  Outlet_Type                8523 non-null   object \n",
      " 11  Item_Outlet_Sales          8523 non-null   float64\n",
      "dtypes: float64(4), int64(1), object(7)\n",
      "memory usage: 799.2+ KB\n"
     ]
    }
   ],
   "source": [
    "# Verificando os tipos\n",
    "train.info()"
   ]
  },
  {
   "cell_type": "code",
   "execution_count": 4,
   "id": "b2df74a2",
   "metadata": {
    "execution": {
     "iopub.execute_input": "2021-10-07T00:25:11.692331Z",
     "iopub.status.busy": "2021-10-07T00:25:11.690241Z",
     "iopub.status.idle": "2021-10-07T00:25:11.708389Z",
     "shell.execute_reply": "2021-10-07T00:25:11.707775Z",
     "shell.execute_reply.started": "2021-10-07T00:12:11.815162Z"
    },
    "papermill": {
     "duration": 0.048686,
     "end_time": "2021-10-07T00:25:11.708544",
     "exception": false,
     "start_time": "2021-10-07T00:25:11.659858",
     "status": "completed"
    },
    "tags": []
   },
   "outputs": [
    {
     "data": {
      "text/plain": [
       "Item_Identifier              1559\n",
       "Item_Weight                   415\n",
       "Item_Fat_Content                5\n",
       "Item_Visibility              7880\n",
       "Item_Type                      16\n",
       "Item_MRP                     5938\n",
       "Outlet_Identifier              10\n",
       "Outlet_Establishment_Year       9\n",
       "Outlet_Size                     3\n",
       "Outlet_Location_Type            3\n",
       "Outlet_Type                     4\n",
       "Item_Outlet_Sales            3493\n",
       "dtype: int64"
      ]
     },
     "execution_count": 4,
     "metadata": {},
     "output_type": "execute_result"
    }
   ],
   "source": [
    "# Verificando valores únicos em cada coluna\n",
    "train.nunique()"
   ]
  },
  {
   "cell_type": "code",
   "execution_count": 5,
   "id": "e2a7bf50",
   "metadata": {
    "execution": {
     "iopub.execute_input": "2021-10-07T00:25:11.771233Z",
     "iopub.status.busy": "2021-10-07T00:25:11.770424Z",
     "iopub.status.idle": "2021-10-07T00:25:11.785547Z",
     "shell.execute_reply": "2021-10-07T00:25:11.786104Z",
     "shell.execute_reply.started": "2021-10-07T00:12:13.754108Z"
    },
    "papermill": {
     "duration": 0.049207,
     "end_time": "2021-10-07T00:25:11.786328",
     "exception": false,
     "start_time": "2021-10-07T00:25:11.737121",
     "status": "completed"
    },
    "tags": []
   },
   "outputs": [
    {
     "data": {
      "text/plain": [
       "Item_Identifier                 0\n",
       "Item_Weight                  1463\n",
       "Item_Fat_Content                0\n",
       "Item_Visibility                 0\n",
       "Item_Type                       0\n",
       "Item_MRP                        0\n",
       "Outlet_Identifier               0\n",
       "Outlet_Establishment_Year       0\n",
       "Outlet_Size                  2410\n",
       "Outlet_Location_Type            0\n",
       "Outlet_Type                     0\n",
       "Item_Outlet_Sales               0\n",
       "dtype: int64"
      ]
     },
     "execution_count": 5,
     "metadata": {},
     "output_type": "execute_result"
    }
   ],
   "source": [
    "# Verificando os valores nulos\n",
    "train.isna().sum()"
   ]
  },
  {
   "cell_type": "code",
   "execution_count": 6,
   "id": "3b378630",
   "metadata": {
    "execution": {
     "iopub.execute_input": "2021-10-07T00:25:11.846365Z",
     "iopub.status.busy": "2021-10-07T00:25:11.845643Z",
     "iopub.status.idle": "2021-10-07T00:25:11.857035Z",
     "shell.execute_reply": "2021-10-07T00:25:11.856451Z",
     "shell.execute_reply.started": "2021-10-07T00:12:15.695766Z"
    },
    "papermill": {
     "duration": 0.041668,
     "end_time": "2021-10-07T00:25:11.857235",
     "exception": false,
     "start_time": "2021-10-07T00:25:11.815567",
     "status": "completed"
    },
    "tags": []
   },
   "outputs": [
    {
     "data": {
      "text/plain": [
       "count     8523.000000\n",
       "mean      2181.288914\n",
       "std       1706.499616\n",
       "min         33.290000\n",
       "25%        834.247400\n",
       "50%       1794.331000\n",
       "75%       3101.296400\n",
       "max      13086.964800\n",
       "Name: Item_Outlet_Sales, dtype: float64"
      ]
     },
     "execution_count": 6,
     "metadata": {},
     "output_type": "execute_result"
    }
   ],
   "source": [
    "# Analisando a variável target\n",
    "train['Item_Outlet_Sales'].describe()"
   ]
  },
  {
   "cell_type": "markdown",
   "id": "f5f7c6fd",
   "metadata": {
    "papermill": {
     "duration": 0.027629,
     "end_time": "2021-10-07T00:25:11.913022",
     "exception": false,
     "start_time": "2021-10-07T00:25:11.885393",
     "status": "completed"
    },
    "tags": []
   },
   "source": [
    "## Tratamento de Dados"
   ]
  },
  {
   "cell_type": "code",
   "execution_count": 7,
   "id": "8ec2186e",
   "metadata": {
    "execution": {
     "iopub.execute_input": "2021-10-07T00:25:11.975028Z",
     "iopub.status.busy": "2021-10-07T00:25:11.974309Z",
     "iopub.status.idle": "2021-10-07T00:25:11.978179Z",
     "shell.execute_reply": "2021-10-07T00:25:11.978718Z",
     "shell.execute_reply.started": "2021-10-07T00:12:26.407245Z"
    },
    "papermill": {
     "duration": 0.038349,
     "end_time": "2021-10-07T00:25:11.978893",
     "exception": false,
     "start_time": "2021-10-07T00:25:11.940544",
     "status": "completed"
    },
    "tags": []
   },
   "outputs": [
    {
     "data": {
      "text/plain": [
       "array(['Low Fat', 'Regular', 'low fat', 'LF', 'reg'], dtype=object)"
      ]
     },
     "execution_count": 7,
     "metadata": {},
     "output_type": "execute_result"
    }
   ],
   "source": [
    "# Item_Fat_Content tem valores em excesso\n",
    "train['Item_Fat_Content'].unique()"
   ]
  },
  {
   "cell_type": "code",
   "execution_count": 8,
   "id": "d0030cd9",
   "metadata": {
    "execution": {
     "iopub.execute_input": "2021-10-07T00:25:12.046505Z",
     "iopub.status.busy": "2021-10-07T00:25:12.045704Z",
     "iopub.status.idle": "2021-10-07T00:25:12.051233Z",
     "shell.execute_reply": "2021-10-07T00:25:12.050529Z",
     "shell.execute_reply.started": "2021-10-07T00:12:28.202773Z"
    },
    "papermill": {
     "duration": 0.043857,
     "end_time": "2021-10-07T00:25:12.051383",
     "exception": false,
     "start_time": "2021-10-07T00:25:12.007526",
     "status": "completed"
    },
    "tags": []
   },
   "outputs": [
    {
     "data": {
      "text/plain": [
       "array(['low', 'regular'], dtype=object)"
      ]
     },
     "execution_count": 8,
     "metadata": {},
     "output_type": "execute_result"
    }
   ],
   "source": [
    "# Criando um dicionário para mapear todos os registros em 'low' ou 'regular'\n",
    "item_fat = {'Low Fat':'low', 'Regular':'regular', 'LF':'low', 'reg':'regular','low fat':'low'}\n",
    "\n",
    "train['Item_Fat_Content'] = train['Item_Fat_Content'].map(item_fat)\n",
    "\n",
    "# Verificando\n",
    "train['Item_Fat_Content'].unique()"
   ]
  },
  {
   "cell_type": "code",
   "execution_count": 9,
   "id": "b07b1c6d",
   "metadata": {
    "execution": {
     "iopub.execute_input": "2021-10-07T00:25:12.119007Z",
     "iopub.status.busy": "2021-10-07T00:25:12.118299Z",
     "iopub.status.idle": "2021-10-07T00:25:12.122357Z",
     "shell.execute_reply": "2021-10-07T00:25:12.121818Z",
     "shell.execute_reply.started": "2021-10-07T00:12:35.313279Z"
    },
    "papermill": {
     "duration": 0.041403,
     "end_time": "2021-10-07T00:25:12.122512",
     "exception": false,
     "start_time": "2021-10-07T00:25:12.081109",
     "status": "completed"
    },
    "tags": []
   },
   "outputs": [
    {
     "data": {
      "text/plain": [
       "array(['Medium', nan, 'High', 'Small'], dtype=object)"
      ]
     },
     "execution_count": 9,
     "metadata": {},
     "output_type": "execute_result"
    }
   ],
   "source": [
    "# Verificando Outlet_Size\n",
    "train['Outlet_Size'].unique()"
   ]
  },
  {
   "cell_type": "code",
   "execution_count": 10,
   "id": "d85a24aa",
   "metadata": {
    "execution": {
     "iopub.execute_input": "2021-10-07T00:25:12.188994Z",
     "iopub.status.busy": "2021-10-07T00:25:12.187855Z",
     "iopub.status.idle": "2021-10-07T00:25:12.193845Z",
     "shell.execute_reply": "2021-10-07T00:25:12.193157Z",
     "shell.execute_reply.started": "2021-10-07T00:12:37.092378Z"
    },
    "papermill": {
     "duration": 0.040835,
     "end_time": "2021-10-07T00:25:12.193994",
     "exception": false,
     "start_time": "2021-10-07T00:25:12.153159",
     "status": "completed"
    },
    "tags": []
   },
   "outputs": [
    {
     "data": {
      "text/plain": [
       "array(['Tier 1', 'Tier 3', 'Tier 2'], dtype=object)"
      ]
     },
     "execution_count": 10,
     "metadata": {},
     "output_type": "execute_result"
    }
   ],
   "source": [
    "# Verificando Outlet_Location_Type\n",
    "train['Outlet_Location_Type'].unique()"
   ]
  },
  {
   "cell_type": "code",
   "execution_count": 11,
   "id": "89fae6a3",
   "metadata": {
    "execution": {
     "iopub.execute_input": "2021-10-07T00:25:12.263602Z",
     "iopub.status.busy": "2021-10-07T00:25:12.262612Z",
     "iopub.status.idle": "2021-10-07T00:25:12.267493Z",
     "shell.execute_reply": "2021-10-07T00:25:12.266840Z",
     "shell.execute_reply.started": "2021-10-07T00:12:40.615165Z"
    },
    "papermill": {
     "duration": 0.044485,
     "end_time": "2021-10-07T00:25:12.267644",
     "exception": false,
     "start_time": "2021-10-07T00:25:12.223159",
     "status": "completed"
    },
    "tags": []
   },
   "outputs": [
    {
     "data": {
      "text/plain": [
       "array(['Supermarket Type1', 'Supermarket Type2', 'Grocery Store',\n",
       "       'Supermarket Type3'], dtype=object)"
      ]
     },
     "execution_count": 11,
     "metadata": {},
     "output_type": "execute_result"
    }
   ],
   "source": [
    "# Verificando Outlet_Type\n",
    "train['Outlet_Type'].unique()"
   ]
  },
  {
   "cell_type": "code",
   "execution_count": 12,
   "id": "4c241695",
   "metadata": {
    "execution": {
     "iopub.execute_input": "2021-10-07T00:25:12.337618Z",
     "iopub.status.busy": "2021-10-07T00:25:12.336886Z",
     "iopub.status.idle": "2021-10-07T00:25:12.339699Z",
     "shell.execute_reply": "2021-10-07T00:25:12.340209Z",
     "shell.execute_reply.started": "2021-10-07T00:12:42.248806Z"
    },
    "papermill": {
     "duration": 0.042261,
     "end_time": "2021-10-07T00:25:12.340386",
     "exception": false,
     "start_time": "2021-10-07T00:25:12.298125",
     "status": "completed"
    },
    "tags": []
   },
   "outputs": [
    {
     "data": {
      "text/plain": [
       "array(['Dairy', 'Soft Drinks', 'Meat', 'Fruits and Vegetables',\n",
       "       'Household', 'Baking Goods', 'Snack Foods', 'Frozen Foods',\n",
       "       'Breakfast', 'Health and Hygiene', 'Hard Drinks', 'Canned',\n",
       "       'Breads', 'Starchy Foods', 'Others', 'Seafood'], dtype=object)"
      ]
     },
     "execution_count": 12,
     "metadata": {},
     "output_type": "execute_result"
    }
   ],
   "source": [
    "# Verificando Item_Type\n",
    "train['Item_Type'].unique()"
   ]
  },
  {
   "cell_type": "code",
   "execution_count": 13,
   "id": "0db5e2b6",
   "metadata": {
    "execution": {
     "iopub.execute_input": "2021-10-07T00:25:12.407660Z",
     "iopub.status.busy": "2021-10-07T00:25:12.406925Z",
     "iopub.status.idle": "2021-10-07T00:25:12.412263Z",
     "shell.execute_reply": "2021-10-07T00:25:12.411687Z",
     "shell.execute_reply.started": "2021-10-07T00:12:45.583425Z"
    },
    "papermill": {
     "duration": 0.041613,
     "end_time": "2021-10-07T00:25:12.412418",
     "exception": false,
     "start_time": "2021-10-07T00:25:12.370805",
     "status": "completed"
    },
    "tags": []
   },
   "outputs": [
    {
     "data": {
      "text/plain": [
       "array(['OUT049', 'OUT018', 'OUT010', 'OUT013', 'OUT027', 'OUT045',\n",
       "       'OUT017', 'OUT046', 'OUT035', 'OUT019'], dtype=object)"
      ]
     },
     "execution_count": 13,
     "metadata": {},
     "output_type": "execute_result"
    }
   ],
   "source": [
    "# Verificando Outlet_Identifier\n",
    "train['Outlet_Identifier'].unique()"
   ]
  },
  {
   "cell_type": "code",
   "execution_count": 14,
   "id": "b3f53258",
   "metadata": {
    "execution": {
     "iopub.execute_input": "2021-10-07T00:25:12.481365Z",
     "iopub.status.busy": "2021-10-07T00:25:12.480334Z",
     "iopub.status.idle": "2021-10-07T00:25:12.484825Z",
     "shell.execute_reply": "2021-10-07T00:25:12.484153Z",
     "shell.execute_reply.started": "2021-10-07T00:12:47.306700Z"
    },
    "papermill": {
     "duration": 0.042046,
     "end_time": "2021-10-07T00:25:12.484975",
     "exception": false,
     "start_time": "2021-10-07T00:25:12.442929",
     "status": "completed"
    },
    "tags": []
   },
   "outputs": [
    {
     "data": {
      "text/plain": [
       "1559"
      ]
     },
     "execution_count": 14,
     "metadata": {},
     "output_type": "execute_result"
    }
   ],
   "source": [
    "# Quantos valores únicos de Item_Identifier\n",
    "train['Item_Identifier'].nunique()"
   ]
  },
  {
   "cell_type": "code",
   "execution_count": 15,
   "id": "d98637d3",
   "metadata": {
    "execution": {
     "iopub.execute_input": "2021-10-07T00:25:12.563747Z",
     "iopub.status.busy": "2021-10-07T00:25:12.562984Z",
     "iopub.status.idle": "2021-10-07T00:25:12.565680Z",
     "shell.execute_reply": "2021-10-07T00:25:12.564994Z",
     "shell.execute_reply.started": "2021-10-07T00:12:50.798136Z"
    },
    "papermill": {
     "duration": 0.048341,
     "end_time": "2021-10-07T00:25:12.565834",
     "exception": false,
     "start_time": "2021-10-07T00:25:12.517493",
     "status": "completed"
    },
    "tags": []
   },
   "outputs": [],
   "source": [
    "# As colunas 'Item_Weight' e 'Outlet_Size' possuem valores nulos\n",
    "\n",
    "# Vamos usar a média para imputar valores em Item_Weight\n",
    "train['Item_Weight'].fillna(train['Item_Weight'].mean(), inplace=True)\n",
    "\n",
    "# Vamos usar a moda para imputar valores em Outlet_Size\n",
    "train['Outlet_Size'].fillna(train['Outlet_Size'].mode()[0], inplace=True)"
   ]
  },
  {
   "cell_type": "code",
   "execution_count": 16,
   "id": "1c227f24",
   "metadata": {
    "execution": {
     "iopub.execute_input": "2021-10-07T00:25:12.640997Z",
     "iopub.status.busy": "2021-10-07T00:25:12.640236Z",
     "iopub.status.idle": "2021-10-07T00:25:12.644330Z",
     "shell.execute_reply": "2021-10-07T00:25:12.643791Z",
     "shell.execute_reply.started": "2021-10-07T00:12:52.426611Z"
    },
    "papermill": {
     "duration": 0.043341,
     "end_time": "2021-10-07T00:25:12.644501",
     "exception": false,
     "start_time": "2021-10-07T00:25:12.601160",
     "status": "completed"
    },
    "tags": []
   },
   "outputs": [
    {
     "data": {
      "text/plain": [
       "Item_Identifier               object\n",
       "Item_Weight                  float64\n",
       "Item_Fat_Content              object\n",
       "Item_Visibility              float64\n",
       "Item_Type                     object\n",
       "Item_MRP                     float64\n",
       "Outlet_Identifier             object\n",
       "Outlet_Establishment_Year      int64\n",
       "Outlet_Size                   object\n",
       "Outlet_Location_Type          object\n",
       "Outlet_Type                   object\n",
       "Item_Outlet_Sales            float64\n",
       "dtype: object"
      ]
     },
     "execution_count": 16,
     "metadata": {},
     "output_type": "execute_result"
    }
   ],
   "source": [
    "# Precisamos codificar as variáveis categóricas\n",
    "train.dtypes"
   ]
  },
  {
   "cell_type": "code",
   "execution_count": 17,
   "id": "7d9eab23",
   "metadata": {
    "execution": {
     "iopub.execute_input": "2021-10-07T00:25:12.715427Z",
     "iopub.status.busy": "2021-10-07T00:25:12.714693Z",
     "iopub.status.idle": "2021-10-07T00:25:12.736526Z",
     "shell.execute_reply": "2021-10-07T00:25:12.735907Z",
     "shell.execute_reply.started": "2021-10-07T00:12:55.390059Z"
    },
    "papermill": {
     "duration": 0.060381,
     "end_time": "2021-10-07T00:25:12.736678",
     "exception": false,
     "start_time": "2021-10-07T00:25:12.676297",
     "status": "completed"
    },
    "tags": []
   },
   "outputs": [
    {
     "data": {
      "text/plain": [
       "(8523, 44)"
      ]
     },
     "execution_count": 17,
     "metadata": {},
     "output_type": "execute_result"
    }
   ],
   "source": [
    "# Vamos codificar as colunas categóricas usando one hot encoding\n",
    "cat_cols = ['Item_Fat_Content', 'Item_Type', 'Outlet_Identifier', 'Outlet_Size', 'Outlet_Location_Type', 'Outlet_Type']\n",
    "\n",
    "train = pd.get_dummies(train, columns=cat_cols)\n",
    "\n",
    "train.shape"
   ]
  },
  {
   "cell_type": "markdown",
   "id": "ba60b160",
   "metadata": {
    "papermill": {
     "duration": 0.033919,
     "end_time": "2021-10-07T00:25:12.804143",
     "exception": false,
     "start_time": "2021-10-07T00:25:12.770224",
     "status": "completed"
    },
    "tags": []
   },
   "source": [
    "## Modelo inicial"
   ]
  },
  {
   "cell_type": "code",
   "execution_count": 18,
   "id": "dc64c1d5",
   "metadata": {
    "execution": {
     "iopub.execute_input": "2021-10-07T00:25:12.876524Z",
     "iopub.status.busy": "2021-10-07T00:25:12.875367Z",
     "iopub.status.idle": "2021-10-07T00:25:12.895708Z",
     "shell.execute_reply": "2021-10-07T00:25:12.895038Z",
     "shell.execute_reply.started": "2021-10-07T00:12:59.156641Z"
    },
    "papermill": {
     "duration": 0.06053,
     "end_time": "2021-10-07T00:25:12.895884",
     "exception": false,
     "start_time": "2021-10-07T00:25:12.835354",
     "status": "completed"
    },
    "tags": []
   },
   "outputs": [
    {
     "name": "stdout",
     "output_type": "stream",
     "text": [
      "<class 'pandas.core.frame.DataFrame'>\n",
      "RangeIndex: 8523 entries, 0 to 8522\n",
      "Data columns (total 44 columns):\n",
      " #   Column                           Non-Null Count  Dtype  \n",
      "---  ------                           --------------  -----  \n",
      " 0   Item_Identifier                  8523 non-null   object \n",
      " 1   Item_Weight                      8523 non-null   float64\n",
      " 2   Item_Visibility                  8523 non-null   float64\n",
      " 3   Item_MRP                         8523 non-null   float64\n",
      " 4   Outlet_Establishment_Year        8523 non-null   int64  \n",
      " 5   Item_Outlet_Sales                8523 non-null   float64\n",
      " 6   Item_Fat_Content_low             8523 non-null   uint8  \n",
      " 7   Item_Fat_Content_regular         8523 non-null   uint8  \n",
      " 8   Item_Type_Baking Goods           8523 non-null   uint8  \n",
      " 9   Item_Type_Breads                 8523 non-null   uint8  \n",
      " 10  Item_Type_Breakfast              8523 non-null   uint8  \n",
      " 11  Item_Type_Canned                 8523 non-null   uint8  \n",
      " 12  Item_Type_Dairy                  8523 non-null   uint8  \n",
      " 13  Item_Type_Frozen Foods           8523 non-null   uint8  \n",
      " 14  Item_Type_Fruits and Vegetables  8523 non-null   uint8  \n",
      " 15  Item_Type_Hard Drinks            8523 non-null   uint8  \n",
      " 16  Item_Type_Health and Hygiene     8523 non-null   uint8  \n",
      " 17  Item_Type_Household              8523 non-null   uint8  \n",
      " 18  Item_Type_Meat                   8523 non-null   uint8  \n",
      " 19  Item_Type_Others                 8523 non-null   uint8  \n",
      " 20  Item_Type_Seafood                8523 non-null   uint8  \n",
      " 21  Item_Type_Snack Foods            8523 non-null   uint8  \n",
      " 22  Item_Type_Soft Drinks            8523 non-null   uint8  \n",
      " 23  Item_Type_Starchy Foods          8523 non-null   uint8  \n",
      " 24  Outlet_Identifier_OUT010         8523 non-null   uint8  \n",
      " 25  Outlet_Identifier_OUT013         8523 non-null   uint8  \n",
      " 26  Outlet_Identifier_OUT017         8523 non-null   uint8  \n",
      " 27  Outlet_Identifier_OUT018         8523 non-null   uint8  \n",
      " 28  Outlet_Identifier_OUT019         8523 non-null   uint8  \n",
      " 29  Outlet_Identifier_OUT027         8523 non-null   uint8  \n",
      " 30  Outlet_Identifier_OUT035         8523 non-null   uint8  \n",
      " 31  Outlet_Identifier_OUT045         8523 non-null   uint8  \n",
      " 32  Outlet_Identifier_OUT046         8523 non-null   uint8  \n",
      " 33  Outlet_Identifier_OUT049         8523 non-null   uint8  \n",
      " 34  Outlet_Size_High                 8523 non-null   uint8  \n",
      " 35  Outlet_Size_Medium               8523 non-null   uint8  \n",
      " 36  Outlet_Size_Small                8523 non-null   uint8  \n",
      " 37  Outlet_Location_Type_Tier 1      8523 non-null   uint8  \n",
      " 38  Outlet_Location_Type_Tier 2      8523 non-null   uint8  \n",
      " 39  Outlet_Location_Type_Tier 3      8523 non-null   uint8  \n",
      " 40  Outlet_Type_Grocery Store        8523 non-null   uint8  \n",
      " 41  Outlet_Type_Supermarket Type1    8523 non-null   uint8  \n",
      " 42  Outlet_Type_Supermarket Type2    8523 non-null   uint8  \n",
      " 43  Outlet_Type_Supermarket Type3    8523 non-null   uint8  \n",
      "dtypes: float64(4), int64(1), object(1), uint8(38)\n",
      "memory usage: 715.9+ KB\n"
     ]
    }
   ],
   "source": [
    "# Verificando as colunas\n",
    "train.info()"
   ]
  },
  {
   "cell_type": "code",
   "execution_count": 19,
   "id": "90b8fbbd",
   "metadata": {
    "execution": {
     "iopub.execute_input": "2021-10-07T00:25:12.969599Z",
     "iopub.status.busy": "2021-10-07T00:25:12.968856Z",
     "iopub.status.idle": "2021-10-07T00:25:13.962971Z",
     "shell.execute_reply": "2021-10-07T00:25:13.963503Z",
     "shell.execute_reply.started": "2021-10-07T00:13:02.722807Z"
    },
    "papermill": {
     "duration": 1.035674,
     "end_time": "2021-10-07T00:25:13.963764",
     "exception": false,
     "start_time": "2021-10-07T00:25:12.928090",
     "status": "completed"
    },
    "tags": []
   },
   "outputs": [
    {
     "data": {
      "text/plain": [
       "((6392, 44), (2131, 44))"
      ]
     },
     "execution_count": 19,
     "metadata": {},
     "output_type": "execute_result"
    }
   ],
   "source": [
    "# Separando o dataframe\n",
    "from sklearn.model_selection import train_test_split\n",
    "\n",
    "train, valid = train_test_split(train, random_state=42)\n",
    "\n",
    "train.shape, valid.shape"
   ]
  },
  {
   "cell_type": "code",
   "execution_count": 20,
   "id": "524a5401",
   "metadata": {
    "execution": {
     "iopub.execute_input": "2021-10-07T00:25:14.034565Z",
     "iopub.status.busy": "2021-10-07T00:25:14.033505Z",
     "iopub.status.idle": "2021-10-07T00:25:14.041873Z",
     "shell.execute_reply": "2021-10-07T00:25:14.041187Z",
     "shell.execute_reply.started": "2021-10-07T00:13:05.907580Z"
    },
    "papermill": {
     "duration": 0.046168,
     "end_time": "2021-10-07T00:25:14.042015",
     "exception": false,
     "start_time": "2021-10-07T00:25:13.995847",
     "status": "completed"
    },
    "tags": []
   },
   "outputs": [
    {
     "data": {
      "text/plain": [
       "['Item_Weight',\n",
       " 'Item_Visibility',\n",
       " 'Item_MRP',\n",
       " 'Outlet_Establishment_Year',\n",
       " 'Item_Fat_Content_low',\n",
       " 'Item_Fat_Content_regular',\n",
       " 'Item_Type_Baking Goods',\n",
       " 'Item_Type_Breads',\n",
       " 'Item_Type_Breakfast',\n",
       " 'Item_Type_Canned',\n",
       " 'Item_Type_Dairy',\n",
       " 'Item_Type_Frozen Foods',\n",
       " 'Item_Type_Fruits and Vegetables',\n",
       " 'Item_Type_Hard Drinks',\n",
       " 'Item_Type_Health and Hygiene',\n",
       " 'Item_Type_Household',\n",
       " 'Item_Type_Meat',\n",
       " 'Item_Type_Others',\n",
       " 'Item_Type_Seafood',\n",
       " 'Item_Type_Snack Foods',\n",
       " 'Item_Type_Soft Drinks',\n",
       " 'Item_Type_Starchy Foods',\n",
       " 'Outlet_Identifier_OUT010',\n",
       " 'Outlet_Identifier_OUT013',\n",
       " 'Outlet_Identifier_OUT017',\n",
       " 'Outlet_Identifier_OUT018',\n",
       " 'Outlet_Identifier_OUT019',\n",
       " 'Outlet_Identifier_OUT027',\n",
       " 'Outlet_Identifier_OUT035',\n",
       " 'Outlet_Identifier_OUT045',\n",
       " 'Outlet_Identifier_OUT046',\n",
       " 'Outlet_Identifier_OUT049',\n",
       " 'Outlet_Size_High',\n",
       " 'Outlet_Size_Medium',\n",
       " 'Outlet_Size_Small',\n",
       " 'Outlet_Location_Type_Tier 1',\n",
       " 'Outlet_Location_Type_Tier 2',\n",
       " 'Outlet_Location_Type_Tier 3',\n",
       " 'Outlet_Type_Grocery Store',\n",
       " 'Outlet_Type_Supermarket Type1',\n",
       " 'Outlet_Type_Supermarket Type2',\n",
       " 'Outlet_Type_Supermarket Type3']"
      ]
     },
     "execution_count": 20,
     "metadata": {},
     "output_type": "execute_result"
    }
   ],
   "source": [
    "# Obtendo as colunas para treinamento\n",
    "features = [c for c in train.columns if c not in ['Item_Identifier', 'Item_Outlet_Sales']]\n",
    "\n",
    "features"
   ]
  },
  {
   "cell_type": "code",
   "execution_count": 21,
   "id": "8e1ec30e",
   "metadata": {
    "execution": {
     "iopub.execute_input": "2021-10-07T00:25:14.111549Z",
     "iopub.status.busy": "2021-10-07T00:25:14.110807Z",
     "iopub.status.idle": "2021-10-07T00:25:17.950224Z",
     "shell.execute_reply": "2021-10-07T00:25:17.949641Z",
     "shell.execute_reply.started": "2021-10-07T00:13:09.154563Z"
    },
    "papermill": {
     "duration": 3.875074,
     "end_time": "2021-10-07T00:25:17.950403",
     "exception": false,
     "start_time": "2021-10-07T00:25:14.075329",
     "status": "completed"
    },
    "tags": []
   },
   "outputs": [
    {
     "data": {
      "text/plain": [
       "RandomForestRegressor(n_estimators=200, n_jobs=-1, random_state=42)"
      ]
     },
     "execution_count": 21,
     "metadata": {},
     "output_type": "execute_result"
    }
   ],
   "source": [
    "# Vamos executar o RandomForest padrão\n",
    "from sklearn.ensemble import RandomForestRegressor\n",
    "\n",
    "rf_padrao = RandomForestRegressor(n_estimators=200, n_jobs=-1, random_state=42)\n",
    "\n",
    "rf_padrao.fit(train[features], train['Item_Outlet_Sales'])"
   ]
  },
  {
   "cell_type": "code",
   "execution_count": 22,
   "id": "ff510d6d",
   "metadata": {
    "execution": {
     "iopub.execute_input": "2021-10-07T00:25:18.021917Z",
     "iopub.status.busy": "2021-10-07T00:25:18.020878Z",
     "iopub.status.idle": "2021-10-07T00:25:18.132687Z",
     "shell.execute_reply": "2021-10-07T00:25:18.131994Z",
     "shell.execute_reply.started": "2021-10-07T00:13:12.988504Z"
    },
    "papermill": {
     "duration": 0.148853,
     "end_time": "2021-10-07T00:25:18.132879",
     "exception": false,
     "start_time": "2021-10-07T00:25:17.984026",
     "status": "completed"
    },
    "tags": []
   },
   "outputs": [],
   "source": [
    "# Obtendo os valores de predição\n",
    "preds_rf = rf_padrao.predict(valid[features])"
   ]
  },
  {
   "cell_type": "code",
   "execution_count": 23,
   "id": "359a807d",
   "metadata": {
    "execution": {
     "iopub.execute_input": "2021-10-07T00:25:18.205811Z",
     "iopub.status.busy": "2021-10-07T00:25:18.204820Z",
     "iopub.status.idle": "2021-10-07T00:25:18.209471Z",
     "shell.execute_reply": "2021-10-07T00:25:18.208893Z",
     "shell.execute_reply.started": "2021-10-07T00:13:18.846922Z"
    },
    "papermill": {
     "duration": 0.044194,
     "end_time": "2021-10-07T00:25:18.209623",
     "exception": false,
     "start_time": "2021-10-07T00:25:18.165429",
     "status": "completed"
    },
    "tags": []
   },
   "outputs": [
    {
     "data": {
      "text/plain": [
       "1103.0781815728149"
      ]
     },
     "execution_count": 23,
     "metadata": {},
     "output_type": "execute_result"
    }
   ],
   "source": [
    "# Calculando a métrica\n",
    "from sklearn.metrics import mean_squared_error\n",
    "\n",
    "rmse_rf = mean_squared_error(valid['Item_Outlet_Sales'], preds_rf, squared=False)\n",
    "\n",
    "rmse_rf"
   ]
  },
  {
   "cell_type": "markdown",
   "id": "a0036b11",
   "metadata": {
    "papermill": {
     "duration": 0.032751,
     "end_time": "2021-10-07T00:25:18.275803",
     "exception": false,
     "start_time": "2021-10-07T00:25:18.243052",
     "status": "completed"
    },
    "tags": []
   },
   "source": [
    "# Outros Modelos"
   ]
  },
  {
   "cell_type": "code",
   "execution_count": 24,
   "id": "c24eecbb",
   "metadata": {
    "execution": {
     "iopub.execute_input": "2021-10-07T00:25:18.347412Z",
     "iopub.status.busy": "2021-10-07T00:25:18.346655Z",
     "iopub.status.idle": "2021-10-07T00:25:20.648066Z",
     "shell.execute_reply": "2021-10-07T00:25:20.648593Z",
     "shell.execute_reply.started": "2021-10-07T00:15:16.879244Z"
    },
    "papermill": {
     "duration": 2.339299,
     "end_time": "2021-10-07T00:25:20.648773",
     "exception": false,
     "start_time": "2021-10-07T00:25:18.309474",
     "status": "completed"
    },
    "tags": []
   },
   "outputs": [
    {
     "data": {
      "text/plain": [
       "1064.9487042895971"
      ]
     },
     "execution_count": 24,
     "metadata": {},
     "output_type": "execute_result"
    }
   ],
   "source": [
    "# Vamos executar o GBM padrão\n",
    "from sklearn.ensemble import GradientBoostingRegressor\n",
    "\n",
    "# Executando o modelo\n",
    "gbm_padrao = GradientBoostingRegressor(n_estimators=200, random_state=42)\n",
    "\n",
    "gbm_padrao.fit(train[features], train['Item_Outlet_Sales'])\n",
    "\n",
    "# Obtendo os valores de predição\n",
    "preds_gbm = gbm_padrao.predict(valid[features])\n",
    "\n",
    "# Calculando a métrica\n",
    "rmse_gbm = mean_squared_error(valid['Item_Outlet_Sales'], preds_gbm, squared=False)\n",
    "\n",
    "rmse_gbm"
   ]
  },
  {
   "cell_type": "code",
   "execution_count": 25,
   "id": "a6776943",
   "metadata": {
    "execution": {
     "iopub.execute_input": "2021-10-07T00:25:20.722476Z",
     "iopub.status.busy": "2021-10-07T00:25:20.717763Z",
     "iopub.status.idle": "2021-10-07T00:25:21.240613Z",
     "shell.execute_reply": "2021-10-07T00:25:21.241104Z",
     "shell.execute_reply.started": "2021-10-07T00:15:19.164866Z"
    },
    "papermill": {
     "duration": 0.559604,
     "end_time": "2021-10-07T00:25:21.241308",
     "exception": false,
     "start_time": "2021-10-07T00:25:20.681704",
     "status": "completed"
    },
    "tags": []
   },
   "outputs": [
    {
     "data": {
      "text/plain": [
       "1164.380592406447"
      ]
     },
     "execution_count": 25,
     "metadata": {},
     "output_type": "execute_result"
    }
   ],
   "source": [
    "# Vamos executar o AdaBoost padrão\n",
    "from sklearn.ensemble import AdaBoostRegressor\n",
    "\n",
    "# Executando o modelo\n",
    "ada_padrao = AdaBoostRegressor(n_estimators=200, random_state=42)\n",
    "\n",
    "ada_padrao.fit(train[features], train['Item_Outlet_Sales'])\n",
    "\n",
    "# Obtendo os valores de predição\n",
    "preds_ada = ada_padrao.predict(valid[features])\n",
    "\n",
    "# Calculando a métrica\n",
    "rmse_ada = mean_squared_error(valid['Item_Outlet_Sales'], preds_ada, squared=False)\n",
    "\n",
    "rmse_ada"
   ]
  },
  {
   "cell_type": "markdown",
   "id": "9d0a00c7",
   "metadata": {
    "papermill": {
     "duration": 0.033599,
     "end_time": "2021-10-07T00:25:21.308330",
     "exception": false,
     "start_time": "2021-10-07T00:25:21.274731",
     "status": "completed"
    },
    "tags": []
   },
   "source": [
    "# Criando nosso próprio Ensemble de Métodos"
   ]
  },
  {
   "cell_type": "code",
   "execution_count": 26,
   "id": "5a577650",
   "metadata": {
    "execution": {
     "iopub.execute_input": "2021-10-07T00:25:21.412963Z",
     "iopub.status.busy": "2021-10-07T00:25:21.412314Z",
     "iopub.status.idle": "2021-10-07T00:25:21.416072Z",
     "shell.execute_reply": "2021-10-07T00:25:21.416669Z",
     "shell.execute_reply.started": "2021-10-07T00:15:21.830261Z"
    },
    "papermill": {
     "duration": 0.060788,
     "end_time": "2021-10-07T00:25:21.416839",
     "exception": false,
     "start_time": "2021-10-07T00:25:21.356051",
     "status": "completed"
    },
    "tags": []
   },
   "outputs": [],
   "source": [
    "# Usaremos o VotingRegressor\n",
    "from sklearn.ensemble import VotingRegressor"
   ]
  },
  {
   "cell_type": "code",
   "execution_count": 27,
   "id": "3c17f326",
   "metadata": {
    "execution": {
     "iopub.execute_input": "2021-10-07T00:25:21.518367Z",
     "iopub.status.busy": "2021-10-07T00:25:21.512275Z",
     "iopub.status.idle": "2021-10-07T00:25:29.432284Z",
     "shell.execute_reply": "2021-10-07T00:25:29.432860Z",
     "shell.execute_reply.started": "2021-10-07T00:17:22.916153Z"
    },
    "papermill": {
     "duration": 7.971151,
     "end_time": "2021-10-07T00:25:29.433055",
     "exception": false,
     "start_time": "2021-10-07T00:25:21.461904",
     "status": "completed"
    },
    "tags": []
   },
   "outputs": [
    {
     "data": {
      "text/plain": [
       "1072.234851975407"
      ]
     },
     "execution_count": 27,
     "metadata": {},
     "output_type": "execute_result"
    }
   ],
   "source": [
    "# Definindo nossos estimadores\n",
    "estimators = [('rf_padrao', rf_padrao),('gbm_padrao',gbm_padrao),('ada_padrao', ada_padrao)]\n",
    "\n",
    "# Criando o VotingRegressor\n",
    "ensemble1 = VotingRegressor(estimators=estimators, n_jobs=-1)\n",
    "\n",
    "ensemble1.fit(train[features], train['Item_Outlet_Sales'])\n",
    "\n",
    "# Obtendo os valores de predição\n",
    "preds_ens = ensemble1.predict(valid[features])\n",
    "\n",
    "# Calculando a métrica\n",
    "rmse_ens = mean_squared_error(valid['Item_Outlet_Sales'], preds_ens, squared=False)\n",
    "\n",
    "rmse_ens"
   ]
  },
  {
   "cell_type": "code",
   "execution_count": null,
   "id": "c6ff12db",
   "metadata": {
    "papermill": {
     "duration": 0.0374,
     "end_time": "2021-10-07T00:25:29.513986",
     "exception": false,
     "start_time": "2021-10-07T00:25:29.476586",
     "status": "completed"
    },
    "tags": []
   },
   "outputs": [],
   "source": []
  }
 ],
 "metadata": {
  "kernelspec": {
   "display_name": "Python 3",
   "language": "python",
   "name": "python3"
  },
  "language_info": {
   "codemirror_mode": {
    "name": "ipython",
    "version": 3
   },
   "file_extension": ".py",
   "mimetype": "text/x-python",
   "name": "python",
   "nbconvert_exporter": "python",
   "pygments_lexer": "ipython3",
   "version": "3.7.10"
  },
  "papermill": {
   "default_parameters": {},
   "duration": 28.796483,
   "end_time": "2021-10-07T00:25:30.667396",
   "environment_variables": {},
   "exception": null,
   "input_path": "__notebook__.ipynb",
   "output_path": "__notebook__.ipynb",
   "parameters": {},
   "start_time": "2021-10-07T00:25:01.870913",
   "version": "2.3.3"
  }
 },
 "nbformat": 4,
 "nbformat_minor": 5
}
