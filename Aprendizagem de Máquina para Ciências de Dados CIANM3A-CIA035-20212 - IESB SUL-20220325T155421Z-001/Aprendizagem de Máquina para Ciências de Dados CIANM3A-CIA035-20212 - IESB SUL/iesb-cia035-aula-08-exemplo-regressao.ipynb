{
 "cells": [
  {
   "cell_type": "markdown",
   "id": "d58e29d3",
   "metadata": {
    "papermill": {
     "duration": 0.050925,
     "end_time": "2021-10-14T00:49:28.988029",
     "exception": false,
     "start_time": "2021-10-14T00:49:28.937104",
     "status": "completed"
    },
    "tags": []
   },
   "source": [
    "# IESB - CIA035 - Aula 08 - Exemplo Regressão"
   ]
  },
  {
   "cell_type": "code",
   "execution_count": 1,
   "id": "02024f6e",
   "metadata": {
    "_cell_guid": "b1076dfc-b9ad-4769-8c92-a6c4dae69d19",
    "_uuid": "8f2839f25d086af736a60e9eeb907d3b93b6e0e5",
    "execution": {
     "iopub.execute_input": "2021-10-14T00:49:29.088214Z",
     "iopub.status.busy": "2021-10-14T00:49:29.087001Z",
     "iopub.status.idle": "2021-10-14T00:49:29.106916Z",
     "shell.execute_reply": "2021-10-14T00:49:29.107516Z",
     "shell.execute_reply.started": "2021-10-13T22:50:11.199107Z"
    },
    "papermill": {
     "duration": 0.071509,
     "end_time": "2021-10-14T00:49:29.107825",
     "exception": false,
     "start_time": "2021-10-14T00:49:29.036316",
     "status": "completed"
    },
    "tags": []
   },
   "outputs": [
    {
     "name": "stdout",
     "output_type": "stream",
     "text": [
      "/kaggle/input/melbourne-housing-snapshot/melb_data.csv\n"
     ]
    }
   ],
   "source": [
    "# This Python 3 environment comes with many helpful analytics libraries installed\n",
    "# It is defined by the kaggle/python Docker image: https://github.com/kaggle/docker-python\n",
    "# For example, here's several helpful packages to load\n",
    "\n",
    "import numpy as np # linear algebra\n",
    "import pandas as pd # data processing, CSV file I/O (e.g. pd.read_csv)\n",
    "\n",
    "# Input data files are available in the read-only \"../input/\" directory\n",
    "# For example, running this (by clicking run or pressing Shift+Enter) will list all files under the input directory\n",
    "\n",
    "import os\n",
    "for dirname, _, filenames in os.walk('/kaggle/input'):\n",
    "    for filename in filenames:\n",
    "        print(os.path.join(dirname, filename))\n",
    "\n",
    "# You can write up to 20GB to the current directory (/kaggle/working/) that gets preserved as output when you create a version using \"Save & Run All\" \n",
    "# You can also write temporary files to /kaggle/temp/, but they won't be saved outside of the current session"
   ]
  },
  {
   "cell_type": "code",
   "execution_count": 2,
   "id": "fc61a2f9",
   "metadata": {
    "execution": {
     "iopub.execute_input": "2021-10-14T00:49:29.207225Z",
     "iopub.status.busy": "2021-10-14T00:49:29.206631Z",
     "iopub.status.idle": "2021-10-14T00:49:29.210027Z",
     "shell.execute_reply": "2021-10-14T00:49:29.210602Z",
     "shell.execute_reply.started": "2021-10-13T22:50:38.854664Z"
    },
    "papermill": {
     "duration": 0.054588,
     "end_time": "2021-10-14T00:49:29.210773",
     "exception": false,
     "start_time": "2021-10-14T00:49:29.156185",
     "status": "completed"
    },
    "tags": []
   },
   "outputs": [],
   "source": [
    "# Código para mostrar sempre todas as colunas\n",
    "pd.set_option('max.column', None)"
   ]
  },
  {
   "cell_type": "code",
   "execution_count": 3,
   "id": "7d60b3a8",
   "metadata": {
    "execution": {
     "iopub.execute_input": "2021-10-14T00:49:29.312416Z",
     "iopub.status.busy": "2021-10-14T00:49:29.311349Z",
     "iopub.status.idle": "2021-10-14T00:49:29.401910Z",
     "shell.execute_reply": "2021-10-14T00:49:29.401270Z",
     "shell.execute_reply.started": "2021-10-13T22:50:45.520717Z"
    },
    "papermill": {
     "duration": 0.142986,
     "end_time": "2021-10-14T00:49:29.402050",
     "exception": false,
     "start_time": "2021-10-14T00:49:29.259064",
     "status": "completed"
    },
    "tags": []
   },
   "outputs": [
    {
     "data": {
      "text/plain": [
       "(13580, 21)"
      ]
     },
     "execution_count": 3,
     "metadata": {},
     "output_type": "execute_result"
    }
   ],
   "source": [
    "# Carregando os dados\n",
    "df = pd.read_csv('/kaggle/input/melbourne-housing-snapshot/melb_data.csv')\n",
    "\n",
    "df.shape"
   ]
  },
  {
   "cell_type": "code",
   "execution_count": 4,
   "id": "13f62c02",
   "metadata": {
    "execution": {
     "iopub.execute_input": "2021-10-14T00:49:29.507438Z",
     "iopub.status.busy": "2021-10-14T00:49:29.506641Z",
     "iopub.status.idle": "2021-10-14T00:49:29.537258Z",
     "shell.execute_reply": "2021-10-14T00:49:29.536754Z",
     "shell.execute_reply.started": "2021-10-13T22:50:59.460379Z"
    },
    "papermill": {
     "duration": 0.086155,
     "end_time": "2021-10-14T00:49:29.537405",
     "exception": false,
     "start_time": "2021-10-14T00:49:29.451250",
     "status": "completed"
    },
    "tags": []
   },
   "outputs": [
    {
     "data": {
      "text/html": [
       "<div>\n",
       "<style scoped>\n",
       "    .dataframe tbody tr th:only-of-type {\n",
       "        vertical-align: middle;\n",
       "    }\n",
       "\n",
       "    .dataframe tbody tr th {\n",
       "        vertical-align: top;\n",
       "    }\n",
       "\n",
       "    .dataframe thead th {\n",
       "        text-align: right;\n",
       "    }\n",
       "</style>\n",
       "<table border=\"1\" class=\"dataframe\">\n",
       "  <thead>\n",
       "    <tr style=\"text-align: right;\">\n",
       "      <th></th>\n",
       "      <th>Suburb</th>\n",
       "      <th>Address</th>\n",
       "      <th>Rooms</th>\n",
       "      <th>Type</th>\n",
       "      <th>Price</th>\n",
       "      <th>Method</th>\n",
       "      <th>SellerG</th>\n",
       "      <th>Date</th>\n",
       "      <th>Distance</th>\n",
       "      <th>Postcode</th>\n",
       "      <th>Bedroom2</th>\n",
       "      <th>Bathroom</th>\n",
       "      <th>Car</th>\n",
       "      <th>Landsize</th>\n",
       "      <th>BuildingArea</th>\n",
       "      <th>YearBuilt</th>\n",
       "      <th>CouncilArea</th>\n",
       "      <th>Lattitude</th>\n",
       "      <th>Longtitude</th>\n",
       "      <th>Regionname</th>\n",
       "      <th>Propertycount</th>\n",
       "    </tr>\n",
       "  </thead>\n",
       "  <tbody>\n",
       "    <tr>\n",
       "      <th>0</th>\n",
       "      <td>Abbotsford</td>\n",
       "      <td>85 Turner St</td>\n",
       "      <td>2</td>\n",
       "      <td>h</td>\n",
       "      <td>1480000.0</td>\n",
       "      <td>S</td>\n",
       "      <td>Biggin</td>\n",
       "      <td>3/12/2016</td>\n",
       "      <td>2.5</td>\n",
       "      <td>3067.0</td>\n",
       "      <td>2.0</td>\n",
       "      <td>1.0</td>\n",
       "      <td>1.0</td>\n",
       "      <td>202.0</td>\n",
       "      <td>NaN</td>\n",
       "      <td>NaN</td>\n",
       "      <td>Yarra</td>\n",
       "      <td>-37.7996</td>\n",
       "      <td>144.9984</td>\n",
       "      <td>Northern Metropolitan</td>\n",
       "      <td>4019.0</td>\n",
       "    </tr>\n",
       "    <tr>\n",
       "      <th>1</th>\n",
       "      <td>Abbotsford</td>\n",
       "      <td>25 Bloomburg St</td>\n",
       "      <td>2</td>\n",
       "      <td>h</td>\n",
       "      <td>1035000.0</td>\n",
       "      <td>S</td>\n",
       "      <td>Biggin</td>\n",
       "      <td>4/02/2016</td>\n",
       "      <td>2.5</td>\n",
       "      <td>3067.0</td>\n",
       "      <td>2.0</td>\n",
       "      <td>1.0</td>\n",
       "      <td>0.0</td>\n",
       "      <td>156.0</td>\n",
       "      <td>79.0</td>\n",
       "      <td>1900.0</td>\n",
       "      <td>Yarra</td>\n",
       "      <td>-37.8079</td>\n",
       "      <td>144.9934</td>\n",
       "      <td>Northern Metropolitan</td>\n",
       "      <td>4019.0</td>\n",
       "    </tr>\n",
       "    <tr>\n",
       "      <th>2</th>\n",
       "      <td>Abbotsford</td>\n",
       "      <td>5 Charles St</td>\n",
       "      <td>3</td>\n",
       "      <td>h</td>\n",
       "      <td>1465000.0</td>\n",
       "      <td>SP</td>\n",
       "      <td>Biggin</td>\n",
       "      <td>4/03/2017</td>\n",
       "      <td>2.5</td>\n",
       "      <td>3067.0</td>\n",
       "      <td>3.0</td>\n",
       "      <td>2.0</td>\n",
       "      <td>0.0</td>\n",
       "      <td>134.0</td>\n",
       "      <td>150.0</td>\n",
       "      <td>1900.0</td>\n",
       "      <td>Yarra</td>\n",
       "      <td>-37.8093</td>\n",
       "      <td>144.9944</td>\n",
       "      <td>Northern Metropolitan</td>\n",
       "      <td>4019.0</td>\n",
       "    </tr>\n",
       "    <tr>\n",
       "      <th>3</th>\n",
       "      <td>Abbotsford</td>\n",
       "      <td>40 Federation La</td>\n",
       "      <td>3</td>\n",
       "      <td>h</td>\n",
       "      <td>850000.0</td>\n",
       "      <td>PI</td>\n",
       "      <td>Biggin</td>\n",
       "      <td>4/03/2017</td>\n",
       "      <td>2.5</td>\n",
       "      <td>3067.0</td>\n",
       "      <td>3.0</td>\n",
       "      <td>2.0</td>\n",
       "      <td>1.0</td>\n",
       "      <td>94.0</td>\n",
       "      <td>NaN</td>\n",
       "      <td>NaN</td>\n",
       "      <td>Yarra</td>\n",
       "      <td>-37.7969</td>\n",
       "      <td>144.9969</td>\n",
       "      <td>Northern Metropolitan</td>\n",
       "      <td>4019.0</td>\n",
       "    </tr>\n",
       "    <tr>\n",
       "      <th>4</th>\n",
       "      <td>Abbotsford</td>\n",
       "      <td>55a Park St</td>\n",
       "      <td>4</td>\n",
       "      <td>h</td>\n",
       "      <td>1600000.0</td>\n",
       "      <td>VB</td>\n",
       "      <td>Nelson</td>\n",
       "      <td>4/06/2016</td>\n",
       "      <td>2.5</td>\n",
       "      <td>3067.0</td>\n",
       "      <td>3.0</td>\n",
       "      <td>1.0</td>\n",
       "      <td>2.0</td>\n",
       "      <td>120.0</td>\n",
       "      <td>142.0</td>\n",
       "      <td>2014.0</td>\n",
       "      <td>Yarra</td>\n",
       "      <td>-37.8072</td>\n",
       "      <td>144.9941</td>\n",
       "      <td>Northern Metropolitan</td>\n",
       "      <td>4019.0</td>\n",
       "    </tr>\n",
       "  </tbody>\n",
       "</table>\n",
       "</div>"
      ],
      "text/plain": [
       "       Suburb           Address  Rooms Type      Price Method SellerG  \\\n",
       "0  Abbotsford      85 Turner St      2    h  1480000.0      S  Biggin   \n",
       "1  Abbotsford   25 Bloomburg St      2    h  1035000.0      S  Biggin   \n",
       "2  Abbotsford      5 Charles St      3    h  1465000.0     SP  Biggin   \n",
       "3  Abbotsford  40 Federation La      3    h   850000.0     PI  Biggin   \n",
       "4  Abbotsford       55a Park St      4    h  1600000.0     VB  Nelson   \n",
       "\n",
       "        Date  Distance  Postcode  Bedroom2  Bathroom  Car  Landsize  \\\n",
       "0  3/12/2016       2.5    3067.0       2.0       1.0  1.0     202.0   \n",
       "1  4/02/2016       2.5    3067.0       2.0       1.0  0.0     156.0   \n",
       "2  4/03/2017       2.5    3067.0       3.0       2.0  0.0     134.0   \n",
       "3  4/03/2017       2.5    3067.0       3.0       2.0  1.0      94.0   \n",
       "4  4/06/2016       2.5    3067.0       3.0       1.0  2.0     120.0   \n",
       "\n",
       "   BuildingArea  YearBuilt CouncilArea  Lattitude  Longtitude  \\\n",
       "0           NaN        NaN       Yarra   -37.7996    144.9984   \n",
       "1          79.0     1900.0       Yarra   -37.8079    144.9934   \n",
       "2         150.0     1900.0       Yarra   -37.8093    144.9944   \n",
       "3           NaN        NaN       Yarra   -37.7969    144.9969   \n",
       "4         142.0     2014.0       Yarra   -37.8072    144.9941   \n",
       "\n",
       "              Regionname  Propertycount  \n",
       "0  Northern Metropolitan         4019.0  \n",
       "1  Northern Metropolitan         4019.0  \n",
       "2  Northern Metropolitan         4019.0  \n",
       "3  Northern Metropolitan         4019.0  \n",
       "4  Northern Metropolitan         4019.0  "
      ]
     },
     "execution_count": 4,
     "metadata": {},
     "output_type": "execute_result"
    }
   ],
   "source": [
    "# Dando uma olhada nos dados\n",
    "df.head()"
   ]
  },
  {
   "cell_type": "code",
   "execution_count": 5,
   "id": "a93e4137",
   "metadata": {
    "execution": {
     "iopub.execute_input": "2021-10-14T00:49:29.639876Z",
     "iopub.status.busy": "2021-10-14T00:49:29.639194Z",
     "iopub.status.idle": "2021-10-14T00:49:29.664192Z",
     "shell.execute_reply": "2021-10-14T00:49:29.663697Z",
     "shell.execute_reply.started": "2021-10-13T22:55:14.203795Z"
    },
    "papermill": {
     "duration": 0.077176,
     "end_time": "2021-10-14T00:49:29.664331",
     "exception": false,
     "start_time": "2021-10-14T00:49:29.587155",
     "status": "completed"
    },
    "tags": []
   },
   "outputs": [
    {
     "data": {
      "text/html": [
       "<div>\n",
       "<style scoped>\n",
       "    .dataframe tbody tr th:only-of-type {\n",
       "        vertical-align: middle;\n",
       "    }\n",
       "\n",
       "    .dataframe tbody tr th {\n",
       "        vertical-align: top;\n",
       "    }\n",
       "\n",
       "    .dataframe thead th {\n",
       "        text-align: right;\n",
       "    }\n",
       "</style>\n",
       "<table border=\"1\" class=\"dataframe\">\n",
       "  <thead>\n",
       "    <tr style=\"text-align: right;\">\n",
       "      <th></th>\n",
       "      <th>Suburb</th>\n",
       "      <th>Address</th>\n",
       "      <th>Rooms</th>\n",
       "      <th>Type</th>\n",
       "      <th>Price</th>\n",
       "      <th>Method</th>\n",
       "      <th>SellerG</th>\n",
       "      <th>Date</th>\n",
       "      <th>Distance</th>\n",
       "      <th>Postcode</th>\n",
       "      <th>Bedroom2</th>\n",
       "      <th>Bathroom</th>\n",
       "      <th>Car</th>\n",
       "      <th>Landsize</th>\n",
       "      <th>BuildingArea</th>\n",
       "      <th>YearBuilt</th>\n",
       "      <th>CouncilArea</th>\n",
       "      <th>Lattitude</th>\n",
       "      <th>Longtitude</th>\n",
       "      <th>Regionname</th>\n",
       "      <th>Propertycount</th>\n",
       "    </tr>\n",
       "  </thead>\n",
       "  <tbody>\n",
       "    <tr>\n",
       "      <th>13575</th>\n",
       "      <td>Wheelers Hill</td>\n",
       "      <td>12 Strada Cr</td>\n",
       "      <td>4</td>\n",
       "      <td>h</td>\n",
       "      <td>1245000.0</td>\n",
       "      <td>S</td>\n",
       "      <td>Barry</td>\n",
       "      <td>26/08/2017</td>\n",
       "      <td>16.7</td>\n",
       "      <td>3150.0</td>\n",
       "      <td>4.0</td>\n",
       "      <td>2.0</td>\n",
       "      <td>2.0</td>\n",
       "      <td>652.0</td>\n",
       "      <td>NaN</td>\n",
       "      <td>1981.0</td>\n",
       "      <td>NaN</td>\n",
       "      <td>-37.90562</td>\n",
       "      <td>145.16761</td>\n",
       "      <td>South-Eastern Metropolitan</td>\n",
       "      <td>7392.0</td>\n",
       "    </tr>\n",
       "    <tr>\n",
       "      <th>13576</th>\n",
       "      <td>Williamstown</td>\n",
       "      <td>77 Merrett Dr</td>\n",
       "      <td>3</td>\n",
       "      <td>h</td>\n",
       "      <td>1031000.0</td>\n",
       "      <td>SP</td>\n",
       "      <td>Williams</td>\n",
       "      <td>26/08/2017</td>\n",
       "      <td>6.8</td>\n",
       "      <td>3016.0</td>\n",
       "      <td>3.0</td>\n",
       "      <td>2.0</td>\n",
       "      <td>2.0</td>\n",
       "      <td>333.0</td>\n",
       "      <td>133.0</td>\n",
       "      <td>1995.0</td>\n",
       "      <td>NaN</td>\n",
       "      <td>-37.85927</td>\n",
       "      <td>144.87904</td>\n",
       "      <td>Western Metropolitan</td>\n",
       "      <td>6380.0</td>\n",
       "    </tr>\n",
       "    <tr>\n",
       "      <th>13577</th>\n",
       "      <td>Williamstown</td>\n",
       "      <td>83 Power St</td>\n",
       "      <td>3</td>\n",
       "      <td>h</td>\n",
       "      <td>1170000.0</td>\n",
       "      <td>S</td>\n",
       "      <td>Raine</td>\n",
       "      <td>26/08/2017</td>\n",
       "      <td>6.8</td>\n",
       "      <td>3016.0</td>\n",
       "      <td>3.0</td>\n",
       "      <td>2.0</td>\n",
       "      <td>4.0</td>\n",
       "      <td>436.0</td>\n",
       "      <td>NaN</td>\n",
       "      <td>1997.0</td>\n",
       "      <td>NaN</td>\n",
       "      <td>-37.85274</td>\n",
       "      <td>144.88738</td>\n",
       "      <td>Western Metropolitan</td>\n",
       "      <td>6380.0</td>\n",
       "    </tr>\n",
       "    <tr>\n",
       "      <th>13578</th>\n",
       "      <td>Williamstown</td>\n",
       "      <td>96 Verdon St</td>\n",
       "      <td>4</td>\n",
       "      <td>h</td>\n",
       "      <td>2500000.0</td>\n",
       "      <td>PI</td>\n",
       "      <td>Sweeney</td>\n",
       "      <td>26/08/2017</td>\n",
       "      <td>6.8</td>\n",
       "      <td>3016.0</td>\n",
       "      <td>4.0</td>\n",
       "      <td>1.0</td>\n",
       "      <td>5.0</td>\n",
       "      <td>866.0</td>\n",
       "      <td>157.0</td>\n",
       "      <td>1920.0</td>\n",
       "      <td>NaN</td>\n",
       "      <td>-37.85908</td>\n",
       "      <td>144.89299</td>\n",
       "      <td>Western Metropolitan</td>\n",
       "      <td>6380.0</td>\n",
       "    </tr>\n",
       "    <tr>\n",
       "      <th>13579</th>\n",
       "      <td>Yarraville</td>\n",
       "      <td>6 Agnes St</td>\n",
       "      <td>4</td>\n",
       "      <td>h</td>\n",
       "      <td>1285000.0</td>\n",
       "      <td>SP</td>\n",
       "      <td>Village</td>\n",
       "      <td>26/08/2017</td>\n",
       "      <td>6.3</td>\n",
       "      <td>3013.0</td>\n",
       "      <td>4.0</td>\n",
       "      <td>1.0</td>\n",
       "      <td>1.0</td>\n",
       "      <td>362.0</td>\n",
       "      <td>112.0</td>\n",
       "      <td>1920.0</td>\n",
       "      <td>NaN</td>\n",
       "      <td>-37.81188</td>\n",
       "      <td>144.88449</td>\n",
       "      <td>Western Metropolitan</td>\n",
       "      <td>6543.0</td>\n",
       "    </tr>\n",
       "  </tbody>\n",
       "</table>\n",
       "</div>"
      ],
      "text/plain": [
       "              Suburb        Address  Rooms Type      Price Method   SellerG  \\\n",
       "13575  Wheelers Hill   12 Strada Cr      4    h  1245000.0      S     Barry   \n",
       "13576   Williamstown  77 Merrett Dr      3    h  1031000.0     SP  Williams   \n",
       "13577   Williamstown    83 Power St      3    h  1170000.0      S     Raine   \n",
       "13578   Williamstown   96 Verdon St      4    h  2500000.0     PI   Sweeney   \n",
       "13579     Yarraville     6 Agnes St      4    h  1285000.0     SP   Village   \n",
       "\n",
       "             Date  Distance  Postcode  Bedroom2  Bathroom  Car  Landsize  \\\n",
       "13575  26/08/2017      16.7    3150.0       4.0       2.0  2.0     652.0   \n",
       "13576  26/08/2017       6.8    3016.0       3.0       2.0  2.0     333.0   \n",
       "13577  26/08/2017       6.8    3016.0       3.0       2.0  4.0     436.0   \n",
       "13578  26/08/2017       6.8    3016.0       4.0       1.0  5.0     866.0   \n",
       "13579  26/08/2017       6.3    3013.0       4.0       1.0  1.0     362.0   \n",
       "\n",
       "       BuildingArea  YearBuilt CouncilArea  Lattitude  Longtitude  \\\n",
       "13575           NaN     1981.0         NaN  -37.90562   145.16761   \n",
       "13576         133.0     1995.0         NaN  -37.85927   144.87904   \n",
       "13577           NaN     1997.0         NaN  -37.85274   144.88738   \n",
       "13578         157.0     1920.0         NaN  -37.85908   144.89299   \n",
       "13579         112.0     1920.0         NaN  -37.81188   144.88449   \n",
       "\n",
       "                       Regionname  Propertycount  \n",
       "13575  South-Eastern Metropolitan         7392.0  \n",
       "13576        Western Metropolitan         6380.0  \n",
       "13577        Western Metropolitan         6380.0  \n",
       "13578        Western Metropolitan         6380.0  \n",
       "13579        Western Metropolitan         6543.0  "
      ]
     },
     "execution_count": 5,
     "metadata": {},
     "output_type": "execute_result"
    }
   ],
   "source": [
    "# Final do dataframe\n",
    "df.tail()"
   ]
  },
  {
   "cell_type": "code",
   "execution_count": 6,
   "id": "89340418",
   "metadata": {
    "execution": {
     "iopub.execute_input": "2021-10-14T00:49:29.772850Z",
     "iopub.status.busy": "2021-10-14T00:49:29.769090Z",
     "iopub.status.idle": "2021-10-14T00:49:29.805305Z",
     "shell.execute_reply": "2021-10-14T00:49:29.805975Z",
     "shell.execute_reply.started": "2021-10-13T23:04:19.909656Z"
    },
    "papermill": {
     "duration": 0.091454,
     "end_time": "2021-10-14T00:49:29.806212",
     "exception": false,
     "start_time": "2021-10-14T00:49:29.714758",
     "status": "completed"
    },
    "tags": []
   },
   "outputs": [
    {
     "name": "stdout",
     "output_type": "stream",
     "text": [
      "<class 'pandas.core.frame.DataFrame'>\n",
      "RangeIndex: 13580 entries, 0 to 13579\n",
      "Data columns (total 21 columns):\n",
      " #   Column         Non-Null Count  Dtype  \n",
      "---  ------         --------------  -----  \n",
      " 0   Suburb         13580 non-null  object \n",
      " 1   Address        13580 non-null  object \n",
      " 2   Rooms          13580 non-null  int64  \n",
      " 3   Type           13580 non-null  object \n",
      " 4   Price          13580 non-null  float64\n",
      " 5   Method         13580 non-null  object \n",
      " 6   SellerG        13580 non-null  object \n",
      " 7   Date           13580 non-null  object \n",
      " 8   Distance       13580 non-null  float64\n",
      " 9   Postcode       13580 non-null  float64\n",
      " 10  Bedroom2       13580 non-null  float64\n",
      " 11  Bathroom       13580 non-null  float64\n",
      " 12  Car            13518 non-null  float64\n",
      " 13  Landsize       13580 non-null  float64\n",
      " 14  BuildingArea   7130 non-null   float64\n",
      " 15  YearBuilt      8205 non-null   float64\n",
      " 16  CouncilArea    12211 non-null  object \n",
      " 17  Lattitude      13580 non-null  float64\n",
      " 18  Longtitude     13580 non-null  float64\n",
      " 19  Regionname     13580 non-null  object \n",
      " 20  Propertycount  13580 non-null  float64\n",
      "dtypes: float64(12), int64(1), object(8)\n",
      "memory usage: 2.2+ MB\n"
     ]
    }
   ],
   "source": [
    "# Analisando tamanhos e colunas\n",
    "df.info()"
   ]
  },
  {
   "cell_type": "code",
   "execution_count": 7,
   "id": "96cbf613",
   "metadata": {
    "execution": {
     "iopub.execute_input": "2021-10-14T00:49:29.913338Z",
     "iopub.status.busy": "2021-10-14T00:49:29.912699Z",
     "iopub.status.idle": "2021-10-14T00:49:29.924342Z",
     "shell.execute_reply": "2021-10-14T00:49:29.924858Z",
     "shell.execute_reply.started": "2021-10-13T23:04:57.533059Z"
    },
    "papermill": {
     "duration": 0.06724,
     "end_time": "2021-10-14T00:49:29.925030",
     "exception": false,
     "start_time": "2021-10-14T00:49:29.857790",
     "status": "completed"
    },
    "tags": []
   },
   "outputs": [
    {
     "name": "stdout",
     "output_type": "stream",
     "text": [
      "Index(['Rooms', 'Price', 'Distance', 'Postcode', 'Bedroom2', 'Bathroom', 'Car',\n",
      "       'Landsize', 'BuildingArea', 'YearBuilt', 'Lattitude', 'Longtitude',\n",
      "       'Propertycount'],\n",
      "      dtype='object') 13\n",
      "Index(['Suburb', 'Address', 'Type', 'Method', 'SellerG', 'Date', 'CouncilArea',\n",
      "       'Regionname'],\n",
      "      dtype='object') 8\n"
     ]
    }
   ],
   "source": [
    "# Uma forma fácil de separar as colunas númericas das colunas categóricas\n",
    "num_feats = df.select_dtypes(['int', 'float']).columns\n",
    "\n",
    "cat_feats = df.select_dtypes('object').columns\n",
    "\n",
    "# Visualizando\n",
    "print(num_feats , len(num_feats))\n",
    "print(cat_feats, len(cat_feats))"
   ]
  },
  {
   "cell_type": "code",
   "execution_count": 8,
   "id": "c36613d1",
   "metadata": {
    "execution": {
     "iopub.execute_input": "2021-10-14T00:49:30.030215Z",
     "iopub.status.busy": "2021-10-14T00:49:30.029527Z",
     "iopub.status.idle": "2021-10-14T00:49:30.050756Z",
     "shell.execute_reply": "2021-10-14T00:49:30.050102Z",
     "shell.execute_reply.started": "2021-10-13T23:06:36.822366Z"
    },
    "papermill": {
     "duration": 0.075436,
     "end_time": "2021-10-14T00:49:30.050900",
     "exception": false,
     "start_time": "2021-10-14T00:49:29.975464",
     "status": "completed"
    },
    "tags": []
   },
   "outputs": [
    {
     "data": {
      "text/plain": [
       "BuildingArea     6450\n",
       "YearBuilt        5375\n",
       "CouncilArea      1369\n",
       "Car                62\n",
       "Suburb              0\n",
       "Bathroom            0\n",
       "Regionname          0\n",
       "Longtitude          0\n",
       "Lattitude           0\n",
       "Landsize            0\n",
       "Bedroom2            0\n",
       "Address             0\n",
       "Postcode            0\n",
       "Distance            0\n",
       "Date                0\n",
       "SellerG             0\n",
       "Method              0\n",
       "Price               0\n",
       "Type                0\n",
       "Rooms               0\n",
       "Propertycount       0\n",
       "dtype: int64"
      ]
     },
     "execution_count": 8,
     "metadata": {},
     "output_type": "execute_result"
    }
   ],
   "source": [
    "# Verificando os valores nulos\n",
    "df.isna().sum().sort_values(ascending=False)"
   ]
  },
  {
   "cell_type": "code",
   "execution_count": 9,
   "id": "9c686d9b",
   "metadata": {
    "execution": {
     "iopub.execute_input": "2021-10-14T00:49:30.160812Z",
     "iopub.status.busy": "2021-10-14T00:49:30.159772Z",
     "iopub.status.idle": "2021-10-14T00:49:30.185010Z",
     "shell.execute_reply": "2021-10-14T00:49:30.184441Z",
     "shell.execute_reply.started": "2021-10-13T23:11:13.146073Z"
    },
    "papermill": {
     "duration": 0.083143,
     "end_time": "2021-10-14T00:49:30.185153",
     "exception": false,
     "start_time": "2021-10-14T00:49:30.102010",
     "status": "completed"
    },
    "tags": []
   },
   "outputs": [
    {
     "data": {
      "text/html": [
       "<div>\n",
       "<style scoped>\n",
       "    .dataframe tbody tr th:only-of-type {\n",
       "        vertical-align: middle;\n",
       "    }\n",
       "\n",
       "    .dataframe tbody tr th {\n",
       "        vertical-align: top;\n",
       "    }\n",
       "\n",
       "    .dataframe thead th {\n",
       "        text-align: right;\n",
       "    }\n",
       "</style>\n",
       "<table border=\"1\" class=\"dataframe\">\n",
       "  <thead>\n",
       "    <tr style=\"text-align: right;\">\n",
       "      <th></th>\n",
       "      <th>BuildingArea</th>\n",
       "      <th>YearBuilt</th>\n",
       "      <th>CouncilArea</th>\n",
       "      <th>Car</th>\n",
       "    </tr>\n",
       "  </thead>\n",
       "  <tbody>\n",
       "    <tr>\n",
       "      <th>count</th>\n",
       "      <td>7130.000000</td>\n",
       "      <td>8205.000000</td>\n",
       "      <td>12211</td>\n",
       "      <td>13518.000000</td>\n",
       "    </tr>\n",
       "    <tr>\n",
       "      <th>unique</th>\n",
       "      <td>NaN</td>\n",
       "      <td>NaN</td>\n",
       "      <td>33</td>\n",
       "      <td>NaN</td>\n",
       "    </tr>\n",
       "    <tr>\n",
       "      <th>top</th>\n",
       "      <td>NaN</td>\n",
       "      <td>NaN</td>\n",
       "      <td>Moreland</td>\n",
       "      <td>NaN</td>\n",
       "    </tr>\n",
       "    <tr>\n",
       "      <th>freq</th>\n",
       "      <td>NaN</td>\n",
       "      <td>NaN</td>\n",
       "      <td>1163</td>\n",
       "      <td>NaN</td>\n",
       "    </tr>\n",
       "    <tr>\n",
       "      <th>mean</th>\n",
       "      <td>151.967650</td>\n",
       "      <td>1964.684217</td>\n",
       "      <td>NaN</td>\n",
       "      <td>1.610075</td>\n",
       "    </tr>\n",
       "    <tr>\n",
       "      <th>std</th>\n",
       "      <td>541.014538</td>\n",
       "      <td>37.273762</td>\n",
       "      <td>NaN</td>\n",
       "      <td>0.962634</td>\n",
       "    </tr>\n",
       "    <tr>\n",
       "      <th>min</th>\n",
       "      <td>0.000000</td>\n",
       "      <td>1196.000000</td>\n",
       "      <td>NaN</td>\n",
       "      <td>0.000000</td>\n",
       "    </tr>\n",
       "    <tr>\n",
       "      <th>25%</th>\n",
       "      <td>93.000000</td>\n",
       "      <td>1940.000000</td>\n",
       "      <td>NaN</td>\n",
       "      <td>1.000000</td>\n",
       "    </tr>\n",
       "    <tr>\n",
       "      <th>50%</th>\n",
       "      <td>126.000000</td>\n",
       "      <td>1970.000000</td>\n",
       "      <td>NaN</td>\n",
       "      <td>2.000000</td>\n",
       "    </tr>\n",
       "    <tr>\n",
       "      <th>75%</th>\n",
       "      <td>174.000000</td>\n",
       "      <td>1999.000000</td>\n",
       "      <td>NaN</td>\n",
       "      <td>2.000000</td>\n",
       "    </tr>\n",
       "    <tr>\n",
       "      <th>max</th>\n",
       "      <td>44515.000000</td>\n",
       "      <td>2018.000000</td>\n",
       "      <td>NaN</td>\n",
       "      <td>10.000000</td>\n",
       "    </tr>\n",
       "  </tbody>\n",
       "</table>\n",
       "</div>"
      ],
      "text/plain": [
       "        BuildingArea    YearBuilt CouncilArea           Car\n",
       "count    7130.000000  8205.000000       12211  13518.000000\n",
       "unique           NaN          NaN          33           NaN\n",
       "top              NaN          NaN    Moreland           NaN\n",
       "freq             NaN          NaN        1163           NaN\n",
       "mean      151.967650  1964.684217         NaN      1.610075\n",
       "std       541.014538    37.273762         NaN      0.962634\n",
       "min         0.000000  1196.000000         NaN      0.000000\n",
       "25%        93.000000  1940.000000         NaN      1.000000\n",
       "50%       126.000000  1970.000000         NaN      2.000000\n",
       "75%       174.000000  1999.000000         NaN      2.000000\n",
       "max     44515.000000  2018.000000         NaN     10.000000"
      ]
     },
     "execution_count": 9,
     "metadata": {},
     "output_type": "execute_result"
    }
   ],
   "source": [
    "# São 4 colunas com valores faltantes. Vamos verificar os dados\n",
    "df[['BuildingArea', 'YearBuilt', 'CouncilArea', 'Car']].describe(include='all')"
   ]
  },
  {
   "cell_type": "code",
   "execution_count": 10,
   "id": "24e212e2",
   "metadata": {
    "execution": {
     "iopub.execute_input": "2021-10-14T00:49:30.328046Z",
     "iopub.status.busy": "2021-10-14T00:49:30.327369Z",
     "iopub.status.idle": "2021-10-14T00:49:30.331327Z",
     "shell.execute_reply": "2021-10-14T00:49:30.330817Z",
     "shell.execute_reply.started": "2021-10-13T23:17:36.271880Z"
    },
    "papermill": {
     "duration": 0.094557,
     "end_time": "2021-10-14T00:49:30.331472",
     "exception": false,
     "start_time": "2021-10-14T00:49:30.236915",
     "status": "completed"
    },
    "tags": []
   },
   "outputs": [
    {
     "data": {
      "text/html": [
       "<div>\n",
       "<style scoped>\n",
       "    .dataframe tbody tr th:only-of-type {\n",
       "        vertical-align: middle;\n",
       "    }\n",
       "\n",
       "    .dataframe tbody tr th {\n",
       "        vertical-align: top;\n",
       "    }\n",
       "\n",
       "    .dataframe thead th {\n",
       "        text-align: right;\n",
       "    }\n",
       "</style>\n",
       "<table border=\"1\" class=\"dataframe\">\n",
       "  <thead>\n",
       "    <tr style=\"text-align: right;\">\n",
       "      <th></th>\n",
       "      <th>Suburb</th>\n",
       "      <th>Address</th>\n",
       "      <th>Rooms</th>\n",
       "      <th>Type</th>\n",
       "      <th>Price</th>\n",
       "      <th>Method</th>\n",
       "      <th>SellerG</th>\n",
       "      <th>Date</th>\n",
       "      <th>Distance</th>\n",
       "      <th>Postcode</th>\n",
       "      <th>Bedroom2</th>\n",
       "      <th>Bathroom</th>\n",
       "      <th>Car</th>\n",
       "      <th>Landsize</th>\n",
       "      <th>BuildingArea</th>\n",
       "      <th>YearBuilt</th>\n",
       "      <th>CouncilArea</th>\n",
       "      <th>Lattitude</th>\n",
       "      <th>Longtitude</th>\n",
       "      <th>Regionname</th>\n",
       "      <th>Propertycount</th>\n",
       "    </tr>\n",
       "  </thead>\n",
       "  <tbody>\n",
       "    <tr>\n",
       "      <th>12221</th>\n",
       "      <td>Ascot Vale</td>\n",
       "      <td>132 The Parade</td>\n",
       "      <td>3</td>\n",
       "      <td>h</td>\n",
       "      <td>985000.0</td>\n",
       "      <td>S</td>\n",
       "      <td>Brad</td>\n",
       "      <td>3/09/2017</td>\n",
       "      <td>4.3</td>\n",
       "      <td>3032.0</td>\n",
       "      <td>3.0</td>\n",
       "      <td>1.0</td>\n",
       "      <td>NaN</td>\n",
       "      <td>245.0</td>\n",
       "      <td>91.0</td>\n",
       "      <td>1945.0</td>\n",
       "      <td>NaN</td>\n",
       "      <td>-37.77215</td>\n",
       "      <td>144.91144</td>\n",
       "      <td>Western Metropolitan</td>\n",
       "      <td>6567.0</td>\n",
       "    </tr>\n",
       "    <tr>\n",
       "      <th>12247</th>\n",
       "      <td>Brunswick East</td>\n",
       "      <td>18 Ethel St</td>\n",
       "      <td>2</td>\n",
       "      <td>h</td>\n",
       "      <td>1023000.0</td>\n",
       "      <td>S</td>\n",
       "      <td>Domain</td>\n",
       "      <td>3/09/2017</td>\n",
       "      <td>4.0</td>\n",
       "      <td>3057.0</td>\n",
       "      <td>2.0</td>\n",
       "      <td>1.0</td>\n",
       "      <td>NaN</td>\n",
       "      <td>154.0</td>\n",
       "      <td>76.0</td>\n",
       "      <td>1890.0</td>\n",
       "      <td>NaN</td>\n",
       "      <td>-37.77221</td>\n",
       "      <td>144.97537</td>\n",
       "      <td>Northern Metropolitan</td>\n",
       "      <td>5533.0</td>\n",
       "    </tr>\n",
       "    <tr>\n",
       "      <th>12259</th>\n",
       "      <td>Clifton Hill</td>\n",
       "      <td>34 Fenwick St</td>\n",
       "      <td>3</td>\n",
       "      <td>h</td>\n",
       "      <td>1436000.0</td>\n",
       "      <td>S</td>\n",
       "      <td>Jellis</td>\n",
       "      <td>3/09/2017</td>\n",
       "      <td>3.6</td>\n",
       "      <td>3068.0</td>\n",
       "      <td>3.0</td>\n",
       "      <td>2.0</td>\n",
       "      <td>NaN</td>\n",
       "      <td>123.0</td>\n",
       "      <td>128.0</td>\n",
       "      <td>1990.0</td>\n",
       "      <td>NaN</td>\n",
       "      <td>-37.78888</td>\n",
       "      <td>145.00036</td>\n",
       "      <td>Northern Metropolitan</td>\n",
       "      <td>2954.0</td>\n",
       "    </tr>\n",
       "    <tr>\n",
       "      <th>12320</th>\n",
       "      <td>Glen Waverley</td>\n",
       "      <td>19 Diamond Av</td>\n",
       "      <td>3</td>\n",
       "      <td>h</td>\n",
       "      <td>1370000.0</td>\n",
       "      <td>S</td>\n",
       "      <td>Fletchers</td>\n",
       "      <td>3/09/2017</td>\n",
       "      <td>16.7</td>\n",
       "      <td>3150.0</td>\n",
       "      <td>3.0</td>\n",
       "      <td>1.0</td>\n",
       "      <td>NaN</td>\n",
       "      <td>652.0</td>\n",
       "      <td>NaN</td>\n",
       "      <td>NaN</td>\n",
       "      <td>NaN</td>\n",
       "      <td>-37.87170</td>\n",
       "      <td>145.17267</td>\n",
       "      <td>Eastern Metropolitan</td>\n",
       "      <td>15321.0</td>\n",
       "    </tr>\n",
       "    <tr>\n",
       "      <th>12362</th>\n",
       "      <td>Newport</td>\n",
       "      <td>11 Collingwood Rd</td>\n",
       "      <td>4</td>\n",
       "      <td>h</td>\n",
       "      <td>1180000.0</td>\n",
       "      <td>PI</td>\n",
       "      <td>Williams</td>\n",
       "      <td>3/09/2017</td>\n",
       "      <td>6.2</td>\n",
       "      <td>3015.0</td>\n",
       "      <td>4.0</td>\n",
       "      <td>1.0</td>\n",
       "      <td>NaN</td>\n",
       "      <td>545.0</td>\n",
       "      <td>NaN</td>\n",
       "      <td>NaN</td>\n",
       "      <td>NaN</td>\n",
       "      <td>-37.84399</td>\n",
       "      <td>144.89125</td>\n",
       "      <td>Western Metropolitan</td>\n",
       "      <td>5498.0</td>\n",
       "    </tr>\n",
       "    <tr>\n",
       "      <th>...</th>\n",
       "      <td>...</td>\n",
       "      <td>...</td>\n",
       "      <td>...</td>\n",
       "      <td>...</td>\n",
       "      <td>...</td>\n",
       "      <td>...</td>\n",
       "      <td>...</td>\n",
       "      <td>...</td>\n",
       "      <td>...</td>\n",
       "      <td>...</td>\n",
       "      <td>...</td>\n",
       "      <td>...</td>\n",
       "      <td>...</td>\n",
       "      <td>...</td>\n",
       "      <td>...</td>\n",
       "      <td>...</td>\n",
       "      <td>...</td>\n",
       "      <td>...</td>\n",
       "      <td>...</td>\n",
       "      <td>...</td>\n",
       "      <td>...</td>\n",
       "    </tr>\n",
       "    <tr>\n",
       "      <th>13496</th>\n",
       "      <td>Moonee Ponds</td>\n",
       "      <td>46 Eglinton St</td>\n",
       "      <td>4</td>\n",
       "      <td>h</td>\n",
       "      <td>1525000.0</td>\n",
       "      <td>S</td>\n",
       "      <td>Nelson</td>\n",
       "      <td>26/08/2017</td>\n",
       "      <td>6.2</td>\n",
       "      <td>3039.0</td>\n",
       "      <td>4.0</td>\n",
       "      <td>3.0</td>\n",
       "      <td>NaN</td>\n",
       "      <td>233.0</td>\n",
       "      <td>NaN</td>\n",
       "      <td>NaN</td>\n",
       "      <td>NaN</td>\n",
       "      <td>-37.76884</td>\n",
       "      <td>144.91708</td>\n",
       "      <td>Western Metropolitan</td>\n",
       "      <td>6232.0</td>\n",
       "    </tr>\n",
       "    <tr>\n",
       "      <th>13508</th>\n",
       "      <td>North Melbourne</td>\n",
       "      <td>9 Erskine St</td>\n",
       "      <td>2</td>\n",
       "      <td>h</td>\n",
       "      <td>1080000.0</td>\n",
       "      <td>S</td>\n",
       "      <td>Jellis</td>\n",
       "      <td>26/08/2017</td>\n",
       "      <td>1.8</td>\n",
       "      <td>3051.0</td>\n",
       "      <td>2.0</td>\n",
       "      <td>1.0</td>\n",
       "      <td>NaN</td>\n",
       "      <td>100.0</td>\n",
       "      <td>67.0</td>\n",
       "      <td>1890.0</td>\n",
       "      <td>NaN</td>\n",
       "      <td>-37.79524</td>\n",
       "      <td>144.94642</td>\n",
       "      <td>Northern Metropolitan</td>\n",
       "      <td>6821.0</td>\n",
       "    </tr>\n",
       "    <tr>\n",
       "      <th>13522</th>\n",
       "      <td>Port Melbourne</td>\n",
       "      <td>201 Stokes St</td>\n",
       "      <td>2</td>\n",
       "      <td>h</td>\n",
       "      <td>1515000.0</td>\n",
       "      <td>SP</td>\n",
       "      <td>Marshall</td>\n",
       "      <td>26/08/2017</td>\n",
       "      <td>3.5</td>\n",
       "      <td>3207.0</td>\n",
       "      <td>2.0</td>\n",
       "      <td>2.0</td>\n",
       "      <td>NaN</td>\n",
       "      <td>197.0</td>\n",
       "      <td>NaN</td>\n",
       "      <td>NaN</td>\n",
       "      <td>NaN</td>\n",
       "      <td>-37.83754</td>\n",
       "      <td>144.93954</td>\n",
       "      <td>Southern Metropolitan</td>\n",
       "      <td>8648.0</td>\n",
       "    </tr>\n",
       "    <tr>\n",
       "      <th>13524</th>\n",
       "      <td>Prahran</td>\n",
       "      <td>17 Packington Pl</td>\n",
       "      <td>2</td>\n",
       "      <td>h</td>\n",
       "      <td>1365000.0</td>\n",
       "      <td>S</td>\n",
       "      <td>Jellis</td>\n",
       "      <td>26/08/2017</td>\n",
       "      <td>4.6</td>\n",
       "      <td>3181.0</td>\n",
       "      <td>2.0</td>\n",
       "      <td>1.0</td>\n",
       "      <td>NaN</td>\n",
       "      <td>206.0</td>\n",
       "      <td>100.0</td>\n",
       "      <td>1900.0</td>\n",
       "      <td>NaN</td>\n",
       "      <td>-37.85569</td>\n",
       "      <td>145.00522</td>\n",
       "      <td>Southern Metropolitan</td>\n",
       "      <td>7717.0</td>\n",
       "    </tr>\n",
       "    <tr>\n",
       "      <th>13550</th>\n",
       "      <td>Sunshine North</td>\n",
       "      <td>5 Berkshire Rd</td>\n",
       "      <td>3</td>\n",
       "      <td>h</td>\n",
       "      <td>595000.0</td>\n",
       "      <td>SP</td>\n",
       "      <td>Barry</td>\n",
       "      <td>26/08/2017</td>\n",
       "      <td>10.5</td>\n",
       "      <td>3020.0</td>\n",
       "      <td>3.0</td>\n",
       "      <td>1.0</td>\n",
       "      <td>NaN</td>\n",
       "      <td>589.0</td>\n",
       "      <td>NaN</td>\n",
       "      <td>NaN</td>\n",
       "      <td>NaN</td>\n",
       "      <td>-37.76599</td>\n",
       "      <td>144.84445</td>\n",
       "      <td>Western Metropolitan</td>\n",
       "      <td>4217.0</td>\n",
       "    </tr>\n",
       "  </tbody>\n",
       "</table>\n",
       "<p>62 rows × 21 columns</p>\n",
       "</div>"
      ],
      "text/plain": [
       "                Suburb            Address  Rooms Type      Price Method  \\\n",
       "12221       Ascot Vale     132 The Parade      3    h   985000.0      S   \n",
       "12247   Brunswick East        18 Ethel St      2    h  1023000.0      S   \n",
       "12259     Clifton Hill      34 Fenwick St      3    h  1436000.0      S   \n",
       "12320    Glen Waverley      19 Diamond Av      3    h  1370000.0      S   \n",
       "12362          Newport  11 Collingwood Rd      4    h  1180000.0     PI   \n",
       "...                ...                ...    ...  ...        ...    ...   \n",
       "13496     Moonee Ponds     46 Eglinton St      4    h  1525000.0      S   \n",
       "13508  North Melbourne       9 Erskine St      2    h  1080000.0      S   \n",
       "13522   Port Melbourne      201 Stokes St      2    h  1515000.0     SP   \n",
       "13524          Prahran   17 Packington Pl      2    h  1365000.0      S   \n",
       "13550   Sunshine North     5 Berkshire Rd      3    h   595000.0     SP   \n",
       "\n",
       "         SellerG        Date  Distance  Postcode  Bedroom2  Bathroom  Car  \\\n",
       "12221       Brad   3/09/2017       4.3    3032.0       3.0       1.0  NaN   \n",
       "12247     Domain   3/09/2017       4.0    3057.0       2.0       1.0  NaN   \n",
       "12259     Jellis   3/09/2017       3.6    3068.0       3.0       2.0  NaN   \n",
       "12320  Fletchers   3/09/2017      16.7    3150.0       3.0       1.0  NaN   \n",
       "12362   Williams   3/09/2017       6.2    3015.0       4.0       1.0  NaN   \n",
       "...          ...         ...       ...       ...       ...       ...  ...   \n",
       "13496     Nelson  26/08/2017       6.2    3039.0       4.0       3.0  NaN   \n",
       "13508     Jellis  26/08/2017       1.8    3051.0       2.0       1.0  NaN   \n",
       "13522   Marshall  26/08/2017       3.5    3207.0       2.0       2.0  NaN   \n",
       "13524     Jellis  26/08/2017       4.6    3181.0       2.0       1.0  NaN   \n",
       "13550      Barry  26/08/2017      10.5    3020.0       3.0       1.0  NaN   \n",
       "\n",
       "       Landsize  BuildingArea  YearBuilt CouncilArea  Lattitude  Longtitude  \\\n",
       "12221     245.0          91.0     1945.0         NaN  -37.77215   144.91144   \n",
       "12247     154.0          76.0     1890.0         NaN  -37.77221   144.97537   \n",
       "12259     123.0         128.0     1990.0         NaN  -37.78888   145.00036   \n",
       "12320     652.0           NaN        NaN         NaN  -37.87170   145.17267   \n",
       "12362     545.0           NaN        NaN         NaN  -37.84399   144.89125   \n",
       "...         ...           ...        ...         ...        ...         ...   \n",
       "13496     233.0           NaN        NaN         NaN  -37.76884   144.91708   \n",
       "13508     100.0          67.0     1890.0         NaN  -37.79524   144.94642   \n",
       "13522     197.0           NaN        NaN         NaN  -37.83754   144.93954   \n",
       "13524     206.0         100.0     1900.0         NaN  -37.85569   145.00522   \n",
       "13550     589.0           NaN        NaN         NaN  -37.76599   144.84445   \n",
       "\n",
       "                  Regionname  Propertycount  \n",
       "12221   Western Metropolitan         6567.0  \n",
       "12247  Northern Metropolitan         5533.0  \n",
       "12259  Northern Metropolitan         2954.0  \n",
       "12320   Eastern Metropolitan        15321.0  \n",
       "12362   Western Metropolitan         5498.0  \n",
       "...                      ...            ...  \n",
       "13496   Western Metropolitan         6232.0  \n",
       "13508  Northern Metropolitan         6821.0  \n",
       "13522  Southern Metropolitan         8648.0  \n",
       "13524  Southern Metropolitan         7717.0  \n",
       "13550   Western Metropolitan         4217.0  \n",
       "\n",
       "[62 rows x 21 columns]"
      ]
     },
     "execution_count": 10,
     "metadata": {},
     "output_type": "execute_result"
    }
   ],
   "source": [
    "# Verificando os registros onde 'Car' é nulo\n",
    "df[df['Car'].isna()]"
   ]
  },
  {
   "cell_type": "code",
   "execution_count": 11,
   "id": "c0fffc6f",
   "metadata": {
    "execution": {
     "iopub.execute_input": "2021-10-14T00:49:30.474830Z",
     "iopub.status.busy": "2021-10-14T00:49:30.474169Z",
     "iopub.status.idle": "2021-10-14T00:49:30.478894Z",
     "shell.execute_reply": "2021-10-14T00:49:30.478246Z",
     "shell.execute_reply.started": "2021-10-13T23:46:59.655498Z"
    },
    "papermill": {
     "duration": 0.082442,
     "end_time": "2021-10-14T00:49:30.479033",
     "exception": false,
     "start_time": "2021-10-14T00:49:30.396591",
     "status": "completed"
    },
    "tags": []
   },
   "outputs": [],
   "source": [
    "# Tratamento de valores faltantes\n",
    "\n",
    "# Como a coluna 'Car' só tem 62 valores faltantes, é lógico imaginar\n",
    "# que os valores faltantes correspondem a casas sem garagem.\n",
    "# Então podemos preencher com 0\n",
    "df['Car'].fillna(0, inplace=True)"
   ]
  },
  {
   "cell_type": "code",
   "execution_count": 12,
   "id": "ee6ad5c3",
   "metadata": {
    "execution": {
     "iopub.execute_input": "2021-10-14T00:49:30.590152Z",
     "iopub.status.busy": "2021-10-14T00:49:30.589500Z",
     "iopub.status.idle": "2021-10-14T00:49:30.596788Z",
     "shell.execute_reply": "2021-10-14T00:49:30.597238Z",
     "shell.execute_reply.started": "2021-10-13T23:17:36.317598Z"
    },
    "papermill": {
     "duration": 0.064269,
     "end_time": "2021-10-14T00:49:30.597413",
     "exception": false,
     "start_time": "2021-10-14T00:49:30.533144",
     "status": "completed"
    },
    "tags": []
   },
   "outputs": [
    {
     "data": {
      "text/plain": [
       "'Moreland'"
      ]
     },
     "execution_count": 12,
     "metadata": {},
     "output_type": "execute_result"
    }
   ],
   "source": [
    "# A coluna 'CouncilArea' é categórica, então vamos preencher com os valor mais comum\n",
    "\n",
    "# Qual a área mais comum\n",
    "df['CouncilArea'].mode()[0]"
   ]
  },
  {
   "cell_type": "code",
   "execution_count": 13,
   "id": "db1e5c13",
   "metadata": {
    "execution": {
     "iopub.execute_input": "2021-10-14T00:49:30.706875Z",
     "iopub.status.busy": "2021-10-14T00:49:30.706137Z",
     "iopub.status.idle": "2021-10-14T00:49:30.714392Z",
     "shell.execute_reply": "2021-10-14T00:49:30.714963Z",
     "shell.execute_reply.started": "2021-10-13T23:19:50.431296Z"
    },
    "papermill": {
     "duration": 0.064888,
     "end_time": "2021-10-14T00:49:30.715146",
     "exception": false,
     "start_time": "2021-10-14T00:49:30.650258",
     "status": "completed"
    },
    "tags": []
   },
   "outputs": [
    {
     "data": {
      "text/plain": [
       "7584     Brighton East\n",
       "10797        Reservoir\n",
       "12213       Aberfeldie\n",
       "12214           Albion\n",
       "12215       Alphington\n",
       "             ...      \n",
       "13575    Wheelers Hill\n",
       "13576     Williamstown\n",
       "13577     Williamstown\n",
       "13578     Williamstown\n",
       "13579       Yarraville\n",
       "Name: Suburb, Length: 1369, dtype: object"
      ]
     },
     "execution_count": 13,
     "metadata": {},
     "output_type": "execute_result"
    }
   ],
   "source": [
    "# Mas esse preenchimento não tem muita lógica, já que a área é dependente do bairro\n",
    "\n",
    "# Verificando os 'Suburb' que possuem áreas como NA\n",
    "df[df['CouncilArea'].isna()]['Suburb']"
   ]
  },
  {
   "cell_type": "code",
   "execution_count": 14,
   "id": "732e9b8a",
   "metadata": {
    "execution": {
     "iopub.execute_input": "2021-10-14T00:49:30.826086Z",
     "iopub.status.busy": "2021-10-14T00:49:30.825424Z",
     "iopub.status.idle": "2021-10-14T00:49:30.834447Z",
     "shell.execute_reply": "2021-10-14T00:49:30.833830Z",
     "shell.execute_reply.started": "2021-10-13T23:20:02.518034Z"
    },
    "papermill": {
     "duration": 0.065645,
     "end_time": "2021-10-14T00:49:30.834609",
     "exception": false,
     "start_time": "2021-10-14T00:49:30.768964",
     "status": "completed"
    },
    "tags": []
   },
   "outputs": [
    {
     "data": {
      "text/plain": [
       "263"
      ]
     },
     "execution_count": 14,
     "metadata": {},
     "output_type": "execute_result"
    }
   ],
   "source": [
    "# Qual a quantidade?\n",
    "df[df['CouncilArea'].isna()]['Suburb'].nunique()"
   ]
  },
  {
   "cell_type": "code",
   "execution_count": 15,
   "id": "ff36acd8",
   "metadata": {
    "execution": {
     "iopub.execute_input": "2021-10-14T00:49:30.949646Z",
     "iopub.status.busy": "2021-10-14T00:49:30.944023Z",
     "iopub.status.idle": "2021-10-14T00:49:30.953386Z",
     "shell.execute_reply": "2021-10-14T00:49:30.952865Z",
     "shell.execute_reply.started": "2021-10-13T23:20:29.738235Z"
    },
    "papermill": {
     "duration": 0.065508,
     "end_time": "2021-10-14T00:49:30.953545",
     "exception": false,
     "start_time": "2021-10-14T00:49:30.888037",
     "status": "completed"
    },
    "tags": []
   },
   "outputs": [
    {
     "data": {
      "text/plain": [
       "1"
      ]
     },
     "execution_count": 15,
     "metadata": {},
     "output_type": "execute_result"
    }
   ],
   "source": [
    "# Exemplo -> Wheelers Hill\n",
    "df[df['Suburb'] == 'Wheelers Hill']['CouncilArea'].nunique()"
   ]
  },
  {
   "cell_type": "code",
   "execution_count": 16,
   "id": "e14a1e52",
   "metadata": {
    "execution": {
     "iopub.execute_input": "2021-10-14T00:49:31.072346Z",
     "iopub.status.busy": "2021-10-14T00:49:31.071691Z",
     "iopub.status.idle": "2021-10-14T00:49:31.074303Z",
     "shell.execute_reply": "2021-10-14T00:49:31.074814Z",
     "shell.execute_reply.started": "2021-10-13T23:21:04.191448Z"
    },
    "papermill": {
     "duration": 0.067007,
     "end_time": "2021-10-14T00:49:31.074986",
     "exception": false,
     "start_time": "2021-10-14T00:49:31.007979",
     "status": "completed"
    },
    "tags": []
   },
   "outputs": [
    {
     "data": {
      "text/plain": [
       "0    Monash\n",
       "dtype: object"
      ]
     },
     "execution_count": 16,
     "metadata": {},
     "output_type": "execute_result"
    }
   ],
   "source": [
    "df[df['Suburb'] == 'Wheelers Hill']['CouncilArea'].mode()"
   ]
  },
  {
   "cell_type": "code",
   "execution_count": 17,
   "id": "e94aa731",
   "metadata": {
    "execution": {
     "iopub.execute_input": "2021-10-14T00:49:31.193876Z",
     "iopub.status.busy": "2021-10-14T00:49:31.186523Z",
     "iopub.status.idle": "2021-10-14T00:49:31.195939Z",
     "shell.execute_reply": "2021-10-14T00:49:31.196426Z",
     "shell.execute_reply.started": "2021-10-13T23:21:13.884526Z"
    },
    "papermill": {
     "duration": 0.067729,
     "end_time": "2021-10-14T00:49:31.196613",
     "exception": false,
     "start_time": "2021-10-14T00:49:31.128884",
     "status": "completed"
    },
    "tags": []
   },
   "outputs": [
    {
     "data": {
      "text/plain": [
       "9380     Monash\n",
       "9381     Monash\n",
       "10089    Monash\n",
       "10557    Monash\n",
       "10558    Monash\n",
       "10559    Monash\n",
       "11251    Monash\n",
       "11252    Monash\n",
       "11253    Monash\n",
       "11547    Monash\n",
       "11864    Monash\n",
       "11865    Monash\n",
       "12204    Monash\n",
       "12420       NaN\n",
       "12421       NaN\n",
       "12422       NaN\n",
       "12423       NaN\n",
       "12877       NaN\n",
       "12878       NaN\n",
       "13080       NaN\n",
       "13081       NaN\n",
       "13082       NaN\n",
       "13083       NaN\n",
       "13327       NaN\n",
       "13328       NaN\n",
       "13575       NaN\n",
       "Name: CouncilArea, dtype: object"
      ]
     },
     "execution_count": 17,
     "metadata": {},
     "output_type": "execute_result"
    }
   ],
   "source": [
    "df[df['Suburb'] == 'Wheelers Hill']['CouncilArea']"
   ]
  },
  {
   "cell_type": "code",
   "execution_count": 18,
   "id": "04637f23",
   "metadata": {
    "execution": {
     "iopub.execute_input": "2021-10-14T00:49:31.363394Z",
     "iopub.status.busy": "2021-10-14T00:49:31.309404Z",
     "iopub.status.idle": "2021-10-14T00:49:31.367228Z",
     "shell.execute_reply": "2021-10-14T00:49:31.367750Z",
     "shell.execute_reply.started": "2021-10-13T23:21:59.973848Z"
    },
    "papermill": {
     "duration": 0.116627,
     "end_time": "2021-10-14T00:49:31.367932",
     "exception": false,
     "start_time": "2021-10-14T00:49:31.251305",
     "status": "completed"
    },
    "tags": []
   },
   "outputs": [
    {
     "data": {
      "text/html": [
       "<div>\n",
       "<style scoped>\n",
       "    .dataframe tbody tr th:only-of-type {\n",
       "        vertical-align: middle;\n",
       "    }\n",
       "\n",
       "    .dataframe tbody tr th {\n",
       "        vertical-align: top;\n",
       "    }\n",
       "\n",
       "    .dataframe thead th {\n",
       "        text-align: right;\n",
       "    }\n",
       "</style>\n",
       "<table border=\"1\" class=\"dataframe\">\n",
       "  <thead>\n",
       "    <tr style=\"text-align: right;\">\n",
       "      <th></th>\n",
       "      <th>Suburb</th>\n",
       "      <th>Address</th>\n",
       "      <th>Rooms</th>\n",
       "      <th>Type</th>\n",
       "      <th>Price</th>\n",
       "      <th>Method</th>\n",
       "      <th>SellerG</th>\n",
       "      <th>Date</th>\n",
       "      <th>Distance</th>\n",
       "      <th>Postcode</th>\n",
       "      <th>Bedroom2</th>\n",
       "      <th>Bathroom</th>\n",
       "      <th>Car</th>\n",
       "      <th>Landsize</th>\n",
       "      <th>BuildingArea</th>\n",
       "      <th>YearBuilt</th>\n",
       "      <th>CouncilArea</th>\n",
       "      <th>Lattitude</th>\n",
       "      <th>Longtitude</th>\n",
       "      <th>Regionname</th>\n",
       "      <th>Propertycount</th>\n",
       "    </tr>\n",
       "  </thead>\n",
       "  <tbody>\n",
       "    <tr>\n",
       "      <th>9380</th>\n",
       "      <td>Wheelers Hill</td>\n",
       "      <td>87 Chancellor Dr</td>\n",
       "      <td>4</td>\n",
       "      <td>h</td>\n",
       "      <td>1171000.0</td>\n",
       "      <td>S</td>\n",
       "      <td>Harcourts</td>\n",
       "      <td>3/06/2017</td>\n",
       "      <td>16.7</td>\n",
       "      <td>3150.0</td>\n",
       "      <td>4.0</td>\n",
       "      <td>2.0</td>\n",
       "      <td>3.0</td>\n",
       "      <td>800.0</td>\n",
       "      <td>163.0</td>\n",
       "      <td>1968.0</td>\n",
       "      <td>Monash</td>\n",
       "      <td>-37.92024</td>\n",
       "      <td>145.18049</td>\n",
       "      <td>South-Eastern Metropolitan</td>\n",
       "      <td>7392.0</td>\n",
       "    </tr>\n",
       "    <tr>\n",
       "      <th>9381</th>\n",
       "      <td>Wheelers Hill</td>\n",
       "      <td>16 Jacaranda Rd</td>\n",
       "      <td>3</td>\n",
       "      <td>h</td>\n",
       "      <td>1408000.0</td>\n",
       "      <td>S</td>\n",
       "      <td>Harcourts</td>\n",
       "      <td>3/06/2017</td>\n",
       "      <td>16.7</td>\n",
       "      <td>3150.0</td>\n",
       "      <td>3.0</td>\n",
       "      <td>2.0</td>\n",
       "      <td>1.0</td>\n",
       "      <td>658.0</td>\n",
       "      <td>NaN</td>\n",
       "      <td>NaN</td>\n",
       "      <td>Monash</td>\n",
       "      <td>-37.90618</td>\n",
       "      <td>145.16995</td>\n",
       "      <td>South-Eastern Metropolitan</td>\n",
       "      <td>7392.0</td>\n",
       "    </tr>\n",
       "    <tr>\n",
       "      <th>10089</th>\n",
       "      <td>Wheelers Hill</td>\n",
       "      <td>7 Darvell Cl</td>\n",
       "      <td>4</td>\n",
       "      <td>h</td>\n",
       "      <td>1272000.0</td>\n",
       "      <td>S</td>\n",
       "      <td>Jellis</td>\n",
       "      <td>24/06/2017</td>\n",
       "      <td>16.7</td>\n",
       "      <td>3150.0</td>\n",
       "      <td>4.0</td>\n",
       "      <td>2.0</td>\n",
       "      <td>2.0</td>\n",
       "      <td>733.0</td>\n",
       "      <td>NaN</td>\n",
       "      <td>NaN</td>\n",
       "      <td>Monash</td>\n",
       "      <td>-37.91293</td>\n",
       "      <td>145.20079</td>\n",
       "      <td>South-Eastern Metropolitan</td>\n",
       "      <td>7392.0</td>\n",
       "    </tr>\n",
       "    <tr>\n",
       "      <th>10557</th>\n",
       "      <td>Wheelers Hill</td>\n",
       "      <td>9 Mill Ct</td>\n",
       "      <td>4</td>\n",
       "      <td>h</td>\n",
       "      <td>1200000.0</td>\n",
       "      <td>PI</td>\n",
       "      <td>Rounds</td>\n",
       "      <td>27/05/2017</td>\n",
       "      <td>16.7</td>\n",
       "      <td>3150.0</td>\n",
       "      <td>4.0</td>\n",
       "      <td>3.0</td>\n",
       "      <td>3.0</td>\n",
       "      <td>858.0</td>\n",
       "      <td>NaN</td>\n",
       "      <td>NaN</td>\n",
       "      <td>Monash</td>\n",
       "      <td>-37.91874</td>\n",
       "      <td>145.19157</td>\n",
       "      <td>South-Eastern Metropolitan</td>\n",
       "      <td>7392.0</td>\n",
       "    </tr>\n",
       "    <tr>\n",
       "      <th>10558</th>\n",
       "      <td>Wheelers Hill</td>\n",
       "      <td>49 Phoenix Dr</td>\n",
       "      <td>5</td>\n",
       "      <td>h</td>\n",
       "      <td>1223000.0</td>\n",
       "      <td>S</td>\n",
       "      <td>Ray</td>\n",
       "      <td>27/05/2017</td>\n",
       "      <td>16.7</td>\n",
       "      <td>3150.0</td>\n",
       "      <td>5.0</td>\n",
       "      <td>3.0</td>\n",
       "      <td>2.0</td>\n",
       "      <td>762.0</td>\n",
       "      <td>NaN</td>\n",
       "      <td>NaN</td>\n",
       "      <td>Monash</td>\n",
       "      <td>-37.91199</td>\n",
       "      <td>145.18419</td>\n",
       "      <td>South-Eastern Metropolitan</td>\n",
       "      <td>7392.0</td>\n",
       "    </tr>\n",
       "    <tr>\n",
       "      <th>10559</th>\n",
       "      <td>Wheelers Hill</td>\n",
       "      <td>5 Rubens Ct</td>\n",
       "      <td>4</td>\n",
       "      <td>h</td>\n",
       "      <td>1035000.0</td>\n",
       "      <td>S</td>\n",
       "      <td>Win</td>\n",
       "      <td>27/05/2017</td>\n",
       "      <td>16.7</td>\n",
       "      <td>3150.0</td>\n",
       "      <td>4.0</td>\n",
       "      <td>2.0</td>\n",
       "      <td>2.0</td>\n",
       "      <td>702.0</td>\n",
       "      <td>NaN</td>\n",
       "      <td>NaN</td>\n",
       "      <td>Monash</td>\n",
       "      <td>-37.91075</td>\n",
       "      <td>145.18758</td>\n",
       "      <td>South-Eastern Metropolitan</td>\n",
       "      <td>7392.0</td>\n",
       "    </tr>\n",
       "    <tr>\n",
       "      <th>11251</th>\n",
       "      <td>Wheelers Hill</td>\n",
       "      <td>18 Garnett Rd</td>\n",
       "      <td>4</td>\n",
       "      <td>h</td>\n",
       "      <td>1184000.0</td>\n",
       "      <td>S</td>\n",
       "      <td>Buxton</td>\n",
       "      <td>12/08/2017</td>\n",
       "      <td>16.7</td>\n",
       "      <td>3150.0</td>\n",
       "      <td>4.0</td>\n",
       "      <td>2.0</td>\n",
       "      <td>2.0</td>\n",
       "      <td>700.0</td>\n",
       "      <td>NaN</td>\n",
       "      <td>NaN</td>\n",
       "      <td>Monash</td>\n",
       "      <td>-37.91161</td>\n",
       "      <td>145.19694</td>\n",
       "      <td>South-Eastern Metropolitan</td>\n",
       "      <td>7392.0</td>\n",
       "    </tr>\n",
       "    <tr>\n",
       "      <th>11252</th>\n",
       "      <td>Wheelers Hill</td>\n",
       "      <td>3 Jensen Ct</td>\n",
       "      <td>4</td>\n",
       "      <td>h</td>\n",
       "      <td>1157000.0</td>\n",
       "      <td>PI</td>\n",
       "      <td>Barry</td>\n",
       "      <td>12/08/2017</td>\n",
       "      <td>16.7</td>\n",
       "      <td>3150.0</td>\n",
       "      <td>4.0</td>\n",
       "      <td>2.0</td>\n",
       "      <td>2.0</td>\n",
       "      <td>752.0</td>\n",
       "      <td>162.0</td>\n",
       "      <td>1971.0</td>\n",
       "      <td>Monash</td>\n",
       "      <td>-37.91212</td>\n",
       "      <td>145.17930</td>\n",
       "      <td>South-Eastern Metropolitan</td>\n",
       "      <td>7392.0</td>\n",
       "    </tr>\n",
       "    <tr>\n",
       "      <th>11253</th>\n",
       "      <td>Wheelers Hill</td>\n",
       "      <td>19 Kooringa Cr</td>\n",
       "      <td>5</td>\n",
       "      <td>h</td>\n",
       "      <td>1100000.0</td>\n",
       "      <td>S</td>\n",
       "      <td>Barry</td>\n",
       "      <td>12/08/2017</td>\n",
       "      <td>16.7</td>\n",
       "      <td>3150.0</td>\n",
       "      <td>5.0</td>\n",
       "      <td>2.0</td>\n",
       "      <td>2.0</td>\n",
       "      <td>672.0</td>\n",
       "      <td>237.0</td>\n",
       "      <td>1970.0</td>\n",
       "      <td>Monash</td>\n",
       "      <td>-37.91299</td>\n",
       "      <td>145.17670</td>\n",
       "      <td>South-Eastern Metropolitan</td>\n",
       "      <td>7392.0</td>\n",
       "    </tr>\n",
       "    <tr>\n",
       "      <th>11547</th>\n",
       "      <td>Wheelers Hill</td>\n",
       "      <td>994 Waverley Rd</td>\n",
       "      <td>5</td>\n",
       "      <td>h</td>\n",
       "      <td>1090000.0</td>\n",
       "      <td>S</td>\n",
       "      <td>Ray</td>\n",
       "      <td>15/07/2017</td>\n",
       "      <td>16.7</td>\n",
       "      <td>3150.0</td>\n",
       "      <td>5.0</td>\n",
       "      <td>2.0</td>\n",
       "      <td>2.0</td>\n",
       "      <td>698.0</td>\n",
       "      <td>246.0</td>\n",
       "      <td>1978.0</td>\n",
       "      <td>Monash</td>\n",
       "      <td>-37.89210</td>\n",
       "      <td>145.19118</td>\n",
       "      <td>South-Eastern Metropolitan</td>\n",
       "      <td>7392.0</td>\n",
       "    </tr>\n",
       "    <tr>\n",
       "      <th>11864</th>\n",
       "      <td>Wheelers Hill</td>\n",
       "      <td>11 Bluegum Av</td>\n",
       "      <td>5</td>\n",
       "      <td>h</td>\n",
       "      <td>1591000.0</td>\n",
       "      <td>S</td>\n",
       "      <td>Barry</td>\n",
       "      <td>22/07/2017</td>\n",
       "      <td>16.7</td>\n",
       "      <td>3150.0</td>\n",
       "      <td>5.0</td>\n",
       "      <td>3.0</td>\n",
       "      <td>3.0</td>\n",
       "      <td>923.0</td>\n",
       "      <td>NaN</td>\n",
       "      <td>NaN</td>\n",
       "      <td>Monash</td>\n",
       "      <td>-37.90213</td>\n",
       "      <td>145.18444</td>\n",
       "      <td>South-Eastern Metropolitan</td>\n",
       "      <td>7392.0</td>\n",
       "    </tr>\n",
       "    <tr>\n",
       "      <th>11865</th>\n",
       "      <td>Wheelers Hill</td>\n",
       "      <td>6 Reynolds Av</td>\n",
       "      <td>5</td>\n",
       "      <td>h</td>\n",
       "      <td>1490000.0</td>\n",
       "      <td>S</td>\n",
       "      <td>Ray</td>\n",
       "      <td>22/07/2017</td>\n",
       "      <td>16.7</td>\n",
       "      <td>3150.0</td>\n",
       "      <td>5.0</td>\n",
       "      <td>3.0</td>\n",
       "      <td>4.0</td>\n",
       "      <td>677.0</td>\n",
       "      <td>NaN</td>\n",
       "      <td>NaN</td>\n",
       "      <td>Monash</td>\n",
       "      <td>-37.90893</td>\n",
       "      <td>145.18489</td>\n",
       "      <td>South-Eastern Metropolitan</td>\n",
       "      <td>7392.0</td>\n",
       "    </tr>\n",
       "    <tr>\n",
       "      <th>12204</th>\n",
       "      <td>Wheelers Hill</td>\n",
       "      <td>7 Ondine Dr</td>\n",
       "      <td>5</td>\n",
       "      <td>h</td>\n",
       "      <td>1095000.0</td>\n",
       "      <td>S</td>\n",
       "      <td>Ray</td>\n",
       "      <td>29/07/2017</td>\n",
       "      <td>16.7</td>\n",
       "      <td>3150.0</td>\n",
       "      <td>5.0</td>\n",
       "      <td>2.0</td>\n",
       "      <td>2.0</td>\n",
       "      <td>629.0</td>\n",
       "      <td>NaN</td>\n",
       "      <td>NaN</td>\n",
       "      <td>Monash</td>\n",
       "      <td>-37.91636</td>\n",
       "      <td>145.17581</td>\n",
       "      <td>South-Eastern Metropolitan</td>\n",
       "      <td>7392.0</td>\n",
       "    </tr>\n",
       "    <tr>\n",
       "      <th>12420</th>\n",
       "      <td>Wheelers Hill</td>\n",
       "      <td>16 Belinda Cr</td>\n",
       "      <td>4</td>\n",
       "      <td>h</td>\n",
       "      <td>1223000.0</td>\n",
       "      <td>S</td>\n",
       "      <td>Harcourts</td>\n",
       "      <td>3/09/2017</td>\n",
       "      <td>16.7</td>\n",
       "      <td>3150.0</td>\n",
       "      <td>4.0</td>\n",
       "      <td>3.0</td>\n",
       "      <td>2.0</td>\n",
       "      <td>872.0</td>\n",
       "      <td>NaN</td>\n",
       "      <td>NaN</td>\n",
       "      <td>NaN</td>\n",
       "      <td>-37.90248</td>\n",
       "      <td>145.18700</td>\n",
       "      <td>South-Eastern Metropolitan</td>\n",
       "      <td>7392.0</td>\n",
       "    </tr>\n",
       "    <tr>\n",
       "      <th>12421</th>\n",
       "      <td>Wheelers Hill</td>\n",
       "      <td>3 Cotoneaster Ct</td>\n",
       "      <td>3</td>\n",
       "      <td>h</td>\n",
       "      <td>950000.0</td>\n",
       "      <td>S</td>\n",
       "      <td>Ray</td>\n",
       "      <td>3/09/2017</td>\n",
       "      <td>16.7</td>\n",
       "      <td>3150.0</td>\n",
       "      <td>3.0</td>\n",
       "      <td>2.0</td>\n",
       "      <td>3.0</td>\n",
       "      <td>654.0</td>\n",
       "      <td>NaN</td>\n",
       "      <td>NaN</td>\n",
       "      <td>NaN</td>\n",
       "      <td>-37.91101</td>\n",
       "      <td>145.17293</td>\n",
       "      <td>South-Eastern Metropolitan</td>\n",
       "      <td>7392.0</td>\n",
       "    </tr>\n",
       "    <tr>\n",
       "      <th>12422</th>\n",
       "      <td>Wheelers Hill</td>\n",
       "      <td>17 Highwood Dr</td>\n",
       "      <td>5</td>\n",
       "      <td>h</td>\n",
       "      <td>1206000.0</td>\n",
       "      <td>S</td>\n",
       "      <td>Fletchers</td>\n",
       "      <td>3/09/2017</td>\n",
       "      <td>16.7</td>\n",
       "      <td>3150.0</td>\n",
       "      <td>5.0</td>\n",
       "      <td>2.0</td>\n",
       "      <td>2.0</td>\n",
       "      <td>784.0</td>\n",
       "      <td>NaN</td>\n",
       "      <td>NaN</td>\n",
       "      <td>NaN</td>\n",
       "      <td>-37.89856</td>\n",
       "      <td>145.17682</td>\n",
       "      <td>South-Eastern Metropolitan</td>\n",
       "      <td>7392.0</td>\n",
       "    </tr>\n",
       "    <tr>\n",
       "      <th>12423</th>\n",
       "      <td>Wheelers Hill</td>\n",
       "      <td>6 The Woodland</td>\n",
       "      <td>4</td>\n",
       "      <td>h</td>\n",
       "      <td>1678000.0</td>\n",
       "      <td>S</td>\n",
       "      <td>Harcourts</td>\n",
       "      <td>3/09/2017</td>\n",
       "      <td>16.7</td>\n",
       "      <td>3150.0</td>\n",
       "      <td>4.0</td>\n",
       "      <td>2.0</td>\n",
       "      <td>2.0</td>\n",
       "      <td>943.0</td>\n",
       "      <td>NaN</td>\n",
       "      <td>NaN</td>\n",
       "      <td>NaN</td>\n",
       "      <td>-37.90306</td>\n",
       "      <td>145.18171</td>\n",
       "      <td>South-Eastern Metropolitan</td>\n",
       "      <td>7392.0</td>\n",
       "    </tr>\n",
       "    <tr>\n",
       "      <th>12877</th>\n",
       "      <td>Wheelers Hill</td>\n",
       "      <td>65 Cootamundra Dr</td>\n",
       "      <td>3</td>\n",
       "      <td>h</td>\n",
       "      <td>950000.0</td>\n",
       "      <td>S</td>\n",
       "      <td>Jellis</td>\n",
       "      <td>16/09/2017</td>\n",
       "      <td>16.7</td>\n",
       "      <td>3150.0</td>\n",
       "      <td>3.0</td>\n",
       "      <td>2.0</td>\n",
       "      <td>2.0</td>\n",
       "      <td>651.0</td>\n",
       "      <td>NaN</td>\n",
       "      <td>NaN</td>\n",
       "      <td>NaN</td>\n",
       "      <td>-37.91057</td>\n",
       "      <td>145.17190</td>\n",
       "      <td>South-Eastern Metropolitan</td>\n",
       "      <td>7392.0</td>\n",
       "    </tr>\n",
       "    <tr>\n",
       "      <th>12878</th>\n",
       "      <td>Wheelers Hill</td>\n",
       "      <td>7 Meadowbrook Dr</td>\n",
       "      <td>4</td>\n",
       "      <td>h</td>\n",
       "      <td>1211000.0</td>\n",
       "      <td>S</td>\n",
       "      <td>C21</td>\n",
       "      <td>16/09/2017</td>\n",
       "      <td>16.7</td>\n",
       "      <td>3150.0</td>\n",
       "      <td>4.0</td>\n",
       "      <td>3.0</td>\n",
       "      <td>4.0</td>\n",
       "      <td>653.0</td>\n",
       "      <td>NaN</td>\n",
       "      <td>NaN</td>\n",
       "      <td>NaN</td>\n",
       "      <td>-37.90667</td>\n",
       "      <td>145.17368</td>\n",
       "      <td>South-Eastern Metropolitan</td>\n",
       "      <td>7392.0</td>\n",
       "    </tr>\n",
       "    <tr>\n",
       "      <th>13080</th>\n",
       "      <td>Wheelers Hill</td>\n",
       "      <td>12 Erskine Cr</td>\n",
       "      <td>4</td>\n",
       "      <td>h</td>\n",
       "      <td>1200000.0</td>\n",
       "      <td>S</td>\n",
       "      <td>Ray</td>\n",
       "      <td>19/08/2017</td>\n",
       "      <td>16.7</td>\n",
       "      <td>3150.0</td>\n",
       "      <td>4.0</td>\n",
       "      <td>2.0</td>\n",
       "      <td>2.0</td>\n",
       "      <td>650.0</td>\n",
       "      <td>NaN</td>\n",
       "      <td>NaN</td>\n",
       "      <td>NaN</td>\n",
       "      <td>-37.91026</td>\n",
       "      <td>145.19298</td>\n",
       "      <td>South-Eastern Metropolitan</td>\n",
       "      <td>7392.0</td>\n",
       "    </tr>\n",
       "    <tr>\n",
       "      <th>13081</th>\n",
       "      <td>Wheelers Hill</td>\n",
       "      <td>99 Grandview Rd</td>\n",
       "      <td>4</td>\n",
       "      <td>h</td>\n",
       "      <td>1480000.0</td>\n",
       "      <td>S</td>\n",
       "      <td>Ray</td>\n",
       "      <td>19/08/2017</td>\n",
       "      <td>16.7</td>\n",
       "      <td>3150.0</td>\n",
       "      <td>4.0</td>\n",
       "      <td>3.0</td>\n",
       "      <td>2.0</td>\n",
       "      <td>649.0</td>\n",
       "      <td>NaN</td>\n",
       "      <td>NaN</td>\n",
       "      <td>NaN</td>\n",
       "      <td>-37.91630</td>\n",
       "      <td>145.19612</td>\n",
       "      <td>South-Eastern Metropolitan</td>\n",
       "      <td>7392.0</td>\n",
       "    </tr>\n",
       "    <tr>\n",
       "      <th>13082</th>\n",
       "      <td>Wheelers Hill</td>\n",
       "      <td>2 Rodney Cl</td>\n",
       "      <td>4</td>\n",
       "      <td>h</td>\n",
       "      <td>1500000.0</td>\n",
       "      <td>S</td>\n",
       "      <td>Ray</td>\n",
       "      <td>19/08/2017</td>\n",
       "      <td>16.7</td>\n",
       "      <td>3150.0</td>\n",
       "      <td>4.0</td>\n",
       "      <td>2.0</td>\n",
       "      <td>2.0</td>\n",
       "      <td>657.0</td>\n",
       "      <td>NaN</td>\n",
       "      <td>NaN</td>\n",
       "      <td>NaN</td>\n",
       "      <td>-37.90466</td>\n",
       "      <td>145.19434</td>\n",
       "      <td>South-Eastern Metropolitan</td>\n",
       "      <td>7392.0</td>\n",
       "    </tr>\n",
       "    <tr>\n",
       "      <th>13083</th>\n",
       "      <td>Wheelers Hill</td>\n",
       "      <td>4 Tyrone Ct</td>\n",
       "      <td>4</td>\n",
       "      <td>h</td>\n",
       "      <td>1194700.0</td>\n",
       "      <td>SP</td>\n",
       "      <td>Fletchers</td>\n",
       "      <td>19/08/2017</td>\n",
       "      <td>16.7</td>\n",
       "      <td>3150.0</td>\n",
       "      <td>4.0</td>\n",
       "      <td>2.0</td>\n",
       "      <td>2.0</td>\n",
       "      <td>875.0</td>\n",
       "      <td>NaN</td>\n",
       "      <td>NaN</td>\n",
       "      <td>NaN</td>\n",
       "      <td>-37.92048</td>\n",
       "      <td>145.18258</td>\n",
       "      <td>South-Eastern Metropolitan</td>\n",
       "      <td>7392.0</td>\n",
       "    </tr>\n",
       "    <tr>\n",
       "      <th>13327</th>\n",
       "      <td>Wheelers Hill</td>\n",
       "      <td>17 Plato Cr</td>\n",
       "      <td>3</td>\n",
       "      <td>h</td>\n",
       "      <td>1025000.0</td>\n",
       "      <td>S</td>\n",
       "      <td>Buxton</td>\n",
       "      <td>23/09/2017</td>\n",
       "      <td>16.7</td>\n",
       "      <td>3150.0</td>\n",
       "      <td>3.0</td>\n",
       "      <td>1.0</td>\n",
       "      <td>2.0</td>\n",
       "      <td>691.0</td>\n",
       "      <td>NaN</td>\n",
       "      <td>NaN</td>\n",
       "      <td>NaN</td>\n",
       "      <td>-37.90823</td>\n",
       "      <td>145.16173</td>\n",
       "      <td>South-Eastern Metropolitan</td>\n",
       "      <td>7392.0</td>\n",
       "    </tr>\n",
       "    <tr>\n",
       "      <th>13328</th>\n",
       "      <td>Wheelers Hill</td>\n",
       "      <td>2 Wattleglade Ct</td>\n",
       "      <td>5</td>\n",
       "      <td>h</td>\n",
       "      <td>1660000.0</td>\n",
       "      <td>S</td>\n",
       "      <td>Ray</td>\n",
       "      <td>23/09/2017</td>\n",
       "      <td>16.7</td>\n",
       "      <td>3150.0</td>\n",
       "      <td>5.0</td>\n",
       "      <td>2.0</td>\n",
       "      <td>2.0</td>\n",
       "      <td>790.0</td>\n",
       "      <td>291.0</td>\n",
       "      <td>1990.0</td>\n",
       "      <td>NaN</td>\n",
       "      <td>-37.90001</td>\n",
       "      <td>145.18688</td>\n",
       "      <td>South-Eastern Metropolitan</td>\n",
       "      <td>7392.0</td>\n",
       "    </tr>\n",
       "    <tr>\n",
       "      <th>13575</th>\n",
       "      <td>Wheelers Hill</td>\n",
       "      <td>12 Strada Cr</td>\n",
       "      <td>4</td>\n",
       "      <td>h</td>\n",
       "      <td>1245000.0</td>\n",
       "      <td>S</td>\n",
       "      <td>Barry</td>\n",
       "      <td>26/08/2017</td>\n",
       "      <td>16.7</td>\n",
       "      <td>3150.0</td>\n",
       "      <td>4.0</td>\n",
       "      <td>2.0</td>\n",
       "      <td>2.0</td>\n",
       "      <td>652.0</td>\n",
       "      <td>NaN</td>\n",
       "      <td>1981.0</td>\n",
       "      <td>NaN</td>\n",
       "      <td>-37.90562</td>\n",
       "      <td>145.16761</td>\n",
       "      <td>South-Eastern Metropolitan</td>\n",
       "      <td>7392.0</td>\n",
       "    </tr>\n",
       "  </tbody>\n",
       "</table>\n",
       "</div>"
      ],
      "text/plain": [
       "              Suburb            Address  Rooms Type      Price Method  \\\n",
       "9380   Wheelers Hill   87 Chancellor Dr      4    h  1171000.0      S   \n",
       "9381   Wheelers Hill    16 Jacaranda Rd      3    h  1408000.0      S   \n",
       "10089  Wheelers Hill       7 Darvell Cl      4    h  1272000.0      S   \n",
       "10557  Wheelers Hill          9 Mill Ct      4    h  1200000.0     PI   \n",
       "10558  Wheelers Hill      49 Phoenix Dr      5    h  1223000.0      S   \n",
       "10559  Wheelers Hill        5 Rubens Ct      4    h  1035000.0      S   \n",
       "11251  Wheelers Hill      18 Garnett Rd      4    h  1184000.0      S   \n",
       "11252  Wheelers Hill        3 Jensen Ct      4    h  1157000.0     PI   \n",
       "11253  Wheelers Hill     19 Kooringa Cr      5    h  1100000.0      S   \n",
       "11547  Wheelers Hill    994 Waverley Rd      5    h  1090000.0      S   \n",
       "11864  Wheelers Hill      11 Bluegum Av      5    h  1591000.0      S   \n",
       "11865  Wheelers Hill      6 Reynolds Av      5    h  1490000.0      S   \n",
       "12204  Wheelers Hill        7 Ondine Dr      5    h  1095000.0      S   \n",
       "12420  Wheelers Hill      16 Belinda Cr      4    h  1223000.0      S   \n",
       "12421  Wheelers Hill   3 Cotoneaster Ct      3    h   950000.0      S   \n",
       "12422  Wheelers Hill     17 Highwood Dr      5    h  1206000.0      S   \n",
       "12423  Wheelers Hill     6 The Woodland      4    h  1678000.0      S   \n",
       "12877  Wheelers Hill  65 Cootamundra Dr      3    h   950000.0      S   \n",
       "12878  Wheelers Hill   7 Meadowbrook Dr      4    h  1211000.0      S   \n",
       "13080  Wheelers Hill      12 Erskine Cr      4    h  1200000.0      S   \n",
       "13081  Wheelers Hill    99 Grandview Rd      4    h  1480000.0      S   \n",
       "13082  Wheelers Hill        2 Rodney Cl      4    h  1500000.0      S   \n",
       "13083  Wheelers Hill        4 Tyrone Ct      4    h  1194700.0     SP   \n",
       "13327  Wheelers Hill        17 Plato Cr      3    h  1025000.0      S   \n",
       "13328  Wheelers Hill   2 Wattleglade Ct      5    h  1660000.0      S   \n",
       "13575  Wheelers Hill       12 Strada Cr      4    h  1245000.0      S   \n",
       "\n",
       "         SellerG        Date  Distance  Postcode  Bedroom2  Bathroom  Car  \\\n",
       "9380   Harcourts   3/06/2017      16.7    3150.0       4.0       2.0  3.0   \n",
       "9381   Harcourts   3/06/2017      16.7    3150.0       3.0       2.0  1.0   \n",
       "10089     Jellis  24/06/2017      16.7    3150.0       4.0       2.0  2.0   \n",
       "10557     Rounds  27/05/2017      16.7    3150.0       4.0       3.0  3.0   \n",
       "10558        Ray  27/05/2017      16.7    3150.0       5.0       3.0  2.0   \n",
       "10559        Win  27/05/2017      16.7    3150.0       4.0       2.0  2.0   \n",
       "11251     Buxton  12/08/2017      16.7    3150.0       4.0       2.0  2.0   \n",
       "11252      Barry  12/08/2017      16.7    3150.0       4.0       2.0  2.0   \n",
       "11253      Barry  12/08/2017      16.7    3150.0       5.0       2.0  2.0   \n",
       "11547        Ray  15/07/2017      16.7    3150.0       5.0       2.0  2.0   \n",
       "11864      Barry  22/07/2017      16.7    3150.0       5.0       3.0  3.0   \n",
       "11865        Ray  22/07/2017      16.7    3150.0       5.0       3.0  4.0   \n",
       "12204        Ray  29/07/2017      16.7    3150.0       5.0       2.0  2.0   \n",
       "12420  Harcourts   3/09/2017      16.7    3150.0       4.0       3.0  2.0   \n",
       "12421        Ray   3/09/2017      16.7    3150.0       3.0       2.0  3.0   \n",
       "12422  Fletchers   3/09/2017      16.7    3150.0       5.0       2.0  2.0   \n",
       "12423  Harcourts   3/09/2017      16.7    3150.0       4.0       2.0  2.0   \n",
       "12877     Jellis  16/09/2017      16.7    3150.0       3.0       2.0  2.0   \n",
       "12878        C21  16/09/2017      16.7    3150.0       4.0       3.0  4.0   \n",
       "13080        Ray  19/08/2017      16.7    3150.0       4.0       2.0  2.0   \n",
       "13081        Ray  19/08/2017      16.7    3150.0       4.0       3.0  2.0   \n",
       "13082        Ray  19/08/2017      16.7    3150.0       4.0       2.0  2.0   \n",
       "13083  Fletchers  19/08/2017      16.7    3150.0       4.0       2.0  2.0   \n",
       "13327     Buxton  23/09/2017      16.7    3150.0       3.0       1.0  2.0   \n",
       "13328        Ray  23/09/2017      16.7    3150.0       5.0       2.0  2.0   \n",
       "13575      Barry  26/08/2017      16.7    3150.0       4.0       2.0  2.0   \n",
       "\n",
       "       Landsize  BuildingArea  YearBuilt CouncilArea  Lattitude  Longtitude  \\\n",
       "9380      800.0         163.0     1968.0      Monash  -37.92024   145.18049   \n",
       "9381      658.0           NaN        NaN      Monash  -37.90618   145.16995   \n",
       "10089     733.0           NaN        NaN      Monash  -37.91293   145.20079   \n",
       "10557     858.0           NaN        NaN      Monash  -37.91874   145.19157   \n",
       "10558     762.0           NaN        NaN      Monash  -37.91199   145.18419   \n",
       "10559     702.0           NaN        NaN      Monash  -37.91075   145.18758   \n",
       "11251     700.0           NaN        NaN      Monash  -37.91161   145.19694   \n",
       "11252     752.0         162.0     1971.0      Monash  -37.91212   145.17930   \n",
       "11253     672.0         237.0     1970.0      Monash  -37.91299   145.17670   \n",
       "11547     698.0         246.0     1978.0      Monash  -37.89210   145.19118   \n",
       "11864     923.0           NaN        NaN      Monash  -37.90213   145.18444   \n",
       "11865     677.0           NaN        NaN      Monash  -37.90893   145.18489   \n",
       "12204     629.0           NaN        NaN      Monash  -37.91636   145.17581   \n",
       "12420     872.0           NaN        NaN         NaN  -37.90248   145.18700   \n",
       "12421     654.0           NaN        NaN         NaN  -37.91101   145.17293   \n",
       "12422     784.0           NaN        NaN         NaN  -37.89856   145.17682   \n",
       "12423     943.0           NaN        NaN         NaN  -37.90306   145.18171   \n",
       "12877     651.0           NaN        NaN         NaN  -37.91057   145.17190   \n",
       "12878     653.0           NaN        NaN         NaN  -37.90667   145.17368   \n",
       "13080     650.0           NaN        NaN         NaN  -37.91026   145.19298   \n",
       "13081     649.0           NaN        NaN         NaN  -37.91630   145.19612   \n",
       "13082     657.0           NaN        NaN         NaN  -37.90466   145.19434   \n",
       "13083     875.0           NaN        NaN         NaN  -37.92048   145.18258   \n",
       "13327     691.0           NaN        NaN         NaN  -37.90823   145.16173   \n",
       "13328     790.0         291.0     1990.0         NaN  -37.90001   145.18688   \n",
       "13575     652.0           NaN     1981.0         NaN  -37.90562   145.16761   \n",
       "\n",
       "                       Regionname  Propertycount  \n",
       "9380   South-Eastern Metropolitan         7392.0  \n",
       "9381   South-Eastern Metropolitan         7392.0  \n",
       "10089  South-Eastern Metropolitan         7392.0  \n",
       "10557  South-Eastern Metropolitan         7392.0  \n",
       "10558  South-Eastern Metropolitan         7392.0  \n",
       "10559  South-Eastern Metropolitan         7392.0  \n",
       "11251  South-Eastern Metropolitan         7392.0  \n",
       "11252  South-Eastern Metropolitan         7392.0  \n",
       "11253  South-Eastern Metropolitan         7392.0  \n",
       "11547  South-Eastern Metropolitan         7392.0  \n",
       "11864  South-Eastern Metropolitan         7392.0  \n",
       "11865  South-Eastern Metropolitan         7392.0  \n",
       "12204  South-Eastern Metropolitan         7392.0  \n",
       "12420  South-Eastern Metropolitan         7392.0  \n",
       "12421  South-Eastern Metropolitan         7392.0  \n",
       "12422  South-Eastern Metropolitan         7392.0  \n",
       "12423  South-Eastern Metropolitan         7392.0  \n",
       "12877  South-Eastern Metropolitan         7392.0  \n",
       "12878  South-Eastern Metropolitan         7392.0  \n",
       "13080  South-Eastern Metropolitan         7392.0  \n",
       "13081  South-Eastern Metropolitan         7392.0  \n",
       "13082  South-Eastern Metropolitan         7392.0  \n",
       "13083  South-Eastern Metropolitan         7392.0  \n",
       "13327  South-Eastern Metropolitan         7392.0  \n",
       "13328  South-Eastern Metropolitan         7392.0  \n",
       "13575  South-Eastern Metropolitan         7392.0  "
      ]
     },
     "execution_count": 18,
     "metadata": {},
     "output_type": "execute_result"
    }
   ],
   "source": [
    "df[df['Suburb'] == 'Wheelers Hill']"
   ]
  },
  {
   "cell_type": "code",
   "execution_count": 19,
   "id": "db0b58fa",
   "metadata": {
    "execution": {
     "iopub.execute_input": "2021-10-14T00:49:31.490132Z",
     "iopub.status.busy": "2021-10-14T00:49:31.489343Z",
     "iopub.status.idle": "2021-10-14T00:49:31.492432Z",
     "shell.execute_reply": "2021-10-14T00:49:31.492967Z",
     "shell.execute_reply.started": "2021-10-13T23:25:01.918225Z"
    },
    "papermill": {
     "duration": 0.068611,
     "end_time": "2021-10-14T00:49:31.493141",
     "exception": false,
     "start_time": "2021-10-14T00:49:31.424530",
     "status": "completed"
    },
    "tags": []
   },
   "outputs": [
    {
     "data": {
      "text/plain": [
       "1"
      ]
     },
     "execution_count": 19,
     "metadata": {},
     "output_type": "execute_result"
    }
   ],
   "source": [
    "# Exemplo -> Williamstown\n",
    "df[df['Suburb'] == 'Williamstown']['CouncilArea'].nunique()"
   ]
  },
  {
   "cell_type": "code",
   "execution_count": 20,
   "id": "5ab8602d",
   "metadata": {
    "execution": {
     "iopub.execute_input": "2021-10-14T00:49:31.609460Z",
     "iopub.status.busy": "2021-10-14T00:49:31.608504Z",
     "iopub.status.idle": "2021-10-14T00:49:31.618260Z",
     "shell.execute_reply": "2021-10-14T00:49:31.618767Z",
     "shell.execute_reply.started": "2021-10-13T23:25:11.880463Z"
    },
    "papermill": {
     "duration": 0.069462,
     "end_time": "2021-10-14T00:49:31.618940",
     "exception": false,
     "start_time": "2021-10-14T00:49:31.549478",
     "status": "completed"
    },
    "tags": []
   },
   "outputs": [
    {
     "data": {
      "text/plain": [
       "6485     Hobsons Bay\n",
       "6486     Hobsons Bay\n",
       "6487     Hobsons Bay\n",
       "6488     Hobsons Bay\n",
       "6489     Hobsons Bay\n",
       "            ...     \n",
       "13084            NaN\n",
       "13329            NaN\n",
       "13576            NaN\n",
       "13577            NaN\n",
       "13578            NaN\n",
       "Name: CouncilArea, Length: 107, dtype: object"
      ]
     },
     "execution_count": 20,
     "metadata": {},
     "output_type": "execute_result"
    }
   ],
   "source": [
    "df[df['Suburb'] == 'Williamstown']['CouncilArea']"
   ]
  },
  {
   "cell_type": "code",
   "execution_count": 21,
   "id": "3c57e904",
   "metadata": {
    "execution": {
     "iopub.execute_input": "2021-10-14T00:49:31.735456Z",
     "iopub.status.busy": "2021-10-14T00:49:31.734460Z",
     "iopub.status.idle": "2021-10-14T00:49:31.744588Z",
     "shell.execute_reply": "2021-10-14T00:49:31.743954Z",
     "shell.execute_reply.started": "2021-10-13T23:25:18.025376Z"
    },
    "papermill": {
     "duration": 0.069575,
     "end_time": "2021-10-14T00:49:31.744730",
     "exception": false,
     "start_time": "2021-10-14T00:49:31.675155",
     "status": "completed"
    },
    "tags": []
   },
   "outputs": [
    {
     "data": {
      "text/plain": [
       "0    Hobsons Bay\n",
       "dtype: object"
      ]
     },
     "execution_count": 21,
     "metadata": {},
     "output_type": "execute_result"
    }
   ],
   "source": [
    "df[df['Suburb'] == 'Williamstown']['CouncilArea'].mode()"
   ]
  },
  {
   "cell_type": "code",
   "execution_count": 22,
   "id": "b92d7e47",
   "metadata": {
    "execution": {
     "iopub.execute_input": "2021-10-14T00:49:31.862822Z",
     "iopub.status.busy": "2021-10-14T00:49:31.862141Z",
     "iopub.status.idle": "2021-10-14T00:49:31.865426Z",
     "shell.execute_reply": "2021-10-14T00:49:31.864893Z",
     "shell.execute_reply.started": "2021-10-13T21:18:28.827356Z"
    },
    "papermill": {
     "duration": 0.063869,
     "end_time": "2021-10-14T00:49:31.865593",
     "exception": false,
     "start_time": "2021-10-14T00:49:31.801724",
     "status": "completed"
    },
    "tags": []
   },
   "outputs": [],
   "source": [
    "# Montar código para preencher os valores de 'CouncilArea' dentro de cada 'Suburb' de acordo com o valor mais frequente\n",
    "# dentro daquele mesmo 'Suburb'"
   ]
  },
  {
   "cell_type": "code",
   "execution_count": 23,
   "id": "1089550a",
   "metadata": {
    "execution": {
     "iopub.execute_input": "2021-10-14T00:49:31.982549Z",
     "iopub.status.busy": "2021-10-14T00:49:31.981892Z",
     "iopub.status.idle": "2021-10-14T00:49:31.989957Z",
     "shell.execute_reply": "2021-10-14T00:49:31.990480Z",
     "shell.execute_reply.started": "2021-10-13T23:28:05.252917Z"
    },
    "papermill": {
     "duration": 0.068204,
     "end_time": "2021-10-14T00:49:31.990665",
     "exception": false,
     "start_time": "2021-10-14T00:49:31.922461",
     "status": "completed"
    },
    "tags": []
   },
   "outputs": [
    {
     "data": {
      "text/plain": [
       "263"
      ]
     },
     "execution_count": 23,
     "metadata": {},
     "output_type": "execute_result"
    }
   ],
   "source": [
    "# Número de 'Suburb' com 'CouncilArea' nulo\n",
    "df[df['CouncilArea'].isna()]['Suburb'].nunique()"
   ]
  },
  {
   "cell_type": "code",
   "execution_count": 24,
   "id": "28466a4a",
   "metadata": {
    "execution": {
     "iopub.execute_input": "2021-10-14T00:49:32.108783Z",
     "iopub.status.busy": "2021-10-14T00:49:32.108100Z",
     "iopub.status.idle": "2021-10-14T00:49:32.117120Z",
     "shell.execute_reply": "2021-10-14T00:49:32.117650Z",
     "shell.execute_reply.started": "2021-10-13T23:33:36.842535Z"
    },
    "papermill": {
     "duration": 0.070177,
     "end_time": "2021-10-14T00:49:32.117829",
     "exception": false,
     "start_time": "2021-10-14T00:49:32.047652",
     "status": "completed"
    },
    "tags": []
   },
   "outputs": [
    {
     "data": {
      "text/plain": [
       "array(['Brighton East', 'Reservoir', 'Aberfeldie', 'Albion', 'Alphington',\n",
       "       'Altona', 'Altona Meadows', 'Altona North', 'Armadale',\n",
       "       'Ascot Vale', 'Balaclava', 'Balwyn North', 'Bayswater',\n",
       "       'Bentleigh East', 'Berwick', 'Black Rock', 'Blackburn North',\n",
       "       'Box Hill', 'Briar Hill', 'Brighton', 'Broadmeadows', 'Brunswick',\n",
       "       'Brunswick East', 'Bundoora', 'Burnside', 'Burwood East',\n",
       "       'Camberwell', 'Carlton North', 'Caulfield East', 'Cheltenham',\n",
       "       'Clayton South', 'Clifton Hill', 'Coburg', 'Coburg North',\n",
       "       'Coolaroo', 'Craigieburn', 'Croydon', 'Croydon Hills',\n",
       "       'Croydon North', 'Dallas', 'Dandenong', 'Dandenong North',\n",
       "       'Diamond Creek', 'Dingley Village', 'Doncaster', 'Doncaster East',\n",
       "       'Donvale', 'Doreen', 'Eltham North', 'Elwood', 'Epping',\n",
       "       'Essendon', 'Essendon North', 'Fairfield', 'Fawkner',\n",
       "       'Ferntree Gully', 'Fitzroy', 'Flemington', 'Footscray',\n",
       "       'Forest Hill', 'Frankston', 'Frankston South', 'Gladstone Park',\n",
       "       'Glen Iris', 'Glen Waverley', 'Glenroy', 'Gowanbrae',\n",
       "       'Greensborough', 'Greenvale', 'Hampton', 'Highett',\n",
       "       'Hoppers Crossing', 'Huntingdale', 'Kealba', 'Keilor East', 'Kew',\n",
       "       'Kew East', 'Lalor', 'Maidstone', 'Malvern East', 'Maribyrnong',\n",
       "       'Meadow Heights', 'Melton', 'Melton West', 'Mentone',\n",
       "       'Moonee Ponds', 'Moorabbin', 'Mordialloc', 'Mount Waverley',\n",
       "       'Mulgrave', 'Newport', 'Niddrie', 'North Melbourne', 'Northcote',\n",
       "       'Oakleigh', 'Oakleigh South', 'Ormond', 'Parkdale', 'Pascoe Vale',\n",
       "       'Point Cook', 'Port Melbourne', 'Prahran', 'Richmond', 'Ringwood',\n",
       "       'Roxburgh Park', 'South Melbourne', 'South Yarra', 'Springvale',\n",
       "       'Springvale South', 'St Albans', 'Strathmore', 'Sunbury',\n",
       "       'Sunshine North', 'Sunshine West', 'Taylors Lakes', 'Thornbury',\n",
       "       'Tullamarine', 'Warrandyte', 'Werribee', 'West Footscray',\n",
       "       'West Melbourne', 'Wheelers Hill', 'Williamstown', 'Windsor',\n",
       "       'Yarraville', 'Airport West', 'Ashburton', 'Aspendale',\n",
       "       'Aspendale Gardens', 'Attwood', 'Balwyn', 'Bayswater North',\n",
       "       'Beaumaris', 'Bentleigh', 'Blackburn', 'Braybrook',\n",
       "       'Brunswick West', 'Bulleen', 'Burwood', 'Canterbury', 'Carlton',\n",
       "       'Collingwood', 'Cremorne', 'Deer Park', 'Derrimut', 'Eltham',\n",
       "       'Gisborne', 'Hadfield', 'Hawthorn', 'Hawthorn East', 'Heathmont',\n",
       "       'Heidelberg Heights', 'Hillside', 'Hurstbridge', 'Ivanhoe East',\n",
       "       'Keilor', 'Keilor Downs', 'Keilor Lodge', 'Kingsville', 'Malvern',\n",
       "       'Melton South', 'Mernda', 'Middle Park', 'Mill Park', 'Mitcham',\n",
       "       'Mont Albert', 'Mooroolbark', 'Murrumbeena', 'North Warrandyte',\n",
       "       'Preston', 'Ringwood East', 'Ringwood North', 'Rosanna',\n",
       "       'Sandringham', 'Seaford', 'South Morang', 'Surrey Hills',\n",
       "       'Templestowe Lower', 'Thomastown', 'Wantirna', 'Wantirna South',\n",
       "       'Waterways', 'Westmeadows', 'Wollert', 'Albert Park',\n",
       "       'Avondale Heights', 'Blackburn South', 'Bonbeach', 'Boronia',\n",
       "       'Carnegie', 'Carrum Downs', 'Chelsea', 'Clayton', 'Doveton',\n",
       "       'Fitzroy North', 'Hallam', 'Hampton East', 'Heidelberg West',\n",
       "       'Jacana', 'Montmorency', 'Narre Warren', 'Oak Park',\n",
       "       'Princes Hill', 'Scoresby', 'Sunshine', 'Templestowe', 'Toorak',\n",
       "       'Vermont', 'Viewbank', 'Wallan', 'Watsonia', 'Watsonia North',\n",
       "       'Williams Landing', 'Williamstown North', 'Abbotsford',\n",
       "       'Albanvale', 'Ardeer', 'Ashwood', 'Campbellfield',\n",
       "       'Caroline Springs', 'Caulfield South', 'Chelsea Heights',\n",
       "       'Clarinda', 'Eaglemont', 'Edithvale', 'Elsternwick', 'Kensington',\n",
       "       'Kilsyth', 'McKinnon', 'Mount Evelyn', 'Nunawading', 'Spotswood',\n",
       "       'Strathmore Heights', 'Truganina', 'Vermont South', 'Wyndham Vale',\n",
       "       'Yallambie', 'Brooklyn', 'Burnside Heights', 'Delahey',\n",
       "       'Glen Huntly', 'Heidelberg', 'Keysborough', 'New Gisborne',\n",
       "       'Notting Hill', 'Oakleigh East', 'Plumpton', 'Seddon', 'St Helena',\n",
       "       'St Kilda', 'The Basin', 'Bellfield', 'Chadstone', 'Cranbourne',\n",
       "       'Frankston North', 'Hampton Park', 'Ivanhoe', 'Keilor Park',\n",
       "       'Kings Park', 'Kooyong', 'Langwarrin', 'Monbulk', 'Tarneit'],\n",
       "      dtype=object)"
      ]
     },
     "execution_count": 24,
     "metadata": {},
     "output_type": "execute_result"
    }
   ],
   "source": [
    "# Lista dos 'Suburb' com 'CouncilArea' nulo\n",
    "suburb_list = df[df['CouncilArea'].isna()]['Suburb'].unique()\n",
    "\n",
    "suburb_list"
   ]
  },
  {
   "cell_type": "code",
   "execution_count": 25,
   "id": "3678e8bd",
   "metadata": {
    "execution": {
     "iopub.execute_input": "2021-10-14T00:49:32.277902Z",
     "iopub.status.busy": "2021-10-14T00:49:32.250815Z",
     "iopub.status.idle": "2021-10-14T00:49:34.371685Z",
     "shell.execute_reply": "2021-10-14T00:49:34.371062Z",
     "shell.execute_reply.started": "2021-10-14T00:21:16.501921Z"
    },
    "papermill": {
     "duration": 2.195073,
     "end_time": "2021-10-14T00:49:34.371836",
     "exception": false,
     "start_time": "2021-10-14T00:49:32.176763",
     "status": "completed"
    },
    "tags": []
   },
   "outputs": [],
   "source": [
    "# Precorrer a lista\n",
    "for sub in suburb_list:\n",
    "    # Verificando se existe algum 'CouncilArea' nesse \"Suburb\"\n",
    "    if (df.loc[df['Suburb'] == sub]['CouncilArea'].nunique() == 0):\n",
    "        # Se não existir preenche com o padrão (maior ocorrência)\n",
    "        df.loc[df['Suburb'] == sub, 'CouncilArea'] = 'Moreland'\n",
    "    else:\n",
    "        # Se existir preenche com o valor mais comum dentro do próprio 'Suburb'\n",
    "        df.loc[df['Suburb'] == sub, 'CouncilArea'] = df.loc[df['Suburb'] == sub]['CouncilArea'].mode()[0]"
   ]
  },
  {
   "cell_type": "code",
   "execution_count": 26,
   "id": "4310931a",
   "metadata": {
    "execution": {
     "iopub.execute_input": "2021-10-14T00:49:34.506362Z",
     "iopub.status.busy": "2021-10-14T00:49:34.505369Z",
     "iopub.status.idle": "2021-10-14T00:49:34.513041Z",
     "shell.execute_reply": "2021-10-14T00:49:34.512472Z",
     "shell.execute_reply.started": "2021-10-14T00:21:23.655671Z"
    },
    "papermill": {
     "duration": 0.083111,
     "end_time": "2021-10-14T00:49:34.513187",
     "exception": false,
     "start_time": "2021-10-14T00:49:34.430076",
     "status": "completed"
    },
    "tags": []
   },
   "outputs": [
    {
     "data": {
      "text/plain": [
       "BuildingArea     6450\n",
       "YearBuilt        5375\n",
       "Suburb              0\n",
       "Bathroom            0\n",
       "Regionname          0\n",
       "Longtitude          0\n",
       "Lattitude           0\n",
       "CouncilArea         0\n",
       "Landsize            0\n",
       "Car                 0\n",
       "Bedroom2            0\n",
       "Address             0\n",
       "Postcode            0\n",
       "Distance            0\n",
       "Date                0\n",
       "SellerG             0\n",
       "Method              0\n",
       "Price               0\n",
       "Type                0\n",
       "Rooms               0\n",
       "Propertycount       0\n",
       "dtype: int64"
      ]
     },
     "execution_count": 26,
     "metadata": {},
     "output_type": "execute_result"
    }
   ],
   "source": [
    "# Vamos verificar os valores nulos\n",
    "df.isna().sum().sort_values(ascending=False)"
   ]
  },
  {
   "cell_type": "code",
   "execution_count": 27,
   "id": "e82d8eb2",
   "metadata": {
    "execution": {
     "iopub.execute_input": "2021-10-14T00:49:34.641514Z",
     "iopub.status.busy": "2021-10-14T00:49:34.633988Z",
     "iopub.status.idle": "2021-10-14T00:49:34.645399Z",
     "shell.execute_reply": "2021-10-14T00:49:34.644872Z",
     "shell.execute_reply.started": "2021-10-14T00:33:43.362881Z"
    },
    "papermill": {
     "duration": 0.073932,
     "end_time": "2021-10-14T00:49:34.645548",
     "exception": false,
     "start_time": "2021-10-14T00:49:34.571616",
     "status": "completed"
    },
    "tags": []
   },
   "outputs": [],
   "source": [
    "# O ano de construção será preenchido como o ano mais frequente\n",
    "df['YearBuilt'] = df['YearBuilt'].fillna(df['YearBuilt'].mode()[0])\n",
    "\n",
    "# E a área construído com a média\n",
    "df['BuildingArea'] = df['BuildingArea'].fillna(df['BuildingArea'].mean())"
   ]
  },
  {
   "cell_type": "code",
   "execution_count": 28,
   "id": "64ae7ee5",
   "metadata": {
    "execution": {
     "iopub.execute_input": "2021-10-14T00:49:34.766650Z",
     "iopub.status.busy": "2021-10-14T00:49:34.765682Z",
     "iopub.status.idle": "2021-10-14T00:49:34.785908Z",
     "shell.execute_reply": "2021-10-14T00:49:34.786357Z",
     "shell.execute_reply.started": "2021-10-14T00:33:46.729603Z"
    },
    "papermill": {
     "duration": 0.082795,
     "end_time": "2021-10-14T00:49:34.786532",
     "exception": false,
     "start_time": "2021-10-14T00:49:34.703737",
     "status": "completed"
    },
    "tags": []
   },
   "outputs": [
    {
     "data": {
      "text/plain": [
       "Suburb           False\n",
       "Address          False\n",
       "Rooms            False\n",
       "Type             False\n",
       "Price            False\n",
       "Method           False\n",
       "SellerG          False\n",
       "Date             False\n",
       "Distance         False\n",
       "Postcode         False\n",
       "Bedroom2         False\n",
       "Bathroom         False\n",
       "Car              False\n",
       "Landsize         False\n",
       "BuildingArea     False\n",
       "YearBuilt        False\n",
       "CouncilArea      False\n",
       "Lattitude        False\n",
       "Longtitude       False\n",
       "Regionname       False\n",
       "Propertycount    False\n",
       "dtype: bool"
      ]
     },
     "execution_count": 28,
     "metadata": {},
     "output_type": "execute_result"
    }
   ],
   "source": [
    "# Ainda temos valores nulos?\n",
    "df.isna().any()"
   ]
  },
  {
   "cell_type": "code",
   "execution_count": 29,
   "id": "51bfc73d",
   "metadata": {
    "execution": {
     "iopub.execute_input": "2021-10-14T00:49:34.906318Z",
     "iopub.status.busy": "2021-10-14T00:49:34.905339Z",
     "iopub.status.idle": "2021-10-14T00:49:34.925208Z",
     "shell.execute_reply": "2021-10-14T00:49:34.924676Z",
     "shell.execute_reply.started": "2021-10-14T00:34:16.440638Z"
    },
    "papermill": {
     "duration": 0.081021,
     "end_time": "2021-10-14T00:49:34.925353",
     "exception": false,
     "start_time": "2021-10-14T00:49:34.844332",
     "status": "completed"
    },
    "tags": []
   },
   "outputs": [
    {
     "name": "stdout",
     "output_type": "stream",
     "text": [
      "Suburb = 314\n",
      "Address = 13378\n",
      "Type = 3\n",
      "Method = 5\n",
      "SellerG = 268\n",
      "Date = 58\n",
      "CouncilArea = 32\n",
      "Regionname = 8\n"
     ]
    }
   ],
   "source": [
    "# Vamos analisar as coluna categóricas\n",
    "\n",
    "# Qual quantidade de categorias?\n",
    "for col in cat_feats:\n",
    "    print(col + \" =\",  len(df[col].unique()))"
   ]
  },
  {
   "cell_type": "code",
   "execution_count": 30,
   "id": "f738f0e5",
   "metadata": {
    "execution": {
     "iopub.execute_input": "2021-10-14T00:49:35.047131Z",
     "iopub.status.busy": "2021-10-14T00:49:35.046383Z",
     "iopub.status.idle": "2021-10-14T00:49:35.050634Z",
     "shell.execute_reply": "2021-10-14T00:49:35.051078Z",
     "shell.execute_reply.started": "2021-10-14T00:39:17.980294Z"
    },
    "papermill": {
     "duration": 0.066053,
     "end_time": "2021-10-14T00:49:35.051259",
     "exception": false,
     "start_time": "2021-10-14T00:49:34.985206",
     "status": "completed"
    },
    "tags": []
   },
   "outputs": [],
   "source": [
    "# Vamos retirar da lista a coluna 'Address'\n",
    "cat_feats = cat_feats.drop('Address')"
   ]
  },
  {
   "cell_type": "code",
   "execution_count": 31,
   "id": "68e42517",
   "metadata": {
    "execution": {
     "iopub.execute_input": "2021-10-14T00:49:35.172426Z",
     "iopub.status.busy": "2021-10-14T00:49:35.171797Z",
     "iopub.status.idle": "2021-10-14T00:49:36.048655Z",
     "shell.execute_reply": "2021-10-14T00:49:36.049142Z",
     "shell.execute_reply.started": "2021-10-14T00:41:48.852956Z"
    },
    "papermill": {
     "duration": 0.939082,
     "end_time": "2021-10-14T00:49:36.049326",
     "exception": false,
     "start_time": "2021-10-14T00:49:35.110244",
     "status": "completed"
    },
    "tags": []
   },
   "outputs": [],
   "source": [
    "# Transformando as colunas categóricas em numéricas\n",
    "from sklearn.preprocessing import LabelEncoder\n",
    "\n",
    "for col in cat_feats:\n",
    "    # Instancia o LabelEncoder\n",
    "    l_encoder = LabelEncoder()\n",
    "    # Fit e Transform ao mesmo tempo\n",
    "    df[col] = l_encoder.fit_transform(df[col])"
   ]
  },
  {
   "cell_type": "code",
   "execution_count": 32,
   "id": "0d2f2bc0",
   "metadata": {
    "execution": {
     "iopub.execute_input": "2021-10-14T00:49:36.172156Z",
     "iopub.status.busy": "2021-10-14T00:49:36.171201Z",
     "iopub.status.idle": "2021-10-14T00:49:36.178517Z",
     "shell.execute_reply": "2021-10-14T00:49:36.177900Z",
     "shell.execute_reply.started": "2021-10-14T00:42:11.776382Z"
    },
    "papermill": {
     "duration": 0.070191,
     "end_time": "2021-10-14T00:49:36.178688",
     "exception": false,
     "start_time": "2021-10-14T00:49:36.108497",
     "status": "completed"
    },
    "tags": []
   },
   "outputs": [
    {
     "data": {
      "text/plain": [
       "['Rooms',\n",
       " 'Distance',\n",
       " 'Postcode',\n",
       " 'Bedroom2',\n",
       " 'Bathroom',\n",
       " 'Car',\n",
       " 'Landsize',\n",
       " 'BuildingArea',\n",
       " 'YearBuilt',\n",
       " 'Lattitude',\n",
       " 'Longtitude',\n",
       " 'Propertycount',\n",
       " 'Suburb',\n",
       " 'Type',\n",
       " 'Method',\n",
       " 'SellerG',\n",
       " 'Date',\n",
       " 'CouncilArea',\n",
       " 'Regionname']"
      ]
     },
     "execution_count": 32,
     "metadata": {},
     "output_type": "execute_result"
    }
   ],
   "source": [
    "# Preparando a lista de colunas\n",
    "feats = list(num_feats) + list(cat_feats)\n",
    "\n",
    "feats.remove('Price')\n",
    "\n",
    "feats"
   ]
  },
  {
   "cell_type": "code",
   "execution_count": 33,
   "id": "86046619",
   "metadata": {
    "execution": {
     "iopub.execute_input": "2021-10-14T00:49:36.304622Z",
     "iopub.status.busy": "2021-10-14T00:49:36.301548Z",
     "iopub.status.idle": "2021-10-14T00:49:36.372598Z",
     "shell.execute_reply": "2021-10-14T00:49:36.371949Z",
     "shell.execute_reply.started": "2021-10-14T00:42:58.932495Z"
    },
    "papermill": {
     "duration": 0.133773,
     "end_time": "2021-10-14T00:49:36.372760",
     "exception": false,
     "start_time": "2021-10-14T00:49:36.238987",
     "status": "completed"
    },
    "tags": []
   },
   "outputs": [
    {
     "data": {
      "text/plain": [
       "((10185, 21), (3395, 21))"
      ]
     },
     "execution_count": 33,
     "metadata": {},
     "output_type": "execute_result"
    }
   ],
   "source": [
    "# Separando o dataframe\n",
    "from sklearn.model_selection import train_test_split\n",
    "\n",
    "train, test = train_test_split(df, random_state = 42)\n",
    "\n",
    "train.shape, test.shape"
   ]
  },
  {
   "cell_type": "code",
   "execution_count": 34,
   "id": "697db690",
   "metadata": {
    "execution": {
     "iopub.execute_input": "2021-10-14T00:49:36.507832Z",
     "iopub.status.busy": "2021-10-14T00:49:36.507091Z",
     "iopub.status.idle": "2021-10-14T00:49:36.509758Z",
     "shell.execute_reply": "2021-10-14T00:49:36.510227Z",
     "shell.execute_reply.started": "2021-10-14T00:44:50.213182Z"
    },
    "papermill": {
     "duration": 0.075419,
     "end_time": "2021-10-14T00:49:36.510394",
     "exception": false,
     "start_time": "2021-10-14T00:49:36.434975",
     "status": "completed"
    },
    "tags": []
   },
   "outputs": [
    {
     "data": {
      "text/html": [
       "<div>\n",
       "<style scoped>\n",
       "    .dataframe tbody tr th:only-of-type {\n",
       "        vertical-align: middle;\n",
       "    }\n",
       "\n",
       "    .dataframe tbody tr th {\n",
       "        vertical-align: top;\n",
       "    }\n",
       "\n",
       "    .dataframe thead th {\n",
       "        text-align: right;\n",
       "    }\n",
       "</style>\n",
       "<table border=\"1\" class=\"dataframe\">\n",
       "  <thead>\n",
       "    <tr style=\"text-align: right;\">\n",
       "      <th></th>\n",
       "      <th>model_name</th>\n",
       "      <th>prediction_score</th>\n",
       "      <th>mean_absolute_error</th>\n",
       "    </tr>\n",
       "  </thead>\n",
       "  <tbody>\n",
       "  </tbody>\n",
       "</table>\n",
       "</div>"
      ],
      "text/plain": [
       "Empty DataFrame\n",
       "Columns: [model_name, prediction_score, mean_absolute_error]\n",
       "Index: []"
      ]
     },
     "execution_count": 34,
     "metadata": {},
     "output_type": "execute_result"
    }
   ],
   "source": [
    "# Antes de rodar diversos modelos, vamos criar um dataframe para armazenar\n",
    "# os dados de execução de cada modelo e poder comparar os melhores\n",
    "models = pd.DataFrame([],\n",
    "                      columns=['model_name', \n",
    "                               'prediction_score',\n",
    "                               'mean_absolute_error'])\n",
    "models"
   ]
  },
  {
   "cell_type": "code",
   "execution_count": 35,
   "id": "43bae91a",
   "metadata": {
    "execution": {
     "iopub.execute_input": "2021-10-14T00:49:36.635257Z",
     "iopub.status.busy": "2021-10-14T00:49:36.634549Z",
     "iopub.status.idle": "2021-10-14T00:49:36.899267Z",
     "shell.execute_reply": "2021-10-14T00:49:36.899814Z",
     "shell.execute_reply.started": "2021-10-14T00:45:02.364000Z"
    },
    "papermill": {
     "duration": 0.328486,
     "end_time": "2021-10-14T00:49:36.900002",
     "exception": false,
     "start_time": "2021-10-14T00:49:36.571516",
     "status": "completed"
    },
    "tags": []
   },
   "outputs": [],
   "source": [
    "# Importação dos modelos\n",
    "from sklearn.linear_model import LinearRegression\n",
    "from sklearn.tree import DecisionTreeRegressor\n",
    "from sklearn.ensemble import  RandomForestRegressor\n",
    "from sklearn.ensemble import  BaggingRegressor \n",
    "from sklearn.ensemble import  AdaBoostRegressor\n",
    "from sklearn.ensemble import  GradientBoostingRegressor\n",
    "from xgboost import XGBRegressor\n",
    "\n",
    "# e da métrica\n",
    "from sklearn.metrics import mean_absolute_error"
   ]
  },
  {
   "cell_type": "code",
   "execution_count": 36,
   "id": "9617afa2",
   "metadata": {
    "execution": {
     "iopub.execute_input": "2021-10-14T00:49:37.030667Z",
     "iopub.status.busy": "2021-10-14T00:49:37.026130Z",
     "iopub.status.idle": "2021-10-14T00:49:37.070195Z",
     "shell.execute_reply": "2021-10-14T00:49:37.071204Z",
     "shell.execute_reply.started": "2021-10-14T00:45:51.444527Z"
    },
    "papermill": {
     "duration": 0.11142,
     "end_time": "2021-10-14T00:49:37.071482",
     "exception": false,
     "start_time": "2021-10-14T00:49:36.960062",
     "status": "completed"
    },
    "tags": []
   },
   "outputs": [
    {
     "data": {
      "text/plain": [
       "(0.5947187593118191, 268887.75812869996)"
      ]
     },
     "execution_count": 36,
     "metadata": {},
     "output_type": "execute_result"
    }
   ],
   "source": [
    "# Regressão Linear\n",
    "lr_model = LinearRegression()\n",
    "\n",
    "lr_model.fit(train[feats], train['Price'])\n",
    "\n",
    "lr_model_predicted = lr_model.predict(test[feats])\n",
    "\n",
    "lr_model_score = lr_model.score(test[feats], test['Price'])\n",
    "\n",
    "mae = mean_absolute_error(test['Price'], lr_model_predicted)\n",
    "\n",
    "lr_model_score, mae"
   ]
  },
  {
   "cell_type": "code",
   "execution_count": 37,
   "id": "69f29ffd",
   "metadata": {
    "execution": {
     "iopub.execute_input": "2021-10-14T00:49:37.256737Z",
     "iopub.status.busy": "2021-10-14T00:49:37.256019Z",
     "iopub.status.idle": "2021-10-14T00:49:37.258611Z",
     "shell.execute_reply": "2021-10-14T00:49:37.259087Z",
     "shell.execute_reply.started": "2021-10-14T00:46:31.176017Z"
    },
    "papermill": {
     "duration": 0.077278,
     "end_time": "2021-10-14T00:49:37.259256",
     "exception": false,
     "start_time": "2021-10-14T00:49:37.181978",
     "status": "completed"
    },
    "tags": []
   },
   "outputs": [
    {
     "data": {
      "text/html": [
       "<div>\n",
       "<style scoped>\n",
       "    .dataframe tbody tr th:only-of-type {\n",
       "        vertical-align: middle;\n",
       "    }\n",
       "\n",
       "    .dataframe tbody tr th {\n",
       "        vertical-align: top;\n",
       "    }\n",
       "\n",
       "    .dataframe thead th {\n",
       "        text-align: right;\n",
       "    }\n",
       "</style>\n",
       "<table border=\"1\" class=\"dataframe\">\n",
       "  <thead>\n",
       "    <tr style=\"text-align: right;\">\n",
       "      <th></th>\n",
       "      <th>model_name</th>\n",
       "      <th>prediction_score</th>\n",
       "      <th>mean_absolute_error</th>\n",
       "    </tr>\n",
       "  </thead>\n",
       "  <tbody>\n",
       "    <tr>\n",
       "      <th>0</th>\n",
       "      <td>LinearRegression</td>\n",
       "      <td>0.594719</td>\n",
       "      <td>268887.758129</td>\n",
       "    </tr>\n",
       "  </tbody>\n",
       "</table>\n",
       "</div>"
      ],
      "text/plain": [
       "         model_name  prediction_score  mean_absolute_error\n",
       "0  LinearRegression          0.594719        268887.758129"
      ]
     },
     "execution_count": 37,
     "metadata": {},
     "output_type": "execute_result"
    }
   ],
   "source": [
    "models = models.append({\n",
    "    'model_name': lr_model.__class__.__name__,\n",
    "    'prediction_score': lr_model_score,\n",
    "    'mean_absolute_error' : mae\n",
    "}, ignore_index=True)\n",
    "\n",
    "models"
   ]
  },
  {
   "cell_type": "code",
   "execution_count": 38,
   "id": "5a751942",
   "metadata": {
    "execution": {
     "iopub.execute_input": "2021-10-14T00:49:37.385306Z",
     "iopub.status.busy": "2021-10-14T00:49:37.384678Z",
     "iopub.status.idle": "2021-10-14T00:49:37.543446Z",
     "shell.execute_reply": "2021-10-14T00:49:37.543995Z",
     "shell.execute_reply.started": "2021-10-14T00:47:23.414862Z"
    },
    "papermill": {
     "duration": 0.223913,
     "end_time": "2021-10-14T00:49:37.544164",
     "exception": false,
     "start_time": "2021-10-14T00:49:37.320251",
     "status": "completed"
    },
    "tags": []
   },
   "outputs": [
    {
     "data": {
      "text/plain": [
       "(0.5895662227620415, 231626.49337260678)"
      ]
     },
     "execution_count": 38,
     "metadata": {},
     "output_type": "execute_result"
    }
   ],
   "source": [
    "# Decision Tree\n",
    "Dtree_model = DecisionTreeRegressor(random_state=42)\n",
    "\n",
    "Dtree_model.fit(train[feats], train['Price'])\n",
    "\n",
    "Dtree_model_predicted = Dtree_model.predict(test[feats])\n",
    "\n",
    "Dtree_model_score = Dtree_model.score(test[feats], test['Price'])\n",
    "\n",
    "mae = mean_absolute_error(test['Price'], Dtree_model_predicted)\n",
    "\n",
    "Dtree_model_score, mae"
   ]
  },
  {
   "cell_type": "code",
   "execution_count": 39,
   "id": "0c1a2880",
   "metadata": {
    "execution": {
     "iopub.execute_input": "2021-10-14T00:49:37.682773Z",
     "iopub.status.busy": "2021-10-14T00:49:37.682074Z",
     "iopub.status.idle": "2021-10-14T00:49:37.685716Z",
     "shell.execute_reply": "2021-10-14T00:49:37.686249Z",
     "shell.execute_reply.started": "2021-10-14T00:47:35.103582Z"
    },
    "papermill": {
     "duration": 0.081048,
     "end_time": "2021-10-14T00:49:37.686427",
     "exception": false,
     "start_time": "2021-10-14T00:49:37.605379",
     "status": "completed"
    },
    "tags": []
   },
   "outputs": [
    {
     "data": {
      "text/html": [
       "<div>\n",
       "<style scoped>\n",
       "    .dataframe tbody tr th:only-of-type {\n",
       "        vertical-align: middle;\n",
       "    }\n",
       "\n",
       "    .dataframe tbody tr th {\n",
       "        vertical-align: top;\n",
       "    }\n",
       "\n",
       "    .dataframe thead th {\n",
       "        text-align: right;\n",
       "    }\n",
       "</style>\n",
       "<table border=\"1\" class=\"dataframe\">\n",
       "  <thead>\n",
       "    <tr style=\"text-align: right;\">\n",
       "      <th></th>\n",
       "      <th>model_name</th>\n",
       "      <th>prediction_score</th>\n",
       "      <th>mean_absolute_error</th>\n",
       "    </tr>\n",
       "  </thead>\n",
       "  <tbody>\n",
       "    <tr>\n",
       "      <th>0</th>\n",
       "      <td>LinearRegression</td>\n",
       "      <td>0.594719</td>\n",
       "      <td>268887.758129</td>\n",
       "    </tr>\n",
       "    <tr>\n",
       "      <th>1</th>\n",
       "      <td>DecisionTreeRegressor</td>\n",
       "      <td>0.589566</td>\n",
       "      <td>231626.493373</td>\n",
       "    </tr>\n",
       "  </tbody>\n",
       "</table>\n",
       "</div>"
      ],
      "text/plain": [
       "              model_name  prediction_score  mean_absolute_error\n",
       "0       LinearRegression          0.594719        268887.758129\n",
       "1  DecisionTreeRegressor          0.589566        231626.493373"
      ]
     },
     "execution_count": 39,
     "metadata": {},
     "output_type": "execute_result"
    }
   ],
   "source": [
    "models = models.append({\n",
    "    'model_name': Dtree_model.__class__.__name__,\n",
    "    'prediction_score': Dtree_model_score,\n",
    "    'mean_absolute_error' : mae\n",
    "}, ignore_index=True)\n",
    "\n",
    "models.sort_values('prediction_score', ascending=False)"
   ]
  },
  {
   "cell_type": "code",
   "execution_count": 40,
   "id": "95d40517",
   "metadata": {
    "execution": {
     "iopub.execute_input": "2021-10-14T00:49:37.814165Z",
     "iopub.status.busy": "2021-10-14T00:49:37.813189Z",
     "iopub.status.idle": "2021-10-14T00:49:55.549597Z",
     "shell.execute_reply": "2021-10-14T00:49:55.548870Z",
     "shell.execute_reply.started": "2021-10-13T21:18:30.510325Z"
    },
    "papermill": {
     "duration": 17.801887,
     "end_time": "2021-10-14T00:49:55.549743",
     "exception": false,
     "start_time": "2021-10-14T00:49:37.747856",
     "status": "completed"
    },
    "tags": []
   },
   "outputs": [
    {
     "data": {
      "text/plain": [
       "(0.8217398038653881, 164965.40208247423)"
      ]
     },
     "execution_count": 40,
     "metadata": {},
     "output_type": "execute_result"
    }
   ],
   "source": [
    "# Random Forest\n",
    "RFRModel = RandomForestRegressor(n_estimators=200, random_state=42)\n",
    "\n",
    "RFRModel.fit(train[feats], train['Price'])\n",
    "\n",
    "RFRModel_predicted = RFRModel.predict(test[feats])\n",
    "\n",
    "RFRModel_score = RFRModel.score(test[feats], test['Price'])\n",
    "\n",
    "mae = mean_absolute_error(test['Price'], RFRModel_predicted)\n",
    "\n",
    "RFRModel_score, mae"
   ]
  },
  {
   "cell_type": "code",
   "execution_count": 41,
   "id": "fe2bdc17",
   "metadata": {
    "execution": {
     "iopub.execute_input": "2021-10-14T00:49:55.687277Z",
     "iopub.status.busy": "2021-10-14T00:49:55.686600Z",
     "iopub.status.idle": "2021-10-14T00:49:55.689494Z",
     "shell.execute_reply": "2021-10-14T00:49:55.690097Z",
     "shell.execute_reply.started": "2021-10-13T21:18:48.307424Z"
    },
    "papermill": {
     "duration": 0.07862,
     "end_time": "2021-10-14T00:49:55.690266",
     "exception": false,
     "start_time": "2021-10-14T00:49:55.611646",
     "status": "completed"
    },
    "tags": []
   },
   "outputs": [
    {
     "data": {
      "text/html": [
       "<div>\n",
       "<style scoped>\n",
       "    .dataframe tbody tr th:only-of-type {\n",
       "        vertical-align: middle;\n",
       "    }\n",
       "\n",
       "    .dataframe tbody tr th {\n",
       "        vertical-align: top;\n",
       "    }\n",
       "\n",
       "    .dataframe thead th {\n",
       "        text-align: right;\n",
       "    }\n",
       "</style>\n",
       "<table border=\"1\" class=\"dataframe\">\n",
       "  <thead>\n",
       "    <tr style=\"text-align: right;\">\n",
       "      <th></th>\n",
       "      <th>model_name</th>\n",
       "      <th>prediction_score</th>\n",
       "      <th>mean_absolute_error</th>\n",
       "    </tr>\n",
       "  </thead>\n",
       "  <tbody>\n",
       "    <tr>\n",
       "      <th>2</th>\n",
       "      <td>RandomForestRegressor</td>\n",
       "      <td>0.821740</td>\n",
       "      <td>164965.402082</td>\n",
       "    </tr>\n",
       "    <tr>\n",
       "      <th>0</th>\n",
       "      <td>LinearRegression</td>\n",
       "      <td>0.594719</td>\n",
       "      <td>268887.758129</td>\n",
       "    </tr>\n",
       "    <tr>\n",
       "      <th>1</th>\n",
       "      <td>DecisionTreeRegressor</td>\n",
       "      <td>0.589566</td>\n",
       "      <td>231626.493373</td>\n",
       "    </tr>\n",
       "  </tbody>\n",
       "</table>\n",
       "</div>"
      ],
      "text/plain": [
       "              model_name  prediction_score  mean_absolute_error\n",
       "2  RandomForestRegressor          0.821740        164965.402082\n",
       "0       LinearRegression          0.594719        268887.758129\n",
       "1  DecisionTreeRegressor          0.589566        231626.493373"
      ]
     },
     "execution_count": 41,
     "metadata": {},
     "output_type": "execute_result"
    }
   ],
   "source": [
    "models = models.append({\n",
    "    'model_name': RFRModel.__class__.__name__,\n",
    "    'prediction_score': RFRModel_score,\n",
    "    'mean_absolute_error' : mae\n",
    "}, ignore_index=True)\n",
    "\n",
    "models.sort_values('prediction_score', ascending=False)"
   ]
  },
  {
   "cell_type": "code",
   "execution_count": 42,
   "id": "50fd2104",
   "metadata": {
    "execution": {
     "iopub.execute_input": "2021-10-14T00:49:55.817057Z",
     "iopub.status.busy": "2021-10-14T00:49:55.816416Z",
     "iopub.status.idle": "2021-10-14T00:49:56.736382Z",
     "shell.execute_reply": "2021-10-14T00:49:56.736941Z",
     "shell.execute_reply.started": "2021-10-13T21:18:48.322985Z"
    },
    "papermill": {
     "duration": 0.985395,
     "end_time": "2021-10-14T00:49:56.737125",
     "exception": false,
     "start_time": "2021-10-14T00:49:55.751730",
     "status": "completed"
    },
    "tags": []
   },
   "outputs": [
    {
     "data": {
      "text/plain": [
       "(0.7969517651910605, 177566.04745213548)"
      ]
     },
     "execution_count": 42,
     "metadata": {},
     "output_type": "execute_result"
    }
   ],
   "source": [
    "# Bagging Regressor\n",
    "BGR_model = BaggingRegressor()\n",
    "\n",
    "BGR_model.fit(train[feats], train['Price'])\n",
    "\n",
    "BGR_model_predicted = BGR_model.predict(test[feats])\n",
    "\n",
    "BGR_model_score = BGR_model.score(test[feats], test['Price'])\n",
    "\n",
    "mae = mean_absolute_error(test['Price'], BGR_model_predicted)\n",
    "\n",
    "BGR_model_score, mae"
   ]
  },
  {
   "cell_type": "code",
   "execution_count": 43,
   "id": "0b21d461",
   "metadata": {
    "execution": {
     "iopub.execute_input": "2021-10-14T00:49:56.866831Z",
     "iopub.status.busy": "2021-10-14T00:49:56.866212Z",
     "iopub.status.idle": "2021-10-14T00:49:56.879668Z",
     "shell.execute_reply": "2021-10-14T00:49:56.880242Z",
     "shell.execute_reply.started": "2021-10-13T21:18:49.257331Z"
    },
    "papermill": {
     "duration": 0.079359,
     "end_time": "2021-10-14T00:49:56.880407",
     "exception": false,
     "start_time": "2021-10-14T00:49:56.801048",
     "status": "completed"
    },
    "tags": []
   },
   "outputs": [
    {
     "data": {
      "text/html": [
       "<div>\n",
       "<style scoped>\n",
       "    .dataframe tbody tr th:only-of-type {\n",
       "        vertical-align: middle;\n",
       "    }\n",
       "\n",
       "    .dataframe tbody tr th {\n",
       "        vertical-align: top;\n",
       "    }\n",
       "\n",
       "    .dataframe thead th {\n",
       "        text-align: right;\n",
       "    }\n",
       "</style>\n",
       "<table border=\"1\" class=\"dataframe\">\n",
       "  <thead>\n",
       "    <tr style=\"text-align: right;\">\n",
       "      <th></th>\n",
       "      <th>model_name</th>\n",
       "      <th>prediction_score</th>\n",
       "      <th>mean_absolute_error</th>\n",
       "    </tr>\n",
       "  </thead>\n",
       "  <tbody>\n",
       "    <tr>\n",
       "      <th>2</th>\n",
       "      <td>RandomForestRegressor</td>\n",
       "      <td>0.821740</td>\n",
       "      <td>164965.402082</td>\n",
       "    </tr>\n",
       "    <tr>\n",
       "      <th>3</th>\n",
       "      <td>BaggingRegressor</td>\n",
       "      <td>0.796952</td>\n",
       "      <td>177566.047452</td>\n",
       "    </tr>\n",
       "    <tr>\n",
       "      <th>0</th>\n",
       "      <td>LinearRegression</td>\n",
       "      <td>0.594719</td>\n",
       "      <td>268887.758129</td>\n",
       "    </tr>\n",
       "    <tr>\n",
       "      <th>1</th>\n",
       "      <td>DecisionTreeRegressor</td>\n",
       "      <td>0.589566</td>\n",
       "      <td>231626.493373</td>\n",
       "    </tr>\n",
       "  </tbody>\n",
       "</table>\n",
       "</div>"
      ],
      "text/plain": [
       "              model_name  prediction_score  mean_absolute_error\n",
       "2  RandomForestRegressor          0.821740        164965.402082\n",
       "3       BaggingRegressor          0.796952        177566.047452\n",
       "0       LinearRegression          0.594719        268887.758129\n",
       "1  DecisionTreeRegressor          0.589566        231626.493373"
      ]
     },
     "execution_count": 43,
     "metadata": {},
     "output_type": "execute_result"
    }
   ],
   "source": [
    "models = models.append({\n",
    "    'model_name': BGR_model.__class__.__name__,\n",
    "    'prediction_score': BGR_model_score,\n",
    "    'mean_absolute_error' : mae\n",
    "}, ignore_index=True)\n",
    "\n",
    "models.sort_values('prediction_score', ascending=False)"
   ]
  },
  {
   "cell_type": "code",
   "execution_count": 44,
   "id": "3123d99e",
   "metadata": {
    "execution": {
     "iopub.execute_input": "2021-10-14T00:49:57.008741Z",
     "iopub.status.busy": "2021-10-14T00:49:57.008082Z",
     "iopub.status.idle": "2021-10-14T00:49:58.190462Z",
     "shell.execute_reply": "2021-10-14T00:49:58.190994Z",
     "shell.execute_reply.started": "2021-10-13T21:18:49.276466Z"
    },
    "papermill": {
     "duration": 1.248519,
     "end_time": "2021-10-14T00:49:58.191164",
     "exception": false,
     "start_time": "2021-10-14T00:49:56.942645",
     "status": "completed"
    },
    "tags": []
   },
   "outputs": [
    {
     "data": {
      "text/plain": [
       "(0.2185270633987907, 480274.8024312137)"
      ]
     },
     "execution_count": 44,
     "metadata": {},
     "output_type": "execute_result"
    }
   ],
   "source": [
    "# ADABoost\n",
    "ADB_model = AdaBoostRegressor()\n",
    "\n",
    "ADB_model.fit(train[feats], train['Price'])\n",
    "\n",
    "ADB_model_predicted = ADB_model.predict(test[feats])\n",
    "\n",
    "ADB_model_score = ADB_model.score(test[feats], test['Price'])\n",
    "\n",
    "mae = mean_absolute_error(test['Price'], ADB_model_predicted)\n",
    "\n",
    "ADB_model_score, mae"
   ]
  },
  {
   "cell_type": "code",
   "execution_count": 45,
   "id": "e79f4daf",
   "metadata": {
    "execution": {
     "iopub.execute_input": "2021-10-14T00:49:58.321078Z",
     "iopub.status.busy": "2021-10-14T00:49:58.320425Z",
     "iopub.status.idle": "2021-10-14T00:49:58.334747Z",
     "shell.execute_reply": "2021-10-14T00:49:58.334167Z",
     "shell.execute_reply.started": "2021-10-13T21:18:50.475297Z"
    },
    "papermill": {
     "duration": 0.080281,
     "end_time": "2021-10-14T00:49:58.334899",
     "exception": false,
     "start_time": "2021-10-14T00:49:58.254618",
     "status": "completed"
    },
    "tags": []
   },
   "outputs": [
    {
     "data": {
      "text/html": [
       "<div>\n",
       "<style scoped>\n",
       "    .dataframe tbody tr th:only-of-type {\n",
       "        vertical-align: middle;\n",
       "    }\n",
       "\n",
       "    .dataframe tbody tr th {\n",
       "        vertical-align: top;\n",
       "    }\n",
       "\n",
       "    .dataframe thead th {\n",
       "        text-align: right;\n",
       "    }\n",
       "</style>\n",
       "<table border=\"1\" class=\"dataframe\">\n",
       "  <thead>\n",
       "    <tr style=\"text-align: right;\">\n",
       "      <th></th>\n",
       "      <th>model_name</th>\n",
       "      <th>prediction_score</th>\n",
       "      <th>mean_absolute_error</th>\n",
       "    </tr>\n",
       "  </thead>\n",
       "  <tbody>\n",
       "    <tr>\n",
       "      <th>2</th>\n",
       "      <td>RandomForestRegressor</td>\n",
       "      <td>0.821740</td>\n",
       "      <td>164965.402082</td>\n",
       "    </tr>\n",
       "    <tr>\n",
       "      <th>3</th>\n",
       "      <td>BaggingRegressor</td>\n",
       "      <td>0.796952</td>\n",
       "      <td>177566.047452</td>\n",
       "    </tr>\n",
       "    <tr>\n",
       "      <th>0</th>\n",
       "      <td>LinearRegression</td>\n",
       "      <td>0.594719</td>\n",
       "      <td>268887.758129</td>\n",
       "    </tr>\n",
       "    <tr>\n",
       "      <th>1</th>\n",
       "      <td>DecisionTreeRegressor</td>\n",
       "      <td>0.589566</td>\n",
       "      <td>231626.493373</td>\n",
       "    </tr>\n",
       "    <tr>\n",
       "      <th>4</th>\n",
       "      <td>AdaBoostRegressor</td>\n",
       "      <td>0.218527</td>\n",
       "      <td>480274.802431</td>\n",
       "    </tr>\n",
       "  </tbody>\n",
       "</table>\n",
       "</div>"
      ],
      "text/plain": [
       "              model_name  prediction_score  mean_absolute_error\n",
       "2  RandomForestRegressor          0.821740        164965.402082\n",
       "3       BaggingRegressor          0.796952        177566.047452\n",
       "0       LinearRegression          0.594719        268887.758129\n",
       "1  DecisionTreeRegressor          0.589566        231626.493373\n",
       "4      AdaBoostRegressor          0.218527        480274.802431"
      ]
     },
     "execution_count": 45,
     "metadata": {},
     "output_type": "execute_result"
    }
   ],
   "source": [
    "models = models.append({\n",
    "    'model_name': ADB_model.__class__.__name__,\n",
    "    'prediction_score': ADB_model_score,\n",
    "    'mean_absolute_error' : mae\n",
    "}, ignore_index=True)\n",
    "\n",
    "models.sort_values('prediction_score', ascending=False)"
   ]
  },
  {
   "cell_type": "code",
   "execution_count": 46,
   "id": "f5383964",
   "metadata": {
    "execution": {
     "iopub.execute_input": "2021-10-14T00:49:58.479158Z",
     "iopub.status.busy": "2021-10-14T00:49:58.478432Z",
     "iopub.status.idle": "2021-10-14T00:50:03.565178Z",
     "shell.execute_reply": "2021-10-14T00:50:03.565715Z",
     "shell.execute_reply.started": "2021-10-13T21:18:50.493633Z"
    },
    "papermill": {
     "duration": 5.161868,
     "end_time": "2021-10-14T00:50:03.565901",
     "exception": false,
     "start_time": "2021-10-14T00:49:58.404033",
     "status": "completed"
    },
    "tags": []
   },
   "outputs": [
    {
     "data": {
      "text/plain": [
       "(0.8138729042601397, 177056.31031657802)"
      ]
     },
     "execution_count": 46,
     "metadata": {},
     "output_type": "execute_result"
    }
   ],
   "source": [
    "# Gradiente Boosting\n",
    "GBR_model = GradientBoostingRegressor(n_estimators=200, random_state=42)\n",
    "\n",
    "GBR_model.fit(train[feats], train['Price'])\n",
    "\n",
    "GBR_model_predicted = GBR_model.predict(test[feats])\n",
    "\n",
    "GBR_model_score = GBR_model.score(test[feats], test['Price'])\n",
    "\n",
    "mae = mean_absolute_error(test['Price'], GBR_model_predicted)\n",
    "\n",
    "GBR_model_score, mae"
   ]
  },
  {
   "cell_type": "code",
   "execution_count": 47,
   "id": "0301febf",
   "metadata": {
    "execution": {
     "iopub.execute_input": "2021-10-14T00:50:03.711159Z",
     "iopub.status.busy": "2021-10-14T00:50:03.710457Z",
     "iopub.status.idle": "2021-10-14T00:50:03.713031Z",
     "shell.execute_reply": "2021-10-14T00:50:03.713604Z",
     "shell.execute_reply.started": "2021-10-13T21:18:55.575103Z"
    },
    "papermill": {
     "duration": 0.082546,
     "end_time": "2021-10-14T00:50:03.713775",
     "exception": false,
     "start_time": "2021-10-14T00:50:03.631229",
     "status": "completed"
    },
    "tags": []
   },
   "outputs": [
    {
     "data": {
      "text/html": [
       "<div>\n",
       "<style scoped>\n",
       "    .dataframe tbody tr th:only-of-type {\n",
       "        vertical-align: middle;\n",
       "    }\n",
       "\n",
       "    .dataframe tbody tr th {\n",
       "        vertical-align: top;\n",
       "    }\n",
       "\n",
       "    .dataframe thead th {\n",
       "        text-align: right;\n",
       "    }\n",
       "</style>\n",
       "<table border=\"1\" class=\"dataframe\">\n",
       "  <thead>\n",
       "    <tr style=\"text-align: right;\">\n",
       "      <th></th>\n",
       "      <th>model_name</th>\n",
       "      <th>prediction_score</th>\n",
       "      <th>mean_absolute_error</th>\n",
       "    </tr>\n",
       "  </thead>\n",
       "  <tbody>\n",
       "    <tr>\n",
       "      <th>2</th>\n",
       "      <td>RandomForestRegressor</td>\n",
       "      <td>0.821740</td>\n",
       "      <td>164965.402082</td>\n",
       "    </tr>\n",
       "    <tr>\n",
       "      <th>5</th>\n",
       "      <td>GradientBoostingRegressor</td>\n",
       "      <td>0.813873</td>\n",
       "      <td>177056.310317</td>\n",
       "    </tr>\n",
       "    <tr>\n",
       "      <th>3</th>\n",
       "      <td>BaggingRegressor</td>\n",
       "      <td>0.796952</td>\n",
       "      <td>177566.047452</td>\n",
       "    </tr>\n",
       "    <tr>\n",
       "      <th>0</th>\n",
       "      <td>LinearRegression</td>\n",
       "      <td>0.594719</td>\n",
       "      <td>268887.758129</td>\n",
       "    </tr>\n",
       "    <tr>\n",
       "      <th>1</th>\n",
       "      <td>DecisionTreeRegressor</td>\n",
       "      <td>0.589566</td>\n",
       "      <td>231626.493373</td>\n",
       "    </tr>\n",
       "    <tr>\n",
       "      <th>4</th>\n",
       "      <td>AdaBoostRegressor</td>\n",
       "      <td>0.218527</td>\n",
       "      <td>480274.802431</td>\n",
       "    </tr>\n",
       "  </tbody>\n",
       "</table>\n",
       "</div>"
      ],
      "text/plain": [
       "                  model_name  prediction_score  mean_absolute_error\n",
       "2      RandomForestRegressor          0.821740        164965.402082\n",
       "5  GradientBoostingRegressor          0.813873        177056.310317\n",
       "3           BaggingRegressor          0.796952        177566.047452\n",
       "0           LinearRegression          0.594719        268887.758129\n",
       "1      DecisionTreeRegressor          0.589566        231626.493373\n",
       "4          AdaBoostRegressor          0.218527        480274.802431"
      ]
     },
     "execution_count": 47,
     "metadata": {},
     "output_type": "execute_result"
    }
   ],
   "source": [
    "models = models.append({\n",
    "    'model_name': GBR_model.__class__.__name__,\n",
    "    'prediction_score': GBR_model_score,\n",
    "    'mean_absolute_error' : mae\n",
    "}, ignore_index=True)\n",
    "\n",
    "models.sort_values('prediction_score', ascending=False)"
   ]
  },
  {
   "cell_type": "code",
   "execution_count": 48,
   "id": "44ba8e75",
   "metadata": {
    "execution": {
     "iopub.execute_input": "2021-10-14T00:50:03.849160Z",
     "iopub.status.busy": "2021-10-14T00:50:03.848472Z",
     "iopub.status.idle": "2021-10-14T00:50:04.725787Z",
     "shell.execute_reply": "2021-10-14T00:50:04.726373Z",
     "shell.execute_reply.started": "2021-10-13T21:18:55.592007Z"
    },
    "papermill": {
     "duration": 0.948134,
     "end_time": "2021-10-14T00:50:04.726597",
     "exception": false,
     "start_time": "2021-10-14T00:50:03.778463",
     "status": "completed"
    },
    "tags": []
   },
   "outputs": [
    {
     "data": {
      "text/plain": [
       "(0.8377252828683416, 160673.9708187592)"
      ]
     },
     "execution_count": 48,
     "metadata": {},
     "output_type": "execute_result"
    }
   ],
   "source": [
    "# XGBoost\n",
    "XGBR_model = XGBRegressor()\n",
    "\n",
    "XGBR_model.fit(train[feats], train['Price'])\n",
    "\n",
    "XGBR_model_predicted = XGBR_model.predict(test[feats])\n",
    "\n",
    "XGBR_model_score = XGBR_model.score(test[feats], test['Price'])\n",
    "\n",
    "mae = mean_absolute_error(test['Price'], XGBR_model_predicted)\n",
    "\n",
    "XGBR_model_score, mae"
   ]
  },
  {
   "cell_type": "code",
   "execution_count": 49,
   "id": "1cfd0d8a",
   "metadata": {
    "execution": {
     "iopub.execute_input": "2021-10-14T00:50:04.873921Z",
     "iopub.status.busy": "2021-10-14T00:50:04.873249Z",
     "iopub.status.idle": "2021-10-14T00:50:04.875894Z",
     "shell.execute_reply": "2021-10-14T00:50:04.876385Z",
     "shell.execute_reply.started": "2021-10-13T21:18:56.548570Z"
    },
    "papermill": {
     "duration": 0.083407,
     "end_time": "2021-10-14T00:50:04.876583",
     "exception": false,
     "start_time": "2021-10-14T00:50:04.793176",
     "status": "completed"
    },
    "tags": []
   },
   "outputs": [
    {
     "data": {
      "text/html": [
       "<div>\n",
       "<style scoped>\n",
       "    .dataframe tbody tr th:only-of-type {\n",
       "        vertical-align: middle;\n",
       "    }\n",
       "\n",
       "    .dataframe tbody tr th {\n",
       "        vertical-align: top;\n",
       "    }\n",
       "\n",
       "    .dataframe thead th {\n",
       "        text-align: right;\n",
       "    }\n",
       "</style>\n",
       "<table border=\"1\" class=\"dataframe\">\n",
       "  <thead>\n",
       "    <tr style=\"text-align: right;\">\n",
       "      <th></th>\n",
       "      <th>model_name</th>\n",
       "      <th>prediction_score</th>\n",
       "      <th>mean_absolute_error</th>\n",
       "    </tr>\n",
       "  </thead>\n",
       "  <tbody>\n",
       "    <tr>\n",
       "      <th>6</th>\n",
       "      <td>XGBRegressor</td>\n",
       "      <td>0.837725</td>\n",
       "      <td>160673.970819</td>\n",
       "    </tr>\n",
       "    <tr>\n",
       "      <th>2</th>\n",
       "      <td>RandomForestRegressor</td>\n",
       "      <td>0.821740</td>\n",
       "      <td>164965.402082</td>\n",
       "    </tr>\n",
       "    <tr>\n",
       "      <th>5</th>\n",
       "      <td>GradientBoostingRegressor</td>\n",
       "      <td>0.813873</td>\n",
       "      <td>177056.310317</td>\n",
       "    </tr>\n",
       "    <tr>\n",
       "      <th>3</th>\n",
       "      <td>BaggingRegressor</td>\n",
       "      <td>0.796952</td>\n",
       "      <td>177566.047452</td>\n",
       "    </tr>\n",
       "    <tr>\n",
       "      <th>0</th>\n",
       "      <td>LinearRegression</td>\n",
       "      <td>0.594719</td>\n",
       "      <td>268887.758129</td>\n",
       "    </tr>\n",
       "    <tr>\n",
       "      <th>1</th>\n",
       "      <td>DecisionTreeRegressor</td>\n",
       "      <td>0.589566</td>\n",
       "      <td>231626.493373</td>\n",
       "    </tr>\n",
       "    <tr>\n",
       "      <th>4</th>\n",
       "      <td>AdaBoostRegressor</td>\n",
       "      <td>0.218527</td>\n",
       "      <td>480274.802431</td>\n",
       "    </tr>\n",
       "  </tbody>\n",
       "</table>\n",
       "</div>"
      ],
      "text/plain": [
       "                  model_name  prediction_score  mean_absolute_error\n",
       "6               XGBRegressor          0.837725        160673.970819\n",
       "2      RandomForestRegressor          0.821740        164965.402082\n",
       "5  GradientBoostingRegressor          0.813873        177056.310317\n",
       "3           BaggingRegressor          0.796952        177566.047452\n",
       "0           LinearRegression          0.594719        268887.758129\n",
       "1      DecisionTreeRegressor          0.589566        231626.493373\n",
       "4          AdaBoostRegressor          0.218527        480274.802431"
      ]
     },
     "execution_count": 49,
     "metadata": {},
     "output_type": "execute_result"
    }
   ],
   "source": [
    "models = models.append({\n",
    "    'model_name': XGBR_model.__class__.__name__,\n",
    "    'prediction_score': XGBR_model_score,\n",
    "    'mean_absolute_error' : mae\n",
    "}, ignore_index=True)\n",
    "\n",
    "models.sort_values('prediction_score', ascending=False)"
   ]
  },
  {
   "cell_type": "code",
   "execution_count": 50,
   "id": "899a0d2b",
   "metadata": {
    "execution": {
     "iopub.execute_input": "2021-10-14T00:50:05.011738Z",
     "iopub.status.busy": "2021-10-14T00:50:05.011063Z",
     "iopub.status.idle": "2021-10-14T00:50:14.409944Z",
     "shell.execute_reply": "2021-10-14T00:50:14.410525Z",
     "shell.execute_reply.started": "2021-10-13T21:18:56.571658Z"
    },
    "papermill": {
     "duration": 9.467574,
     "end_time": "2021-10-14T00:50:14.410788",
     "exception": false,
     "start_time": "2021-10-14T00:50:04.943214",
     "status": "completed"
    },
    "tags": []
   },
   "outputs": [
    {
     "data": {
      "text/plain": [
       "(0.8350376254017067, 154031.68824558172)"
      ]
     },
     "execution_count": 50,
     "metadata": {},
     "output_type": "execute_result"
    }
   ],
   "source": [
    "# Melhorarando alguns parâmetros do XGBoost\n",
    "XGBR_model_500 = XGBRegressor(n_estimators=500, max_depth=10, learning_rate=0.05)\n",
    "\n",
    "XGBR_model_500.fit(train[feats], train['Price'])\n",
    "\n",
    "XGBR_model_500_predicted = XGBR_model_500.predict(test[feats])\n",
    "\n",
    "XGBR_model_500_score = XGBR_model_500.score(test[feats], test['Price'])\n",
    "\n",
    "mae = mean_absolute_error(test['Price'], XGBR_model_500_predicted)\n",
    "\n",
    "XGBR_model_500_score, mae"
   ]
  },
  {
   "cell_type": "code",
   "execution_count": 51,
   "id": "c4e3bc4f",
   "metadata": {
    "execution": {
     "iopub.execute_input": "2021-10-14T00:50:14.576310Z",
     "iopub.status.busy": "2021-10-14T00:50:14.575602Z",
     "iopub.status.idle": "2021-10-14T00:50:14.586218Z",
     "shell.execute_reply": "2021-10-14T00:50:14.586748Z",
     "shell.execute_reply.started": "2021-10-13T21:19:06.186528Z"
    },
    "papermill": {
     "duration": 0.086635,
     "end_time": "2021-10-14T00:50:14.586936",
     "exception": false,
     "start_time": "2021-10-14T00:50:14.500301",
     "status": "completed"
    },
    "tags": []
   },
   "outputs": [
    {
     "data": {
      "text/html": [
       "<div>\n",
       "<style scoped>\n",
       "    .dataframe tbody tr th:only-of-type {\n",
       "        vertical-align: middle;\n",
       "    }\n",
       "\n",
       "    .dataframe tbody tr th {\n",
       "        vertical-align: top;\n",
       "    }\n",
       "\n",
       "    .dataframe thead th {\n",
       "        text-align: right;\n",
       "    }\n",
       "</style>\n",
       "<table border=\"1\" class=\"dataframe\">\n",
       "  <thead>\n",
       "    <tr style=\"text-align: right;\">\n",
       "      <th></th>\n",
       "      <th>model_name</th>\n",
       "      <th>prediction_score</th>\n",
       "      <th>mean_absolute_error</th>\n",
       "    </tr>\n",
       "  </thead>\n",
       "  <tbody>\n",
       "    <tr>\n",
       "      <th>6</th>\n",
       "      <td>XGBRegressor</td>\n",
       "      <td>0.837725</td>\n",
       "      <td>160673.970819</td>\n",
       "    </tr>\n",
       "    <tr>\n",
       "      <th>7</th>\n",
       "      <td>XGBRegressor_500</td>\n",
       "      <td>0.835038</td>\n",
       "      <td>154031.688246</td>\n",
       "    </tr>\n",
       "    <tr>\n",
       "      <th>2</th>\n",
       "      <td>RandomForestRegressor</td>\n",
       "      <td>0.821740</td>\n",
       "      <td>164965.402082</td>\n",
       "    </tr>\n",
       "    <tr>\n",
       "      <th>5</th>\n",
       "      <td>GradientBoostingRegressor</td>\n",
       "      <td>0.813873</td>\n",
       "      <td>177056.310317</td>\n",
       "    </tr>\n",
       "    <tr>\n",
       "      <th>3</th>\n",
       "      <td>BaggingRegressor</td>\n",
       "      <td>0.796952</td>\n",
       "      <td>177566.047452</td>\n",
       "    </tr>\n",
       "    <tr>\n",
       "      <th>0</th>\n",
       "      <td>LinearRegression</td>\n",
       "      <td>0.594719</td>\n",
       "      <td>268887.758129</td>\n",
       "    </tr>\n",
       "    <tr>\n",
       "      <th>1</th>\n",
       "      <td>DecisionTreeRegressor</td>\n",
       "      <td>0.589566</td>\n",
       "      <td>231626.493373</td>\n",
       "    </tr>\n",
       "    <tr>\n",
       "      <th>4</th>\n",
       "      <td>AdaBoostRegressor</td>\n",
       "      <td>0.218527</td>\n",
       "      <td>480274.802431</td>\n",
       "    </tr>\n",
       "  </tbody>\n",
       "</table>\n",
       "</div>"
      ],
      "text/plain": [
       "                  model_name  prediction_score  mean_absolute_error\n",
       "6               XGBRegressor          0.837725        160673.970819\n",
       "7           XGBRegressor_500          0.835038        154031.688246\n",
       "2      RandomForestRegressor          0.821740        164965.402082\n",
       "5  GradientBoostingRegressor          0.813873        177056.310317\n",
       "3           BaggingRegressor          0.796952        177566.047452\n",
       "0           LinearRegression          0.594719        268887.758129\n",
       "1      DecisionTreeRegressor          0.589566        231626.493373\n",
       "4          AdaBoostRegressor          0.218527        480274.802431"
      ]
     },
     "execution_count": 51,
     "metadata": {},
     "output_type": "execute_result"
    }
   ],
   "source": [
    "models = models.append({\n",
    "    'model_name': 'XGBRegressor_500',\n",
    "    'prediction_score': XGBR_model_500_score,\n",
    "    'mean_absolute_error' : mae\n",
    "}, ignore_index=True)\n",
    "\n",
    "models.sort_values('prediction_score', ascending=False)"
   ]
  },
  {
   "cell_type": "code",
   "execution_count": 52,
   "id": "c8d3c29c",
   "metadata": {
    "execution": {
     "iopub.execute_input": "2021-10-14T00:50:14.724980Z",
     "iopub.status.busy": "2021-10-14T00:50:14.723898Z",
     "iopub.status.idle": "2021-10-14T00:50:14.727307Z",
     "shell.execute_reply": "2021-10-14T00:50:14.727842Z",
     "shell.execute_reply.started": "2021-10-13T21:19:06.205538Z"
    },
    "papermill": {
     "duration": 0.074205,
     "end_time": "2021-10-14T00:50:14.728028",
     "exception": false,
     "start_time": "2021-10-14T00:50:14.653823",
     "status": "completed"
    },
    "tags": []
   },
   "outputs": [],
   "source": [
    "# Tunning de Hiperparâmetros\n",
    "# Vamos usar os melhores modelos e tentar melhorar ainda mais o resultado\n",
    "# usando GridSearchCV e RandomizedSearchCV\n",
    "from sklearn.model_selection import GridSearchCV, RandomizedSearchCV"
   ]
  },
  {
   "cell_type": "code",
   "execution_count": 53,
   "id": "e8afef98",
   "metadata": {
    "execution": {
     "iopub.execute_input": "2021-10-14T00:50:14.865984Z",
     "iopub.status.busy": "2021-10-14T00:50:14.865324Z",
     "iopub.status.idle": "2021-10-14T00:51:04.664751Z",
     "shell.execute_reply": "2021-10-14T00:51:04.664201Z",
     "shell.execute_reply.started": "2021-10-13T21:25:29.947691Z"
    },
    "papermill": {
     "duration": 49.869707,
     "end_time": "2021-10-14T00:51:04.664902",
     "exception": false,
     "start_time": "2021-10-14T00:50:14.795195",
     "status": "completed"
    },
    "tags": []
   },
   "outputs": [
    {
     "name": "stdout",
     "output_type": "stream",
     "text": [
      "Fitting 5 folds for each of 12 candidates, totalling 60 fits\n"
     ]
    },
    {
     "name": "stderr",
     "output_type": "stream",
     "text": [
      "[Parallel(n_jobs=-1)]: Using backend LokyBackend with 4 concurrent workers.\n",
      "[Parallel(n_jobs=-1)]: Done  10 tasks      | elapsed:    8.6s\n",
      "[Parallel(n_jobs=-1)]: Done  60 out of  60 | elapsed:   47.9s finished\n"
     ]
    },
    {
     "data": {
      "text/plain": [
       "(0.7223248842017324, 204635.37905073963)"
      ]
     },
     "execution_count": 53,
     "metadata": {},
     "output_type": "execute_result"
    }
   ],
   "source": [
    "# Random Forest - Usando GridSearchCV\n",
    "rfr_model = RandomForestRegressor(random_state=42)\n",
    "\n",
    "rfr_params_grid = {\n",
    "    'n_estimators' : [100,150,200,300],\n",
    "    'max_depth' : [7],\n",
    "    'max_features': [5],\n",
    "    'min_samples_leaf' : [3],\n",
    "    'min_samples_split' : [4, 6 ,9]\n",
    "}\n",
    "\n",
    "gscv_rfr_cv = GridSearchCV(estimator = rfr_model, \n",
    "                                       param_grid=rfr_params_grid,\n",
    "                                       cv = 5 ,\n",
    "                                       n_jobs = -1,\n",
    "                                       verbose = 5)\n",
    "\n",
    "gscv_rfr_cv.fit(train[feats], train['Price'])\n",
    "\n",
    "gscv_rfr_cv_score = gscv_rfr_cv.best_score_\n",
    "\n",
    "gscv_rfr_cv_pred = gscv_rfr_cv.predict(test[feats])\n",
    "\n",
    "mae = mean_absolute_error(test['Price'], gscv_rfr_cv_pred)\n",
    "\n",
    "gscv_rfr_cv_score, mae"
   ]
  },
  {
   "cell_type": "code",
   "execution_count": 54,
   "id": "e144d9b0",
   "metadata": {
    "execution": {
     "iopub.execute_input": "2021-10-14T00:51:04.807980Z",
     "iopub.status.busy": "2021-10-14T00:51:04.807230Z",
     "iopub.status.idle": "2021-10-14T00:51:04.819945Z",
     "shell.execute_reply": "2021-10-14T00:51:04.819281Z",
     "shell.execute_reply.started": "2021-10-13T21:26:31.186441Z"
    },
    "papermill": {
     "duration": 0.087455,
     "end_time": "2021-10-14T00:51:04.820099",
     "exception": false,
     "start_time": "2021-10-14T00:51:04.732644",
     "status": "completed"
    },
    "tags": []
   },
   "outputs": [
    {
     "data": {
      "text/html": [
       "<div>\n",
       "<style scoped>\n",
       "    .dataframe tbody tr th:only-of-type {\n",
       "        vertical-align: middle;\n",
       "    }\n",
       "\n",
       "    .dataframe tbody tr th {\n",
       "        vertical-align: top;\n",
       "    }\n",
       "\n",
       "    .dataframe thead th {\n",
       "        text-align: right;\n",
       "    }\n",
       "</style>\n",
       "<table border=\"1\" class=\"dataframe\">\n",
       "  <thead>\n",
       "    <tr style=\"text-align: right;\">\n",
       "      <th></th>\n",
       "      <th>model_name</th>\n",
       "      <th>prediction_score</th>\n",
       "      <th>mean_absolute_error</th>\n",
       "    </tr>\n",
       "  </thead>\n",
       "  <tbody>\n",
       "    <tr>\n",
       "      <th>6</th>\n",
       "      <td>XGBRegressor</td>\n",
       "      <td>0.837725</td>\n",
       "      <td>160673.970819</td>\n",
       "    </tr>\n",
       "    <tr>\n",
       "      <th>7</th>\n",
       "      <td>XGBRegressor_500</td>\n",
       "      <td>0.835038</td>\n",
       "      <td>154031.688246</td>\n",
       "    </tr>\n",
       "    <tr>\n",
       "      <th>2</th>\n",
       "      <td>RandomForestRegressor</td>\n",
       "      <td>0.821740</td>\n",
       "      <td>164965.402082</td>\n",
       "    </tr>\n",
       "    <tr>\n",
       "      <th>5</th>\n",
       "      <td>GradientBoostingRegressor</td>\n",
       "      <td>0.813873</td>\n",
       "      <td>177056.310317</td>\n",
       "    </tr>\n",
       "    <tr>\n",
       "      <th>3</th>\n",
       "      <td>BaggingRegressor</td>\n",
       "      <td>0.796952</td>\n",
       "      <td>177566.047452</td>\n",
       "    </tr>\n",
       "    <tr>\n",
       "      <th>8</th>\n",
       "      <td>RF Regressor GridSearchCV</td>\n",
       "      <td>0.722325</td>\n",
       "      <td>204635.379051</td>\n",
       "    </tr>\n",
       "    <tr>\n",
       "      <th>0</th>\n",
       "      <td>LinearRegression</td>\n",
       "      <td>0.594719</td>\n",
       "      <td>268887.758129</td>\n",
       "    </tr>\n",
       "    <tr>\n",
       "      <th>1</th>\n",
       "      <td>DecisionTreeRegressor</td>\n",
       "      <td>0.589566</td>\n",
       "      <td>231626.493373</td>\n",
       "    </tr>\n",
       "    <tr>\n",
       "      <th>4</th>\n",
       "      <td>AdaBoostRegressor</td>\n",
       "      <td>0.218527</td>\n",
       "      <td>480274.802431</td>\n",
       "    </tr>\n",
       "  </tbody>\n",
       "</table>\n",
       "</div>"
      ],
      "text/plain": [
       "                  model_name  prediction_score  mean_absolute_error\n",
       "6               XGBRegressor          0.837725        160673.970819\n",
       "7           XGBRegressor_500          0.835038        154031.688246\n",
       "2      RandomForestRegressor          0.821740        164965.402082\n",
       "5  GradientBoostingRegressor          0.813873        177056.310317\n",
       "3           BaggingRegressor          0.796952        177566.047452\n",
       "8  RF Regressor GridSearchCV          0.722325        204635.379051\n",
       "0           LinearRegression          0.594719        268887.758129\n",
       "1      DecisionTreeRegressor          0.589566        231626.493373\n",
       "4          AdaBoostRegressor          0.218527        480274.802431"
      ]
     },
     "execution_count": 54,
     "metadata": {},
     "output_type": "execute_result"
    }
   ],
   "source": [
    "models = models.append({\n",
    "    'model_name': 'RF Regressor GridSearchCV',\n",
    "    'prediction_score': gscv_rfr_cv_score,\n",
    "    'mean_absolute_error' : mae\n",
    "}, ignore_index=True)\n",
    "\n",
    "models.sort_values('prediction_score', ascending=False)"
   ]
  },
  {
   "cell_type": "code",
   "execution_count": 55,
   "id": "2c82773b",
   "metadata": {
    "execution": {
     "iopub.execute_input": "2021-10-14T00:51:04.960896Z",
     "iopub.status.busy": "2021-10-14T00:51:04.960192Z",
     "iopub.status.idle": "2021-10-14T00:51:41.832808Z",
     "shell.execute_reply": "2021-10-14T00:51:41.832236Z",
     "shell.execute_reply.started": "2021-10-13T21:28:35.300678Z"
    },
    "papermill": {
     "duration": 36.943811,
     "end_time": "2021-10-14T00:51:41.832959",
     "exception": false,
     "start_time": "2021-10-14T00:51:04.889148",
     "status": "completed"
    },
    "tags": []
   },
   "outputs": [
    {
     "name": "stdout",
     "output_type": "stream",
     "text": [
      "Fitting 5 folds for each of 10 candidates, totalling 50 fits\n"
     ]
    },
    {
     "name": "stderr",
     "output_type": "stream",
     "text": [
      "[Parallel(n_jobs=-1)]: Using backend LokyBackend with 4 concurrent workers.\n",
      "[Parallel(n_jobs=-1)]: Done  10 tasks      | elapsed:    7.6s\n",
      "[Parallel(n_jobs=-1)]: Done  50 out of  50 | elapsed:   35.0s finished\n"
     ]
    },
    {
     "data": {
      "text/plain": [
       "(0.7222904772226151, 205947.40544922193)"
      ]
     },
     "execution_count": 55,
     "metadata": {},
     "output_type": "execute_result"
    }
   ],
   "source": [
    "# Random Forest - Usando RandomizedSearchCV\n",
    "rfr_model2 = RandomForestRegressor(random_state=42)\n",
    "\n",
    "rfr_params_grid = {\n",
    "    'n_estimators' : [100,150,200,300],\n",
    "    'max_depth' : [7],\n",
    "    'max_features': [5],\n",
    "    'min_samples_leaf' : [3],\n",
    "    'min_samples_split' : [4, 6 ,9]\n",
    "}\n",
    "\n",
    "rdcv_rfr_rv = RandomizedSearchCV(estimator = rfr_model2, \n",
    "                                       param_distributions=rfr_params_grid,\n",
    "                                       cv = 5 ,\n",
    "                                       n_jobs = -1,\n",
    "                                       verbose = 5)\n",
    "\n",
    "rdcv_rfr_rv.fit(train[feats], train['Price'])\n",
    "\n",
    "rdcv_rfr_rv_score = rdcv_rfr_rv.best_score_\n",
    "\n",
    "rdcv_rfr_rv_pred = rdcv_rfr_rv.predict(test[feats])\n",
    "\n",
    "mae = mean_absolute_error(test['Price'], rdcv_rfr_rv_pred)\n",
    "\n",
    "rdcv_rfr_rv_score, mae"
   ]
  },
  {
   "cell_type": "code",
   "execution_count": 56,
   "id": "a17fc1b2",
   "metadata": {
    "execution": {
     "iopub.execute_input": "2021-10-14T00:51:41.976905Z",
     "iopub.status.busy": "2021-10-14T00:51:41.976263Z",
     "iopub.status.idle": "2021-10-14T00:51:41.989996Z",
     "shell.execute_reply": "2021-10-14T00:51:41.990466Z",
     "shell.execute_reply.started": "2021-10-13T21:34:36.812171Z"
    },
    "papermill": {
     "duration": 0.086896,
     "end_time": "2021-10-14T00:51:41.990659",
     "exception": false,
     "start_time": "2021-10-14T00:51:41.903763",
     "status": "completed"
    },
    "tags": []
   },
   "outputs": [
    {
     "data": {
      "text/html": [
       "<div>\n",
       "<style scoped>\n",
       "    .dataframe tbody tr th:only-of-type {\n",
       "        vertical-align: middle;\n",
       "    }\n",
       "\n",
       "    .dataframe tbody tr th {\n",
       "        vertical-align: top;\n",
       "    }\n",
       "\n",
       "    .dataframe thead th {\n",
       "        text-align: right;\n",
       "    }\n",
       "</style>\n",
       "<table border=\"1\" class=\"dataframe\">\n",
       "  <thead>\n",
       "    <tr style=\"text-align: right;\">\n",
       "      <th></th>\n",
       "      <th>model_name</th>\n",
       "      <th>prediction_score</th>\n",
       "      <th>mean_absolute_error</th>\n",
       "    </tr>\n",
       "  </thead>\n",
       "  <tbody>\n",
       "    <tr>\n",
       "      <th>6</th>\n",
       "      <td>XGBRegressor</td>\n",
       "      <td>0.837725</td>\n",
       "      <td>160673.970819</td>\n",
       "    </tr>\n",
       "    <tr>\n",
       "      <th>7</th>\n",
       "      <td>XGBRegressor_500</td>\n",
       "      <td>0.835038</td>\n",
       "      <td>154031.688246</td>\n",
       "    </tr>\n",
       "    <tr>\n",
       "      <th>2</th>\n",
       "      <td>RandomForestRegressor</td>\n",
       "      <td>0.821740</td>\n",
       "      <td>164965.402082</td>\n",
       "    </tr>\n",
       "    <tr>\n",
       "      <th>5</th>\n",
       "      <td>GradientBoostingRegressor</td>\n",
       "      <td>0.813873</td>\n",
       "      <td>177056.310317</td>\n",
       "    </tr>\n",
       "    <tr>\n",
       "      <th>3</th>\n",
       "      <td>BaggingRegressor</td>\n",
       "      <td>0.796952</td>\n",
       "      <td>177566.047452</td>\n",
       "    </tr>\n",
       "    <tr>\n",
       "      <th>8</th>\n",
       "      <td>RF Regressor GridSearchCV</td>\n",
       "      <td>0.722325</td>\n",
       "      <td>204635.379051</td>\n",
       "    </tr>\n",
       "    <tr>\n",
       "      <th>9</th>\n",
       "      <td>RF Regressor RandomizedSearchCV</td>\n",
       "      <td>0.722290</td>\n",
       "      <td>205947.405449</td>\n",
       "    </tr>\n",
       "    <tr>\n",
       "      <th>0</th>\n",
       "      <td>LinearRegression</td>\n",
       "      <td>0.594719</td>\n",
       "      <td>268887.758129</td>\n",
       "    </tr>\n",
       "    <tr>\n",
       "      <th>1</th>\n",
       "      <td>DecisionTreeRegressor</td>\n",
       "      <td>0.589566</td>\n",
       "      <td>231626.493373</td>\n",
       "    </tr>\n",
       "    <tr>\n",
       "      <th>4</th>\n",
       "      <td>AdaBoostRegressor</td>\n",
       "      <td>0.218527</td>\n",
       "      <td>480274.802431</td>\n",
       "    </tr>\n",
       "  </tbody>\n",
       "</table>\n",
       "</div>"
      ],
      "text/plain": [
       "                        model_name  prediction_score  mean_absolute_error\n",
       "6                     XGBRegressor          0.837725        160673.970819\n",
       "7                 XGBRegressor_500          0.835038        154031.688246\n",
       "2            RandomForestRegressor          0.821740        164965.402082\n",
       "5        GradientBoostingRegressor          0.813873        177056.310317\n",
       "3                 BaggingRegressor          0.796952        177566.047452\n",
       "8        RF Regressor GridSearchCV          0.722325        204635.379051\n",
       "9  RF Regressor RandomizedSearchCV          0.722290        205947.405449\n",
       "0                 LinearRegression          0.594719        268887.758129\n",
       "1            DecisionTreeRegressor          0.589566        231626.493373\n",
       "4                AdaBoostRegressor          0.218527        480274.802431"
      ]
     },
     "execution_count": 56,
     "metadata": {},
     "output_type": "execute_result"
    }
   ],
   "source": [
    "models = models.append({\n",
    "    'model_name': 'RF Regressor RandomizedSearchCV',\n",
    "    'prediction_score': rdcv_rfr_rv_score,\n",
    "    'mean_absolute_error' : mae\n",
    "}, ignore_index=True)\n",
    "\n",
    "models.sort_values('prediction_score', ascending=False)"
   ]
  },
  {
   "cell_type": "code",
   "execution_count": 57,
   "id": "a6619d17",
   "metadata": {
    "execution": {
     "iopub.execute_input": "2021-10-14T00:51:42.133892Z",
     "iopub.status.busy": "2021-10-14T00:51:42.133262Z",
     "iopub.status.idle": "2021-10-14T00:51:42.136664Z",
     "shell.execute_reply": "2021-10-14T00:51:42.137164Z",
     "shell.execute_reply.started": "2021-10-13T21:39:51.311626Z"
    },
    "papermill": {
     "duration": 0.076692,
     "end_time": "2021-10-14T00:51:42.137323",
     "exception": false,
     "start_time": "2021-10-14T00:51:42.060631",
     "status": "completed"
    },
    "tags": []
   },
   "outputs": [],
   "source": [
    "# XGBoost usando GridSearchCV\n",
    "#xgbr_model = XGBRegressor()\n",
    "\n",
    "#params = {\n",
    "#    'n_estimators': [110, 120, 130, 140], \n",
    "#    'learning_rate': [ 0.05, 0.075, 0.1],\n",
    "#    'max_depth': [ 7, 9],\n",
    "#    'reg_lambda': [0.3, 0.5]\n",
    "#}\n",
    "\n",
    "#xgb_reg = GridSearchCV(estimator=xgbr_model, param_grid=params, cv=5, n_jobs=-1, verbose = 5)\n",
    "\n",
    "#xgb_reg.fit(train[feats], train['Price'])\n",
    "\n",
    "#xgbr_model_score = xgb_reg.best_score_\n",
    "\n",
    "#xgbr_model_pred = xgb_reg.predict(test[feats])\n",
    "\n",
    "#mae = mean_absolute_error(test['Price'], xgbr_model_pred)\n",
    "\n",
    "#xgbr_model_score, mae"
   ]
  },
  {
   "cell_type": "code",
   "execution_count": 58,
   "id": "07686fb8",
   "metadata": {
    "execution": {
     "iopub.execute_input": "2021-10-14T00:51:42.282012Z",
     "iopub.status.busy": "2021-10-14T00:51:42.280628Z",
     "iopub.status.idle": "2021-10-14T00:51:42.284601Z",
     "shell.execute_reply": "2021-10-14T00:51:42.284055Z",
     "shell.execute_reply.started": "2021-10-13T21:19:06.292710Z"
    },
    "papermill": {
     "duration": 0.077346,
     "end_time": "2021-10-14T00:51:42.284744",
     "exception": false,
     "start_time": "2021-10-14T00:51:42.207398",
     "status": "completed"
    },
    "tags": []
   },
   "outputs": [],
   "source": [
    "#models = models.append({\n",
    "#    'model_name': 'XGBRegressor GridSearchCV',\n",
    "#    'prediction_score': xgbr_model_score,\n",
    "#    'mean_absolute_error' : mae\n",
    "#}, ignore_index=True)\n",
    "\n",
    "#models.sort_values('prediction_score', ascending=False)"
   ]
  },
  {
   "cell_type": "code",
   "execution_count": 59,
   "id": "36e1b963",
   "metadata": {
    "execution": {
     "iopub.execute_input": "2021-10-14T00:51:42.460064Z",
     "iopub.status.busy": "2021-10-14T00:51:42.459230Z",
     "iopub.status.idle": "2021-10-14T00:51:42.461339Z",
     "shell.execute_reply": "2021-10-14T00:51:42.461968Z",
     "shell.execute_reply.started": "2021-10-13T22:16:46.855461Z"
    },
    "papermill": {
     "duration": 0.104311,
     "end_time": "2021-10-14T00:51:42.462155",
     "exception": false,
     "start_time": "2021-10-14T00:51:42.357844",
     "status": "completed"
    },
    "tags": []
   },
   "outputs": [],
   "source": [
    "# XGBoost usando RandomizedSearchCV\n",
    "#xgbr_model2 = XGBRegressor()\n",
    "\n",
    "#params = {\n",
    " #   'n_estimators': [110, 120, 130, 140], \n",
    "  #  'learning_rate': [ 0.05, 0.075, 0.1],\n",
    "  #  'max_depth': [ 7, 9],\n",
    "  #  'reg_lambda': [0.3, 0.5]\n",
    "#}\n",
    "\n",
    "#xgb_reg = RandomizedSearchCV(estimator=xgbr_model2, param_distributions=params, cv=5, n_jobs=-1, verbose = 5)\n",
    "\n",
    "#xgb_reg.fit(train[feats], train['Price'])\n",
    "\n",
    "#xgbr_model_score = xgb_reg.best_score_\n",
    "\n",
    "#xgbr_model_pred = xgb_reg.predict(test[feats])\n",
    "\n",
    "#mae = mean_absolute_error(test['Price'], xgbr_model_pred)\n",
    "\n",
    "#xgbr_model_score, mae"
   ]
  },
  {
   "cell_type": "code",
   "execution_count": 60,
   "id": "538c7403",
   "metadata": {
    "execution": {
     "iopub.execute_input": "2021-10-14T00:51:42.618704Z",
     "iopub.status.busy": "2021-10-14T00:51:42.617903Z",
     "iopub.status.idle": "2021-10-14T00:51:42.621216Z",
     "shell.execute_reply": "2021-10-14T00:51:42.620580Z",
     "shell.execute_reply.started": "2021-10-13T21:19:06.297572Z"
    },
    "papermill": {
     "duration": 0.079895,
     "end_time": "2021-10-14T00:51:42.621356",
     "exception": false,
     "start_time": "2021-10-14T00:51:42.541461",
     "status": "completed"
    },
    "tags": []
   },
   "outputs": [],
   "source": [
    "#models = models.append({\n",
    "#    'model_name': 'XGBRegressor RandomizedSearchCV',\n",
    "#    'prediction_score': xgbr_model_score,\n",
    "#    'mean_absolute_error' : mae\n",
    "#}, ignore_index=True)\n",
    "\n",
    "#models.sort_values('prediction_score', ascending=False)"
   ]
  }
 ],
 "metadata": {
  "kernelspec": {
   "display_name": "Python 3",
   "language": "python",
   "name": "python3"
  },
  "language_info": {
   "codemirror_mode": {
    "name": "ipython",
    "version": 3
   },
   "file_extension": ".py",
   "mimetype": "text/x-python",
   "name": "python",
   "nbconvert_exporter": "python",
   "pygments_lexer": "ipython3",
   "version": "3.7.10"
  },
  "papermill": {
   "default_parameters": {},
   "duration": 142.497688,
   "end_time": "2021-10-14T00:51:43.502208",
   "environment_variables": {},
   "exception": null,
   "input_path": "__notebook__.ipynb",
   "output_path": "__notebook__.ipynb",
   "parameters": {},
   "start_time": "2021-10-14T00:49:21.004520",
   "version": "2.3.3"
  }
 },
 "nbformat": 4,
 "nbformat_minor": 5
}
