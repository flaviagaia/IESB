{
 "cells": [
  {
   "cell_type": "markdown",
   "id": "ff869010",
   "metadata": {
    "papermill": {
     "duration": 0.030602,
     "end_time": "2021-10-21T00:55:43.561063",
     "exception": false,
     "start_time": "2021-10-21T00:55:43.530461",
     "status": "completed"
    },
    "tags": []
   },
   "source": [
    "## IESB - CIA035 - Aula 9.2 - Pipeline 2"
   ]
  },
  {
   "cell_type": "code",
   "execution_count": 1,
   "id": "1dc89fe0",
   "metadata": {
    "_cell_guid": "b1076dfc-b9ad-4769-8c92-a6c4dae69d19",
    "_uuid": "8f2839f25d086af736a60e9eeb907d3b93b6e0e5",
    "execution": {
     "iopub.execute_input": "2021-10-21T00:55:43.630642Z",
     "iopub.status.busy": "2021-10-21T00:55:43.624479Z",
     "iopub.status.idle": "2021-10-21T00:55:43.651493Z",
     "shell.execute_reply": "2021-10-21T00:55:43.652391Z",
     "shell.execute_reply.started": "2021-10-21T00:25:18.340445Z"
    },
    "papermill": {
     "duration": 0.062673,
     "end_time": "2021-10-21T00:55:43.652833",
     "exception": false,
     "start_time": "2021-10-21T00:55:43.590160",
     "status": "completed"
    },
    "tags": []
   },
   "outputs": [
    {
     "name": "stdout",
     "output_type": "stream",
     "text": [
      "/kaggle/input/adult-income-dataset/adult.csv\n"
     ]
    }
   ],
   "source": [
    "# This Python 3 environment comes with many helpful analytics libraries installed\n",
    "# It is defined by the kaggle/python Docker image: https://github.com/kaggle/docker-python\n",
    "# For example, here's several helpful packages to load\n",
    "\n",
    "import numpy as np # linear algebra\n",
    "import pandas as pd # data processing, CSV file I/O (e.g. pd.read_csv)\n",
    "\n",
    "# Input data files are available in the read-only \"../input/\" directory\n",
    "# For example, running this (by clicking run or pressing Shift+Enter) will list all files under the input directory\n",
    "\n",
    "import os\n",
    "for dirname, _, filenames in os.walk('/kaggle/input'):\n",
    "    for filename in filenames:\n",
    "        print(os.path.join(dirname, filename))\n",
    "\n",
    "# You can write up to 20GB to the current directory (/kaggle/working/) that gets preserved as output when you create a version using \"Save & Run All\" \n",
    "# You can also write temporary files to /kaggle/temp/, but they won't be saved outside of the current session"
   ]
  },
  {
   "cell_type": "code",
   "execution_count": 2,
   "id": "2f48d4b8",
   "metadata": {
    "execution": {
     "iopub.execute_input": "2021-10-21T00:55:43.712498Z",
     "iopub.status.busy": "2021-10-21T00:55:43.711706Z",
     "iopub.status.idle": "2021-10-21T00:55:43.887489Z",
     "shell.execute_reply": "2021-10-21T00:55:43.886842Z",
     "shell.execute_reply.started": "2021-10-21T00:25:23.974352Z"
    },
    "papermill": {
     "duration": 0.206914,
     "end_time": "2021-10-21T00:55:43.887631",
     "exception": false,
     "start_time": "2021-10-21T00:55:43.680717",
     "status": "completed"
    },
    "tags": []
   },
   "outputs": [
    {
     "data": {
      "text/plain": [
       "(48842, 15)"
      ]
     },
     "execution_count": 2,
     "metadata": {},
     "output_type": "execute_result"
    }
   ],
   "source": [
    "# Carregando os dados\n",
    "df = pd.read_csv(\"/kaggle/input/adult-income-dataset/adult.csv\")\n",
    "\n",
    "df.shape"
   ]
  },
  {
   "cell_type": "code",
   "execution_count": 3,
   "id": "a455193e",
   "metadata": {
    "execution": {
     "iopub.execute_input": "2021-10-21T00:55:43.949905Z",
     "iopub.status.busy": "2021-10-21T00:55:43.949150Z",
     "iopub.status.idle": "2021-10-21T00:55:44.018425Z",
     "shell.execute_reply": "2021-10-21T00:55:44.019218Z",
     "shell.execute_reply.started": "2021-10-21T00:28:03.967427Z"
    },
    "papermill": {
     "duration": 0.105359,
     "end_time": "2021-10-21T00:55:44.019463",
     "exception": false,
     "start_time": "2021-10-21T00:55:43.914104",
     "status": "completed"
    },
    "tags": []
   },
   "outputs": [
    {
     "name": "stdout",
     "output_type": "stream",
     "text": [
      "<class 'pandas.core.frame.DataFrame'>\n",
      "RangeIndex: 48842 entries, 0 to 48841\n",
      "Data columns (total 15 columns):\n",
      " #   Column           Non-Null Count  Dtype \n",
      "---  ------           --------------  ----- \n",
      " 0   age              48842 non-null  int64 \n",
      " 1   workclass        48842 non-null  object\n",
      " 2   fnlwgt           48842 non-null  int64 \n",
      " 3   education        48842 non-null  object\n",
      " 4   educational-num  48842 non-null  int64 \n",
      " 5   marital-status   48842 non-null  object\n",
      " 6   occupation       48842 non-null  object\n",
      " 7   relationship     48842 non-null  object\n",
      " 8   race             48842 non-null  object\n",
      " 9   gender           48842 non-null  object\n",
      " 10  capital-gain     48842 non-null  int64 \n",
      " 11  capital-loss     48842 non-null  int64 \n",
      " 12  hours-per-week   48842 non-null  int64 \n",
      " 13  native-country   48842 non-null  object\n",
      " 14  income           48842 non-null  object\n",
      "dtypes: int64(6), object(9)\n",
      "memory usage: 5.6+ MB\n"
     ]
    }
   ],
   "source": [
    "# Visualizando as informações\n",
    "df.info()"
   ]
  },
  {
   "cell_type": "code",
   "execution_count": 4,
   "id": "3d92e64c",
   "metadata": {
    "execution": {
     "iopub.execute_input": "2021-10-21T00:55:44.079588Z",
     "iopub.status.busy": "2021-10-21T00:55:44.078903Z",
     "iopub.status.idle": "2021-10-21T00:55:44.095405Z",
     "shell.execute_reply": "2021-10-21T00:55:44.095962Z",
     "shell.execute_reply.started": "2021-10-21T00:30:11.151745Z"
    },
    "papermill": {
     "duration": 0.049288,
     "end_time": "2021-10-21T00:55:44.096132",
     "exception": false,
     "start_time": "2021-10-21T00:55:44.046844",
     "status": "completed"
    },
    "tags": []
   },
   "outputs": [
    {
     "data": {
      "text/html": [
       "<div>\n",
       "<style scoped>\n",
       "    .dataframe tbody tr th:only-of-type {\n",
       "        vertical-align: middle;\n",
       "    }\n",
       "\n",
       "    .dataframe tbody tr th {\n",
       "        vertical-align: top;\n",
       "    }\n",
       "\n",
       "    .dataframe thead th {\n",
       "        text-align: right;\n",
       "    }\n",
       "</style>\n",
       "<table border=\"1\" class=\"dataframe\">\n",
       "  <thead>\n",
       "    <tr style=\"text-align: right;\">\n",
       "      <th></th>\n",
       "      <th>age</th>\n",
       "      <th>workclass</th>\n",
       "      <th>fnlwgt</th>\n",
       "      <th>education</th>\n",
       "      <th>educational-num</th>\n",
       "      <th>marital-status</th>\n",
       "      <th>occupation</th>\n",
       "      <th>relationship</th>\n",
       "      <th>race</th>\n",
       "      <th>gender</th>\n",
       "      <th>capital-gain</th>\n",
       "      <th>capital-loss</th>\n",
       "      <th>hours-per-week</th>\n",
       "      <th>native-country</th>\n",
       "      <th>income</th>\n",
       "    </tr>\n",
       "  </thead>\n",
       "  <tbody>\n",
       "    <tr>\n",
       "      <th>0</th>\n",
       "      <td>25</td>\n",
       "      <td>Private</td>\n",
       "      <td>226802</td>\n",
       "      <td>11th</td>\n",
       "      <td>7</td>\n",
       "      <td>Never-married</td>\n",
       "      <td>Machine-op-inspct</td>\n",
       "      <td>Own-child</td>\n",
       "      <td>Black</td>\n",
       "      <td>Male</td>\n",
       "      <td>0</td>\n",
       "      <td>0</td>\n",
       "      <td>40</td>\n",
       "      <td>United-States</td>\n",
       "      <td>&lt;=50K</td>\n",
       "    </tr>\n",
       "    <tr>\n",
       "      <th>1</th>\n",
       "      <td>38</td>\n",
       "      <td>Private</td>\n",
       "      <td>89814</td>\n",
       "      <td>HS-grad</td>\n",
       "      <td>9</td>\n",
       "      <td>Married-civ-spouse</td>\n",
       "      <td>Farming-fishing</td>\n",
       "      <td>Husband</td>\n",
       "      <td>White</td>\n",
       "      <td>Male</td>\n",
       "      <td>0</td>\n",
       "      <td>0</td>\n",
       "      <td>50</td>\n",
       "      <td>United-States</td>\n",
       "      <td>&lt;=50K</td>\n",
       "    </tr>\n",
       "    <tr>\n",
       "      <th>2</th>\n",
       "      <td>28</td>\n",
       "      <td>Local-gov</td>\n",
       "      <td>336951</td>\n",
       "      <td>Assoc-acdm</td>\n",
       "      <td>12</td>\n",
       "      <td>Married-civ-spouse</td>\n",
       "      <td>Protective-serv</td>\n",
       "      <td>Husband</td>\n",
       "      <td>White</td>\n",
       "      <td>Male</td>\n",
       "      <td>0</td>\n",
       "      <td>0</td>\n",
       "      <td>40</td>\n",
       "      <td>United-States</td>\n",
       "      <td>&gt;50K</td>\n",
       "    </tr>\n",
       "    <tr>\n",
       "      <th>3</th>\n",
       "      <td>44</td>\n",
       "      <td>Private</td>\n",
       "      <td>160323</td>\n",
       "      <td>Some-college</td>\n",
       "      <td>10</td>\n",
       "      <td>Married-civ-spouse</td>\n",
       "      <td>Machine-op-inspct</td>\n",
       "      <td>Husband</td>\n",
       "      <td>Black</td>\n",
       "      <td>Male</td>\n",
       "      <td>7688</td>\n",
       "      <td>0</td>\n",
       "      <td>40</td>\n",
       "      <td>United-States</td>\n",
       "      <td>&gt;50K</td>\n",
       "    </tr>\n",
       "    <tr>\n",
       "      <th>4</th>\n",
       "      <td>18</td>\n",
       "      <td>?</td>\n",
       "      <td>103497</td>\n",
       "      <td>Some-college</td>\n",
       "      <td>10</td>\n",
       "      <td>Never-married</td>\n",
       "      <td>?</td>\n",
       "      <td>Own-child</td>\n",
       "      <td>White</td>\n",
       "      <td>Female</td>\n",
       "      <td>0</td>\n",
       "      <td>0</td>\n",
       "      <td>30</td>\n",
       "      <td>United-States</td>\n",
       "      <td>&lt;=50K</td>\n",
       "    </tr>\n",
       "  </tbody>\n",
       "</table>\n",
       "</div>"
      ],
      "text/plain": [
       "   age  workclass  fnlwgt     education  educational-num      marital-status  \\\n",
       "0   25    Private  226802          11th                7       Never-married   \n",
       "1   38    Private   89814       HS-grad                9  Married-civ-spouse   \n",
       "2   28  Local-gov  336951    Assoc-acdm               12  Married-civ-spouse   \n",
       "3   44    Private  160323  Some-college               10  Married-civ-spouse   \n",
       "4   18          ?  103497  Some-college               10       Never-married   \n",
       "\n",
       "          occupation relationship   race  gender  capital-gain  capital-loss  \\\n",
       "0  Machine-op-inspct    Own-child  Black    Male             0             0   \n",
       "1    Farming-fishing      Husband  White    Male             0             0   \n",
       "2    Protective-serv      Husband  White    Male             0             0   \n",
       "3  Machine-op-inspct      Husband  Black    Male          7688             0   \n",
       "4                  ?    Own-child  White  Female             0             0   \n",
       "\n",
       "   hours-per-week native-country income  \n",
       "0              40  United-States  <=50K  \n",
       "1              50  United-States  <=50K  \n",
       "2              40  United-States   >50K  \n",
       "3              40  United-States   >50K  \n",
       "4              30  United-States  <=50K  "
      ]
     },
     "execution_count": 4,
     "metadata": {},
     "output_type": "execute_result"
    }
   ],
   "source": [
    "# Visualizando os dados\n",
    "df.head()"
   ]
  },
  {
   "cell_type": "code",
   "execution_count": 5,
   "id": "75899fd3",
   "metadata": {
    "execution": {
     "iopub.execute_input": "2021-10-21T00:55:44.202104Z",
     "iopub.status.busy": "2021-10-21T00:55:44.201367Z",
     "iopub.status.idle": "2021-10-21T00:55:44.208890Z",
     "shell.execute_reply": "2021-10-21T00:55:44.209383Z",
     "shell.execute_reply.started": "2021-10-21T00:31:08.352047Z"
    },
    "papermill": {
     "duration": 0.086449,
     "end_time": "2021-10-21T00:55:44.209569",
     "exception": false,
     "start_time": "2021-10-21T00:55:44.123120",
     "status": "completed"
    },
    "tags": []
   },
   "outputs": [
    {
     "data": {
      "text/plain": [
       "age                0\n",
       "workclass          0\n",
       "fnlwgt             0\n",
       "education          0\n",
       "educational-num    0\n",
       "marital-status     0\n",
       "occupation         0\n",
       "relationship       0\n",
       "race               0\n",
       "gender             0\n",
       "capital-gain       0\n",
       "capital-loss       0\n",
       "hours-per-week     0\n",
       "native-country     0\n",
       "income             0\n",
       "dtype: int64"
      ]
     },
     "execution_count": 5,
     "metadata": {},
     "output_type": "execute_result"
    }
   ],
   "source": [
    "# Não temos valores nulos\n",
    "df.isna().sum()"
   ]
  },
  {
   "cell_type": "code",
   "execution_count": 6,
   "id": "3b43dd8c",
   "metadata": {
    "execution": {
     "iopub.execute_input": "2021-10-21T00:55:44.267674Z",
     "iopub.status.busy": "2021-10-21T00:55:44.266688Z",
     "iopub.status.idle": "2021-10-21T00:55:44.289893Z",
     "shell.execute_reply": "2021-10-21T00:55:44.290417Z",
     "shell.execute_reply.started": "2021-10-21T00:31:19.860546Z"
    },
    "papermill": {
     "duration": 0.053672,
     "end_time": "2021-10-21T00:55:44.290607",
     "exception": false,
     "start_time": "2021-10-21T00:55:44.236935",
     "status": "completed"
    },
    "tags": []
   },
   "outputs": [
    {
     "name": "stdout",
     "output_type": "stream",
     "text": [
      "Workclass - Qtde ?:  2799\n",
      "Porcentagem: 5.73%\n"
     ]
    }
   ],
   "source": [
    "# Mas temos um valor estranho '?' em algumas colunas\n",
    "# Verificando a ocorrencia de '?'\n",
    "print('Workclass - Qtde ?: ',df['workclass'][df['workclass']=='?'].count())\n",
    "print('Porcentagem: {0:.2f}%'.format(df['workclass'][df['workclass']=='?'].count()/(len(df))*100))"
   ]
  },
  {
   "cell_type": "code",
   "execution_count": 7,
   "id": "e61e6c14",
   "metadata": {
    "execution": {
     "iopub.execute_input": "2021-10-21T00:55:44.357007Z",
     "iopub.status.busy": "2021-10-21T00:55:44.356208Z",
     "iopub.status.idle": "2021-10-21T00:55:44.361092Z",
     "shell.execute_reply": "2021-10-21T00:55:44.361690Z",
     "shell.execute_reply.started": "2021-10-21T00:32:06.502834Z"
    },
    "papermill": {
     "duration": 0.043576,
     "end_time": "2021-10-21T00:55:44.361869",
     "exception": false,
     "start_time": "2021-10-21T00:55:44.318293",
     "status": "completed"
    },
    "tags": []
   },
   "outputs": [
    {
     "data": {
      "text/plain": [
       "Private             33906\n",
       "Self-emp-not-inc     3862\n",
       "Local-gov            3136\n",
       "?                    2799\n",
       "State-gov            1981\n",
       "Self-emp-inc         1695\n",
       "Federal-gov          1432\n",
       "Without-pay            21\n",
       "Never-worked           10\n",
       "Name: workclass, dtype: int64"
      ]
     },
     "execution_count": 7,
     "metadata": {},
     "output_type": "execute_result"
    }
   ],
   "source": [
    "# Valor mais comum em 'Workclass'\n",
    "df['workclass'].value_counts()"
   ]
  },
  {
   "cell_type": "code",
   "execution_count": 8,
   "id": "f0c2f477",
   "metadata": {
    "execution": {
     "iopub.execute_input": "2021-10-21T00:55:44.431666Z",
     "iopub.status.busy": "2021-10-21T00:55:44.430900Z",
     "iopub.status.idle": "2021-10-21T00:55:44.444054Z",
     "shell.execute_reply": "2021-10-21T00:55:44.443522Z",
     "shell.execute_reply.started": "2021-10-21T00:32:57.757539Z"
    },
    "papermill": {
     "duration": 0.054545,
     "end_time": "2021-10-21T00:55:44.444201",
     "exception": false,
     "start_time": "2021-10-21T00:55:44.389656",
     "status": "completed"
    },
    "tags": []
   },
   "outputs": [
    {
     "name": "stdout",
     "output_type": "stream",
     "text": [
      "Occupation - Qtde ?:  2809\n",
      "Porcentagem: 5.75%\n"
     ]
    }
   ],
   "source": [
    "# Verificando a ocorrencia de '?'\n",
    "print('Occupation - Qtde ?: ',df['occupation'][df['occupation']=='?'].count())\n",
    "print('Porcentagem: {0:.2f}%'.format(df['occupation'][df['occupation']=='?'].count()/(len(df))*100))"
   ]
  },
  {
   "cell_type": "code",
   "execution_count": 9,
   "id": "4e160761",
   "metadata": {
    "execution": {
     "iopub.execute_input": "2021-10-21T00:55:44.512100Z",
     "iopub.status.busy": "2021-10-21T00:55:44.511360Z",
     "iopub.status.idle": "2021-10-21T00:55:44.516129Z",
     "shell.execute_reply": "2021-10-21T00:55:44.516636Z",
     "shell.execute_reply.started": "2021-10-21T00:33:08.789061Z"
    },
    "papermill": {
     "duration": 0.044471,
     "end_time": "2021-10-21T00:55:44.516821",
     "exception": false,
     "start_time": "2021-10-21T00:55:44.472350",
     "status": "completed"
    },
    "tags": []
   },
   "outputs": [
    {
     "data": {
      "text/plain": [
       "Prof-specialty       6172\n",
       "Craft-repair         6112\n",
       "Exec-managerial      6086\n",
       "Adm-clerical         5611\n",
       "Sales                5504\n",
       "Other-service        4923\n",
       "Machine-op-inspct    3022\n",
       "?                    2809\n",
       "Transport-moving     2355\n",
       "Handlers-cleaners    2072\n",
       "Farming-fishing      1490\n",
       "Tech-support         1446\n",
       "Protective-serv       983\n",
       "Priv-house-serv       242\n",
       "Armed-Forces           15\n",
       "Name: occupation, dtype: int64"
      ]
     },
     "execution_count": 9,
     "metadata": {},
     "output_type": "execute_result"
    }
   ],
   "source": [
    "# Valor mais comum em 'occupation'\n",
    "df['occupation'].value_counts()"
   ]
  },
  {
   "cell_type": "code",
   "execution_count": 10,
   "id": "84b49891",
   "metadata": {
    "execution": {
     "iopub.execute_input": "2021-10-21T00:55:44.577767Z",
     "iopub.status.busy": "2021-10-21T00:55:44.577009Z",
     "iopub.status.idle": "2021-10-21T00:55:44.599778Z",
     "shell.execute_reply": "2021-10-21T00:55:44.599061Z",
     "shell.execute_reply.started": "2021-10-21T00:35:07.735074Z"
    },
    "papermill": {
     "duration": 0.053798,
     "end_time": "2021-10-21T00:55:44.599927",
     "exception": false,
     "start_time": "2021-10-21T00:55:44.546129",
     "status": "completed"
    },
    "tags": []
   },
   "outputs": [
    {
     "name": "stdout",
     "output_type": "stream",
     "text": [
      "Native Country - Qtde ?:  857\n",
      "Porcentagem: 1.75%\n"
     ]
    }
   ],
   "source": [
    "# Verificando a ocorrencia de '?'\n",
    "print('Native Country - Qtde ?: ',df['native-country'][df['native-country']=='?'].count())\n",
    "print('Porcentagem: {0:.2f}%'.format(df['native-country'][df['native-country']=='?'].count()/(len(df))*100))"
   ]
  },
  {
   "cell_type": "code",
   "execution_count": 11,
   "id": "8e1bf0ed",
   "metadata": {
    "execution": {
     "iopub.execute_input": "2021-10-21T00:55:44.668621Z",
     "iopub.status.busy": "2021-10-21T00:55:44.667618Z",
     "iopub.status.idle": "2021-10-21T00:55:44.673924Z",
     "shell.execute_reply": "2021-10-21T00:55:44.674528Z",
     "shell.execute_reply.started": "2021-10-21T00:35:16.117365Z"
    },
    "papermill": {
     "duration": 0.045945,
     "end_time": "2021-10-21T00:55:44.674701",
     "exception": false,
     "start_time": "2021-10-21T00:55:44.628756",
     "status": "completed"
    },
    "tags": []
   },
   "outputs": [
    {
     "data": {
      "text/plain": [
       "United-States                 43832\n",
       "Mexico                          951\n",
       "?                               857\n",
       "Philippines                     295\n",
       "Germany                         206\n",
       "Puerto-Rico                     184\n",
       "Canada                          182\n",
       "El-Salvador                     155\n",
       "India                           151\n",
       "Cuba                            138\n",
       "England                         127\n",
       "China                           122\n",
       "South                           115\n",
       "Jamaica                         106\n",
       "Italy                           105\n",
       "Dominican-Republic              103\n",
       "Japan                            92\n",
       "Guatemala                        88\n",
       "Poland                           87\n",
       "Vietnam                          86\n",
       "Columbia                         85\n",
       "Haiti                            75\n",
       "Portugal                         67\n",
       "Taiwan                           65\n",
       "Iran                             59\n",
       "Greece                           49\n",
       "Nicaragua                        49\n",
       "Peru                             46\n",
       "Ecuador                          45\n",
       "France                           38\n",
       "Ireland                          37\n",
       "Hong                             30\n",
       "Thailand                         30\n",
       "Cambodia                         28\n",
       "Trinadad&Tobago                  27\n",
       "Laos                             23\n",
       "Yugoslavia                       23\n",
       "Outlying-US(Guam-USVI-etc)       23\n",
       "Scotland                         21\n",
       "Honduras                         20\n",
       "Hungary                          19\n",
       "Holand-Netherlands                1\n",
       "Name: native-country, dtype: int64"
      ]
     },
     "execution_count": 11,
     "metadata": {},
     "output_type": "execute_result"
    }
   ],
   "source": [
    "# Valor mais comum em 'native-country'\n",
    "df['native-country'].value_counts()"
   ]
  },
  {
   "cell_type": "code",
   "execution_count": 12,
   "id": "6fa3d04b",
   "metadata": {
    "execution": {
     "iopub.execute_input": "2021-10-21T00:55:44.736430Z",
     "iopub.status.busy": "2021-10-21T00:55:44.735466Z",
     "iopub.status.idle": "2021-10-21T00:55:44.750263Z",
     "shell.execute_reply": "2021-10-21T00:55:44.750872Z",
     "shell.execute_reply.started": "2021-10-21T00:36:27.813255Z"
    },
    "papermill": {
     "duration": 0.047424,
     "end_time": "2021-10-21T00:55:44.751056",
     "exception": false,
     "start_time": "2021-10-21T00:55:44.703632",
     "status": "completed"
    },
    "tags": []
   },
   "outputs": [],
   "source": [
    "# Vamos corrigir as colunas pelo valor mais frequente\n",
    "df['workclass'] = df['workclass'].replace('?','Private')\n",
    "df['occupation'] = df['occupation'].replace('?','Prof-specialty')\n",
    "df['native-country'] = df['native-country'].replace('?','United-States')"
   ]
  },
  {
   "cell_type": "code",
   "execution_count": 13,
   "id": "6f1e6b46",
   "metadata": {
    "execution": {
     "iopub.execute_input": "2021-10-21T00:55:44.813347Z",
     "iopub.status.busy": "2021-10-21T00:55:44.812343Z",
     "iopub.status.idle": "2021-10-21T00:55:44.847763Z",
     "shell.execute_reply": "2021-10-21T00:55:44.848302Z",
     "shell.execute_reply.started": "2021-10-21T00:37:08.752271Z"
    },
    "papermill": {
     "duration": 0.068461,
     "end_time": "2021-10-21T00:55:44.848498",
     "exception": false,
     "start_time": "2021-10-21T00:55:44.780037",
     "status": "completed"
    },
    "tags": []
   },
   "outputs": [],
   "source": [
    "# Transformando a coluna 'Income' em binária\n",
    "df.income = df.income.replace('<=50K', 0)\n",
    "df.income = df.income.replace('>50K', 1)"
   ]
  },
  {
   "cell_type": "code",
   "execution_count": 14,
   "id": "7f58c290",
   "metadata": {
    "execution": {
     "iopub.execute_input": "2021-10-21T00:55:44.910546Z",
     "iopub.status.busy": "2021-10-21T00:55:44.909550Z",
     "iopub.status.idle": "2021-10-21T00:55:44.978773Z",
     "shell.execute_reply": "2021-10-21T00:55:44.978237Z",
     "shell.execute_reply.started": "2021-10-21T00:38:30.797327Z"
    },
    "papermill": {
     "duration": 0.101392,
     "end_time": "2021-10-21T00:55:44.978924",
     "exception": false,
     "start_time": "2021-10-21T00:55:44.877532",
     "status": "completed"
    },
    "tags": []
   },
   "outputs": [
    {
     "name": "stdout",
     "output_type": "stream",
     "text": [
      "workclass :\n",
      "\n",
      "Private             36705\n",
      "Self-emp-not-inc     3862\n",
      "Local-gov            3136\n",
      "State-gov            1981\n",
      "Self-emp-inc         1695\n",
      "Federal-gov          1432\n",
      "Without-pay            21\n",
      "Never-worked           10\n",
      "Name: workclass, dtype: int64\n",
      "\n",
      "education :\n",
      "\n",
      "HS-grad         15784\n",
      "Some-college    10878\n",
      "Bachelors        8025\n",
      "Masters          2657\n",
      "Assoc-voc        2061\n",
      "11th             1812\n",
      "Assoc-acdm       1601\n",
      "10th             1389\n",
      "7th-8th           955\n",
      "Prof-school       834\n",
      "9th               756\n",
      "12th              657\n",
      "Doctorate         594\n",
      "5th-6th           509\n",
      "1st-4th           247\n",
      "Preschool          83\n",
      "Name: education, dtype: int64\n",
      "\n",
      "marital-status :\n",
      "\n",
      "Married-civ-spouse       22379\n",
      "Never-married            16117\n",
      "Divorced                  6633\n",
      "Separated                 1530\n",
      "Widowed                   1518\n",
      "Married-spouse-absent      628\n",
      "Married-AF-spouse           37\n",
      "Name: marital-status, dtype: int64\n",
      "\n",
      "occupation :\n",
      "\n",
      "Prof-specialty       8981\n",
      "Craft-repair         6112\n",
      "Exec-managerial      6086\n",
      "Adm-clerical         5611\n",
      "Sales                5504\n",
      "Other-service        4923\n",
      "Machine-op-inspct    3022\n",
      "Transport-moving     2355\n",
      "Handlers-cleaners    2072\n",
      "Farming-fishing      1490\n",
      "Tech-support         1446\n",
      "Protective-serv       983\n",
      "Priv-house-serv       242\n",
      "Armed-Forces           15\n",
      "Name: occupation, dtype: int64\n",
      "\n",
      "relationship :\n",
      "\n",
      "Husband           19716\n",
      "Not-in-family     12583\n",
      "Own-child          7581\n",
      "Unmarried          5125\n",
      "Wife               2331\n",
      "Other-relative     1506\n",
      "Name: relationship, dtype: int64\n",
      "\n",
      "race :\n",
      "\n",
      "White                 41762\n",
      "Black                  4685\n",
      "Asian-Pac-Islander     1519\n",
      "Amer-Indian-Eskimo      470\n",
      "Other                   406\n",
      "Name: race, dtype: int64\n",
      "\n",
      "gender :\n",
      "\n",
      "Male      32650\n",
      "Female    16192\n",
      "Name: gender, dtype: int64\n",
      "\n",
      "native-country :\n",
      "\n",
      "United-States                 44689\n",
      "Mexico                          951\n",
      "Philippines                     295\n",
      "Germany                         206\n",
      "Puerto-Rico                     184\n",
      "Canada                          182\n",
      "El-Salvador                     155\n",
      "India                           151\n",
      "Cuba                            138\n",
      "England                         127\n",
      "China                           122\n",
      "South                           115\n",
      "Jamaica                         106\n",
      "Italy                           105\n",
      "Dominican-Republic              103\n",
      "Japan                            92\n",
      "Guatemala                        88\n",
      "Poland                           87\n",
      "Vietnam                          86\n",
      "Columbia                         85\n",
      "Haiti                            75\n",
      "Portugal                         67\n",
      "Taiwan                           65\n",
      "Iran                             59\n",
      "Greece                           49\n",
      "Nicaragua                        49\n",
      "Peru                             46\n",
      "Ecuador                          45\n",
      "France                           38\n",
      "Ireland                          37\n",
      "Hong                             30\n",
      "Thailand                         30\n",
      "Cambodia                         28\n",
      "Trinadad&Tobago                  27\n",
      "Yugoslavia                       23\n",
      "Outlying-US(Guam-USVI-etc)       23\n",
      "Laos                             23\n",
      "Scotland                         21\n",
      "Honduras                         20\n",
      "Hungary                          19\n",
      "Holand-Netherlands                1\n",
      "Name: native-country, dtype: int64\n",
      "\n"
     ]
    }
   ],
   "source": [
    "# Verificando a distribuição dos valores categóricos\n",
    "cat_cols = [c for c in df.columns if (df[c].dtype == 'object')]\n",
    "\n",
    "for i in cat_cols:\n",
    "    print(i,':')\n",
    "    print('')\n",
    "    print(df[i].value_counts())\n",
    "    print('')"
   ]
  },
  {
   "cell_type": "code",
   "execution_count": 15,
   "id": "02c103af",
   "metadata": {
    "execution": {
     "iopub.execute_input": "2021-10-21T00:55:45.042302Z",
     "iopub.status.busy": "2021-10-21T00:55:45.041672Z",
     "iopub.status.idle": "2021-10-21T00:55:45.103464Z",
     "shell.execute_reply": "2021-10-21T00:55:45.102906Z",
     "shell.execute_reply.started": "2021-10-21T00:39:57.906025Z"
    },
    "papermill": {
     "duration": 0.094633,
     "end_time": "2021-10-21T00:55:45.103612",
     "exception": false,
     "start_time": "2021-10-21T00:55:45.008979",
     "status": "completed"
    },
    "tags": []
   },
   "outputs": [],
   "source": [
    "# Limitando as categorias\n",
    "\n",
    "# Education\n",
    "df.education = df.education.replace(['Preschool','1st-4th','5th-6th','7th-8th','9th','10th','11th','12th'],'left')\n",
    "df.education = df.education.replace('HS-grad','school')\n",
    "df.education = df.education.replace(['Assoc-voc','Assoc-acdm','Prof-school','Some-college'],'higher')\n",
    "df.education = df.education.replace('Bachelors','undergrad')\n",
    "df.education = df.education.replace('Masters','grad')\n",
    "df.education = df.education.replace('Doctorate','doc')"
   ]
  },
  {
   "cell_type": "code",
   "execution_count": 16,
   "id": "f148d207",
   "metadata": {
    "execution": {
     "iopub.execute_input": "2021-10-21T00:55:45.174601Z",
     "iopub.status.busy": "2021-10-21T00:55:45.173666Z",
     "iopub.status.idle": "2021-10-21T00:55:45.202623Z",
     "shell.execute_reply": "2021-10-21T00:55:45.203117Z",
     "shell.execute_reply.started": "2021-10-21T00:40:05.888150Z"
    },
    "papermill": {
     "duration": 0.069809,
     "end_time": "2021-10-21T00:55:45.203296",
     "exception": false,
     "start_time": "2021-10-21T00:55:45.133487",
     "status": "completed"
    },
    "tags": []
   },
   "outputs": [],
   "source": [
    "# Marital status\n",
    "df['marital-status'] = df['marital-status'].replace(['Married-civ-spouse','Married-AF-spouse'],'married')\n",
    "df['marital-status'] = df['marital-status'].replace(['Never-married','Divorced','Separated','Widowed', 'Married-spouse-absent'], 'not-married')"
   ]
  },
  {
   "cell_type": "code",
   "execution_count": 17,
   "id": "99e6ce07",
   "metadata": {
    "execution": {
     "iopub.execute_input": "2021-10-21T00:55:45.265691Z",
     "iopub.status.busy": "2021-10-21T00:55:45.265050Z",
     "iopub.status.idle": "2021-10-21T00:55:45.307851Z",
     "shell.execute_reply": "2021-10-21T00:55:45.308395Z",
     "shell.execute_reply.started": "2021-10-21T00:42:11.767335Z"
    },
    "papermill": {
     "duration": 0.075412,
     "end_time": "2021-10-21T00:55:45.308582",
     "exception": false,
     "start_time": "2021-10-21T00:55:45.233170",
     "status": "completed"
    },
    "tags": []
   },
   "outputs": [],
   "source": [
    "# Para Native country vamos seprar em USA e os demais\n",
    "df['native-country'] = df['native-country'].apply(lambda country: 1 if country.strip() == \"United-States\" else 0)"
   ]
  },
  {
   "cell_type": "code",
   "execution_count": 18,
   "id": "1692d6e2",
   "metadata": {
    "execution": {
     "iopub.execute_input": "2021-10-21T00:55:45.375981Z",
     "iopub.status.busy": "2021-10-21T00:55:45.375296Z",
     "iopub.status.idle": "2021-10-21T00:55:45.391813Z",
     "shell.execute_reply": "2021-10-21T00:55:45.391253Z",
     "shell.execute_reply.started": "2021-10-21T00:42:22.123090Z"
    },
    "papermill": {
     "duration": 0.053817,
     "end_time": "2021-10-21T00:55:45.391972",
     "exception": false,
     "start_time": "2021-10-21T00:55:45.338155",
     "status": "completed"
    },
    "tags": []
   },
   "outputs": [
    {
     "data": {
      "text/html": [
       "<div>\n",
       "<style scoped>\n",
       "    .dataframe tbody tr th:only-of-type {\n",
       "        vertical-align: middle;\n",
       "    }\n",
       "\n",
       "    .dataframe tbody tr th {\n",
       "        vertical-align: top;\n",
       "    }\n",
       "\n",
       "    .dataframe thead th {\n",
       "        text-align: right;\n",
       "    }\n",
       "</style>\n",
       "<table border=\"1\" class=\"dataframe\">\n",
       "  <thead>\n",
       "    <tr style=\"text-align: right;\">\n",
       "      <th></th>\n",
       "      <th>age</th>\n",
       "      <th>workclass</th>\n",
       "      <th>fnlwgt</th>\n",
       "      <th>education</th>\n",
       "      <th>educational-num</th>\n",
       "      <th>marital-status</th>\n",
       "      <th>occupation</th>\n",
       "      <th>relationship</th>\n",
       "      <th>race</th>\n",
       "      <th>gender</th>\n",
       "      <th>capital-gain</th>\n",
       "      <th>capital-loss</th>\n",
       "      <th>hours-per-week</th>\n",
       "      <th>native-country</th>\n",
       "      <th>income</th>\n",
       "    </tr>\n",
       "  </thead>\n",
       "  <tbody>\n",
       "    <tr>\n",
       "      <th>0</th>\n",
       "      <td>25</td>\n",
       "      <td>Private</td>\n",
       "      <td>226802</td>\n",
       "      <td>left</td>\n",
       "      <td>7</td>\n",
       "      <td>not-married</td>\n",
       "      <td>Machine-op-inspct</td>\n",
       "      <td>Own-child</td>\n",
       "      <td>Black</td>\n",
       "      <td>Male</td>\n",
       "      <td>0</td>\n",
       "      <td>0</td>\n",
       "      <td>40</td>\n",
       "      <td>1</td>\n",
       "      <td>0</td>\n",
       "    </tr>\n",
       "    <tr>\n",
       "      <th>1</th>\n",
       "      <td>38</td>\n",
       "      <td>Private</td>\n",
       "      <td>89814</td>\n",
       "      <td>school</td>\n",
       "      <td>9</td>\n",
       "      <td>married</td>\n",
       "      <td>Farming-fishing</td>\n",
       "      <td>Husband</td>\n",
       "      <td>White</td>\n",
       "      <td>Male</td>\n",
       "      <td>0</td>\n",
       "      <td>0</td>\n",
       "      <td>50</td>\n",
       "      <td>1</td>\n",
       "      <td>0</td>\n",
       "    </tr>\n",
       "    <tr>\n",
       "      <th>2</th>\n",
       "      <td>28</td>\n",
       "      <td>Local-gov</td>\n",
       "      <td>336951</td>\n",
       "      <td>higher</td>\n",
       "      <td>12</td>\n",
       "      <td>married</td>\n",
       "      <td>Protective-serv</td>\n",
       "      <td>Husband</td>\n",
       "      <td>White</td>\n",
       "      <td>Male</td>\n",
       "      <td>0</td>\n",
       "      <td>0</td>\n",
       "      <td>40</td>\n",
       "      <td>1</td>\n",
       "      <td>1</td>\n",
       "    </tr>\n",
       "    <tr>\n",
       "      <th>3</th>\n",
       "      <td>44</td>\n",
       "      <td>Private</td>\n",
       "      <td>160323</td>\n",
       "      <td>higher</td>\n",
       "      <td>10</td>\n",
       "      <td>married</td>\n",
       "      <td>Machine-op-inspct</td>\n",
       "      <td>Husband</td>\n",
       "      <td>Black</td>\n",
       "      <td>Male</td>\n",
       "      <td>7688</td>\n",
       "      <td>0</td>\n",
       "      <td>40</td>\n",
       "      <td>1</td>\n",
       "      <td>1</td>\n",
       "    </tr>\n",
       "    <tr>\n",
       "      <th>4</th>\n",
       "      <td>18</td>\n",
       "      <td>Private</td>\n",
       "      <td>103497</td>\n",
       "      <td>higher</td>\n",
       "      <td>10</td>\n",
       "      <td>not-married</td>\n",
       "      <td>Prof-specialty</td>\n",
       "      <td>Own-child</td>\n",
       "      <td>White</td>\n",
       "      <td>Female</td>\n",
       "      <td>0</td>\n",
       "      <td>0</td>\n",
       "      <td>30</td>\n",
       "      <td>1</td>\n",
       "      <td>0</td>\n",
       "    </tr>\n",
       "    <tr>\n",
       "      <th>5</th>\n",
       "      <td>34</td>\n",
       "      <td>Private</td>\n",
       "      <td>198693</td>\n",
       "      <td>left</td>\n",
       "      <td>6</td>\n",
       "      <td>not-married</td>\n",
       "      <td>Other-service</td>\n",
       "      <td>Not-in-family</td>\n",
       "      <td>White</td>\n",
       "      <td>Male</td>\n",
       "      <td>0</td>\n",
       "      <td>0</td>\n",
       "      <td>30</td>\n",
       "      <td>1</td>\n",
       "      <td>0</td>\n",
       "    </tr>\n",
       "    <tr>\n",
       "      <th>6</th>\n",
       "      <td>29</td>\n",
       "      <td>Private</td>\n",
       "      <td>227026</td>\n",
       "      <td>school</td>\n",
       "      <td>9</td>\n",
       "      <td>not-married</td>\n",
       "      <td>Prof-specialty</td>\n",
       "      <td>Unmarried</td>\n",
       "      <td>Black</td>\n",
       "      <td>Male</td>\n",
       "      <td>0</td>\n",
       "      <td>0</td>\n",
       "      <td>40</td>\n",
       "      <td>1</td>\n",
       "      <td>0</td>\n",
       "    </tr>\n",
       "    <tr>\n",
       "      <th>7</th>\n",
       "      <td>63</td>\n",
       "      <td>Self-emp-not-inc</td>\n",
       "      <td>104626</td>\n",
       "      <td>higher</td>\n",
       "      <td>15</td>\n",
       "      <td>married</td>\n",
       "      <td>Prof-specialty</td>\n",
       "      <td>Husband</td>\n",
       "      <td>White</td>\n",
       "      <td>Male</td>\n",
       "      <td>3103</td>\n",
       "      <td>0</td>\n",
       "      <td>32</td>\n",
       "      <td>1</td>\n",
       "      <td>1</td>\n",
       "    </tr>\n",
       "    <tr>\n",
       "      <th>8</th>\n",
       "      <td>24</td>\n",
       "      <td>Private</td>\n",
       "      <td>369667</td>\n",
       "      <td>higher</td>\n",
       "      <td>10</td>\n",
       "      <td>not-married</td>\n",
       "      <td>Other-service</td>\n",
       "      <td>Unmarried</td>\n",
       "      <td>White</td>\n",
       "      <td>Female</td>\n",
       "      <td>0</td>\n",
       "      <td>0</td>\n",
       "      <td>40</td>\n",
       "      <td>1</td>\n",
       "      <td>0</td>\n",
       "    </tr>\n",
       "    <tr>\n",
       "      <th>9</th>\n",
       "      <td>55</td>\n",
       "      <td>Private</td>\n",
       "      <td>104996</td>\n",
       "      <td>left</td>\n",
       "      <td>4</td>\n",
       "      <td>married</td>\n",
       "      <td>Craft-repair</td>\n",
       "      <td>Husband</td>\n",
       "      <td>White</td>\n",
       "      <td>Male</td>\n",
       "      <td>0</td>\n",
       "      <td>0</td>\n",
       "      <td>10</td>\n",
       "      <td>1</td>\n",
       "      <td>0</td>\n",
       "    </tr>\n",
       "    <tr>\n",
       "      <th>10</th>\n",
       "      <td>65</td>\n",
       "      <td>Private</td>\n",
       "      <td>184454</td>\n",
       "      <td>school</td>\n",
       "      <td>9</td>\n",
       "      <td>married</td>\n",
       "      <td>Machine-op-inspct</td>\n",
       "      <td>Husband</td>\n",
       "      <td>White</td>\n",
       "      <td>Male</td>\n",
       "      <td>6418</td>\n",
       "      <td>0</td>\n",
       "      <td>40</td>\n",
       "      <td>1</td>\n",
       "      <td>1</td>\n",
       "    </tr>\n",
       "    <tr>\n",
       "      <th>11</th>\n",
       "      <td>36</td>\n",
       "      <td>Federal-gov</td>\n",
       "      <td>212465</td>\n",
       "      <td>undergrad</td>\n",
       "      <td>13</td>\n",
       "      <td>married</td>\n",
       "      <td>Adm-clerical</td>\n",
       "      <td>Husband</td>\n",
       "      <td>White</td>\n",
       "      <td>Male</td>\n",
       "      <td>0</td>\n",
       "      <td>0</td>\n",
       "      <td>40</td>\n",
       "      <td>1</td>\n",
       "      <td>0</td>\n",
       "    </tr>\n",
       "    <tr>\n",
       "      <th>12</th>\n",
       "      <td>26</td>\n",
       "      <td>Private</td>\n",
       "      <td>82091</td>\n",
       "      <td>school</td>\n",
       "      <td>9</td>\n",
       "      <td>not-married</td>\n",
       "      <td>Adm-clerical</td>\n",
       "      <td>Not-in-family</td>\n",
       "      <td>White</td>\n",
       "      <td>Female</td>\n",
       "      <td>0</td>\n",
       "      <td>0</td>\n",
       "      <td>39</td>\n",
       "      <td>1</td>\n",
       "      <td>0</td>\n",
       "    </tr>\n",
       "    <tr>\n",
       "      <th>13</th>\n",
       "      <td>58</td>\n",
       "      <td>Private</td>\n",
       "      <td>299831</td>\n",
       "      <td>school</td>\n",
       "      <td>9</td>\n",
       "      <td>married</td>\n",
       "      <td>Prof-specialty</td>\n",
       "      <td>Husband</td>\n",
       "      <td>White</td>\n",
       "      <td>Male</td>\n",
       "      <td>0</td>\n",
       "      <td>0</td>\n",
       "      <td>35</td>\n",
       "      <td>1</td>\n",
       "      <td>0</td>\n",
       "    </tr>\n",
       "    <tr>\n",
       "      <th>14</th>\n",
       "      <td>48</td>\n",
       "      <td>Private</td>\n",
       "      <td>279724</td>\n",
       "      <td>school</td>\n",
       "      <td>9</td>\n",
       "      <td>married</td>\n",
       "      <td>Machine-op-inspct</td>\n",
       "      <td>Husband</td>\n",
       "      <td>White</td>\n",
       "      <td>Male</td>\n",
       "      <td>3103</td>\n",
       "      <td>0</td>\n",
       "      <td>48</td>\n",
       "      <td>1</td>\n",
       "      <td>1</td>\n",
       "    </tr>\n",
       "    <tr>\n",
       "      <th>15</th>\n",
       "      <td>43</td>\n",
       "      <td>Private</td>\n",
       "      <td>346189</td>\n",
       "      <td>grad</td>\n",
       "      <td>14</td>\n",
       "      <td>married</td>\n",
       "      <td>Exec-managerial</td>\n",
       "      <td>Husband</td>\n",
       "      <td>White</td>\n",
       "      <td>Male</td>\n",
       "      <td>0</td>\n",
       "      <td>0</td>\n",
       "      <td>50</td>\n",
       "      <td>1</td>\n",
       "      <td>1</td>\n",
       "    </tr>\n",
       "    <tr>\n",
       "      <th>16</th>\n",
       "      <td>20</td>\n",
       "      <td>State-gov</td>\n",
       "      <td>444554</td>\n",
       "      <td>higher</td>\n",
       "      <td>10</td>\n",
       "      <td>not-married</td>\n",
       "      <td>Other-service</td>\n",
       "      <td>Own-child</td>\n",
       "      <td>White</td>\n",
       "      <td>Male</td>\n",
       "      <td>0</td>\n",
       "      <td>0</td>\n",
       "      <td>25</td>\n",
       "      <td>1</td>\n",
       "      <td>0</td>\n",
       "    </tr>\n",
       "    <tr>\n",
       "      <th>17</th>\n",
       "      <td>43</td>\n",
       "      <td>Private</td>\n",
       "      <td>128354</td>\n",
       "      <td>school</td>\n",
       "      <td>9</td>\n",
       "      <td>married</td>\n",
       "      <td>Adm-clerical</td>\n",
       "      <td>Wife</td>\n",
       "      <td>White</td>\n",
       "      <td>Female</td>\n",
       "      <td>0</td>\n",
       "      <td>0</td>\n",
       "      <td>30</td>\n",
       "      <td>1</td>\n",
       "      <td>0</td>\n",
       "    </tr>\n",
       "    <tr>\n",
       "      <th>18</th>\n",
       "      <td>37</td>\n",
       "      <td>Private</td>\n",
       "      <td>60548</td>\n",
       "      <td>school</td>\n",
       "      <td>9</td>\n",
       "      <td>not-married</td>\n",
       "      <td>Machine-op-inspct</td>\n",
       "      <td>Unmarried</td>\n",
       "      <td>White</td>\n",
       "      <td>Female</td>\n",
       "      <td>0</td>\n",
       "      <td>0</td>\n",
       "      <td>20</td>\n",
       "      <td>1</td>\n",
       "      <td>0</td>\n",
       "    </tr>\n",
       "    <tr>\n",
       "      <th>19</th>\n",
       "      <td>40</td>\n",
       "      <td>Private</td>\n",
       "      <td>85019</td>\n",
       "      <td>doc</td>\n",
       "      <td>16</td>\n",
       "      <td>married</td>\n",
       "      <td>Prof-specialty</td>\n",
       "      <td>Husband</td>\n",
       "      <td>Asian-Pac-Islander</td>\n",
       "      <td>Male</td>\n",
       "      <td>0</td>\n",
       "      <td>0</td>\n",
       "      <td>45</td>\n",
       "      <td>1</td>\n",
       "      <td>1</td>\n",
       "    </tr>\n",
       "  </tbody>\n",
       "</table>\n",
       "</div>"
      ],
      "text/plain": [
       "    age         workclass  fnlwgt  education  educational-num marital-status  \\\n",
       "0    25           Private  226802       left                7    not-married   \n",
       "1    38           Private   89814     school                9        married   \n",
       "2    28         Local-gov  336951     higher               12        married   \n",
       "3    44           Private  160323     higher               10        married   \n",
       "4    18           Private  103497     higher               10    not-married   \n",
       "5    34           Private  198693       left                6    not-married   \n",
       "6    29           Private  227026     school                9    not-married   \n",
       "7    63  Self-emp-not-inc  104626     higher               15        married   \n",
       "8    24           Private  369667     higher               10    not-married   \n",
       "9    55           Private  104996       left                4        married   \n",
       "10   65           Private  184454     school                9        married   \n",
       "11   36       Federal-gov  212465  undergrad               13        married   \n",
       "12   26           Private   82091     school                9    not-married   \n",
       "13   58           Private  299831     school                9        married   \n",
       "14   48           Private  279724     school                9        married   \n",
       "15   43           Private  346189       grad               14        married   \n",
       "16   20         State-gov  444554     higher               10    not-married   \n",
       "17   43           Private  128354     school                9        married   \n",
       "18   37           Private   60548     school                9    not-married   \n",
       "19   40           Private   85019        doc               16        married   \n",
       "\n",
       "           occupation   relationship                race  gender  \\\n",
       "0   Machine-op-inspct      Own-child               Black    Male   \n",
       "1     Farming-fishing        Husband               White    Male   \n",
       "2     Protective-serv        Husband               White    Male   \n",
       "3   Machine-op-inspct        Husband               Black    Male   \n",
       "4      Prof-specialty      Own-child               White  Female   \n",
       "5       Other-service  Not-in-family               White    Male   \n",
       "6      Prof-specialty      Unmarried               Black    Male   \n",
       "7      Prof-specialty        Husband               White    Male   \n",
       "8       Other-service      Unmarried               White  Female   \n",
       "9        Craft-repair        Husband               White    Male   \n",
       "10  Machine-op-inspct        Husband               White    Male   \n",
       "11       Adm-clerical        Husband               White    Male   \n",
       "12       Adm-clerical  Not-in-family               White  Female   \n",
       "13     Prof-specialty        Husband               White    Male   \n",
       "14  Machine-op-inspct        Husband               White    Male   \n",
       "15    Exec-managerial        Husband               White    Male   \n",
       "16      Other-service      Own-child               White    Male   \n",
       "17       Adm-clerical           Wife               White  Female   \n",
       "18  Machine-op-inspct      Unmarried               White  Female   \n",
       "19     Prof-specialty        Husband  Asian-Pac-Islander    Male   \n",
       "\n",
       "    capital-gain  capital-loss  hours-per-week  native-country  income  \n",
       "0              0             0              40               1       0  \n",
       "1              0             0              50               1       0  \n",
       "2              0             0              40               1       1  \n",
       "3           7688             0              40               1       1  \n",
       "4              0             0              30               1       0  \n",
       "5              0             0              30               1       0  \n",
       "6              0             0              40               1       0  \n",
       "7           3103             0              32               1       1  \n",
       "8              0             0              40               1       0  \n",
       "9              0             0              10               1       0  \n",
       "10          6418             0              40               1       1  \n",
       "11             0             0              40               1       0  \n",
       "12             0             0              39               1       0  \n",
       "13             0             0              35               1       0  \n",
       "14          3103             0              48               1       1  \n",
       "15             0             0              50               1       1  \n",
       "16             0             0              25               1       0  \n",
       "17             0             0              30               1       0  \n",
       "18             0             0              20               1       0  \n",
       "19             0             0              45               1       1  "
      ]
     },
     "execution_count": 18,
     "metadata": {},
     "output_type": "execute_result"
    }
   ],
   "source": [
    "# Verificando os dados\n",
    "df.head(20)"
   ]
  },
  {
   "cell_type": "code",
   "execution_count": 19,
   "id": "4b85b4c9",
   "metadata": {
    "execution": {
     "iopub.execute_input": "2021-10-21T00:55:45.460612Z",
     "iopub.status.busy": "2021-10-21T00:55:45.459924Z",
     "iopub.status.idle": "2021-10-21T00:55:45.462422Z",
     "shell.execute_reply": "2021-10-21T00:55:45.463027Z",
     "shell.execute_reply.started": "2021-10-21T00:45:39.735826Z"
    },
    "papermill": {
     "duration": 0.040605,
     "end_time": "2021-10-21T00:55:45.463192",
     "exception": false,
     "start_time": "2021-10-21T00:55:45.422587",
     "status": "completed"
    },
    "tags": []
   },
   "outputs": [
    {
     "data": {
      "text/plain": [
       "['age',\n",
       " 'fnlwgt',\n",
       " 'educational-num',\n",
       " 'capital-gain',\n",
       " 'capital-loss',\n",
       " 'hours-per-week',\n",
       " 'native-country']"
      ]
     },
     "execution_count": 19,
     "metadata": {},
     "output_type": "execute_result"
    }
   ],
   "source": [
    "# Separando as colunas numéricas\n",
    "num_cols = [c for c in df.columns if (df[c].dtype == 'int64')]\n",
    "\n",
    "num_cols.remove('income')\n",
    "\n",
    "num_cols"
   ]
  },
  {
   "cell_type": "code",
   "execution_count": 20,
   "id": "540ae9f2",
   "metadata": {
    "execution": {
     "iopub.execute_input": "2021-10-21T00:55:45.532577Z",
     "iopub.status.busy": "2021-10-21T00:55:45.531608Z",
     "iopub.status.idle": "2021-10-21T00:55:45.535536Z",
     "shell.execute_reply": "2021-10-21T00:55:45.534890Z",
     "shell.execute_reply.started": "2021-10-21T00:46:05.830637Z"
    },
    "papermill": {
     "duration": 0.041709,
     "end_time": "2021-10-21T00:55:45.535676",
     "exception": false,
     "start_time": "2021-10-21T00:55:45.493967",
     "status": "completed"
    },
    "tags": []
   },
   "outputs": [
    {
     "data": {
      "text/plain": [
       "['workclass',\n",
       " 'education',\n",
       " 'marital-status',\n",
       " 'occupation',\n",
       " 'relationship',\n",
       " 'race',\n",
       " 'gender']"
      ]
     },
     "execution_count": 20,
     "metadata": {},
     "output_type": "execute_result"
    }
   ],
   "source": [
    "# Separando as colunas categóricas\n",
    "cat_cols = [c for c in df.columns if (df[c].dtype == 'object')]\n",
    "\n",
    "cat_cols"
   ]
  },
  {
   "cell_type": "code",
   "execution_count": 21,
   "id": "9319a3cb",
   "metadata": {
    "execution": {
     "iopub.execute_input": "2021-10-21T00:55:45.605541Z",
     "iopub.status.busy": "2021-10-21T00:55:45.604636Z",
     "iopub.status.idle": "2021-10-21T00:55:45.608505Z",
     "shell.execute_reply": "2021-10-21T00:55:45.608006Z",
     "shell.execute_reply.started": "2021-10-21T00:46:10.426703Z"
    },
    "papermill": {
     "duration": 0.041571,
     "end_time": "2021-10-21T00:55:45.608647",
     "exception": false,
     "start_time": "2021-10-21T00:55:45.567076",
     "status": "completed"
    },
    "tags": []
   },
   "outputs": [
    {
     "data": {
      "text/plain": [
       "['workclass',\n",
       " 'education',\n",
       " 'marital-status',\n",
       " 'occupation',\n",
       " 'relationship',\n",
       " 'race',\n",
       " 'gender',\n",
       " 'age',\n",
       " 'fnlwgt',\n",
       " 'educational-num',\n",
       " 'capital-gain',\n",
       " 'capital-loss',\n",
       " 'hours-per-week',\n",
       " 'native-country']"
      ]
     },
     "execution_count": 21,
     "metadata": {},
     "output_type": "execute_result"
    }
   ],
   "source": [
    "# Separando as feats\n",
    "feats = cat_cols + num_cols\n",
    "\n",
    "feats"
   ]
  },
  {
   "cell_type": "code",
   "execution_count": 22,
   "id": "95444fb0",
   "metadata": {
    "execution": {
     "iopub.execute_input": "2021-10-21T00:55:45.680396Z",
     "iopub.status.busy": "2021-10-21T00:55:45.679626Z",
     "iopub.status.idle": "2021-10-21T00:55:46.634286Z",
     "shell.execute_reply": "2021-10-21T00:55:46.634852Z",
     "shell.execute_reply.started": "2021-10-21T00:46:38.415132Z"
    },
    "papermill": {
     "duration": 0.99361,
     "end_time": "2021-10-21T00:55:46.635021",
     "exception": false,
     "start_time": "2021-10-21T00:55:45.641411",
     "status": "completed"
    },
    "tags": []
   },
   "outputs": [
    {
     "data": {
      "text/plain": [
       "((36631, 15), (12211, 15))"
      ]
     },
     "execution_count": 22,
     "metadata": {},
     "output_type": "execute_result"
    }
   ],
   "source": [
    "# Separando o dataframe\n",
    "from sklearn.model_selection import train_test_split\n",
    "\n",
    "train, test = train_test_split(df, random_state = 42)\n",
    "\n",
    "train.shape, test.shape"
   ]
  },
  {
   "cell_type": "code",
   "execution_count": 23,
   "id": "a567cefa",
   "metadata": {
    "execution": {
     "iopub.execute_input": "2021-10-21T00:55:46.705618Z",
     "iopub.status.busy": "2021-10-21T00:55:46.704896Z",
     "iopub.status.idle": "2021-10-21T00:55:46.856907Z",
     "shell.execute_reply": "2021-10-21T00:55:46.856312Z",
     "shell.execute_reply.started": "2021-10-21T00:50:25.131868Z"
    },
    "papermill": {
     "duration": 0.190037,
     "end_time": "2021-10-21T00:55:46.857055",
     "exception": false,
     "start_time": "2021-10-21T00:55:46.667018",
     "status": "completed"
    },
    "tags": []
   },
   "outputs": [],
   "source": [
    "from sklearn.compose import ColumnTransformer\n",
    "from sklearn.pipeline import Pipeline\n",
    "from sklearn.impute import SimpleImputer\n",
    "from sklearn.preprocessing import OneHotEncoder\n",
    "\n",
    "# Preprocessamento dos dados numéricos\n",
    "numerical_transformer = SimpleImputer(strategy='mean')\n",
    "\n",
    "# Preprocessamento das colunas categóricas\n",
    "categorical_transformer = OneHotEncoder(handle_unknown='ignore')\n",
    "\n",
    "# Juntando o preprocessamento\n",
    "preprocessor = ColumnTransformer(\n",
    "    transformers=[\n",
    "        ('num', numerical_transformer, num_cols),\n",
    "        ('cat', categorical_transformer, cat_cols)\n",
    "    ])"
   ]
  },
  {
   "cell_type": "code",
   "execution_count": 24,
   "id": "319c1111",
   "metadata": {
    "execution": {
     "iopub.execute_input": "2021-10-21T00:55:46.924481Z",
     "iopub.status.busy": "2021-10-21T00:55:46.923801Z",
     "iopub.status.idle": "2021-10-21T00:56:16.862973Z",
     "shell.execute_reply": "2021-10-21T00:56:16.863455Z",
     "shell.execute_reply.started": "2021-10-21T00:50:42.287002Z"
    },
    "papermill": {
     "duration": 29.974614,
     "end_time": "2021-10-21T00:56:16.863638",
     "exception": false,
     "start_time": "2021-10-21T00:55:46.889024",
     "status": "completed"
    },
    "tags": []
   },
   "outputs": [
    {
     "data": {
      "text/plain": [
       "Pipeline(steps=[('preprocessor',\n",
       "                 ColumnTransformer(transformers=[('num', SimpleImputer(),\n",
       "                                                  ['age', 'fnlwgt',\n",
       "                                                   'educational-num',\n",
       "                                                   'capital-gain',\n",
       "                                                   'capital-loss',\n",
       "                                                   'hours-per-week',\n",
       "                                                   'native-country']),\n",
       "                                                 ('cat',\n",
       "                                                  OneHotEncoder(handle_unknown='ignore'),\n",
       "                                                  ['workclass', 'education',\n",
       "                                                   'marital-status',\n",
       "                                                   'occupation', 'relationship',\n",
       "                                                   'race', 'gender'])])),\n",
       "                ('model',\n",
       "                 RandomForestClassifier(n_estimators=200, n_jobs=-1,\n",
       "                                        random_state=42))])"
      ]
     },
     "execution_count": 24,
     "metadata": {},
     "output_type": "execute_result"
    }
   ],
   "source": [
    "# Modelo RF\n",
    "from sklearn.ensemble import RandomForestClassifier\n",
    "rfc = RandomForestClassifier(n_estimators=200, n_jobs=-1, random_state=42)\n",
    "\n",
    "# Montando o pipeline\n",
    "pipe_rfc = Pipeline(steps=[('preprocessor', preprocessor),\n",
    "                            ('model', rfc)\n",
    "                             ])\n",
    "\n",
    "pipe_rfc.fit(train[feats], train['income'])"
   ]
  },
  {
   "cell_type": "code",
   "execution_count": 25,
   "id": "addd1bd6",
   "metadata": {
    "execution": {
     "iopub.execute_input": "2021-10-21T00:56:16.933199Z",
     "iopub.status.busy": "2021-10-21T00:56:16.932010Z",
     "iopub.status.idle": "2021-10-21T00:56:18.033770Z",
     "shell.execute_reply": "2021-10-21T00:56:18.033082Z",
     "shell.execute_reply.started": "2021-10-21T00:51:30.409107Z"
    },
    "papermill": {
     "duration": 1.137934,
     "end_time": "2021-10-21T00:56:18.033917",
     "exception": false,
     "start_time": "2021-10-21T00:56:16.895983",
     "status": "completed"
    },
    "tags": []
   },
   "outputs": [
    {
     "name": "stdout",
     "output_type": "stream",
     "text": [
      "Acurácia no training set: 1.000\n",
      "Acurácia no test set: 0.861\n"
     ]
    }
   ],
   "source": [
    "print(\"Acurácia no training set: {:.3f}\".format(pipe_rfc.score(train[feats], train['income'])))\n",
    "print(\"Acurácia no test set: {:.3f}\".format(pipe_rfc.score(test[feats], test['income'])))"
   ]
  },
  {
   "cell_type": "code",
   "execution_count": 26,
   "id": "44dac9c8",
   "metadata": {
    "execution": {
     "iopub.execute_input": "2021-10-21T00:56:18.105862Z",
     "iopub.status.busy": "2021-10-21T00:56:18.105160Z",
     "iopub.status.idle": "2021-10-21T00:56:29.541371Z",
     "shell.execute_reply": "2021-10-21T00:56:29.541896Z",
     "shell.execute_reply.started": "2021-10-21T00:52:31.797992Z"
    },
    "papermill": {
     "duration": 11.473205,
     "end_time": "2021-10-21T00:56:29.542071",
     "exception": false,
     "start_time": "2021-10-21T00:56:18.068866",
     "status": "completed"
    },
    "tags": []
   },
   "outputs": [
    {
     "data": {
      "text/plain": [
       "Pipeline(steps=[('preprocessor',\n",
       "                 ColumnTransformer(transformers=[('num', SimpleImputer(),\n",
       "                                                  ['age', 'fnlwgt',\n",
       "                                                   'educational-num',\n",
       "                                                   'capital-gain',\n",
       "                                                   'capital-loss',\n",
       "                                                   'hours-per-week',\n",
       "                                                   'native-country']),\n",
       "                                                 ('cat',\n",
       "                                                  OneHotEncoder(handle_unknown='ignore'),\n",
       "                                                  ['workclass', 'education',\n",
       "                                                   'marital-status',\n",
       "                                                   'occupation', 'relationship',\n",
       "                                                   'race', 'gender'])])),\n",
       "                ('model',\n",
       "                 GradientBoostingClassifier(learning_rate=1, n_estimators=200,\n",
       "                                            random_state=42))])"
      ]
     },
     "execution_count": 26,
     "metadata": {},
     "output_type": "execute_result"
    }
   ],
   "source": [
    "# Modelo GBC\n",
    "from sklearn.ensemble import GradientBoostingClassifier\n",
    "gbc = GradientBoostingClassifier(n_estimators=200, learning_rate=1, random_state=42)\n",
    "\n",
    "# Montando o pipeline\n",
    "pipe_gbc = Pipeline(steps=[('preprocessor', preprocessor),\n",
    "                            ('model', gbc)\n",
    "                             ])\n",
    "\n",
    "pipe_gbc.fit(train[feats], train['income'])"
   ]
  },
  {
   "cell_type": "code",
   "execution_count": 27,
   "id": "cbc1692e",
   "metadata": {
    "execution": {
     "iopub.execute_input": "2021-10-21T00:56:29.612844Z",
     "iopub.status.busy": "2021-10-21T00:56:29.612177Z",
     "iopub.status.idle": "2021-10-21T00:56:30.085934Z",
     "shell.execute_reply": "2021-10-21T00:56:30.086913Z",
     "shell.execute_reply.started": "2021-10-21T00:52:59.435764Z"
    },
    "papermill": {
     "duration": 0.511883,
     "end_time": "2021-10-21T00:56:30.087185",
     "exception": false,
     "start_time": "2021-10-21T00:56:29.575302",
     "status": "completed"
    },
    "tags": []
   },
   "outputs": [
    {
     "name": "stdout",
     "output_type": "stream",
     "text": [
      "Acurácia no training set: 0.900\n",
      "Acurácia no test set: 0.867\n"
     ]
    }
   ],
   "source": [
    "print(\"Acurácia no training set: {:.3f}\".format(pipe_gbc.score(train[feats], train['income'])))\n",
    "print(\"Acurácia no test set: {:.3f}\".format(pipe_gbc.score(test[feats], test['income'])))"
   ]
  },
  {
   "cell_type": "code",
   "execution_count": 28,
   "id": "fa29215a",
   "metadata": {
    "execution": {
     "iopub.execute_input": "2021-10-21T00:56:30.158825Z",
     "iopub.status.busy": "2021-10-21T00:56:30.157829Z",
     "iopub.status.idle": "2021-10-21T00:56:34.500325Z",
     "shell.execute_reply": "2021-10-21T00:56:34.499375Z",
     "shell.execute_reply.started": "2021-10-21T00:53:15.886273Z"
    },
    "papermill": {
     "duration": 4.379192,
     "end_time": "2021-10-21T00:56:34.500497",
     "exception": false,
     "start_time": "2021-10-21T00:56:30.121305",
     "status": "completed"
    },
    "tags": []
   },
   "outputs": [
    {
     "name": "stderr",
     "output_type": "stream",
     "text": [
      "/opt/conda/lib/python3.7/site-packages/xgboost/sklearn.py:1146: UserWarning: The use of label encoder in XGBClassifier is deprecated and will be removed in a future release. To remove this warning, do the following: 1) Pass option use_label_encoder=False when constructing XGBClassifier object; and 2) Encode your labels (y) as integers starting with 0, i.e. 0, 1, 2, ..., [num_class - 1].\n",
      "  warnings.warn(label_encoder_deprecation_msg, UserWarning)\n"
     ]
    },
    {
     "name": "stdout",
     "output_type": "stream",
     "text": [
      "[00:56:30] WARNING: ../src/learner.cc:1095: Starting in XGBoost 1.3.0, the default evaluation metric used with the objective 'binary:logistic' was changed from 'error' to 'logloss'. Explicitly set eval_metric if you'd like to restore the old behavior.\n"
     ]
    },
    {
     "data": {
      "text/plain": [
       "Pipeline(steps=[('preprocessor',\n",
       "                 ColumnTransformer(transformers=[('num', SimpleImputer(),\n",
       "                                                  ['age', 'fnlwgt',\n",
       "                                                   'educational-num',\n",
       "                                                   'capital-gain',\n",
       "                                                   'capital-loss',\n",
       "                                                   'hours-per-week',\n",
       "                                                   'native-country']),\n",
       "                                                 ('cat',\n",
       "                                                  OneHotEncoder(handle_unknown='ignore'),\n",
       "                                                  ['workclass', 'education',\n",
       "                                                   'marital-status',\n",
       "                                                   'occupation', 'relationship',\n",
       "                                                   'race', 'gender'])])),\n",
       "                ('model',\n",
       "                 XGBClassifier(bas...\n",
       "                               colsample_bytree=1, gamma=0, gpu_id=-1,\n",
       "                               importance_type='gain',\n",
       "                               interaction_constraints='', learning_rate=1,\n",
       "                               max_delta_step=0, max_depth=6,\n",
       "                               min_child_weight=1, missing=nan,\n",
       "                               monotone_constraints='()', n_estimators=200,\n",
       "                               n_jobs=4, num_parallel_tree=1, random_state=42,\n",
       "                               reg_alpha=0, reg_lambda=1, scale_pos_weight=1,\n",
       "                               subsample=1, tree_method='exact',\n",
       "                               validate_parameters=1, verbosity=None))])"
      ]
     },
     "execution_count": 28,
     "metadata": {},
     "output_type": "execute_result"
    }
   ],
   "source": [
    "# Modelo XGB\n",
    "from xgboost import XGBClassifier\n",
    "xgb = XGBClassifier(n_estimators=200, learning_rate=1, random_state=42)\n",
    "\n",
    "# Montando o pipeline\n",
    "pipe_xgb = Pipeline(steps=[('preprocessor', preprocessor),\n",
    "                            ('model', xgb)\n",
    "                             ])\n",
    "\n",
    "pipe_xgb.fit(train[feats], train['income'])"
   ]
  },
  {
   "cell_type": "code",
   "execution_count": 29,
   "id": "3791bd66",
   "metadata": {
    "execution": {
     "iopub.execute_input": "2021-10-21T00:56:34.576327Z",
     "iopub.status.busy": "2021-10-21T00:56:34.575624Z",
     "iopub.status.idle": "2021-10-21T00:56:34.896583Z",
     "shell.execute_reply": "2021-10-21T00:56:34.897183Z",
     "shell.execute_reply.started": "2021-10-21T00:53:48.739272Z"
    },
    "papermill": {
     "duration": 0.362336,
     "end_time": "2021-10-21T00:56:34.897448",
     "exception": false,
     "start_time": "2021-10-21T00:56:34.535112",
     "status": "completed"
    },
    "tags": []
   },
   "outputs": [
    {
     "name": "stdout",
     "output_type": "stream",
     "text": [
      "Acurácia no training set: 0.972\n",
      "Acurácia no test set: 0.854\n"
     ]
    }
   ],
   "source": [
    "print(\"Acurácia no training set: {:.3f}\".format(pipe_xgb.score(train[feats], train['income'])))\n",
    "print(\"Acurácia no test set: {:.3f}\".format(pipe_xgb.score(test[feats], test['income'])))"
   ]
  },
  {
   "cell_type": "code",
   "execution_count": null,
   "id": "72bb32e1",
   "metadata": {
    "papermill": {
     "duration": 0.036089,
     "end_time": "2021-10-21T00:56:34.970154",
     "exception": false,
     "start_time": "2021-10-21T00:56:34.934065",
     "status": "completed"
    },
    "tags": []
   },
   "outputs": [],
   "source": []
  }
 ],
 "metadata": {
  "kernelspec": {
   "display_name": "Python 3",
   "language": "python",
   "name": "python3"
  },
  "language_info": {
   "codemirror_mode": {
    "name": "ipython",
    "version": 3
   },
   "file_extension": ".py",
   "mimetype": "text/x-python",
   "name": "python",
   "nbconvert_exporter": "python",
   "pygments_lexer": "ipython3",
   "version": "3.7.10"
  },
  "papermill": {
   "default_parameters": {},
   "duration": 61.355217,
   "end_time": "2021-10-21T00:56:35.716289",
   "environment_variables": {},
   "exception": null,
   "input_path": "__notebook__.ipynb",
   "output_path": "__notebook__.ipynb",
   "parameters": {},
   "start_time": "2021-10-21T00:55:34.361072",
   "version": "2.3.3"
  }
 },
 "nbformat": 4,
 "nbformat_minor": 5
}
