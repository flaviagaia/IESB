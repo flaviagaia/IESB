{
 "cells": [
  {
   "cell_type": "markdown",
   "metadata": {
    "papermill": {
     "duration": 0.013839,
     "end_time": "2020-11-05T13:50:35.787735",
     "exception": false,
     "start_time": "2020-11-05T13:50:35.773896",
     "status": "completed"
    },
    "tags": []
   },
   "source": [
    "# IESB - Graduacao - CIA035 - Malaria CNN"
   ]
  },
  {
   "cell_type": "code",
   "execution_count": 1,
   "metadata": {
    "_cell_guid": "79c7e3d0-c299-4dcb-8224-4455121ee9b0",
    "_uuid": "d629ff2d2480ee46fbb7e2d37f6b5fab8052498a",
    "execution": {
     "iopub.execute_input": "2020-11-05T13:50:35.817642Z",
     "iopub.status.busy": "2020-11-05T13:50:35.817025Z",
     "iopub.status.idle": "2020-11-05T13:50:37.195914Z",
     "shell.execute_reply": "2020-11-05T13:50:37.194759Z"
    },
    "papermill": {
     "duration": 1.39713,
     "end_time": "2020-11-05T13:50:37.196063",
     "exception": false,
     "start_time": "2020-11-05T13:50:35.798933",
     "status": "completed"
    },
    "tags": []
   },
   "outputs": [],
   "source": [
    "import os\n",
    "\n",
    "import numpy as np\n",
    "import torch\n",
    "import matplotlib.pyplot as plt\n",
    "from torchvision import datasets, transforms, models\n",
    "from torch.utils.data import random_split, DataLoader\n",
    "from torch import nn, optim"
   ]
  },
  {
   "cell_type": "code",
   "execution_count": 2,
   "metadata": {
    "execution": {
     "iopub.execute_input": "2020-11-05T13:50:37.224127Z",
     "iopub.status.busy": "2020-11-05T13:50:37.223381Z",
     "iopub.status.idle": "2020-11-05T13:50:37.230207Z",
     "shell.execute_reply": "2020-11-05T13:50:37.229280Z"
    },
    "papermill": {
     "duration": 0.022273,
     "end_time": "2020-11-05T13:50:37.230397",
     "exception": false,
     "start_time": "2020-11-05T13:50:37.208124",
     "status": "completed"
    },
    "tags": []
   },
   "outputs": [
    {
     "name": "stdout",
     "output_type": "stream",
     "text": [
      "['Parasitized', 'Uninfected']\n"
     ]
    }
   ],
   "source": [
    "# Verificando o diretório com as imagens\n",
    "img_dir = \"/kaggle/input/cell-images-for-detecting-malaria/cell_images/cell_images\"\n",
    "print(os.listdir(img_dir))"
   ]
  },
  {
   "cell_type": "code",
   "execution_count": 3,
   "metadata": {
    "execution": {
     "iopub.execute_input": "2020-11-05T13:50:37.614274Z",
     "iopub.status.busy": "2020-11-05T13:50:37.612008Z",
     "iopub.status.idle": "2020-11-05T13:50:37.618195Z",
     "shell.execute_reply": "2020-11-05T13:50:37.618976Z"
    },
    "papermill": {
     "duration": 0.375852,
     "end_time": "2020-11-05T13:50:37.619151",
     "exception": false,
     "start_time": "2020-11-05T13:50:37.243299",
     "status": "completed"
    },
    "tags": []
   },
   "outputs": [
    {
     "name": "stdout",
     "output_type": "stream",
     "text": [
      "cuda\n"
     ]
    }
   ],
   "source": [
    "# Temos GPU?\n",
    "device = torch.device(\"cuda\" if torch.cuda.is_available() else \"cpu\")\n",
    "\n",
    "print(device)"
   ]
  },
  {
   "cell_type": "code",
   "execution_count": 4,
   "metadata": {
    "execution": {
     "iopub.execute_input": "2020-11-05T13:50:37.650289Z",
     "iopub.status.busy": "2020-11-05T13:50:37.649552Z",
     "iopub.status.idle": "2020-11-05T13:50:37.652146Z",
     "shell.execute_reply": "2020-11-05T13:50:37.652737Z"
    },
    "papermill": {
     "duration": 0.020467,
     "end_time": "2020-11-05T13:50:37.652872",
     "exception": false,
     "start_time": "2020-11-05T13:50:37.632405",
     "status": "completed"
    },
    "tags": []
   },
   "outputs": [],
   "source": [
    "# Transformações que serão aplicadas às imagens\n",
    "image_transform = transforms.Compose([transforms.Resize((32, 32)),\n",
    "                                      transforms.ToTensor(),\n",
    "                                      transforms.Normalize([0.5, 0.5, 0.5], \n",
    "                                                           [0.5, 0.5, 0.5])])"
   ]
  },
  {
   "cell_type": "code",
   "execution_count": 5,
   "metadata": {
    "execution": {
     "iopub.execute_input": "2020-11-05T13:50:37.683497Z",
     "iopub.status.busy": "2020-11-05T13:50:37.682773Z",
     "iopub.status.idle": "2020-11-05T13:50:42.208614Z",
     "shell.execute_reply": "2020-11-05T13:50:42.207672Z"
    },
    "papermill": {
     "duration": 4.54293,
     "end_time": "2020-11-05T13:50:42.208733",
     "exception": false,
     "start_time": "2020-11-05T13:50:37.665803",
     "status": "completed"
    },
    "tags": []
   },
   "outputs": [],
   "source": [
    "# Criando nosso conjunto de dados com base nas imagens\n",
    "data = datasets.ImageFolder(img_dir,transform=image_transform)"
   ]
  },
  {
   "cell_type": "code",
   "execution_count": 6,
   "metadata": {
    "execution": {
     "iopub.execute_input": "2020-11-05T13:50:42.242055Z",
     "iopub.status.busy": "2020-11-05T13:50:42.241268Z",
     "iopub.status.idle": "2020-11-05T13:50:42.245680Z",
     "shell.execute_reply": "2020-11-05T13:50:42.246185Z"
    },
    "papermill": {
     "duration": 0.024603,
     "end_time": "2020-11-05T13:50:42.246346",
     "exception": false,
     "start_time": "2020-11-05T13:50:42.221743",
     "status": "completed"
    },
    "tags": []
   },
   "outputs": [
    {
     "data": {
      "text/plain": [
       "['Parasitized', 'Uninfected']"
      ]
     },
     "execution_count": 6,
     "metadata": {},
     "output_type": "execute_result"
    }
   ],
   "source": [
    "# Quais as classes possíveis?\n",
    "data.classes"
   ]
  },
  {
   "cell_type": "code",
   "execution_count": 7,
   "metadata": {
    "execution": {
     "iopub.execute_input": "2020-11-05T13:50:42.278628Z",
     "iopub.status.busy": "2020-11-05T13:50:42.277957Z",
     "iopub.status.idle": "2020-11-05T13:50:42.284524Z",
     "shell.execute_reply": "2020-11-05T13:50:42.283923Z"
    },
    "papermill": {
     "duration": 0.024615,
     "end_time": "2020-11-05T13:50:42.284634",
     "exception": false,
     "start_time": "2020-11-05T13:50:42.260019",
     "status": "completed"
    },
    "tags": []
   },
   "outputs": [
    {
     "data": {
      "text/plain": [
       "27558"
      ]
     },
     "execution_count": 7,
     "metadata": {},
     "output_type": "execute_result"
    }
   ],
   "source": [
    "# Verificando o tamanho do conjunto de dados\n",
    "len(data)"
   ]
  },
  {
   "cell_type": "code",
   "execution_count": 8,
   "metadata": {
    "execution": {
     "iopub.execute_input": "2020-11-05T13:50:42.319025Z",
     "iopub.status.busy": "2020-11-05T13:50:42.318172Z",
     "iopub.status.idle": "2020-11-05T13:50:42.333567Z",
     "shell.execute_reply": "2020-11-05T13:50:42.332974Z"
    },
    "papermill": {
     "duration": 0.034823,
     "end_time": "2020-11-05T13:50:42.333680",
     "exception": false,
     "start_time": "2020-11-05T13:50:42.298857",
     "status": "completed"
    },
    "tags": []
   },
   "outputs": [],
   "source": [
    "# Dividindo os dados em treino e teste\n",
    "train_data, test_data = random_split(data, (20000, 7558))"
   ]
  },
  {
   "cell_type": "code",
   "execution_count": 9,
   "metadata": {
    "execution": {
     "iopub.execute_input": "2020-11-05T13:50:42.369640Z",
     "iopub.status.busy": "2020-11-05T13:50:42.367669Z",
     "iopub.status.idle": "2020-11-05T13:50:42.370502Z",
     "shell.execute_reply": "2020-11-05T13:50:42.371011Z"
    },
    "papermill": {
     "duration": 0.022936,
     "end_time": "2020-11-05T13:50:42.371118",
     "exception": false,
     "start_time": "2020-11-05T13:50:42.348182",
     "status": "completed"
    },
    "tags": []
   },
   "outputs": [],
   "source": [
    "# Definindo os loaders\n",
    "train_loader = DataLoader(train_data, batch_size=64, shuffle=True)\n",
    "test_loader = DataLoader(test_data, batch_size=64, shuffle=True)"
   ]
  },
  {
   "cell_type": "code",
   "execution_count": 10,
   "metadata": {
    "execution": {
     "iopub.execute_input": "2020-11-05T13:50:42.419672Z",
     "iopub.status.busy": "2020-11-05T13:50:42.418995Z",
     "iopub.status.idle": "2020-11-05T13:50:46.277760Z",
     "shell.execute_reply": "2020-11-05T13:50:46.278310Z"
    },
    "papermill": {
     "duration": 3.892405,
     "end_time": "2020-11-05T13:50:46.278456",
     "exception": false,
     "start_time": "2020-11-05T13:50:42.386051",
     "status": "completed"
    },
    "tags": []
   },
   "outputs": [
    {
     "data": {
      "text/plain": [
       "Sequential(\n",
       "  (0): Conv2d(3, 18, kernel_size=(5, 5), stride=(1, 1))\n",
       "  (1): Tanh()\n",
       "  (2): AvgPool2d(kernel_size=2, stride=2, padding=0)\n",
       "  (3): Conv2d(18, 48, kernel_size=(5, 5), stride=(1, 1))\n",
       "  (4): Tanh()\n",
       "  (5): AvgPool2d(kernel_size=2, stride=2, padding=0)\n",
       "  (6): Flatten()\n",
       "  (7): Linear(in_features=1200, out_features=120, bias=True)\n",
       "  (8): Tanh()\n",
       "  (9): Linear(in_features=120, out_features=84, bias=True)\n",
       "  (10): Tanh()\n",
       "  (11): Linear(in_features=84, out_features=2, bias=True)\n",
       ")"
      ]
     },
     "execution_count": 10,
     "metadata": {},
     "output_type": "execute_result"
    }
   ],
   "source": [
    "# Definir LeNet5\n",
    "\n",
    "# Cálculo do tamanho da saída de cada convolução\n",
    "# outputOfEachConvLayer = [(size + 2*padding - kernel_size) / stride] + 1\n",
    "\n",
    "model = nn.Sequential(\n",
    "    # Primeira convolução\n",
    "    nn.Conv2d(in_channels=3, out_channels=18, kernel_size=5, padding=0, stride=1),\n",
    "    # Função de ativação\n",
    "    nn.Tanh(),\n",
    "    # Average Pooling\n",
    "    nn.AvgPool2d(kernel_size=2, stride=2),\n",
    "    \n",
    "    # Segunda convolução\n",
    "    nn.Conv2d(in_channels=18, out_channels=48, kernel_size=5, padding=0, stride=1),\n",
    "    # Função de ativação\n",
    "    nn.Tanh(),\n",
    "    # Average Pooling\n",
    "    nn.AvgPool2d(kernel_size=2, stride=2),\n",
    "    \n",
    "    # Convertendo a imagem em estrutura plana\n",
    "    nn.Flatten(),\n",
    "    \n",
    "    # Iniciando a rede fully connected\n",
    "    # in_features = 1200\n",
    "    nn.Linear(in_features=48*5*5, out_features=120),\n",
    "    nn.Tanh(),\n",
    "    nn.Linear(in_features=120, out_features=84),\n",
    "    nn.Tanh(),\n",
    "    nn.Linear(in_features=84, out_features=2)\n",
    ")\n",
    "\n",
    "model.to(device)"
   ]
  },
  {
   "cell_type": "code",
   "execution_count": 11,
   "metadata": {
    "execution": {
     "iopub.execute_input": "2020-11-05T13:50:46.313979Z",
     "iopub.status.busy": "2020-11-05T13:50:46.313154Z",
     "iopub.status.idle": "2020-11-05T13:50:46.316985Z",
     "shell.execute_reply": "2020-11-05T13:50:46.316499Z"
    },
    "papermill": {
     "duration": 0.024046,
     "end_time": "2020-11-05T13:50:46.317075",
     "exception": false,
     "start_time": "2020-11-05T13:50:46.293029",
     "status": "completed"
    },
    "tags": []
   },
   "outputs": [
    {
     "data": {
      "text/plain": [
       "CrossEntropyLoss()"
      ]
     },
     "execution_count": 11,
     "metadata": {},
     "output_type": "execute_result"
    }
   ],
   "source": [
    "# Temos que definir a função de erro e o otimizador (que vai alterar os pesos dos perceptrons)\n",
    "error_function = nn.CrossEntropyLoss() # criterion\n",
    "optimizer = torch.optim.Adam(model.parameters(), lr=0.001)\n",
    "\n",
    "error_function.to(device)"
   ]
  },
  {
   "cell_type": "code",
   "execution_count": 12,
   "metadata": {
    "execution": {
     "iopub.execute_input": "2020-11-05T13:50:46.358368Z",
     "iopub.status.busy": "2020-11-05T13:50:46.354604Z",
     "iopub.status.idle": "2020-11-05T13:56:19.577567Z",
     "shell.execute_reply": "2020-11-05T13:56:19.576718Z"
    },
    "papermill": {
     "duration": 333.245583,
     "end_time": "2020-11-05T13:56:19.577685",
     "exception": false,
     "start_time": "2020-11-05T13:50:46.332102",
     "status": "completed"
    },
    "tags": []
   },
   "outputs": [
    {
     "name": "stdout",
     "output_type": "stream",
     "text": [
      "Epoch: 1 \tTraining Loss: 0.602981\n",
      "Epoch: 2 \tTraining Loss: 0.567013\n",
      "Epoch: 3 \tTraining Loss: 0.513825\n",
      "Epoch: 4 \tTraining Loss: 0.424428\n",
      "Epoch: 5 \tTraining Loss: 0.345050\n",
      "Epoch: 6 \tTraining Loss: 0.290407\n",
      "Epoch: 7 \tTraining Loss: 0.259349\n",
      "Epoch: 8 \tTraining Loss: 0.233517\n",
      "Epoch: 9 \tTraining Loss: 0.213213\n",
      "Epoch: 10 \tTraining Loss: 0.202067\n"
     ]
    }
   ],
   "source": [
    "# Treinamento do modelo\n",
    "\n",
    "# Definindo o número de épocas\n",
    "epochs = 10\n",
    "\n",
    "# Colocando o modelo em modo de treinamento\n",
    "model.train()\n",
    "\n",
    "\n",
    "# For para rodar o número de épocas\n",
    "for i in range(epochs):\n",
    "    # Treinamento\n",
    "    \n",
    "    # Monitorando o training loss\n",
    "    train_loss = 0.0\n",
    "    \n",
    "    # Obtendo dados e respostas\n",
    "    for data, target in train_loader:\n",
    "        \n",
    "        # Enviando os dados para GPU, se existir\n",
    "        data, target = data.to(device), target.to(device)\n",
    "    \n",
    "        # Foward Propagation (passando os dados de treino pela rede)\n",
    "        outputs = model(data)\n",
    "        # Calculando o erro\n",
    "        loss = error_function(outputs, target)\n",
    "       \n",
    "        # Back Propagation\n",
    "        # Limpar os parametros do otimizador (zerar o Gradiente Descendent)\n",
    "        optimizer.zero_grad()\n",
    "        # Calcular os novos pesos\n",
    "        loss.backward()\n",
    "        # Executar o optimizador (efetivamente fazer o back propagation mudando os pesos)\n",
    "        optimizer.step()\n",
    "        \n",
    "        # Atualizando o training loss\n",
    "        train_loss += loss.item() * data.size(0)\n",
    "        \n",
    "    # Calculando a média de erro por epoch\n",
    "    train_loss = train_loss/len(train_loader.dataset)\n",
    "\n",
    "    print('Epoch: {} \\tTraining Loss: {:.6f}'.format(i+1, train_loss))"
   ]
  },
  {
   "cell_type": "code",
   "execution_count": 13,
   "metadata": {
    "execution": {
     "iopub.execute_input": "2020-11-05T13:56:19.620712Z",
     "iopub.status.busy": "2020-11-05T13:56:19.619982Z",
     "iopub.status.idle": "2020-11-05T13:56:42.366499Z",
     "shell.execute_reply": "2020-11-05T13:56:42.365727Z"
    },
    "papermill": {
     "duration": 22.77085,
     "end_time": "2020-11-05T13:56:42.366610",
     "exception": false,
     "start_time": "2020-11-05T13:56:19.595760",
     "status": "completed"
    },
    "tags": []
   },
   "outputs": [],
   "source": [
    "# Variaveis para controlar os acertos das previsões da rede\n",
    "# e  calcular a acurácia\n",
    "correct = 0\n",
    "total = 0\n",
    "\n",
    "# Vamos colocar o modelo em modo de avaliação/teste\n",
    "model.eval()\n",
    "\n",
    "# Obtendo dados e respostas\n",
    "for data, target in test_loader:\n",
    "    \n",
    "    # Enviando os dados para GPU, se existir\n",
    "    data, target = data.to(device), target.to(device)    \n",
    "    \n",
    "    output = model(data)\n",
    "    \n",
    "    for index, i in enumerate(output):\n",
    "        if torch.argmax(i) == target[index]:\n",
    "            correct += 1\n",
    "        total += 1"
   ]
  },
  {
   "cell_type": "code",
   "execution_count": 14,
   "metadata": {
    "execution": {
     "iopub.execute_input": "2020-11-05T13:56:42.407907Z",
     "iopub.status.busy": "2020-11-05T13:56:42.407184Z",
     "iopub.status.idle": "2020-11-05T13:56:42.411602Z",
     "shell.execute_reply": "2020-11-05T13:56:42.412059Z"
    },
    "papermill": {
     "duration": 0.027144,
     "end_time": "2020-11-05T13:56:42.412176",
     "exception": false,
     "start_time": "2020-11-05T13:56:42.385032",
     "status": "completed"
    },
    "tags": []
   },
   "outputs": [
    {
     "name": "stdout",
     "output_type": "stream",
     "text": [
      "Accuracy:  0.897\n"
     ]
    }
   ],
   "source": [
    "print('Accuracy: ', round(correct/total, 3))"
   ]
  },
  {
   "cell_type": "code",
   "execution_count": null,
   "metadata": {
    "papermill": {
     "duration": 0.019672,
     "end_time": "2020-11-05T13:56:42.450321",
     "exception": false,
     "start_time": "2020-11-05T13:56:42.430649",
     "status": "completed"
    },
    "tags": []
   },
   "outputs": [],
   "source": []
  }
 ],
 "metadata": {
  "kernelspec": {
   "display_name": "Python 3",
   "language": "python",
   "name": "python3"
  },
  "language_info": {
   "codemirror_mode": {
    "name": "ipython",
    "version": 3
   },
   "file_extension": ".py",
   "mimetype": "text/x-python",
   "name": "python",
   "nbconvert_exporter": "python",
   "pygments_lexer": "ipython3",
   "version": "3.7.6"
  },
  "papermill": {
   "duration": 371.879236,
   "end_time": "2020-11-05T13:56:43.590845",
   "environment_variables": {},
   "exception": null,
   "input_path": "__notebook__.ipynb",
   "output_path": "__notebook__.ipynb",
   "parameters": {},
   "start_time": "2020-11-05T13:50:31.711609",
   "version": "2.1.0"
  }
 },
 "nbformat": 4,
 "nbformat_minor": 4
}
