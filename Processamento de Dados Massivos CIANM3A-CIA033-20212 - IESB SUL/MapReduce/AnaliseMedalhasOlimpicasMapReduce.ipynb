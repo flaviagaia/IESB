{
  "nbformat": 4,
  "nbformat_minor": 0,
  "metadata": {
    "colab": {
      "name": "AnaliseMedalhasOlimpicasMapReduce.ipynb",
      "provenance": [],
      "collapsed_sections": []
    },
    "kernelspec": {
      "name": "python3",
      "display_name": "Python 3"
    },
    "language_info": {
      "name": "python"
    }
  },
  "cells": [
    {
      "cell_type": "markdown",
      "metadata": {
        "id": "Uig4Zf--jgzR"
      },
      "source": [
        "# <font color='red'>**ATENÇÃO**\n",
        "\n",
        "Para a execução desse notebook será necessária a \"montagem\" do google drive para acesso de leitura e gravação de arquivos.\n",
        "A variável **`path`** deve ser preenchida com o valor do diretório que estiver localizado o notebook.\n",
        "</font>"
      ]
    },
    {
      "cell_type": "markdown",
      "metadata": {
        "id": "tfY66VN_qGKS"
      },
      "source": [
        "# Análise histórico de medalhas olímpicas\n",
        "Este notebook analisará o histórico de medalhas olímpicas distribuídas entre os atletas.\n",
        "O dataset utilizado está disponível em https://www.kaggle.com/heesoo37/120-years-of-olympic-history-athletes-and-results, segundo o autor, obtido via scrap em https://www.sports-reference.com/."
      ]
    },
    {
      "cell_type": "code",
      "metadata": {
        "id": "Fzfv7Lx6NMEO"
      },
      "source": [
        "import pandas as pd\n",
        "\n",
        "path = '/content/drive/MyDrive/Processamento de Dados Massivos/Laboratorios/MapReduce/'"
      ],
      "execution_count": null,
      "outputs": []
    },
    {
      "cell_type": "markdown",
      "metadata": {
        "id": "wnvs7LWirqE-"
      },
      "source": [
        "Primeiramente uma rápida inspeção nos dados:"
      ]
    },
    {
      "cell_type": "code",
      "metadata": {
        "id": "mhgNfUx4rpil"
      },
      "source": [
        "atletas = pd.read_csv(path + 'athlete_events.csv')"
      ],
      "execution_count": null,
      "outputs": []
    },
    {
      "cell_type": "code",
      "metadata": {
        "colab": {
          "base_uri": "https://localhost:8080/",
          "height": 597
        },
        "id": "iD8clEkesOhc",
        "outputId": "e1a97977-5729-464d-e812-da60c7d7ada4"
      },
      "source": [
        "atletas[atletas.Team == 'Brazil']"
      ],
      "execution_count": null,
      "outputs": [
        {
          "output_type": "execute_result",
          "data": {
            "text/html": [
              "<div>\n",
              "<style scoped>\n",
              "    .dataframe tbody tr th:only-of-type {\n",
              "        vertical-align: middle;\n",
              "    }\n",
              "\n",
              "    .dataframe tbody tr th {\n",
              "        vertical-align: top;\n",
              "    }\n",
              "\n",
              "    .dataframe thead th {\n",
              "        text-align: right;\n",
              "    }\n",
              "</style>\n",
              "<table border=\"1\" class=\"dataframe\">\n",
              "  <thead>\n",
              "    <tr style=\"text-align: right;\">\n",
              "      <th></th>\n",
              "      <th>ID</th>\n",
              "      <th>Name</th>\n",
              "      <th>Sex</th>\n",
              "      <th>Age</th>\n",
              "      <th>Height</th>\n",
              "      <th>Weight</th>\n",
              "      <th>Team</th>\n",
              "      <th>NOC</th>\n",
              "      <th>Games</th>\n",
              "      <th>Year</th>\n",
              "      <th>Season</th>\n",
              "      <th>City</th>\n",
              "      <th>Sport</th>\n",
              "      <th>Event</th>\n",
              "      <th>Medal</th>\n",
              "    </tr>\n",
              "  </thead>\n",
              "  <tbody>\n",
              "    <tr>\n",
              "      <th>665</th>\n",
              "      <td>386</td>\n",
              "      <td>Alexandre Abeid</td>\n",
              "      <td>M</td>\n",
              "      <td>22.0</td>\n",
              "      <td>194.0</td>\n",
              "      <td>92.0</td>\n",
              "      <td>Brazil</td>\n",
              "      <td>BRA</td>\n",
              "      <td>1972 Summer</td>\n",
              "      <td>1972</td>\n",
              "      <td>Summer</td>\n",
              "      <td>Munich</td>\n",
              "      <td>Volleyball</td>\n",
              "      <td>Volleyball Men's Volleyball</td>\n",
              "      <td>NaN</td>\n",
              "    </tr>\n",
              "    <tr>\n",
              "      <th>666</th>\n",
              "      <td>386</td>\n",
              "      <td>Alexandre Abeid</td>\n",
              "      <td>M</td>\n",
              "      <td>26.0</td>\n",
              "      <td>194.0</td>\n",
              "      <td>92.0</td>\n",
              "      <td>Brazil</td>\n",
              "      <td>BRA</td>\n",
              "      <td>1976 Summer</td>\n",
              "      <td>1976</td>\n",
              "      <td>Summer</td>\n",
              "      <td>Montreal</td>\n",
              "      <td>Volleyball</td>\n",
              "      <td>Volleyball Men's Volleyball</td>\n",
              "      <td>NaN</td>\n",
              "    </tr>\n",
              "    <tr>\n",
              "      <th>668</th>\n",
              "      <td>388</td>\n",
              "      <td>Abel Carlos da Silva Braga</td>\n",
              "      <td>M</td>\n",
              "      <td>19.0</td>\n",
              "      <td>190.0</td>\n",
              "      <td>73.0</td>\n",
              "      <td>Brazil</td>\n",
              "      <td>BRA</td>\n",
              "      <td>1972 Summer</td>\n",
              "      <td>1972</td>\n",
              "      <td>Summer</td>\n",
              "      <td>Munich</td>\n",
              "      <td>Football</td>\n",
              "      <td>Football Men's Football</td>\n",
              "      <td>NaN</td>\n",
              "    </tr>\n",
              "    <tr>\n",
              "      <th>781</th>\n",
              "      <td>451</td>\n",
              "      <td>Diana Monteiro Abla</td>\n",
              "      <td>F</td>\n",
              "      <td>21.0</td>\n",
              "      <td>175.0</td>\n",
              "      <td>75.0</td>\n",
              "      <td>Brazil</td>\n",
              "      <td>BRA</td>\n",
              "      <td>2016 Summer</td>\n",
              "      <td>2016</td>\n",
              "      <td>Summer</td>\n",
              "      <td>Rio de Janeiro</td>\n",
              "      <td>Water Polo</td>\n",
              "      <td>Water Polo Women's Water Polo</td>\n",
              "      <td>NaN</td>\n",
              "    </tr>\n",
              "    <tr>\n",
              "      <th>1005</th>\n",
              "      <td>565</td>\n",
              "      <td>Glauclio Serro Abreu</td>\n",
              "      <td>M</td>\n",
              "      <td>26.0</td>\n",
              "      <td>185.0</td>\n",
              "      <td>75.0</td>\n",
              "      <td>Brazil</td>\n",
              "      <td>BRA</td>\n",
              "      <td>2004 Summer</td>\n",
              "      <td>2004</td>\n",
              "      <td>Summer</td>\n",
              "      <td>Athina</td>\n",
              "      <td>Boxing</td>\n",
              "      <td>Boxing Men's Middleweight</td>\n",
              "      <td>NaN</td>\n",
              "    </tr>\n",
              "    <tr>\n",
              "      <th>...</th>\n",
              "      <td>...</td>\n",
              "      <td>...</td>\n",
              "      <td>...</td>\n",
              "      <td>...</td>\n",
              "      <td>...</td>\n",
              "      <td>...</td>\n",
              "      <td>...</td>\n",
              "      <td>...</td>\n",
              "      <td>...</td>\n",
              "      <td>...</td>\n",
              "      <td>...</td>\n",
              "      <td>...</td>\n",
              "      <td>...</td>\n",
              "      <td>...</td>\n",
              "      <td>...</td>\n",
              "    </tr>\n",
              "    <tr>\n",
              "      <th>268652</th>\n",
              "      <td>134400</td>\n",
              "      <td>Maria Jos \"Zz\" Bertolotti</td>\n",
              "      <td>F</td>\n",
              "      <td>26.0</td>\n",
              "      <td>190.0</td>\n",
              "      <td>NaN</td>\n",
              "      <td>Brazil</td>\n",
              "      <td>BRA</td>\n",
              "      <td>1992 Summer</td>\n",
              "      <td>1992</td>\n",
              "      <td>Summer</td>\n",
              "      <td>Barcelona</td>\n",
              "      <td>Basketball</td>\n",
              "      <td>Basketball Women's Basketball</td>\n",
              "      <td>NaN</td>\n",
              "    </tr>\n",
              "    <tr>\n",
              "      <th>269745</th>\n",
              "      <td>134976</td>\n",
              "      <td>Sieglinda Lenk Zigler</td>\n",
              "      <td>F</td>\n",
              "      <td>17.0</td>\n",
              "      <td>NaN</td>\n",
              "      <td>NaN</td>\n",
              "      <td>Brazil</td>\n",
              "      <td>BRA</td>\n",
              "      <td>1936 Summer</td>\n",
              "      <td>1936</td>\n",
              "      <td>Summer</td>\n",
              "      <td>Berlin</td>\n",
              "      <td>Swimming</td>\n",
              "      <td>Swimming Women's 100 metres Backstroke</td>\n",
              "      <td>NaN</td>\n",
              "    </tr>\n",
              "    <tr>\n",
              "      <th>269899</th>\n",
              "      <td>135037</td>\n",
              "      <td>Moacir Zimmermann</td>\n",
              "      <td>M</td>\n",
              "      <td>32.0</td>\n",
              "      <td>184.0</td>\n",
              "      <td>70.0</td>\n",
              "      <td>Brazil</td>\n",
              "      <td>BRA</td>\n",
              "      <td>2016 Summer</td>\n",
              "      <td>2016</td>\n",
              "      <td>Summer</td>\n",
              "      <td>Rio de Janeiro</td>\n",
              "      <td>Athletics</td>\n",
              "      <td>Athletics Men's 20 kilometres Walk</td>\n",
              "      <td>NaN</td>\n",
              "    </tr>\n",
              "    <tr>\n",
              "      <th>270478</th>\n",
              "      <td>135289</td>\n",
              "      <td>Zzimo Alves Calazans</td>\n",
              "      <td>M</td>\n",
              "      <td>20.0</td>\n",
              "      <td>NaN</td>\n",
              "      <td>NaN</td>\n",
              "      <td>Brazil</td>\n",
              "      <td>BRA</td>\n",
              "      <td>1952 Summer</td>\n",
              "      <td>1952</td>\n",
              "      <td>Summer</td>\n",
              "      <td>Helsinki</td>\n",
              "      <td>Football</td>\n",
              "      <td>Football Men's Football</td>\n",
              "      <td>NaN</td>\n",
              "    </tr>\n",
              "    <tr>\n",
              "      <th>270789</th>\n",
              "      <td>135423</td>\n",
              "      <td>Ral Benedito Zumbano</td>\n",
              "      <td>M</td>\n",
              "      <td>22.0</td>\n",
              "      <td>NaN</td>\n",
              "      <td>NaN</td>\n",
              "      <td>Brazil</td>\n",
              "      <td>BRA</td>\n",
              "      <td>1948 Summer</td>\n",
              "      <td>1948</td>\n",
              "      <td>Summer</td>\n",
              "      <td>London</td>\n",
              "      <td>Boxing</td>\n",
              "      <td>Boxing Men's Lightweight</td>\n",
              "      <td>NaN</td>\n",
              "    </tr>\n",
              "  </tbody>\n",
              "</table>\n",
              "<p>3772 rows × 15 columns</p>\n",
              "</div>"
            ],
            "text/plain": [
              "            ID  ... Medal\n",
              "665        386  ...   NaN\n",
              "666        386  ...   NaN\n",
              "668        388  ...   NaN\n",
              "781        451  ...   NaN\n",
              "1005       565  ...   NaN\n",
              "...        ...  ...   ...\n",
              "268652  134400  ...   NaN\n",
              "269745  134976  ...   NaN\n",
              "269899  135037  ...   NaN\n",
              "270478  135289  ...   NaN\n",
              "270789  135423  ...   NaN\n",
              "\n",
              "[3772 rows x 15 columns]"
            ]
          },
          "metadata": {},
          "execution_count": 3
        }
      ]
    },
    {
      "cell_type": "code",
      "metadata": {
        "colab": {
          "base_uri": "https://localhost:8080/"
        },
        "id": "BRkY6EHLsYoj",
        "outputId": "23dd0ab8-956a-4520-9099-5964393657b0"
      },
      "source": [
        "atletas.count()"
      ],
      "execution_count": null,
      "outputs": [
        {
          "output_type": "execute_result",
          "data": {
            "text/plain": [
              "ID        271116\n",
              "Name      271116\n",
              "Sex       271116\n",
              "Age       261642\n",
              "Height    210945\n",
              "Weight    208241\n",
              "Team      271116\n",
              "NOC       271116\n",
              "Games     271116\n",
              "Year      271116\n",
              "Season    271116\n",
              "City      271116\n",
              "Sport     271116\n",
              "Event     271116\n",
              "Medal      39783\n",
              "dtype: int64"
            ]
          },
          "metadata": {},
          "execution_count": 4
        }
      ]
    },
    {
      "cell_type": "markdown",
      "metadata": {
        "id": "hCDGO0-ytq5G"
      },
      "source": [
        "O primeiro ponto será obter a ordenação entre os países de acordo com o número de atletas que já participaram dos jogos.\n",
        "Para isso, a função `map` vai tratar o dataframe original e criar os pares \"chave e valor\" para cada linha."
      ]
    },
    {
      "cell_type": "code",
      "metadata": {
        "id": "vYVy_N5dvN8E"
      },
      "source": [
        "# criação da tupla (país, 1)\n",
        "t = [(i, 1) for i in atletas['Team']]"
      ],
      "execution_count": null,
      "outputs": []
    },
    {
      "cell_type": "code",
      "metadata": {
        "id": "CMMhfFawxdBF"
      },
      "source": [
        "for item in t:\n",
        "  print('%s\\t%s'% (item[0], item[1]))"
      ],
      "execution_count": null,
      "outputs": []
    },
    {
      "cell_type": "code",
      "metadata": {
        "id": "A5PmdypeuDu8"
      },
      "source": [
        "def map_paises_atletas(df):\n",
        "  pais_atleta = [(i, 1) for i in df['Team']]\n",
        "  arquivo = open(path + \"arquivo_saida_mapper_medalhas.txt\", 'w')\n",
        "  for item in pais_atleta:\n",
        "    arquivo.write('%s\\t%s\\n'% (item[0], item[1]))\n",
        "  arquivo.close()\n",
        "  "
      ],
      "execution_count": null,
      "outputs": []
    },
    {
      "cell_type": "code",
      "metadata": {
        "id": "S7ohbMo7tpEM"
      },
      "source": [
        "map_paises_atletas(atletas)"
      ],
      "execution_count": null,
      "outputs": []
    },
    {
      "cell_type": "markdown",
      "metadata": {
        "id": "xc7KVQdrNsK9"
      },
      "source": [
        "Usando o mesmo método **shuffle** implementado nos demais notebooks. "
      ]
    },
    {
      "cell_type": "code",
      "metadata": {
        "id": "2NlxLMkiyHDu"
      },
      "source": [
        "from collections import defaultdict\n",
        "\n",
        "def shuffle(path, nome_arquivo_mapper):\n",
        "  resultado_intermediario = defaultdict(list)\n",
        "  with open(path + nome_arquivo_mapper) as arquivo_entrada:\n",
        "    for linha in arquivo_entrada:\n",
        "      chave, valor = linha.split('\\t')\n",
        "      resultado_intermediario[chave].append(int(valor))\n",
        "  arquivo_entrada.close()\n",
        "  resultado = dict(resultado_intermediario)\n",
        "  arquivo_shuffle = open(path + \"arquivo_saida_shuffle_medalhas.txt\", 'w')\n",
        "  arquivo_shuffle.write(str(resultado))\n",
        "  arquivo_shuffle.close()"
      ],
      "execution_count": null,
      "outputs": []
    },
    {
      "cell_type": "code",
      "metadata": {
        "id": "__PJ-1v2yOEg"
      },
      "source": [
        "shuffle(path,'arquivo_saida_mapper_medalhas.txt' )"
      ],
      "execution_count": null,
      "outputs": []
    },
    {
      "cell_type": "markdown",
      "metadata": {
        "id": "Mv5yScDIN2_u"
      },
      "source": [
        "Usando o mesmo método **reducer** já implementado anteriormente, usando a função para somar os elementos de um array. "
      ]
    },
    {
      "cell_type": "code",
      "metadata": {
        "id": "o-X4Zs4Pyj8g"
      },
      "source": [
        "from functools import reduce\n",
        "\n",
        "def somar_elementos(x,y):\n",
        "  return x+y\n",
        "  \n",
        "def reducer(path, nome_arquivo_shuffle, funcao_reduce):\n",
        "  arquivo = open(path + nome_arquivo_shuffle,'r')\n",
        "  conteudo_entrada = arquivo.read()\n",
        "  dict_entrada = eval(conteudo_entrada)\n",
        "  arquivo.close()\n",
        "  dict_result = {}\n",
        "  for chave, lista in dict_entrada.items():\n",
        "    dict_result[chave] = reduce(funcao_reduce, lista)\n",
        "  arquivo_reduce = open(path + \"arquivo_saida_reduce_medalhas.txt\", 'w')\n",
        "  for item  in sorted(dict_result, key = dict_result.get, reverse = True):\n",
        "    arquivo_reduce.write(item + ' ' + str(dict_result[item]))\n",
        "    arquivo_reduce.write(\"\\n\")\n",
        "  arquivo_reduce.close()"
      ],
      "execution_count": null,
      "outputs": []
    },
    {
      "cell_type": "code",
      "metadata": {
        "id": "7DmjBoWry3aT"
      },
      "source": [
        "reducer(path,'arquivo_saida_shuffle_medalhas.txt', somar_elementos )"
      ],
      "execution_count": null,
      "outputs": []
    },
    {
      "cell_type": "markdown",
      "metadata": {
        "id": "vjSJPCrPORuu"
      },
      "source": [
        "Agora podem ser exploradas outras questões, como:\n",
        "1. Qual foi o esporte com maior número de atletas até o momento??\n",
        "1. Qual foi a edição dos jogos que mais contou com atletas participantes??\n",
        "1. Qual país possui o maior número de atletas medalhistas??\n",
        "1. Qual o esporte que distribuiu o maior número de medalhas??\n",
        "1. Em qual o esporte o Brasil possui o maior número de medalhas??\n",
        "1. Quais outras perguntas poderiam ser feitas?? Liste mais 3 juntamente com o código das funções `mapper` e `reducer` necessárias."
      ]
    },
    {
      "cell_type": "markdown",
      "metadata": {
        "id": "G7edXjChPtnH"
      },
      "source": [
        "## 1. Qual foi o esporte com maior número de atletas até o momento??\n",
        "\n",
        "Para esse tópico, a função mapper deverá ser alterada para montar o par **<esporte,1>**"
      ]
    },
    {
      "cell_type": "code",
      "metadata": {
        "id": "hmpNit-yPqYd"
      },
      "source": [
        "def map_esporte_atleta(df):\n",
        "  esporte_atleta = [(i, 1) for i in df['Sport']]\n",
        "  arquivo = open(path + \"arquivo_saida_mapper_medalhas.txt\", 'w')\n",
        "  for item in esporte_atleta:\n",
        "    arquivo.write('%s\\t%s\\n'% (item[0], item[1]))\n",
        "  arquivo.close()"
      ],
      "execution_count": null,
      "outputs": []
    },
    {
      "cell_type": "code",
      "metadata": {
        "id": "jhLXXpwbRjow"
      },
      "source": [
        "map_esporte_atleta(atletas)"
      ],
      "execution_count": null,
      "outputs": []
    },
    {
      "cell_type": "markdown",
      "metadata": {
        "id": "yqN4kcFkQYZw"
      },
      "source": [
        "A função `shuffle` como sempre, não precisa ser ajustada, pois representaria o papel da infra-estrutura da biblioteca que implementa o modelo MapReduce. "
      ]
    },
    {
      "cell_type": "code",
      "metadata": {
        "id": "64PGMZHkQYEB"
      },
      "source": [
        "shuffle(path,'arquivo_saida_mapper_medalhas.txt' )"
      ],
      "execution_count": null,
      "outputs": []
    },
    {
      "cell_type": "markdown",
      "metadata": {
        "id": "msBJlY4tQwIL"
      },
      "source": [
        "A função `reducer`, também seguirá o padrão de somar os valores, e não precisará ser alterada com relação oa tópico anterior."
      ]
    },
    {
      "cell_type": "code",
      "metadata": {
        "id": "H_U7Fpn0RD-j"
      },
      "source": [
        "reducer(path,'arquivo_saida_shuffle_medalhas.txt', somar_elementos )"
      ],
      "execution_count": null,
      "outputs": []
    },
    {
      "cell_type": "markdown",
      "metadata": {
        "id": "HWGOV0G1RFgd"
      },
      "source": [
        "Conferindo a nova versão do arquivo **`arquivo_saida_reduce_medalhas`** verifica-se que o esporte que mais possui atletas olpimpicos é o Atletismo com 38624, seguido pela Ginástica com 26707 atletas."
      ]
    },
    {
      "cell_type": "markdown",
      "metadata": {
        "id": "plxVd8ahTZ5p"
      },
      "source": [
        "## 2. Qual foi a edição dos jogos que mais contou com atletas participantes??\n",
        "\n",
        "Para esse tópico, a função mapper deverá ser alterada para montar o par **<jogos, 1>**"
      ]
    },
    {
      "cell_type": "code",
      "metadata": {
        "id": "OERpYEdbTZQH"
      },
      "source": [
        "def map_edicao_atleta(df):\n",
        "  esporte_atleta = [(i, 1) for i in df['Games']]\n",
        "  arquivo = open(path + \"arquivo_saida_mapper_medalhas.txt\", 'w')\n",
        "  for item in esporte_atleta:\n",
        "    arquivo.write('%s\\t%s\\n'% (item[0], item[1]))\n",
        "  arquivo.close()"
      ],
      "execution_count": null,
      "outputs": []
    },
    {
      "cell_type": "code",
      "metadata": {
        "id": "M9seZc9HT08J"
      },
      "source": [
        "map_edicao_atleta(atletas)"
      ],
      "execution_count": null,
      "outputs": []
    },
    {
      "cell_type": "code",
      "metadata": {
        "id": "ClJWf9V6T3qq"
      },
      "source": [
        "shuffle(path,'arquivo_saida_mapper_medalhas.txt' )\n",
        "reducer(path,'arquivo_saida_shuffle_medalhas.txt', somar_elementos )"
      ],
      "execution_count": null,
      "outputs": []
    },
    {
      "cell_type": "markdown",
      "metadata": {
        "id": "frCVIZjQT_k3"
      },
      "source": [
        "Conferindo a nova versão do arquivo **`arquivo_saida_reduce_medalhas`** verifica-se que a edição de jogos que mais possuiu atletas participantes foi a edição dos Jogos Olímpicos de Verão de 2000, com 13821 atletas, disputados em Atenas, seguido da edição disputada em 1996 em Atlanta, que contou com 13780 atletas."
      ]
    },
    {
      "cell_type": "markdown",
      "metadata": {
        "id": "YjnmrICkV24J"
      },
      "source": [
        "## 3. Qual país possui o maior número de atletas medalhistas??\n",
        "\n",
        "Nesse tópico será aplicado um filtro prévio \n",
        "sobre o dataframe `atletas` para restar apenas os atletas medalhistas. A função mapper ainda deverá ser alterada para montar o par **<Time,1>**"
      ]
    },
    {
      "cell_type": "code",
      "metadata": {
        "id": "SDkIUL4FWrCw"
      },
      "source": [
        "def map_pais_atleta_medalhista(df):\n",
        "  df = df[df.Medal.notna()]\n",
        "  pais_atleta_medalhista = [(i, 1) for i in df['Team']]\n",
        "  arquivo = open(path + \"arquivo_saida_mapper_medalhas.txt\", 'w')\n",
        "  for item in pais_atleta_medalhista:\n",
        "    arquivo.write('%s\\t%s\\n'% (item[0], item[1]))\n",
        "  arquivo.close()"
      ],
      "execution_count": null,
      "outputs": []
    },
    {
      "cell_type": "code",
      "metadata": {
        "id": "V-uhh6mHXD5P"
      },
      "source": [
        "map_pais_atleta_medalhista(atletas)"
      ],
      "execution_count": null,
      "outputs": []
    },
    {
      "cell_type": "code",
      "metadata": {
        "id": "mruILDS0XK69"
      },
      "source": [
        "shuffle(path,'arquivo_saida_mapper_medalhas.txt' )\n",
        "reducer(path,'arquivo_saida_shuffle_medalhas.txt', somar_elementos )"
      ],
      "execution_count": null,
      "outputs": []
    },
    {
      "cell_type": "markdown",
      "metadata": {
        "id": "CivIn1UDXNZn"
      },
      "source": [
        "Conferindo a nova versão do arquivo **`arquivo_saida_reduce_medalhas`** verifica-se que o país que mais conquistou medalhas foi os Estados Unidos com 5219."
      ]
    },
    {
      "cell_type": "markdown",
      "metadata": {
        "id": "LWpIxTpZV_DF"
      },
      "source": [
        "## 4. Qual o esporte que distribuiu o maior número de medalhas??"
      ]
    },
    {
      "cell_type": "markdown",
      "metadata": {
        "id": "sXt71uGHXjZU"
      },
      "source": [
        "Nesse tópico, a função mapper deverá ser alterada para montar o par **<Sport,1>**, realizando o filtro prévio dos registros de atletas medalhistas."
      ]
    },
    {
      "cell_type": "code",
      "metadata": {
        "id": "kdL67H4VXvIf"
      },
      "source": [
        "def map_esporte_atleta_medalhista(df):\n",
        "  df = df[df.Medal.notna()]\n",
        "  esporte_atleta_medalhista = [(i, 1) for i in df['Sport']]\n",
        "  arquivo = open(path + \"arquivo_saida_mapper_medalhas.txt\", 'w')\n",
        "  for item in esporte_atleta_medalhista:\n",
        "    arquivo.write('%s\\t%s\\n'% (item[0], item[1]))\n",
        "  arquivo.close()"
      ],
      "execution_count": null,
      "outputs": []
    },
    {
      "cell_type": "code",
      "metadata": {
        "id": "7y6sXYupX7Eq"
      },
      "source": [
        "map_esporte_atleta_medalhista(atletas)"
      ],
      "execution_count": null,
      "outputs": []
    },
    {
      "cell_type": "code",
      "metadata": {
        "id": "8en_DjmFX_Ql"
      },
      "source": [
        "shuffle(path,'arquivo_saida_mapper_medalhas.txt' )\n",
        "reducer(path,'arquivo_saida_shuffle_medalhas.txt', somar_elementos)"
      ],
      "execution_count": null,
      "outputs": []
    },
    {
      "cell_type": "markdown",
      "metadata": {
        "id": "UcYlsVZuYEi2"
      },
      "source": [
        "Conferindo a nova versão do arquivo **`arquivo_saida_reduce_medalhas`** verifica-se que o esporte que mais distribuiu medalhas olímpicas é o Atletismo com 3969, seguido pela Natação com 3048."
      ]
    },
    {
      "cell_type": "markdown",
      "metadata": {
        "id": "LpvZHN3LWCOh"
      },
      "source": [
        "## 5. Em qual o esporte o Brasil possui o maior número de medalhas??\n",
        "\n",
        "Para esse item, o dataset será previamente filtrado para considerar somente os atletas medalhistas brasileiros."
      ]
    },
    {
      "cell_type": "code",
      "metadata": {
        "id": "fR9j_q7cYrJk"
      },
      "source": [
        "def map_esporte_atleta_medalhista_brasileiro(df):\n",
        "  df = df[(df.Medal.notna()) & (df.Team == 'Brazil')]\n",
        "  esporte_atleta_medalhista = [(i, 1) for i in df['Sport']]\n",
        "  arquivo = open(path + \"arquivo_saida_mapper_medalhas.txt\", 'w')\n",
        "  for item in esporte_atleta_medalhista:\n",
        "    arquivo.write('%s\\t%s\\n'% (item[0], item[1]))\n",
        "  arquivo.close()"
      ],
      "execution_count": null,
      "outputs": []
    },
    {
      "cell_type": "code",
      "metadata": {
        "id": "P9IaEaYpZ_Ou"
      },
      "source": [
        "map_esporte_atleta_medalhista_brasileiro(atletas) "
      ],
      "execution_count": null,
      "outputs": []
    },
    {
      "cell_type": "code",
      "metadata": {
        "id": "JOzJX1_YaHdb"
      },
      "source": [
        "shuffle(path,'arquivo_saida_mapper_medalhas.txt' )\n",
        "reducer(path,'arquivo_saida_shuffle_medalhas.txt', somar_elementos)"
      ],
      "execution_count": null,
      "outputs": []
    },
    {
      "cell_type": "markdown",
      "metadata": {
        "id": "RXQ4PIlIarEA"
      },
      "source": [
        "Conferindo a nova versão do arquivo **`arquivo_saida_reduce_medalhas`** verifica-se que o esporte com mais medalhistas brasileiros é o Futebol com 136 atletas, devido ao tamanho dos elencos. O segundo é o Voleibol, com 120."
      ]
    },
    {
      "cell_type": "markdown",
      "metadata": {
        "id": "7Ebb6dY3G-BN"
      },
      "source": [
        "## 6. Qual país ganhou o maior número de medalhas de ouro?? "
      ]
    },
    {
      "cell_type": "code",
      "metadata": {
        "id": "NYgDRUZuG63V"
      },
      "source": [
        ""
      ],
      "execution_count": null,
      "outputs": []
    },
    {
      "cell_type": "markdown",
      "metadata": {
        "id": "ZnRYejbWHJVv"
      },
      "source": [
        "## 7. Com qual idade os atletas ganharam o maior número de medalhas??"
      ]
    },
    {
      "cell_type": "code",
      "metadata": {
        "id": "DE2G5TzcIxtZ"
      },
      "source": [
        "def map_idade_atleta_medalhista(df):\n",
        "  df = df[(df.Medal.notna())]\n",
        "  esporte_atleta_medalhista = [(i, 1) for i in df['Age']]\n",
        "  arquivo = open(path + \"arquivo_saida_mapper_medalhas.txt\", 'w')\n",
        "  for item in esporte_atleta_medalhista:\n",
        "    arquivo.write('%s\\t%s\\n'% (item[0], item[1]))\n",
        "  arquivo.close()"
      ],
      "execution_count": null,
      "outputs": []
    },
    {
      "cell_type": "code",
      "metadata": {
        "id": "I-ctnVD1I_Ki"
      },
      "source": [
        "map_idade_atleta_medalhista(atletas)"
      ],
      "execution_count": null,
      "outputs": []
    },
    {
      "cell_type": "code",
      "metadata": {
        "id": "gGAqCiA0JH0B"
      },
      "source": [
        "shuffle(path,'arquivo_saida_mapper_medalhas.txt' )\n",
        "reducer(path,'arquivo_saida_shuffle_medalhas.txt', somar_elementos)"
      ],
      "execution_count": null,
      "outputs": []
    }
  ]
}