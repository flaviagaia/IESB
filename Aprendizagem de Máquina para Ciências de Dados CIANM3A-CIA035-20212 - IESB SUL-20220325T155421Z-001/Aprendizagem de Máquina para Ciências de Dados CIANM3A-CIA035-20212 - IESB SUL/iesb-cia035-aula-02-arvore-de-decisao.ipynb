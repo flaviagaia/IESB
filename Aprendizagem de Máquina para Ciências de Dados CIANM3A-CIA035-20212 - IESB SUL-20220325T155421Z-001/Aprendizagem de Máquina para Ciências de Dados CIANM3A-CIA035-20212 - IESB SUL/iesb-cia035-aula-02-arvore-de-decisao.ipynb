{
 "cells": [
  {
   "cell_type": "markdown",
   "id": "98eff7c8",
   "metadata": {
    "papermill": {
     "duration": 0.022422,
     "end_time": "2021-08-26T00:34:45.192117",
     "exception": false,
     "start_time": "2021-08-26T00:34:45.169695",
     "status": "completed"
    },
    "tags": []
   },
   "source": [
    "# IESB - CIA035 - Aula 01 - Árvore de Decisão"
   ]
  },
  {
   "cell_type": "markdown",
   "id": "2cdff2de",
   "metadata": {
    "papermill": {
     "duration": 0.020978,
     "end_time": "2021-08-26T00:34:45.234823",
     "exception": false,
     "start_time": "2021-08-26T00:34:45.213845",
     "status": "completed"
    },
    "tags": []
   },
   "source": [
    "## Carregando e visualizando os dados"
   ]
  },
  {
   "cell_type": "code",
   "execution_count": 1,
   "id": "80698585",
   "metadata": {
    "_cell_guid": "b1076dfc-b9ad-4769-8c92-a6c4dae69d19",
    "_uuid": "8f2839f25d086af736a60e9eeb907d3b93b6e0e5",
    "execution": {
     "iopub.execute_input": "2021-08-26T00:34:45.281897Z",
     "iopub.status.busy": "2021-08-26T00:34:45.280664Z",
     "iopub.status.idle": "2021-08-26T00:34:45.295715Z",
     "shell.execute_reply": "2021-08-26T00:34:45.296312Z",
     "shell.execute_reply.started": "2021-08-26T00:14:25.589340Z"
    },
    "papermill": {
     "duration": 0.04059,
     "end_time": "2021-08-26T00:34:45.296666",
     "exception": false,
     "start_time": "2021-08-26T00:34:45.256076",
     "status": "completed"
    },
    "tags": []
   },
   "outputs": [
    {
     "name": "stdout",
     "output_type": "stream",
     "text": [
      "/kaggle/input/bike-sharing-demand/sampleSubmission.csv\n",
      "/kaggle/input/bike-sharing-demand/train.csv\n",
      "/kaggle/input/bike-sharing-demand/test.csv\n"
     ]
    }
   ],
   "source": [
    "# This Python 3 environment comes with many helpful analytics libraries installed\n",
    "# It is defined by the kaggle/python Docker image: https://github.com/kaggle/docker-python\n",
    "# For example, here's several helpful packages to load\n",
    "\n",
    "import numpy as np # linear algebra\n",
    "import pandas as pd # data processing, CSV file I/O (e.g. pd.read_csv)\n",
    "\n",
    "# Input data files are available in the read-only \"../input/\" directory\n",
    "# For example, running this (by clicking run or pressing Shift+Enter) will list all files under the input directory\n",
    "\n",
    "import os\n",
    "for dirname, _, filenames in os.walk('/kaggle/input'):\n",
    "    for filename in filenames:\n",
    "        print(os.path.join(dirname, filename))\n",
    "\n",
    "# You can write up to 20GB to the current directory (/kaggle/working/) that gets preserved as output when you create a version using \"Save & Run All\" \n",
    "# You can also write temporary files to /kaggle/temp/, but they won't be saved outside of the current session"
   ]
  },
  {
   "cell_type": "code",
   "execution_count": 2,
   "id": "0c107b6c",
   "metadata": {
    "_cell_guid": "79c7e3d0-c299-4dcb-8224-4455121ee9b0",
    "_uuid": "d629ff2d2480ee46fbb7e2d37f6b5fab8052498a",
    "execution": {
     "iopub.execute_input": "2021-08-26T00:34:45.347262Z",
     "iopub.status.busy": "2021-08-26T00:34:45.346591Z",
     "iopub.status.idle": "2021-08-26T00:34:45.540839Z",
     "shell.execute_reply": "2021-08-26T00:34:45.540188Z",
     "shell.execute_reply.started": "2021-08-26T00:16:34.497344Z"
    },
    "papermill": {
     "duration": 0.222371,
     "end_time": "2021-08-26T00:34:45.540994",
     "exception": false,
     "start_time": "2021-08-26T00:34:45.318623",
     "status": "completed"
    },
    "tags": []
   },
   "outputs": [
    {
     "data": {
      "text/plain": [
       "((10886, 12), (6493, 9))"
      ]
     },
     "execution_count": 2,
     "metadata": {},
     "output_type": "execute_result"
    }
   ],
   "source": [
    "# Carregando os dados\n",
    "treino = pd.read_csv('/kaggle/input/bike-sharing-demand/train.csv')\n",
    "teste = pd.read_csv('/kaggle/input/bike-sharing-demand/test.csv')\n",
    "\n",
    "# Verificando o tamanho dos dataframes\n",
    "treino.shape, teste.shape"
   ]
  },
  {
   "cell_type": "code",
   "execution_count": 3,
   "id": "7eeac233",
   "metadata": {
    "execution": {
     "iopub.execute_input": "2021-08-26T00:34:45.612171Z",
     "iopub.status.busy": "2021-08-26T00:34:45.599063Z",
     "iopub.status.idle": "2021-08-26T00:34:45.619521Z",
     "shell.execute_reply": "2021-08-26T00:34:45.618941Z",
     "shell.execute_reply.started": "2021-08-26T00:16:55.594291Z"
    },
    "papermill": {
     "duration": 0.05725,
     "end_time": "2021-08-26T00:34:45.619684",
     "exception": false,
     "start_time": "2021-08-26T00:34:45.562434",
     "status": "completed"
    },
    "tags": []
   },
   "outputs": [
    {
     "name": "stdout",
     "output_type": "stream",
     "text": [
      "<class 'pandas.core.frame.DataFrame'>\n",
      "RangeIndex: 10886 entries, 0 to 10885\n",
      "Data columns (total 12 columns):\n",
      " #   Column      Non-Null Count  Dtype  \n",
      "---  ------      --------------  -----  \n",
      " 0   datetime    10886 non-null  object \n",
      " 1   season      10886 non-null  int64  \n",
      " 2   holiday     10886 non-null  int64  \n",
      " 3   workingday  10886 non-null  int64  \n",
      " 4   weather     10886 non-null  int64  \n",
      " 5   temp        10886 non-null  float64\n",
      " 6   atemp       10886 non-null  float64\n",
      " 7   humidity    10886 non-null  int64  \n",
      " 8   windspeed   10886 non-null  float64\n",
      " 9   casual      10886 non-null  int64  \n",
      " 10  registered  10886 non-null  int64  \n",
      " 11  count       10886 non-null  int64  \n",
      "dtypes: float64(3), int64(8), object(1)\n",
      "memory usage: 1020.7+ KB\n"
     ]
    }
   ],
   "source": [
    "# Verificando o dataframe de treino\n",
    "treino.info()"
   ]
  },
  {
   "cell_type": "code",
   "execution_count": 4,
   "id": "f512225c",
   "metadata": {
    "execution": {
     "iopub.execute_input": "2021-08-26T00:34:45.682715Z",
     "iopub.status.busy": "2021-08-26T00:34:45.681761Z",
     "iopub.status.idle": "2021-08-26T00:34:45.685879Z",
     "shell.execute_reply": "2021-08-26T00:34:45.685280Z",
     "shell.execute_reply.started": "2021-08-26T00:17:19.567393Z"
    },
    "papermill": {
     "duration": 0.043175,
     "end_time": "2021-08-26T00:34:45.686034",
     "exception": false,
     "start_time": "2021-08-26T00:34:45.642859",
     "status": "completed"
    },
    "tags": []
   },
   "outputs": [
    {
     "name": "stdout",
     "output_type": "stream",
     "text": [
      "<class 'pandas.core.frame.DataFrame'>\n",
      "RangeIndex: 6493 entries, 0 to 6492\n",
      "Data columns (total 9 columns):\n",
      " #   Column      Non-Null Count  Dtype  \n",
      "---  ------      --------------  -----  \n",
      " 0   datetime    6493 non-null   object \n",
      " 1   season      6493 non-null   int64  \n",
      " 2   holiday     6493 non-null   int64  \n",
      " 3   workingday  6493 non-null   int64  \n",
      " 4   weather     6493 non-null   int64  \n",
      " 5   temp        6493 non-null   float64\n",
      " 6   atemp       6493 non-null   float64\n",
      " 7   humidity    6493 non-null   int64  \n",
      " 8   windspeed   6493 non-null   float64\n",
      "dtypes: float64(3), int64(5), object(1)\n",
      "memory usage: 456.7+ KB\n"
     ]
    }
   ],
   "source": [
    "# Verificando os dados de teste\n",
    "teste.info()"
   ]
  },
  {
   "cell_type": "markdown",
   "id": "78b3f407",
   "metadata": {
    "papermill": {
     "duration": 0.022199,
     "end_time": "2021-08-26T00:34:45.730995",
     "exception": false,
     "start_time": "2021-08-26T00:34:45.708796",
     "status": "completed"
    },
    "tags": []
   },
   "source": [
    "## Análise Exploratória de Dados"
   ]
  },
  {
   "cell_type": "markdown",
   "id": "e015ac98",
   "metadata": {
    "papermill": {
     "duration": 0.021759,
     "end_time": "2021-08-26T00:34:45.775059",
     "exception": false,
     "start_time": "2021-08-26T00:34:45.753300",
     "status": "completed"
    },
    "tags": []
   },
   "source": [
    "## Tratamento dos Dados"
   ]
  },
  {
   "cell_type": "markdown",
   "id": "1a11219d",
   "metadata": {
    "papermill": {
     "duration": 0.02185,
     "end_time": "2021-08-26T00:34:45.819295",
     "exception": false,
     "start_time": "2021-08-26T00:34:45.797445",
     "status": "completed"
    },
    "tags": []
   },
   "source": [
    "## Separando o dataframe de treino em treino e validação"
   ]
  },
  {
   "cell_type": "code",
   "execution_count": 5,
   "id": "de3b9351",
   "metadata": {
    "execution": {
     "iopub.execute_input": "2021-08-26T00:34:45.869014Z",
     "iopub.status.busy": "2021-08-26T00:34:45.868222Z",
     "iopub.status.idle": "2021-08-26T00:34:46.837424Z",
     "shell.execute_reply": "2021-08-26T00:34:46.837992Z",
     "shell.execute_reply.started": "2021-08-26T00:20:39.469126Z"
    },
    "papermill": {
     "duration": 0.996723,
     "end_time": "2021-08-26T00:34:46.838227",
     "exception": false,
     "start_time": "2021-08-26T00:34:45.841504",
     "status": "completed"
    },
    "tags": []
   },
   "outputs": [],
   "source": [
    "# Importando a biblioteca\n",
    "from sklearn.model_selection import train_test_split"
   ]
  },
  {
   "cell_type": "code",
   "execution_count": 6,
   "id": "fb90a7f7",
   "metadata": {
    "execution": {
     "iopub.execute_input": "2021-08-26T00:34:46.890055Z",
     "iopub.status.busy": "2021-08-26T00:34:46.889281Z",
     "iopub.status.idle": "2021-08-26T00:34:46.898372Z",
     "shell.execute_reply": "2021-08-26T00:34:46.897805Z",
     "shell.execute_reply.started": "2021-08-26T00:21:44.702536Z"
    },
    "papermill": {
     "duration": 0.037364,
     "end_time": "2021-08-26T00:34:46.898552",
     "exception": false,
     "start_time": "2021-08-26T00:34:46.861188",
     "status": "completed"
    },
    "tags": []
   },
   "outputs": [],
   "source": [
    "# Dividindo o dataframe\n",
    "# Por padrão a divisão é de 75% para o conjunto maior (treino) e 25% para o menor (validação)\n",
    "treino, validacao = train_test_split(treino, random_state = 42)"
   ]
  },
  {
   "cell_type": "code",
   "execution_count": 7,
   "id": "b1e094c6",
   "metadata": {
    "execution": {
     "iopub.execute_input": "2021-08-26T00:34:46.951295Z",
     "iopub.status.busy": "2021-08-26T00:34:46.950318Z",
     "iopub.status.idle": "2021-08-26T00:34:46.954070Z",
     "shell.execute_reply": "2021-08-26T00:34:46.954535Z",
     "shell.execute_reply.started": "2021-08-26T00:21:47.748842Z"
    },
    "papermill": {
     "duration": 0.032437,
     "end_time": "2021-08-26T00:34:46.954754",
     "exception": false,
     "start_time": "2021-08-26T00:34:46.922317",
     "status": "completed"
    },
    "tags": []
   },
   "outputs": [
    {
     "data": {
      "text/plain": [
       "((8164, 12), (2722, 12))"
      ]
     },
     "execution_count": 7,
     "metadata": {},
     "output_type": "execute_result"
    }
   ],
   "source": [
    "# Verificando o resultado\n",
    "treino.shape, validacao.shape"
   ]
  },
  {
   "cell_type": "markdown",
   "id": "f4b5daf6",
   "metadata": {
    "papermill": {
     "duration": 0.022216,
     "end_time": "2021-08-26T00:34:47.000527",
     "exception": false,
     "start_time": "2021-08-26T00:34:46.978311",
     "status": "completed"
    },
    "tags": []
   },
   "source": [
    "## Selecionando as colunas que usaremos para treino"
   ]
  },
  {
   "cell_type": "code",
   "execution_count": 8,
   "id": "587ddb11",
   "metadata": {
    "execution": {
     "iopub.execute_input": "2021-08-26T00:34:47.059529Z",
     "iopub.status.busy": "2021-08-26T00:34:47.058685Z",
     "iopub.status.idle": "2021-08-26T00:34:47.061893Z",
     "shell.execute_reply": "2021-08-26T00:34:47.061353Z",
     "shell.execute_reply.started": "2021-08-26T00:24:33.360301Z"
    },
    "papermill": {
     "duration": 0.034428,
     "end_time": "2021-08-26T00:34:47.062048",
     "exception": false,
     "start_time": "2021-08-26T00:34:47.027620",
     "status": "completed"
    },
    "tags": []
   },
   "outputs": [],
   "source": [
    "# Lista das colunas que não serão usadas\n",
    "nao_usadas = ['datetime', 'casual', 'registered', 'count']"
   ]
  },
  {
   "cell_type": "code",
   "execution_count": 9,
   "id": "6e182de5",
   "metadata": {
    "execution": {
     "iopub.execute_input": "2021-08-26T00:34:47.114070Z",
     "iopub.status.busy": "2021-08-26T00:34:47.113156Z",
     "iopub.status.idle": "2021-08-26T00:34:47.116262Z",
     "shell.execute_reply": "2021-08-26T00:34:47.115742Z",
     "shell.execute_reply.started": "2021-08-26T00:25:09.449917Z"
    },
    "papermill": {
     "duration": 0.03109,
     "end_time": "2021-08-26T00:34:47.116451",
     "exception": false,
     "start_time": "2021-08-26T00:34:47.085361",
     "status": "completed"
    },
    "tags": []
   },
   "outputs": [],
   "source": [
    "# Lista das colunas que serão usadas\n",
    "usadas = [c for c in treino.columns if c not in nao_usadas]"
   ]
  },
  {
   "cell_type": "code",
   "execution_count": 10,
   "id": "8d683197",
   "metadata": {
    "execution": {
     "iopub.execute_input": "2021-08-26T00:34:47.167901Z",
     "iopub.status.busy": "2021-08-26T00:34:47.167138Z",
     "iopub.status.idle": "2021-08-26T00:34:47.170937Z",
     "shell.execute_reply": "2021-08-26T00:34:47.170297Z",
     "shell.execute_reply.started": "2021-08-26T00:25:10.558543Z"
    },
    "papermill": {
     "duration": 0.031751,
     "end_time": "2021-08-26T00:34:47.171082",
     "exception": false,
     "start_time": "2021-08-26T00:34:47.139331",
     "status": "completed"
    },
    "tags": []
   },
   "outputs": [
    {
     "data": {
      "text/plain": [
       "['season',\n",
       " 'holiday',\n",
       " 'workingday',\n",
       " 'weather',\n",
       " 'temp',\n",
       " 'atemp',\n",
       " 'humidity',\n",
       " 'windspeed']"
      ]
     },
     "execution_count": 10,
     "metadata": {},
     "output_type": "execute_result"
    }
   ],
   "source": [
    "# Verificando as colunas\n",
    "usadas"
   ]
  },
  {
   "cell_type": "markdown",
   "id": "782a29f5",
   "metadata": {
    "papermill": {
     "duration": 0.022794,
     "end_time": "2021-08-26T00:34:47.216973",
     "exception": false,
     "start_time": "2021-08-26T00:34:47.194179",
     "status": "completed"
    },
    "tags": []
   },
   "source": [
    "## Criando, treinando e fazendo previsões com uma Árvore de Decisão"
   ]
  },
  {
   "cell_type": "code",
   "execution_count": 11,
   "id": "f194f829",
   "metadata": {
    "execution": {
     "iopub.execute_input": "2021-08-26T00:34:47.269103Z",
     "iopub.status.busy": "2021-08-26T00:34:47.268323Z",
     "iopub.status.idle": "2021-08-26T00:34:47.442751Z",
     "shell.execute_reply": "2021-08-26T00:34:47.442067Z",
     "shell.execute_reply.started": "2021-08-26T00:27:31.752460Z"
    },
    "papermill": {
     "duration": 0.20267,
     "end_time": "2021-08-26T00:34:47.442923",
     "exception": false,
     "start_time": "2021-08-26T00:34:47.240253",
     "status": "completed"
    },
    "tags": []
   },
   "outputs": [],
   "source": [
    "# Importando o modelo\n",
    "from sklearn.tree import DecisionTreeRegressor"
   ]
  },
  {
   "cell_type": "code",
   "execution_count": 12,
   "id": "01757457",
   "metadata": {
    "execution": {
     "iopub.execute_input": "2021-08-26T00:34:47.495164Z",
     "iopub.status.busy": "2021-08-26T00:34:47.494093Z",
     "iopub.status.idle": "2021-08-26T00:34:47.497690Z",
     "shell.execute_reply": "2021-08-26T00:34:47.497027Z",
     "shell.execute_reply.started": "2021-08-26T00:27:38.940582Z"
    },
    "papermill": {
     "duration": 0.031856,
     "end_time": "2021-08-26T00:34:47.497850",
     "exception": false,
     "start_time": "2021-08-26T00:34:47.465994",
     "status": "completed"
    },
    "tags": []
   },
   "outputs": [],
   "source": [
    "# Instanciando a Árvore de Decisão\n",
    "ad = DecisionTreeRegressor(random_state = 42)"
   ]
  },
  {
   "cell_type": "code",
   "execution_count": 13,
   "id": "d70f0542",
   "metadata": {
    "execution": {
     "iopub.execute_input": "2021-08-26T00:34:47.556162Z",
     "iopub.status.busy": "2021-08-26T00:34:47.555397Z",
     "iopub.status.idle": "2021-08-26T00:34:47.593593Z",
     "shell.execute_reply": "2021-08-26T00:34:47.593025Z",
     "shell.execute_reply.started": "2021-08-26T00:28:41.865678Z"
    },
    "papermill": {
     "duration": 0.072598,
     "end_time": "2021-08-26T00:34:47.593754",
     "exception": false,
     "start_time": "2021-08-26T00:34:47.521156",
     "status": "completed"
    },
    "tags": []
   },
   "outputs": [
    {
     "data": {
      "text/plain": [
       "DecisionTreeRegressor(random_state=42)"
      ]
     },
     "execution_count": 13,
     "metadata": {},
     "output_type": "execute_result"
    }
   ],
   "source": [
    "# Treinando o modelo\n",
    "# Precisamos informar os dados de entrada e a variável de target\n",
    "ad.fit(treino[usadas], treino['count'])"
   ]
  },
  {
   "cell_type": "code",
   "execution_count": 14,
   "id": "fe4912af",
   "metadata": {
    "execution": {
     "iopub.execute_input": "2021-08-26T00:34:47.649967Z",
     "iopub.status.busy": "2021-08-26T00:34:47.649171Z",
     "iopub.status.idle": "2021-08-26T00:34:47.652955Z",
     "shell.execute_reply": "2021-08-26T00:34:47.653529Z",
     "shell.execute_reply.started": "2021-08-26T00:29:41.071526Z"
    },
    "papermill": {
     "duration": 0.036429,
     "end_time": "2021-08-26T00:34:47.653739",
     "exception": false,
     "start_time": "2021-08-26T00:34:47.617310",
     "status": "completed"
    },
    "tags": []
   },
   "outputs": [],
   "source": [
    "# Vamos prever a variável target nos dados de validação\n",
    "previsao = ad.predict(validacao[usadas])"
   ]
  },
  {
   "cell_type": "code",
   "execution_count": 15,
   "id": "ae790306",
   "metadata": {
    "execution": {
     "iopub.execute_input": "2021-08-26T00:34:47.705827Z",
     "iopub.status.busy": "2021-08-26T00:34:47.705125Z",
     "iopub.status.idle": "2021-08-26T00:34:47.710847Z",
     "shell.execute_reply": "2021-08-26T00:34:47.711426Z",
     "shell.execute_reply.started": "2021-08-26T00:29:42.291243Z"
    },
    "papermill": {
     "duration": 0.033497,
     "end_time": "2021-08-26T00:34:47.711628",
     "exception": false,
     "start_time": "2021-08-26T00:34:47.678131",
     "status": "completed"
    },
    "tags": []
   },
   "outputs": [
    {
     "data": {
      "text/plain": [
       "array([270.,   3.,   8., ..., 153., 184.,  39.])"
      ]
     },
     "execution_count": 15,
     "metadata": {},
     "output_type": "execute_result"
    }
   ],
   "source": [
    "# Verificando as previsões\n",
    "previsao"
   ]
  },
  {
   "cell_type": "code",
   "execution_count": 16,
   "id": "3768f050",
   "metadata": {
    "execution": {
     "iopub.execute_input": "2021-08-26T00:34:47.762847Z",
     "iopub.status.busy": "2021-08-26T00:34:47.762090Z",
     "iopub.status.idle": "2021-08-26T00:34:47.769801Z",
     "shell.execute_reply": "2021-08-26T00:34:47.770413Z",
     "shell.execute_reply.started": "2021-08-26T00:30:55.839818Z"
    },
    "papermill": {
     "duration": 0.035195,
     "end_time": "2021-08-26T00:34:47.770644",
     "exception": false,
     "start_time": "2021-08-26T00:34:47.735449",
     "status": "completed"
    },
    "tags": []
   },
   "outputs": [
    {
     "data": {
      "text/plain": [
       "3133    127\n",
       "5786     13\n",
       "5224    163\n",
       "8953    233\n",
       "8054    222\n",
       "       ... \n",
       "1314    313\n",
       "5605    314\n",
       "2935     26\n",
       "3058    127\n",
       "12       84\n",
       "Name: count, Length: 2722, dtype: int64"
      ]
     },
     "execution_count": 16,
     "metadata": {},
     "output_type": "execute_result"
    }
   ],
   "source": [
    "# Verificando os valores reais\n",
    "validacao['count']"
   ]
  },
  {
   "cell_type": "markdown",
   "id": "8e8e29ff",
   "metadata": {
    "papermill": {
     "duration": 0.024288,
     "end_time": "2021-08-26T00:34:47.819099",
     "exception": false,
     "start_time": "2021-08-26T00:34:47.794811",
     "status": "completed"
    },
    "tags": []
   },
   "source": [
    "## Usando a métrica para avaliar o modelo"
   ]
  },
  {
   "cell_type": "code",
   "execution_count": 17,
   "id": "14cfc027",
   "metadata": {
    "execution": {
     "iopub.execute_input": "2021-08-26T00:34:47.871042Z",
     "iopub.status.busy": "2021-08-26T00:34:47.870384Z",
     "iopub.status.idle": "2021-08-26T00:34:47.875141Z",
     "shell.execute_reply": "2021-08-26T00:34:47.874560Z",
     "shell.execute_reply.started": "2021-08-26T00:33:05.285171Z"
    },
    "papermill": {
     "duration": 0.031797,
     "end_time": "2021-08-26T00:34:47.875293",
     "exception": false,
     "start_time": "2021-08-26T00:34:47.843496",
     "status": "completed"
    },
    "tags": []
   },
   "outputs": [],
   "source": [
    "# Importando a métrica\n",
    "from sklearn.metrics import mean_squared_log_error"
   ]
  },
  {
   "cell_type": "code",
   "execution_count": 18,
   "id": "e0c009e7",
   "metadata": {
    "execution": {
     "iopub.execute_input": "2021-08-26T00:34:47.930523Z",
     "iopub.status.busy": "2021-08-26T00:34:47.929608Z",
     "iopub.status.idle": "2021-08-26T00:34:47.935974Z",
     "shell.execute_reply": "2021-08-26T00:34:47.935311Z",
     "shell.execute_reply.started": "2021-08-26T00:33:24.456974Z"
    },
    "papermill": {
     "duration": 0.03674,
     "end_time": "2021-08-26T00:34:47.936127",
     "exception": false,
     "start_time": "2021-08-26T00:34:47.899387",
     "status": "completed"
    },
    "tags": []
   },
   "outputs": [
    {
     "data": {
      "text/plain": [
       "1.5086511021020637"
      ]
     },
     "execution_count": 18,
     "metadata": {},
     "output_type": "execute_result"
    }
   ],
   "source": [
    "# Calculando a métrica\n",
    "mean_squared_log_error(validacao['count'], previsao) ** (1/2)"
   ]
  },
  {
   "cell_type": "markdown",
   "id": "08a87ba8",
   "metadata": {
    "papermill": {
     "duration": 0.024229,
     "end_time": "2021-08-26T00:34:47.985008",
     "exception": false,
     "start_time": "2021-08-26T00:34:47.960779",
     "status": "completed"
    },
    "tags": []
   },
   "source": [
    "## Criando, treinando e fazendo previsões com Random Forest"
   ]
  },
  {
   "cell_type": "code",
   "execution_count": 19,
   "id": "970bb607",
   "metadata": {
    "execution": {
     "iopub.execute_input": "2021-08-26T00:34:48.041105Z",
     "iopub.status.busy": "2021-08-26T00:34:48.040274Z",
     "iopub.status.idle": "2021-08-26T00:34:49.144143Z",
     "shell.execute_reply": "2021-08-26T00:34:49.144842Z",
     "shell.execute_reply.started": "2021-06-11T00:34:56.451688Z"
    },
    "papermill": {
     "duration": 1.13577,
     "end_time": "2021-08-26T00:34:49.145080",
     "exception": false,
     "start_time": "2021-08-26T00:34:48.009310",
     "status": "completed"
    },
    "tags": []
   },
   "outputs": [
    {
     "data": {
      "text/plain": [
       "1.2271158774051127"
      ]
     },
     "execution_count": 19,
     "metadata": {},
     "output_type": "execute_result"
    }
   ],
   "source": [
    "# Vamos usar os mesmos dados mas agora com o modelo de Random Forest\n",
    "\n",
    "# Importando o modelo\n",
    "from sklearn.ensemble import RandomForestRegressor\n",
    "\n",
    "# Instanciando o modelo\n",
    "rf = RandomForestRegressor(n_jobs=-1, random_state=42)\n",
    "\n",
    "# Treinando o modelo\n",
    "# Precisamos informar os dados de entrada e a variável de target\n",
    "rf.fit(treino[usadas], treino['count'])\n",
    "\n",
    "# Vamos prever a variável target nos dados de validação\n",
    "previsao = rf.predict(validacao[usadas])\n",
    "\n",
    "# Calculando a métrica\n",
    "mean_squared_log_error(validacao['count'], previsao) ** (1/2)"
   ]
  },
  {
   "cell_type": "code",
   "execution_count": null,
   "id": "8e99684c",
   "metadata": {
    "papermill": {
     "duration": 0.024188,
     "end_time": "2021-08-26T00:34:49.194509",
     "exception": false,
     "start_time": "2021-08-26T00:34:49.170321",
     "status": "completed"
    },
    "tags": []
   },
   "outputs": [],
   "source": []
  }
 ],
 "metadata": {
  "kernelspec": {
   "display_name": "Python 3",
   "language": "python",
   "name": "python3"
  },
  "language_info": {
   "codemirror_mode": {
    "name": "ipython",
    "version": 3
   },
   "file_extension": ".py",
   "mimetype": "text/x-python",
   "name": "python",
   "nbconvert_exporter": "python",
   "pygments_lexer": "ipython3",
   "version": "3.7.10"
  },
  "papermill": {
   "default_parameters": {},
   "duration": 13.892269,
   "end_time": "2021-08-26T00:34:50.710957",
   "environment_variables": {},
   "exception": null,
   "input_path": "__notebook__.ipynb",
   "output_path": "__notebook__.ipynb",
   "parameters": {},
   "start_time": "2021-08-26T00:34:36.818688",
   "version": "2.3.3"
  }
 },
 "nbformat": 4,
 "nbformat_minor": 5
}
