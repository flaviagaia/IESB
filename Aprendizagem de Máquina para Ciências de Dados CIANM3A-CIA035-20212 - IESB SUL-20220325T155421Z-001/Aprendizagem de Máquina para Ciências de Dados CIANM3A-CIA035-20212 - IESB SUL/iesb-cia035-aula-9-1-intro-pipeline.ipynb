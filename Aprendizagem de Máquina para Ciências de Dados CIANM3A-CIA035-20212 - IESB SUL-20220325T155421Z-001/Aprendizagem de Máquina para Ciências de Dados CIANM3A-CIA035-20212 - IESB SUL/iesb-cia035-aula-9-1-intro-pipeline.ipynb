{
 "cells": [
  {
   "cell_type": "markdown",
   "id": "1a109094",
   "metadata": {
    "papermill": {
     "duration": 0.023083,
     "end_time": "2021-10-21T00:22:39.512253",
     "exception": false,
     "start_time": "2021-10-21T00:22:39.489170",
     "status": "completed"
    },
    "tags": []
   },
   "source": [
    "# IESB - CIA035 - Aula 9.1 - Intro Pipeline"
   ]
  },
  {
   "cell_type": "code",
   "execution_count": 1,
   "id": "059dab21",
   "metadata": {
    "_cell_guid": "b1076dfc-b9ad-4769-8c92-a6c4dae69d19",
    "_uuid": "8f2839f25d086af736a60e9eeb907d3b93b6e0e5",
    "execution": {
     "iopub.execute_input": "2021-10-21T00:22:39.553154Z",
     "iopub.status.busy": "2021-10-21T00:22:39.552162Z",
     "iopub.status.idle": "2021-10-21T00:22:39.567682Z",
     "shell.execute_reply": "2021-10-21T00:22:39.568352Z",
     "shell.execute_reply.started": "2021-10-20T23:38:27.280362Z"
    },
    "papermill": {
     "duration": 0.040861,
     "end_time": "2021-10-21T00:22:39.568696",
     "exception": false,
     "start_time": "2021-10-21T00:22:39.527835",
     "status": "completed"
    },
    "tags": []
   },
   "outputs": [
    {
     "name": "stdout",
     "output_type": "stream",
     "text": [
      "/kaggle/input/melbourne-housing-snapshot/melb_data.csv\n"
     ]
    }
   ],
   "source": [
    "# This Python 3 environment comes with many helpful analytics libraries installed\n",
    "# It is defined by the kaggle/python Docker image: https://github.com/kaggle/docker-python\n",
    "# For example, here's several helpful packages to load\n",
    "\n",
    "import numpy as np # linear algebra\n",
    "import pandas as pd # data processing, CSV file I/O (e.g. pd.read_csv)\n",
    "\n",
    "# Input data files are available in the read-only \"../input/\" directory\n",
    "# For example, running this (by clicking run or pressing Shift+Enter) will list all files under the input directory\n",
    "\n",
    "import os\n",
    "for dirname, _, filenames in os.walk('/kaggle/input'):\n",
    "    for filename in filenames:\n",
    "        print(os.path.join(dirname, filename))\n",
    "\n",
    "# You can write up to 20GB to the current directory (/kaggle/working/) that gets preserved as output when you create a version using \"Save & Run All\" \n",
    "# You can also write temporary files to /kaggle/temp/, but they won't be saved outside of the current session"
   ]
  },
  {
   "cell_type": "code",
   "execution_count": 2,
   "id": "ce482791",
   "metadata": {
    "execution": {
     "iopub.execute_input": "2021-10-21T00:22:39.600555Z",
     "iopub.status.busy": "2021-10-21T00:22:39.599681Z",
     "iopub.status.idle": "2021-10-21T00:22:39.694938Z",
     "shell.execute_reply": "2021-10-21T00:22:39.695509Z",
     "shell.execute_reply.started": "2021-10-20T23:38:32.632807Z"
    },
    "papermill": {
     "duration": 0.113006,
     "end_time": "2021-10-21T00:22:39.695717",
     "exception": false,
     "start_time": "2021-10-21T00:22:39.582711",
     "status": "completed"
    },
    "tags": []
   },
   "outputs": [
    {
     "data": {
      "text/plain": [
       "(13580, 21)"
      ]
     },
     "execution_count": 2,
     "metadata": {},
     "output_type": "execute_result"
    }
   ],
   "source": [
    "# Carregando os dados\n",
    "df = pd.read_csv('/kaggle/input/melbourne-housing-snapshot/melb_data.csv')\n",
    "\n",
    "df.shape"
   ]
  },
  {
   "cell_type": "code",
   "execution_count": 3,
   "id": "c96cac16",
   "metadata": {
    "execution": {
     "iopub.execute_input": "2021-10-21T00:22:39.726893Z",
     "iopub.status.busy": "2021-10-21T00:22:39.726249Z",
     "iopub.status.idle": "2021-10-21T00:22:39.763207Z",
     "shell.execute_reply": "2021-10-21T00:22:39.763720Z",
     "shell.execute_reply.started": "2021-10-20T23:38:34.356103Z"
    },
    "papermill": {
     "duration": 0.054387,
     "end_time": "2021-10-21T00:22:39.763914",
     "exception": false,
     "start_time": "2021-10-21T00:22:39.709527",
     "status": "completed"
    },
    "tags": []
   },
   "outputs": [
    {
     "name": "stdout",
     "output_type": "stream",
     "text": [
      "<class 'pandas.core.frame.DataFrame'>\n",
      "RangeIndex: 13580 entries, 0 to 13579\n",
      "Data columns (total 21 columns):\n",
      " #   Column         Non-Null Count  Dtype  \n",
      "---  ------         --------------  -----  \n",
      " 0   Suburb         13580 non-null  object \n",
      " 1   Address        13580 non-null  object \n",
      " 2   Rooms          13580 non-null  int64  \n",
      " 3   Type           13580 non-null  object \n",
      " 4   Price          13580 non-null  float64\n",
      " 5   Method         13580 non-null  object \n",
      " 6   SellerG        13580 non-null  object \n",
      " 7   Date           13580 non-null  object \n",
      " 8   Distance       13580 non-null  float64\n",
      " 9   Postcode       13580 non-null  float64\n",
      " 10  Bedroom2       13580 non-null  float64\n",
      " 11  Bathroom       13580 non-null  float64\n",
      " 12  Car            13518 non-null  float64\n",
      " 13  Landsize       13580 non-null  float64\n",
      " 14  BuildingArea   7130 non-null   float64\n",
      " 15  YearBuilt      8205 non-null   float64\n",
      " 16  CouncilArea    12211 non-null  object \n",
      " 17  Lattitude      13580 non-null  float64\n",
      " 18  Longtitude     13580 non-null  float64\n",
      " 19  Regionname     13580 non-null  object \n",
      " 20  Propertycount  13580 non-null  float64\n",
      "dtypes: float64(12), int64(1), object(8)\n",
      "memory usage: 2.2+ MB\n"
     ]
    }
   ],
   "source": [
    "# Visualizando os dados\n",
    "df.info()"
   ]
  },
  {
   "cell_type": "code",
   "execution_count": 4,
   "id": "89040fc5",
   "metadata": {
    "execution": {
     "iopub.execute_input": "2021-10-21T00:22:39.806145Z",
     "iopub.status.busy": "2021-10-21T00:22:39.805020Z",
     "iopub.status.idle": "2021-10-21T00:22:39.810568Z",
     "shell.execute_reply": "2021-10-21T00:22:39.811109Z",
     "shell.execute_reply.started": "2021-10-20T23:39:11.637961Z"
    },
    "papermill": {
     "duration": 0.033227,
     "end_time": "2021-10-21T00:22:39.811308",
     "exception": false,
     "start_time": "2021-10-21T00:22:39.778081",
     "status": "completed"
    },
    "tags": []
   },
   "outputs": [
    {
     "name": "stdout",
     "output_type": "stream",
     "text": [
      "Index(['Rooms', 'Distance', 'Postcode', 'Bedroom2', 'Bathroom', 'Car',\n",
      "       'Landsize', 'BuildingArea', 'YearBuilt', 'Lattitude', 'Longtitude',\n",
      "       'Propertycount'],\n",
      "      dtype='object') 12\n",
      "Index(['Suburb', 'Address', 'Type', 'Method', 'SellerG', 'Date', 'CouncilArea',\n",
      "       'Regionname'],\n",
      "      dtype='object') 8\n"
     ]
    }
   ],
   "source": [
    "# Uma forma fácil de separar as colunas númericas das colunas categóricas\n",
    "num_feats = df.select_dtypes(['int', 'float']).columns\n",
    "\n",
    "num_feats = num_feats.drop('Price')\n",
    "\n",
    "cat_feats = df.select_dtypes('object').columns\n",
    "\n",
    "# Visualizando\n",
    "print(num_feats , len(num_feats))\n",
    "print(cat_feats, len(cat_feats))"
   ]
  },
  {
   "cell_type": "code",
   "execution_count": 5,
   "id": "2afabd88",
   "metadata": {
    "execution": {
     "iopub.execute_input": "2021-10-21T00:22:39.845493Z",
     "iopub.status.busy": "2021-10-21T00:22:39.842531Z",
     "iopub.status.idle": "2021-10-21T00:22:39.852804Z",
     "shell.execute_reply": "2021-10-21T00:22:39.852150Z",
     "shell.execute_reply.started": "2021-10-20T23:40:21.385261Z"
    },
    "papermill": {
     "duration": 0.027462,
     "end_time": "2021-10-21T00:22:39.853065",
     "exception": false,
     "start_time": "2021-10-21T00:22:39.825603",
     "status": "completed"
    },
    "tags": []
   },
   "outputs": [
    {
     "data": {
      "text/plain": [
       "13378"
      ]
     },
     "execution_count": 5,
     "metadata": {},
     "output_type": "execute_result"
    }
   ],
   "source": [
    "# Qtde de valore unicos da coluna 'Address'\n",
    "df['Address'].nunique()"
   ]
  },
  {
   "cell_type": "code",
   "execution_count": 6,
   "id": "7ffd42ec",
   "metadata": {
    "execution": {
     "iopub.execute_input": "2021-10-21T00:22:39.889934Z",
     "iopub.status.busy": "2021-10-21T00:22:39.889246Z",
     "iopub.status.idle": "2021-10-21T00:22:39.893131Z",
     "shell.execute_reply": "2021-10-21T00:22:39.892574Z",
     "shell.execute_reply.started": "2021-10-20T23:40:45.378139Z"
    },
    "papermill": {
     "duration": 0.02511,
     "end_time": "2021-10-21T00:22:39.893294",
     "exception": false,
     "start_time": "2021-10-21T00:22:39.868184",
     "status": "completed"
    },
    "tags": []
   },
   "outputs": [
    {
     "data": {
      "text/plain": [
       "Index(['Suburb', 'Type', 'Method', 'SellerG', 'Date', 'CouncilArea',\n",
       "       'Regionname'],\n",
       "      dtype='object')"
      ]
     },
     "execution_count": 6,
     "metadata": {},
     "output_type": "execute_result"
    }
   ],
   "source": [
    "# Vamos retirar da lista a coluna 'Address'\n",
    "# que possui muitos valores únicos\n",
    "cat_feats = cat_feats.drop('Address')\n",
    "\n",
    "cat_feats"
   ]
  },
  {
   "cell_type": "code",
   "execution_count": 7,
   "id": "89697913",
   "metadata": {
    "execution": {
     "iopub.execute_input": "2021-10-21T00:22:39.927108Z",
     "iopub.status.busy": "2021-10-21T00:22:39.926391Z",
     "iopub.status.idle": "2021-10-21T00:22:39.931615Z",
     "shell.execute_reply": "2021-10-21T00:22:39.932211Z",
     "shell.execute_reply.started": "2021-10-20T23:40:53.480549Z"
    },
    "papermill": {
     "duration": 0.024138,
     "end_time": "2021-10-21T00:22:39.932418",
     "exception": false,
     "start_time": "2021-10-21T00:22:39.908280",
     "status": "completed"
    },
    "tags": []
   },
   "outputs": [
    {
     "data": {
      "text/plain": [
       "['Rooms',\n",
       " 'Distance',\n",
       " 'Postcode',\n",
       " 'Bedroom2',\n",
       " 'Bathroom',\n",
       " 'Car',\n",
       " 'Landsize',\n",
       " 'BuildingArea',\n",
       " 'YearBuilt',\n",
       " 'Lattitude',\n",
       " 'Longtitude',\n",
       " 'Propertycount',\n",
       " 'Suburb',\n",
       " 'Type',\n",
       " 'Method',\n",
       " 'SellerG',\n",
       " 'Date',\n",
       " 'CouncilArea',\n",
       " 'Regionname']"
      ]
     },
     "execution_count": 7,
     "metadata": {},
     "output_type": "execute_result"
    }
   ],
   "source": [
    "# Preparando a lista de colunas\n",
    "feats = list(num_feats) + list(cat_feats)\n",
    "\n",
    "feats"
   ]
  },
  {
   "cell_type": "code",
   "execution_count": 8,
   "id": "ab4a0900",
   "metadata": {
    "execution": {
     "iopub.execute_input": "2021-10-21T00:22:39.966182Z",
     "iopub.status.busy": "2021-10-21T00:22:39.965460Z",
     "iopub.status.idle": "2021-10-21T00:22:40.887799Z",
     "shell.execute_reply": "2021-10-21T00:22:40.887115Z",
     "shell.execute_reply.started": "2021-10-20T23:41:05.184874Z"
    },
    "papermill": {
     "duration": 0.940693,
     "end_time": "2021-10-21T00:22:40.887957",
     "exception": false,
     "start_time": "2021-10-21T00:22:39.947264",
     "status": "completed"
    },
    "tags": []
   },
   "outputs": [
    {
     "data": {
      "text/plain": [
       "((10185, 21), (3395, 21))"
      ]
     },
     "execution_count": 8,
     "metadata": {},
     "output_type": "execute_result"
    }
   ],
   "source": [
    "# Separando o dataframe\n",
    "from sklearn.model_selection import train_test_split\n",
    "\n",
    "train, test = train_test_split(df, random_state = 42)\n",
    "\n",
    "train.shape, test.shape"
   ]
  },
  {
   "cell_type": "code",
   "execution_count": 9,
   "id": "5c2d379d",
   "metadata": {
    "execution": {
     "iopub.execute_input": "2021-10-21T00:22:40.928316Z",
     "iopub.status.busy": "2021-10-21T00:22:40.927251Z",
     "iopub.status.idle": "2021-10-21T00:22:41.085447Z",
     "shell.execute_reply": "2021-10-21T00:22:41.084795Z",
     "shell.execute_reply.started": "2021-10-20T23:51:34.695663Z"
    },
    "papermill": {
     "duration": 0.181751,
     "end_time": "2021-10-21T00:22:41.085622",
     "exception": false,
     "start_time": "2021-10-21T00:22:40.903871",
     "status": "completed"
    },
    "tags": []
   },
   "outputs": [],
   "source": [
    "from sklearn.compose import ColumnTransformer\n",
    "from sklearn.pipeline import Pipeline\n",
    "from sklearn.impute import SimpleImputer\n",
    "from sklearn.preprocessing import OneHotEncoder\n",
    "\n",
    "# Preprocessamento dos dados numéricos\n",
    "numerical_transformer = SimpleImputer(strategy='mean')\n",
    "\n",
    "# Preprocessamento das colunas categóricas\n",
    "categorical_transformer = Pipeline(steps=[\n",
    "    ('imputer', SimpleImputer(strategy='most_frequent')),\n",
    "    ('onehot', OneHotEncoder(handle_unknown='ignore'))\n",
    "])\n",
    "\n",
    "# Juntando o preprocessamento\n",
    "preprocessor = ColumnTransformer(\n",
    "    transformers=[\n",
    "        ('num', numerical_transformer, num_feats),\n",
    "        ('cat', categorical_transformer, cat_feats)\n",
    "    ])"
   ]
  },
  {
   "cell_type": "code",
   "execution_count": 10,
   "id": "d1083490",
   "metadata": {
    "execution": {
     "iopub.execute_input": "2021-10-21T00:22:41.123787Z",
     "iopub.status.busy": "2021-10-21T00:22:41.122897Z",
     "iopub.status.idle": "2021-10-21T00:22:41.336751Z",
     "shell.execute_reply": "2021-10-21T00:22:41.336100Z",
     "shell.execute_reply.started": "2021-10-21T00:10:47.198279Z"
    },
    "papermill": {
     "duration": 0.235361,
     "end_time": "2021-10-21T00:22:41.336916",
     "exception": false,
     "start_time": "2021-10-21T00:22:41.101555",
     "status": "completed"
    },
    "tags": []
   },
   "outputs": [],
   "source": [
    "# Modelo\n",
    "from sklearn.ensemble import RandomForestRegressor\n",
    "rfr = RandomForestRegressor(n_estimators=200, n_jobs=-1, random_state=42)"
   ]
  },
  {
   "cell_type": "code",
   "execution_count": 11,
   "id": "6e195ad3",
   "metadata": {
    "execution": {
     "iopub.execute_input": "2021-10-21T00:22:41.386456Z",
     "iopub.status.busy": "2021-10-21T00:22:41.385665Z",
     "iopub.status.idle": "2021-10-21T00:23:55.401444Z",
     "shell.execute_reply": "2021-10-21T00:23:55.402019Z",
     "shell.execute_reply.started": "2021-10-21T00:12:42.842983Z"
    },
    "papermill": {
     "duration": 74.048832,
     "end_time": "2021-10-21T00:23:55.402264",
     "exception": false,
     "start_time": "2021-10-21T00:22:41.353432",
     "status": "completed"
    },
    "tags": []
   },
   "outputs": [
    {
     "data": {
      "text/plain": [
       "(0.7985634617418413, 166629.11779528717)"
      ]
     },
     "execution_count": 11,
     "metadata": {},
     "output_type": "execute_result"
    }
   ],
   "source": [
    "from sklearn.metrics import mean_absolute_error\n",
    "\n",
    "# Montando o pipeline\n",
    "my_pipeline = Pipeline(steps=[('preprocessor', preprocessor),\n",
    "                              ('model', rfr)\n",
    "                             ])\n",
    "\n",
    "my_pipeline.fit(train[feats], train['Price'])\n",
    "\n",
    "preds = my_pipeline.predict(test[feats])\n",
    "\n",
    "score = my_pipeline.score(test[feats], test['Price'])\n",
    "\n",
    "mae = mean_absolute_error(test['Price'], preds)\n",
    "\n",
    "score, mae"
   ]
  },
  {
   "cell_type": "code",
   "execution_count": 12,
   "id": "0c44cdd0",
   "metadata": {
    "execution": {
     "iopub.execute_input": "2021-10-21T00:23:55.445076Z",
     "iopub.status.busy": "2021-10-21T00:23:55.444186Z",
     "iopub.status.idle": "2021-10-21T00:24:12.495295Z",
     "shell.execute_reply": "2021-10-21T00:24:12.494651Z",
     "shell.execute_reply.started": "2021-10-21T00:18:08.984568Z"
    },
    "papermill": {
     "duration": 17.076195,
     "end_time": "2021-10-21T00:24:12.495484",
     "exception": false,
     "start_time": "2021-10-21T00:23:55.419289",
     "status": "completed"
    },
    "tags": []
   },
   "outputs": [
    {
     "name": "stdout",
     "output_type": "stream",
     "text": [
      "Fitting 5 folds for each of 9 candidates, totalling 45 fits\n"
     ]
    },
    {
     "name": "stderr",
     "output_type": "stream",
     "text": [
      "[Parallel(n_jobs=-1)]: Using backend LokyBackend with 4 concurrent workers.\n",
      "[Parallel(n_jobs=-1)]: Done  10 tasks      | elapsed:    6.2s\n",
      "[Parallel(n_jobs=-1)]: Done  45 out of  45 | elapsed:   16.2s finished\n"
     ]
    },
    {
     "data": {
      "text/plain": [
       "(0.19477958240807128, 410839.83864060306)"
      ]
     },
     "execution_count": 12,
     "metadata": {},
     "output_type": "execute_result"
    }
   ],
   "source": [
    "# Usando o pipeline em qualquer momento\n",
    "\n",
    "# Tunning de Hiperparâmetros\n",
    "# Tentando melhorar o resultado usando GridSearchCV \n",
    "from sklearn.model_selection import GridSearchCV\n",
    "\n",
    "# ATENÇÃO\n",
    "# Ao usar o pipeline com o GridSearch os nomes dos parâmetros devem\n",
    "# ser precedidos pelo nome dado ao estimador (no caso, 'model')\n",
    "# e 2 underlines (__)\n",
    "\n",
    "rfr_params_grid = {\n",
    "    'model__n_estimators' : [100,150,200],\n",
    "    'model__max_depth' : [7],\n",
    "    'model__max_features': [5],\n",
    "    'model__min_samples_leaf' : [3],\n",
    "    'model__min_samples_split' : [4, 6 ,9]\n",
    "}\n",
    "\n",
    "# Ao invés de usar o modelo como 'estimator' usamos o pipeline\n",
    "gscv_rfr_cv = GridSearchCV(my_pipeline, \n",
    "                           param_grid=rfr_params_grid,\n",
    "                           cv = 5 ,\n",
    "                           n_jobs = -1,\n",
    "                           verbose = 5)\n",
    "\n",
    "gscv_rfr_cv.fit(train[feats], train['Price'])\n",
    "\n",
    "gscv_rfr_cv_score = gscv_rfr_cv.best_score_\n",
    "\n",
    "gscv_rfr_cv_pred = gscv_rfr_cv.predict(test[feats])\n",
    "\n",
    "mae = mean_absolute_error(test['Price'], gscv_rfr_cv_pred)\n",
    "\n",
    "gscv_rfr_cv_score, mae"
   ]
  },
  {
   "cell_type": "code",
   "execution_count": 13,
   "id": "27701f5f",
   "metadata": {
    "execution": {
     "iopub.execute_input": "2021-10-21T00:24:12.539242Z",
     "iopub.status.busy": "2021-10-21T00:24:12.538400Z",
     "iopub.status.idle": "2021-10-21T00:24:12.541448Z",
     "shell.execute_reply": "2021-10-21T00:24:12.541949Z",
     "shell.execute_reply.started": "2021-10-21T00:20:24.994394Z"
    },
    "papermill": {
     "duration": 0.028414,
     "end_time": "2021-10-21T00:24:12.542166",
     "exception": false,
     "start_time": "2021-10-21T00:24:12.513752",
     "status": "completed"
    },
    "tags": []
   },
   "outputs": [
    {
     "data": {
      "text/plain": [
       "{'model__max_depth': 7,\n",
       " 'model__max_features': 5,\n",
       " 'model__min_samples_leaf': 3,\n",
       " 'model__min_samples_split': 6,\n",
       " 'model__n_estimators': 100}"
      ]
     },
     "execution_count": 13,
     "metadata": {},
     "output_type": "execute_result"
    }
   ],
   "source": [
    "gscv_rfr_cv.best_params_"
   ]
  },
  {
   "cell_type": "code",
   "execution_count": null,
   "id": "1c20feef",
   "metadata": {
    "papermill": {
     "duration": 0.017815,
     "end_time": "2021-10-21T00:24:12.578140",
     "exception": false,
     "start_time": "2021-10-21T00:24:12.560325",
     "status": "completed"
    },
    "tags": []
   },
   "outputs": [],
   "source": []
  }
 ],
 "metadata": {
  "kernelspec": {
   "display_name": "Python 3",
   "language": "python",
   "name": "python3"
  },
  "language_info": {
   "codemirror_mode": {
    "name": "ipython",
    "version": 3
   },
   "file_extension": ".py",
   "mimetype": "text/x-python",
   "name": "python",
   "nbconvert_exporter": "python",
   "pygments_lexer": "ipython3",
   "version": "3.7.10"
  },
  "papermill": {
   "default_parameters": {},
   "duration": 103.925932,
   "end_time": "2021-10-21T00:24:13.710536",
   "environment_variables": {},
   "exception": null,
   "input_path": "__notebook__.ipynb",
   "output_path": "__notebook__.ipynb",
   "parameters": {},
   "start_time": "2021-10-21T00:22:29.784604",
   "version": "2.3.3"
  }
 },
 "nbformat": 4,
 "nbformat_minor": 5
}
